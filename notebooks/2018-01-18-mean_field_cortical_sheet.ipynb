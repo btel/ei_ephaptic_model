{
 "cells": [
  {
   "cell_type": "code",
   "execution_count": 1,
   "metadata": {},
   "outputs": [],
   "source": [
    "from scipy import special"
   ]
  },
  {
   "cell_type": "code",
   "execution_count": 2,
   "metadata": {},
   "outputs": [],
   "source": [
    "# %load mean_field_model.py\n",
    "import attr\n",
    "import numpy as np\n",
    "\n",
    "# SI base units\n",
    "s = 1\n",
    "kg = 1\n",
    "m = 1\n",
    "A = 1\n",
    "\n",
    "# derived units\n",
    "S = s**3*A**2/(kg*m**2)\n",
    "V = kg*m**2*s**-3*A**-1\n",
    "F = s**4 * A**2 * m**-2 * kg ** -1\n",
    "Hz = 1/s\n",
    "\n",
    "# with prefixes\n",
    "nS = 1e-9 * S\n",
    "uS = 1e-6 * S\n",
    "mV = 1e-3 * V\n",
    "uV = 1e-6 * V\n",
    "pF = 1e-12 * F\n",
    "ms = 1e-3 * s\n",
    "nA = 1e-9 * A\n",
    "pA = 1e-12 * A\n",
    "\n",
    "\n",
    "def kuhn_transfer_function(threshold, tau_eff, mu_u, sigma_sq_u):\n",
    "    return 1. / (2 * tau_eff) * (special.erfc((threshold - mu_u) /\n",
    "                                 (np.sqrt(2) * np.sqrt(sigma_sq_u))))\n",
    "\n",
    "\n",
    "def derivative_kuhn_transfer_function(threshold, tau_eff,  mu_u, sigma_sq_u):\n",
    "    return 1. / (2 * tau_eff * (np.sqrt(2 * sigma_sq_u)) * (2/ np.sqrt(np.pi)) *\n",
    "                 np.exp(-(threshold - mu_u) ** 2 / (2 * sigma_sq_u)))\n",
    "\n",
    "\n",
    "@attr.s\n",
    "class EIMeanField:\n",
    "    E_e = attr.ib(0 * mV)\n",
    "    E_i = attr.ib(-75 * mV)\n",
    "    E_l = attr.ib(-70 * mV)\n",
    "    g_l = attr.ib(1./60 * uS)\n",
    "    C = attr.ib(250 * pF)\n",
    "    v_reset = attr.ib(-60 * mV)\n",
    "    threshold = attr.ib(-50 * mV)\n",
    "    threshold_inh = attr.ib(-53 * mV)\n",
    "    tau_ref = attr.ib(2 * ms)\n",
    "    T_e = attr.ib(0.2 * ms)  # width of excitatory PSC (ms)\n",
    "    T_i = attr.ib(2 * ms)    # width of inhibitory PSC (ms)\n",
    "    tau_e = attr.ib(1 * ms)  # timescale of excitatory population (ms)\n",
    "    tau_i = attr.ib(0.5 * ms)    # timescale of inhibitory population (ms)\n",
    "    B_e = attr.ib(7.1 * nS)    # peak excitatory conductance (nS)\n",
    "    B_i = attr.ib(3.7 * nS)    # peak inhibitory conductance (nS)\n",
    "\n",
    "    f_ext = attr.ib(5000 * Hz) # etracellular_firing_rate\n",
    "\n",
    "    n_e = attr.ib(350.) # number of excitatory neurons\n",
    "    n_i = attr.ib(350. / 4.) # number of inhibitory neurons\n",
    "\n",
    "    noise_std_e = attr.ib(2000 * Hz / np.sqrt(s))\n",
    "    noise_std_i = attr.ib(0 * Hz / np.sqrt(s))\n",
    "\n",
    "    tau_adapt = attr.ib(800 * ms) # adaptation time constant\n",
    "    beta_adapt = attr.ib(0.00005*mV / Hz) # strength of adaptation (per firing rate of E population)\n",
    "\n",
    "    def calc_membrane_stats(self, fr_e, fr_i):\n",
    "\n",
    "        mu_ge = fr_e * self.B_e * self.T_e * np.exp(1)\n",
    "        mu_gi = fr_i * self.B_i * self.T_i * np.exp(1)\n",
    "\n",
    "        gtot = self.g_l + mu_ge + mu_gi\n",
    "\n",
    "        mu_u = (self.E_l * self.g_l + self.E_e * mu_ge + self.E_i * mu_gi) / gtot\n",
    "\n",
    "        tau_eff = self.C / gtot\n",
    "\n",
    "        epsp_int = (self.E_e - mu_u) * self.B_e * self.T_e * np.exp(1) * tau_eff / self.C\n",
    "        ipsp_int = (self.E_i - mu_u) * (self.B_i * self.T_i * np.exp(1) * tau_eff / self.C)\n",
    "        epsp_sq =  epsp_int ** 2 * (2 * tau_eff + self.T_e) /(4 * (tau_eff + self.T_e)**2)\n",
    "        ipsp_sq =  ipsp_int ** 2 * (2 * tau_eff + self.T_i) /(4 * (tau_eff + self.T_i)**2)\n",
    "        sigma_sq_u = fr_e * epsp_sq + fr_i * ipsp_sq\n",
    "\n",
    "        return gtot, mu_u, tau_eff, sigma_sq_u\n",
    "\n",
    "\n",
    "\n",
    "    def calc_output_rate_inh_exc(self, fr_e, fr_i, delta_v_e=0, delta_v_i=0):\n",
    "        gtot_exc, mu_u_exc, tau_eff_exc, sigma_sq_u_exc = self.calc_membrane_stats(fr_e=fr_e, fr_i=fr_i)\n",
    "        gtot_inh, mu_u_inh, tau_eff_inh, sigma_sq_u_inh = self.calc_membrane_stats(fr_e=fr_e, fr_i=fr_i)\n",
    "\n",
    "        rexc = kuhn_transfer_function(self.threshold + delta_v_e, tau_eff_exc, mu_u_exc, sigma_sq_u_exc)\n",
    "        rinh = kuhn_transfer_function(self.threshold_inh + delta_v_i, tau_eff_inh, mu_u_inh, sigma_sq_u_inh)\n",
    "\n",
    "        return rexc * self.n_e, rinh * self.n_i\n",
    "\n",
    "    def ode_step(self, dt, rexc, rinh, theta_adapt, dv_e=0, dv_i=0):\n",
    "        fexc, finh = self.calc_output_rate_inh_exc(rexc + self.f_ext,\n",
    "                              rinh, theta_adapt + dv_e, dv_i)\n",
    "        theta_adapt = theta_adapt + ((-theta_adapt +\n",
    "                 self.beta_adapt * rexc) *\n",
    "                 dt / self.tau_adapt)\n",
    "        rinh = rinh + (-rinh + finh) * dt / self.tau_i\n",
    "        rexc = rexc + (-rexc + fexc) * dt / self.tau_e\n",
    "\n",
    "\n",
    "        return rexc, rinh, theta_adapt\n",
    "\n",
    "    def sde_step(self, dt, rexc, rinh, theta_adapt, dv_e=0, dv_i=0):\n",
    "        rexc, rinh, theta_adapt = self.ode_step(dt, rexc, rinh, theta_adapt, dv_e, dv_i)\n",
    "        rexc += np.random.randn() * self.noise_std_e * np.sqrt(dt)\n",
    "        rinh += np.random.randn() * self.noise_std_i * np.sqrt(dt)\n",
    "        rexc = np.maximum(rexc, 0)\n",
    "        rinh = np.maximum(rinh, 0)\n",
    "\n",
    "        return rexc, rinh, theta_adapt\n"
   ]
  },
  {
   "cell_type": "markdown",
   "metadata": {},
   "source": [
    "## One population : 1 Hz oscillations"
   ]
  },
  {
   "cell_type": "code",
   "execution_count": 3,
   "metadata": {},
   "outputs": [],
   "source": [
    "import matplotlib.pyplot as plt"
   ]
  },
  {
   "cell_type": "code",
   "execution_count": 4,
   "metadata": {},
   "outputs": [],
   "source": [
    "tau_adapt = 800 * ms # adaptation time constant\n",
    "beta_adapt = 0.00005*mV / Hz # strength of adaptation (per firing rate of E population)\n",
    "dt = 1. * ms # integration time step\n",
    "tau_e = 10*ms # time constant of excitatory population\n",
    "tau_i = 5* ms # time constant of inhibitory population\n",
    "threshold_inh0 = -51 * mV # inhibitory threshold\n",
    "noise_e = 2000 * Hz / s \n",
    "tmax = 20 * s\n",
    "f_ext = 1000 * Hz"
   ]
  },
  {
   "cell_type": "code",
   "execution_count": 5,
   "metadata": {},
   "outputs": [],
   "source": [
    "model = EIMeanField(tau_adapt=tau_adapt,\n",
    "                    beta_adapt=beta_adapt,\n",
    "                    tau_e=tau_e,\n",
    "                    tau_i=tau_i,\n",
    "                    threshold_inh=threshold_inh0,\n",
    "                    noise_std_e=noise_e,\n",
    "                    noise_std_i=0,\n",
    "                    f_ext=f_ext\n",
    "                    )"
   ]
  },
  {
   "cell_type": "code",
   "execution_count": 6,
   "metadata": {},
   "outputs": [],
   "source": [
    "np.random.seed(100)\n",
    "rexc = 100 * Hz\n",
    "rinh = 100 * Hz\n",
    "theta_adapt = 0 * mV\n",
    "t = 0\n",
    "solution = []\n",
    "while t < tmax:\n",
    "    rexc, rinh, theta_adapt = model.sde_step(dt, rexc, rinh, theta_adapt)\n",
    "    t += dt\n",
    "    solution.append((rexc, rinh, theta_adapt))\n",
    "solution = np.array(solution)\n",
    "time = np.arange(solution.shape[0]) * dt"
   ]
  },
  {
   "cell_type": "code",
   "execution_count": 7,
   "metadata": {},
   "outputs": [
    {
     "data": {
      "text/plain": [
       "[<matplotlib.lines.Line2D at 0x7f37bbb9b470>]"
      ]
     },
     "execution_count": 7,
     "metadata": {},
     "output_type": "execute_result"
    },
    {
     "data": {
      "image/png": "[encoded data removed]",
      "text/plain": [
       "<Figure size 432x288 with 1 Axes>"
      ]
     },
     "metadata": {
      "needs_background": "light"
     },
     "output_type": "display_data"
    }
   ],
   "source": [
    "plt.plot(time[:], solution[:, 0])"
   ]
  },
  {
   "cell_type": "markdown",
   "metadata": {},
   "source": [
    "## Two coupled populations"
   ]
  },
  {
   "cell_type": "code",
   "execution_count": 8,
   "metadata": {},
   "outputs": [],
   "source": [
    "def run_two_coupled_populations(tmax, model, gamma_ephaptic):\n",
    "    \n",
    "    states = np.zeros((2, 3))\n",
    "    states[:, 0] = 100 * Hz\n",
    "    states[:, 1] = 100 * Hz\n",
    "    t = 0\n",
    "    solution = []\n",
    "    while t < tmax:\n",
    "        states[0, :] = model.sde_step(dt, *states[0, :], -states[1, 0] * gamma_ephaptic)\n",
    "        states[1, :] = model.sde_step(dt, *states[1, :], -states[0, 0] * gamma_ephaptic)\n",
    "        t += dt\n",
    "        solution.append(states.copy())\n",
    "    solution = np.array(solution)\n",
    "    time = np.arange(solution.shape[0]) * dt\n",
    "    return time, solution"
   ]
  },
  {
   "cell_type": "code",
   "execution_count": 9,
   "metadata": {},
   "outputs": [],
   "source": [
    "gamma_ephaptic = 10 * uV / (6000*Hz) # ephaptic coupling coefficient\n",
    "tmax = 100 * s\n",
    "time, solution = run_two_coupled_populations(tmax, model, gamma_ephaptic)"
   ]
  },
  {
   "cell_type": "code",
   "execution_count": 10,
   "metadata": {},
   "outputs": [
    {
     "data": {
      "text/plain": [
       "[<matplotlib.lines.Line2D at 0x7f37bd2df860>,\n",
       " <matplotlib.lines.Line2D at 0x7f37bd2dfa20>]"
      ]
     },
     "execution_count": 10,
     "metadata": {},
     "output_type": "execute_result"
    },
    {
     "data": {
      "image/png": "[encoded data removed]",
      "text/plain": [
       "<Figure size 432x288 with 2 Axes>"
      ]
     },
     "metadata": {
      "needs_background": "light"
     },
     "output_type": "display_data"
    }
   ],
   "source": [
    "plt.plot(solution[:10000, :, 0], lw=0.25)\n",
    "plt.twinx()\n",
    "plt.plot(solution[:10000, :, 0] > 4000)"
   ]
  },
  {
   "cell_type": "code",
   "execution_count": 11,
   "metadata": {},
   "outputs": [
    {
     "data": {
      "text/plain": [
       "array([[ 1.        , -0.04218763],\n",
       "       [-0.04218763,  1.        ]])"
      ]
     },
     "execution_count": 11,
     "metadata": {},
     "output_type": "execute_result"
    }
   ],
   "source": [
    "np.corrcoef((solution[:, :, 0] > 4000).T)"
   ]
  },
  {
   "cell_type": "code",
   "execution_count": 13,
   "metadata": {},
   "outputs": [],
   "source": [
    "gamma_arr = np.linspace(0, 60. * uV / (6000*Hz), 10)\n",
    "threshold = 4000\n",
    "corr_coef = []\n",
    "for gamma in gamma_arr:\n",
    "    time, solution = run_two_coupled_populations(tmax, model, gamma)\n",
    "    if np.isnan(solution).any() or np.isinf(solution).any():\n",
    "        corr_coef.append(np.nan)\n",
    "        continue\n",
    "    up_state_train = solution[:, :, 0] > threshold\n",
    "    rmat = np.corrcoef(up_state_train.T)\n",
    "    mean_duration = np.mean(up_state_train)\n",
    "    corr_coef.append((rmat[0, 1], mean_duration))\n",
    "corr_coef = np.array(corr_coef)"
   ]
  },
  {
   "cell_type": "code",
   "execution_count": 14,
   "metadata": {},
   "outputs": [
    {
     "data": {
      "text/plain": [
       "Text(0, 0.5, 'corr. coef.')"
      ]
     },
     "execution_count": 14,
     "metadata": {},
     "output_type": "execute_result"
    },
    {
     "data": {
      "image/png": "[encoded data removed]",
      "text/plain": [
       "<Figure size 432x288 with 1 Axes>"
      ]
     },
     "metadata": {
      "needs_background": "light"
     },
     "output_type": "display_data"
    }
   ],
   "source": [
    "plt.plot(gamma_arr * Hz / uV, corr_coef[:, 0], '.')\n",
    "plt.xlabel('coupling coefficient, $\\gamma$ (uV/Hz)')\n",
    "plt.ylabel('corr. coef.')"
   ]
  },
  {
   "cell_type": "code",
   "execution_count": null,
   "metadata": {},
   "outputs": [],
   "source": []
  }
 ],
 "metadata": {
  "kernelspec": {
   "display_name": "Python 3",
   "language": "python",
   "name": "python3"
  },
  "language_info": {
   "codemirror_mode": {
    "name": "ipython",
    "version": 3
   },
   "file_extension": ".py",
   "mimetype": "text/x-python",
   "name": "python",
   "nbconvert_exporter": "python",
   "pygments_lexer": "ipython3",
   "version": "3.6.7"
  }
 },
 "nbformat": 4,
 "nbformat_minor": 2
}

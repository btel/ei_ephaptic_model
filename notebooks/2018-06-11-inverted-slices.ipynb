{
 "cells": [
  {
   "cell_type": "markdown",
   "metadata": {},
   "source": [
    "copy of [2017-10-24-frequency-entrainement](2017-10-24-frequency-entrainement.ipynb)"
   ]
  },
  {
   "cell_type": "code",
   "execution_count": 1,
   "metadata": {},
   "outputs": [],
   "source": [
    "import sys\n",
    "sys.path.append('../libs/')"
   ]
  },
  {
   "cell_type": "code",
   "execution_count": 2,
   "metadata": {},
   "outputs": [],
   "source": [
    "import matplotlib.pyplot as plt\n",
    "%matplotlib inline\n",
    "from mean_field_model import *\n",
    "from scipy import signal\n",
    "from matplotlib import gridspec\n",
    "from matplotlib import transforms"
   ]
  },
  {
   "cell_type": "markdown",
   "metadata": {},
   "source": [
    "# Simulate a pair of coupled oscillators driven by stimulus"
   ]
  },
  {
   "cell_type": "code",
   "execution_count": 3,
   "metadata": {},
   "outputs": [],
   "source": [
    "uV = 1e-6 * V\n",
    "nV = 1e-9 * V"
   ]
  },
  {
   "cell_type": "code",
   "execution_count": 4,
   "metadata": {},
   "outputs": [],
   "source": [
    "tau_adapt = 800 * ms # adaptation time constant\n",
    "beta_adapt = 0.00005*mV / Hz # strength of adaptation (per firing rate of E population)\n",
    "gamma_ephaptic = -100 * uV / (6000*Hz) # ephaptic coupling coefficient\n",
    "dt = 1 * ms # integration time step\n",
    "tau_e = 10*ms # time constant of excitatory population\n",
    "tau_i = 5* ms # time constant of inhibitory population\n",
    "threshold_inh0 = -51 * mV # inhibitory threshold"
   ]
  },
  {
   "cell_type": "markdown",
   "metadata": {},
   "source": [
    "Define the system of three differential equations describing E population, I population and adaptation potential:\n",
    "\n",
    "$$\\tau_e\\frac{\\nu_e}{dt}=-\\nu_e+n_ef_e(\\nu_e+\\nu_{\\mathrm{ext}}, \\nu_i)  + \\sigma_{\\mathrm{e}}\\eta_t \\\\\n",
    "\\tau_i\\frac{\\nu_i}{dt}=-\\nu_i+ n_i f_i(\\nu_e+\\nu_{\\mathrm{ext}}, \\nu_i)+ \\sigma_{\\mathrm{i}}\\eta_t \\\\\n",
    "\\tau_{\\mathrm{adapt}}\\frac{dU_{\\mathrm{adapt}}}{dt}=-U_{\\mathrm{adapt}} + \\beta \\nu_{exc}$$\n"
   ]
  },
  {
   "cell_type": "code",
   "execution_count": 5,
   "metadata": {},
   "outputs": [],
   "source": [
    "def solve_ei_dynamics(f_ext, n_e, n_i, threshold_exc, threshold_inh, tau_e=1*s, tau_i=1*s):\n",
    "    def _update(rinh, rexc, ephaptic, theta_adapt, external):\n",
    "        fexc, finh = calc_output_rate_inh_exc(rexc + f_ext + external, rinh, n_e, n_i, \n",
    "                               threshold_exc + theta_adapt - ephaptic, threshold_inh)\n",
    "        rinh += (-rinh + finh) * dt / tau_i\n",
    "        rexc += (-rexc + fexc) * dt / tau_e\n",
    "        theta_adapt += (-(theta_adapt + 0.0 * mV) +  beta_adapt * rexc) * dt / tau_adapt\n",
    "        \n",
    "        return rinh, rexc, theta_adapt\n",
    "    return _update\n"
   ]
  },
  {
   "cell_type": "markdown",
   "metadata": {},
   "source": [
    "Simulate a pair of E/I populations coupled through the electric field. The coupling is between the excitatory firing rate of one population and membrane potential of the other."
   ]
  },
  {
   "cell_type": "code",
   "execution_count": 6,
   "metadata": {},
   "outputs": [],
   "source": [
    "f_ext0 = 1000. # external firing rate\n",
    "\n",
    "\n",
    "def single_trial(update_func, external_drive, noise_e, noise_i, tmax, gamma_ephaptic):\n",
    "\n",
    "\n",
    "    rexc = np.ones(2) * 100 * Hz\n",
    "    rinh = np.ones(2) * 100 * Hz\n",
    "    theta_adapt = np.zeros(2) * mV\n",
    "    t = 0\n",
    "    solution= []\n",
    "    while t < tmax:\n",
    "        rexc_old0, rexc_old1 = rexc[0], rexc[1]\n",
    "        rexc += np.random.randn(2) * noise_e\n",
    "        rinh += np.random.randn(2) * noise_i\n",
    "        rexc = np.maximum(rexc, 0)\n",
    "        rinh = np.maximum(rinh, 0)\n",
    "        rinh[0], rexc[0], theta_adapt[0] = update_func(rinh[0], \n",
    "                                                       rexc[0],\n",
    "                                                       0, #gamma_ephaptic * rexc_old1,\n",
    "                                                       theta_adapt[0],\n",
    "                                                       external_drive(t))\n",
    "        rinh[1], rexc[1], theta_adapt[1] = update_func(rinh[1],\n",
    "                                                       rexc[1],\n",
    "                                                       gamma_ephaptic * rexc_old0,\n",
    "                                                       theta_adapt[1],\n",
    "                                                       0)\n",
    "        \n",
    "\n",
    "\n",
    "        t += dt\n",
    "        solution.append((rexc, rinh, theta_adapt.copy()))\n",
    "    solution = np.array(solution)\n",
    "    return solution"
   ]
  },
  {
   "cell_type": "code",
   "execution_count": 7,
   "metadata": {},
   "outputs": [],
   "source": [
    "def square_wave(amplitude, period, duration, delay=0):\n",
    "    def _value(t):\n",
    "        return amplitude * (np.mod(t, period) < duration) * (t > delay)\n",
    "    return _value"
   ]
  },
  {
   "cell_type": "markdown",
   "metadata": {},
   "source": [
    "## Sample stimulation protocol"
   ]
  },
  {
   "cell_type": "markdown",
   "metadata": {},
   "source": [
    "To simulate the glutamate injections in the experimental protocol, in the mode we trigger UP states by depolarising excitatory population. This is repeated periodically with a given frequency. The duration of a single stimulation pulse is 0.35 s."
   ]
  },
  {
   "cell_type": "code",
   "execution_count": 8,
   "metadata": {},
   "outputs": [],
   "source": [
    "depolarisation_glutamate =  1000. * Hz\n",
    "glutamate_delay = 10.\n",
    "glutamate_frequency = 1. * Hz\n",
    "glutamate_duration = 0.35 * s\n",
    "glutamate_application = square_wave(depolarisation_glutamate,\n",
    "                                    1./glutamate_frequency,\n",
    "                                    glutamate_duration,\n",
    "                                    glutamate_delay)\n",
    "update_func = solve_ei_dynamics(f_ext0, n_e, n_i, threshold, threshold_inh0,  tau_e=tau_e, tau_i=tau_i)\n",
    "\n",
    "noise_e, noise_i = 2000 * Hz / s * np.sqrt(dt), 0\n",
    "tmax = 100 * s\n",
    "solution = single_trial(update_func, glutamate_application, noise_e, noise_i, tmax, gamma_ephaptic)"
   ]
  },
  {
   "cell_type": "code",
   "execution_count": 9,
   "metadata": {},
   "outputs": [
    {
     "data": {
      "text/plain": [
       "Text(0.5,0,'time, s')"
      ]
     },
     "execution_count": 9,
     "metadata": {},
     "output_type": "execute_result"
    },
    {
     "data": {
      "image/png": "[encoded data removed]",
      "text/plain": [
       "<matplotlib.figure.Figure at 0x7f9f805fd780>"
      ]
     },
     "metadata": {},
     "output_type": "display_data"
    }
   ],
   "source": [
    "gs = gridspec.GridSpec(3,1, height_ratios=[2, 1, 1])\n",
    "ax1 = plt.subplot(gs[0])\n",
    "\n",
    "time = np.arange(solution.shape[0]) * dt\n",
    "glu_signal = glutamate_application(time)\n",
    "lines = plt.plot(time, solution[:, 0, 0], 'b')\n",
    "lines = plt.plot(time, solution[:, 1, 0], 'r')\n",
    "plt.plot(time, glu_signal / depolarisation_glutamate * solution[:, 0, 0].max(), 'k-')\n",
    "\n",
    "ax1.spines['top'].set_visible(False)\n",
    "ax1.spines['bottom'].set_visible(False)\n",
    "ax1.spines['right'].set_visible(False)\n",
    "ax1.xaxis.set_ticks_position('none')\n",
    "ax1.yaxis.set_ticks_position('left')\n",
    "ax1.yaxis.set_tick_params(length=2)\n",
    "plt.setp(ax1.xaxis.get_ticklabels(), visible=False)\n",
    "plt.ylabel('firing rate, Hz')\n",
    "\n",
    "ax2 = plt.subplot(gs[1], sharex=ax1)\n",
    "plt.plot(time, solution[:, 2, 0] / mV, '-r')\n",
    "plt.ylabel('adaptation, mV')\n",
    "plt.xlim(0, 20)\n",
    "ax2.spines['top'].set_visible(False)\n",
    "ax2.xaxis.set_ticks_position('bottom')\n",
    "ax2.yaxis.set_ticks_position('left')\n",
    "ax2.spines['right'].set_visible(False)\n",
    "ax2.spines['bottom'].set_position(('outward', 10))\n",
    "ax2.yaxis.set_tick_params(length=2)\n",
    "ax2.xaxis.set_tick_params(length=2)\n",
    "plt.xlabel('time, s')"
   ]
  },
  {
   "cell_type": "markdown",
   "metadata": {},
   "source": [
    "**Supplementary Figure** Top: The total population firing rates of the excitatory (blue) and inhibitory (red) together with the train of stimulations triggering UP states (black). Bottom: The trace of adaptation variable."
   ]
  },
  {
   "cell_type": "markdown",
   "metadata": {},
   "source": [
    "## Low-pass filter"
   ]
  },
  {
   "cell_type": "markdown",
   "metadata": {},
   "source": [
    "To obtain band-limited signals corresponding to the UP/DOWN oscillation frequency, we low-pass filter the population firing rates. We design an infinite impulse response filter (IIR) using SciPy methods with the frequency band of [0, 5] Hz (order 17). Next, we apply the filter both directions (forward and backward) using SciPy's `filtfilt` method."
   ]
  },
  {
   "cell_type": "code",
   "execution_count": 10,
   "metadata": {},
   "outputs": [],
   "source": [
    "n_subsamp = 10\n",
    "y = solution[::n_subsamp, 0, :].copy()\n",
    "time_subsamp = time[::n_subsamp]\n",
    "filter_order = 17\n",
    "cutoff_frequency = 5.\n",
    "sampling_frequency = 1 / (dt * n_subsamp)\n",
    "b, a = signal.iirfilter(filter_order,  cutoff_frequency * 2 / sampling_frequency, btype='lowpass')\n",
    "y_filtered = signal.filtfilt(b, a, y[:], axis=0)"
   ]
  },
  {
   "cell_type": "code",
   "execution_count": null,
   "metadata": {},
   "outputs": [],
   "source": []
  },
  {
   "cell_type": "code",
   "execution_count": 11,
   "metadata": {},
   "outputs": [
    {
     "data": {
      "text/plain": [
       "Text(0,0.5,'filter gain')"
      ]
     },
     "execution_count": 11,
     "metadata": {},
     "output_type": "execute_result"
    },
    {
     "data": {
      "image/png": "[encoded data removed]",
      "text/plain": [
       "<matplotlib.figure.Figure at 0x7f9f805dc6d8>"
      ]
     },
     "metadata": {},
     "output_type": "display_data"
    }
   ],
   "source": [
    "f, resp = signal.freqz(b, a)\n",
    "plt.plot(f / (2 * np.pi) * sampling_frequency, np.abs(resp), lw=2)\n",
    "plt.axvline(cutoff_frequency, ls='--', color='k')\n",
    "plt.xlabel('frequency, Hz')\n",
    "plt.ylabel('filter gain')"
   ]
  },
  {
   "cell_type": "markdown",
   "metadata": {},
   "source": [
    "**Supplementary Figure** Frequency response of the designed IIR filter. Dashed line shows the cutoff frequency"
   ]
  },
  {
   "cell_type": "code",
   "execution_count": 12,
   "metadata": {},
   "outputs": [
    {
     "data": {
      "text/plain": [
       "Text(0.5,0,'time, s')"
      ]
     },
     "execution_count": 12,
     "metadata": {},
     "output_type": "execute_result"
    },
    {
     "data": {
      "image/png": "[encoded data removed]",
      "text/plain": [
       "<matplotlib.figure.Figure at 0x7f9f7814def0>"
      ]
     },
     "metadata": {},
     "output_type": "display_data"
    }
   ],
   "source": [
    "tsel = (time_subsamp > 18) & (time_subsamp < (20. * s))\n",
    "ax1 = plt.subplot(211)\n",
    "plt.plot(time_subsamp[tsel], y[tsel, 0], 'r-', lw=0.5)\n",
    "plt.plot(time_subsamp[tsel], y_filtered[tsel, 0], 'r', lw=2)\n",
    "plt.plot(time_subsamp[tsel], y[tsel, 0], 'b-', lw=0.5)\n",
    "\n",
    "ax1.spines['left'].set_visible(False)\n",
    "ax1.spines['top'].set_visible(False)\n",
    "ax1.spines['bottom'].set_visible(False)\n",
    "ax1.spines['right'].set_visible(False)\n",
    "ax1.xaxis.set_ticks_position('none')\n",
    "ax1.yaxis.set_ticks_position('none')\n",
    "plt.setp(ax1.xaxis.get_ticklabels(), visible=False)\n",
    "plt.setp(ax1.yaxis.get_ticklabels(), visible=False)\n",
    "\n",
    "ax2 = plt.subplot(212, sharex=ax1, sharey=ax1)\n",
    "plt.plot(time_subsamp[tsel], y_filtered[tsel, 1], 'r', lw=2)\n",
    "plt.plot(time_subsamp[tsel], y[tsel, 1], 'b-', lw=0.5)\n",
    "ax2.spines['left'].set_visible(False)\n",
    "ax2.spines['top'].set_visible(False)\n",
    "ax2.spines['bottom'].set_position(('outward', 10))\n",
    "ax2.spines['right'].set_visible(False)\n",
    "ax2.xaxis.set_ticks_position('bottom')\n",
    "ax2.yaxis.set_ticks_position('none')\n",
    "ax2.xaxis.set_tick_params(length=2)\n",
    "plt.setp(ax2.yaxis.get_ticklabels(), visible=False)\n",
    "\n",
    "trans = transforms.blended_transform_factory(ax2.transAxes, ax2.transData)\n",
    "plt.plot([-0.02, -0.02], [6000, 8000], 'k-', transform=trans, clip_on=False)\n",
    "plt.text(-0.0, 7000, '2000 $s^{-1}$', ha='left', va='center', transform=trans)\n",
    "plt.xlabel('time, s')"
   ]
  },
  {
   "cell_type": "markdown",
   "metadata": {},
   "source": [
    "**Supplementary Figure** Filtered population rates (thick red) superimposed on the raw population rates (thin blue) for two excitatory populations."
   ]
  },
  {
   "cell_type": "markdown",
   "metadata": {},
   "source": [
    "## Detect UP states"
   ]
  },
  {
   "cell_type": "markdown",
   "metadata": {},
   "source": [
    "We detected the UP states by identifying points at which the excitatory population rate exceeds a threshold (equal to the standard deviation of the rate). These points correspond to DOWN-to-UP transitions."
   ]
  },
  {
   "cell_type": "code",
   "execution_count": 13,
   "metadata": {},
   "outputs": [
    {
     "data": {
      "text/plain": [
       "[<matplotlib.lines.Line2D at 0x7f9f7804bfd0>]"
      ]
     },
     "execution_count": 13,
     "metadata": {},
     "output_type": "execute_result"
    },
    {
     "data": {
      "image/png": "[encoded data removed]",
      "text/plain": [
       "<matplotlib.figure.Figure at 0x7f9f780f3dd8>"
      ]
     },
     "metadata": {},
     "output_type": "display_data"
    }
   ],
   "source": [
    "y_signal = y_filtered[:, 1]\n",
    "y_std = np.std(y_signal)\n",
    "n, x = np.histogram(y_signal, 100)\n",
    "plt.axvline(y_std, ls='--', color='k')\n",
    "plt.plot(x[:-1], n)"
   ]
  },
  {
   "cell_type": "code",
   "execution_count": 14,
   "metadata": {},
   "outputs": [
    {
     "data": {
      "text/plain": [
       "(0, 60)"
      ]
     },
     "execution_count": 14,
     "metadata": {},
     "output_type": "execute_result"
    },
    {
     "data": {
      "image/png": "[encoded data removed]",
      "text/plain": [
       "<matplotlib.figure.Figure at 0x7f9f780bf0b8>"
      ]
     },
     "metadata": {},
     "output_type": "display_data"
    }
   ],
   "source": [
    "detection_threshold = y_std\n",
    "upstates = (y_signal > detection_threshold).astype(int)\n",
    "plt.plot(time_subsamp, upstates, 'g')\n",
    "plt.ylim(-0.1, 1.1)\n",
    "plt.twinx()\n",
    "plt.plot(time_subsamp, y_signal, 'r', lw=2)\n",
    "plt.axhline(detection_threshold, color='k', ls='--')\n",
    "plt.xlim(0, 60)"
   ]
  },
  {
   "cell_type": "code",
   "execution_count": 15,
   "metadata": {},
   "outputs": [
    {
     "data": {
      "text/plain": [
       "(10000,)"
      ]
     },
     "execution_count": 15,
     "metadata": {},
     "output_type": "execute_result"
    }
   ],
   "source": [
    "upstates.shape"
   ]
  },
  {
   "cell_type": "code",
   "execution_count": 17,
   "metadata": {},
   "outputs": [
    {
     "name": "stdout",
     "output_type": "stream",
     "text": [
      "20 0.200020002\n"
     ]
    },
    {
     "data": {
      "image/png": "[encoded data removed]",
      "text/plain": [
       "<matplotlib.figure.Figure at 0x7f9f77f94f98>"
      ]
     },
     "metadata": {},
     "output_type": "display_data"
    }
   ],
   "source": [
    "downup = np.diff(upstates)\n",
    "downup[downup < 0] = 0\n",
    "n_downup = np.sum(downup)\n",
    "freq_downup = n_downup / time_subsamp.max()\n",
    "plt.plot(time_subsamp[:-1], (downup))\n",
    "#plt.xlim(0, 20)\n",
    "print(n_downup, freq_downup)"
   ]
  },
  {
   "cell_type": "code",
   "execution_count": 18,
   "metadata": {},
   "outputs": [],
   "source": [
    "def detect_upstates(y_signal):\n",
    "    y_std = np.std(y_signal)\n",
    "    detection_threshold = y_std\n",
    "    upstates = (y_signal > detection_threshold).astype(int)\n",
    "    downup = np.diff(upstates)\n",
    "    indices, = np.where(downup > 0)\n",
    "    return indices"
   ]
  },
  {
   "cell_type": "markdown",
   "metadata": {},
   "source": [
    "# Dependency on stimulation frequency"
   ]
  },
  {
   "cell_type": "code",
   "execution_count": 19,
   "metadata": {},
   "outputs": [],
   "source": [
    "population_colors = ['y', 'g']"
   ]
  },
  {
   "cell_type": "markdown",
   "metadata": {},
   "source": [
    "## Sweep through stimulation frequencies"
   ]
  },
  {
   "cell_type": "code",
   "execution_count": 20,
   "metadata": {},
   "outputs": [],
   "source": [
    "def calc_pli(y):\n",
    "    \"\"\"\n",
    "    y - last axis has a dimension of 2 and contains signals from two different oscillators\n",
    "    \"\"\"\n",
    "    \n",
    "    phases = np.angle(signal.hilbert(y, axis=0))\n",
    "    pli = np.abs(np.mean(np.exp(np.diff(phases, 1)*1j)))\n",
    "    return pli   "
   ]
  },
  {
   "cell_type": "markdown",
   "metadata": {},
   "source": [
    "Simulate the coupled populations model with the stimulation for a range of stimulation frequencies from 0.1 to 1 Hz."
   ]
  },
  {
   "cell_type": "code",
   "execution_count": 21,
   "metadata": {},
   "outputs": [
    {
     "name": "stderr",
     "output_type": "stream",
     "text": [
      "/home/bartosz/anaconda3/lib/python3.6/site-packages/ipykernel_launcher.py:1: DeprecationWarning: object of type <class 'float'> cannot be safely interpreted as an integer.\n",
      "  \"\"\"Entry point for launching an IPython kernel.\n"
     ]
    }
   ],
   "source": [
    "stimulation_frequencies = np.linspace(0.1, 1., 11.)\n",
    "\n",
    "filtered_signals = []\n",
    "glu_signals = []\n",
    "for gl_freq in stimulation_frequencies:\n",
    "    glutamate_application = square_wave(depolarisation_glutamate, 1./gl_freq, glutamate_duration, glutamate_delay)\n",
    "\n",
    "    tmax = 200 * s\n",
    "    solution = single_trial(update_func, glutamate_application, noise_e, noise_i, tmax, gamma_ephaptic)\n",
    "    \n",
    "    y = solution[::n_subsamp, 0, :].copy()\n",
    "    \n",
    "    y_filtered = signal.filtfilt(b, a, y[:], axis=0)\n",
    "    i0 = int(glutamate_delay / (dt * n_subsamp))\n",
    "    y_oscillations = y_filtered[i0:, :]\n",
    "    \n",
    "    filtered_signals.append(y_oscillations)\n",
    "    \n",
    "    time = np.arange(solution.shape[0]) * dt\n",
    "    time = time[::n_subsamp][i0:]\n",
    "    glu_signals.append(glutamate_application(time))\n",
    "    \n",
    "filtered_signals = np.array(filtered_signals)\n",
    "glu_signals = np.array(glu_signals)"
   ]
  },
  {
   "cell_type": "markdown",
   "metadata": {},
   "source": [
    "## Plot: sample excitatory rates of the two populations"
   ]
  },
  {
   "cell_type": "markdown",
   "metadata": {},
   "source": [
    "We plot sample excitatory rates from both populations for three different stimulation frequencies."
   ]
  },
  {
   "cell_type": "code",
   "execution_count": 22,
   "metadata": {},
   "outputs": [
    {
     "data": {
      "image/png": "[encoded data removed]",
      "text/plain": [
       "<matplotlib.figure.Figure at 0x7f9f77f3d8d0>"
      ]
     },
     "metadata": {},
     "output_type": "display_data"
    }
   ],
   "source": [
    "import matplotlib\n",
    "\n",
    "line_colors = matplotlib.cycler('color', population_colors)\n",
    "trace_samples_idx =  [0, 3, 9]\n",
    "\n",
    "n_points = 1500\n",
    "with matplotlib.style.context({'axes.prop_cycle':line_colors}):\n",
    "    fig, axes = plt.subplots(3, 2, sharex=True, sharey=False,\n",
    "                             subplot_kw={'frameon':False},\n",
    "                            figsize=(6, 2))\n",
    "    for i in range(len(trace_samples_idx)):\n",
    "        ax = axes[i, :]\n",
    "        i_sig = trace_samples_idx[i]\n",
    "        ampl = filtered_signals[i_sig, :n_points, :].max()\n",
    "        glu_trace = glu_signals[i_sig, :n_points]\n",
    "        t_upstates = detect_upstates(glu_trace)\n",
    "        \n",
    "        \n",
    "        #ax[0].plot(glu_trace / glu_trace.max() * ampl, 'r-')\n",
    "        ax[0].plot(filtered_signals[i_sig, :n_points, 0], lw=1,\n",
    "                   color=population_colors[0])\n",
    "        ax[1].plot(filtered_signals[i_sig, :n_points, 1], lw=1,\n",
    "                   color=population_colors[1])\n",
    "        trans = transforms.blended_transform_factory(ax[0].transData,\n",
    "                                                     ax[0].transAxes)\n",
    "        ax[0].vlines(t_upstates, -0.05, 0.1, transform=trans,\n",
    "                     zorder=10, lw=1.5, clip_on=False)\n",
    "        for a in ax:\n",
    "            a.xaxis.set_ticks_position('none')\n",
    "            a.yaxis.set_ticks_position('none')\n",
    "            a.yaxis.set_ticks([])\n",
    "            a.xaxis.set_ticks([])\n",
    "            a.text(-0.02, 1, str(i+1), transform=a.transAxes, va='top', ha='right', size=8)\n",
    "    trans = transforms.blended_transform_factory(axes[-1, 0].transData,\n",
    "                                                 axes[-1, 0].transAxes)\n",
    "    axes[-1, 0].plot([0, 2 / (dt * n_subsamp) ], [-0.2, -0.2], 'k', lw=1.5,\n",
    "                    transform=trans, clip_on=False)\n",
    "    axes[-1, 0].text(1. / (dt * n_subsamp), -0.25, '2 s', ha='center', va='top',\n",
    "                    transform=trans, clip_on=False)\n",
    "plt.savefig('figures/sync_traces.svg')"
   ]
  },
  {
   "cell_type": "markdown",
   "metadata": {},
   "source": [
    "## Plot: phase locking index vs. stimulation frequency"
   ]
  },
  {
   "cell_type": "markdown",
   "metadata": {},
   "source": [
    "Phase locking index is a measure of synchronisation between two oscillators. PLI close to 0 means that the oscillators are independent and their phases are not locked. PLI equal to 1 corresponds to perfect synchronisation."
   ]
  },
  {
   "cell_type": "code",
   "execution_count": 23,
   "metadata": {},
   "outputs": [],
   "source": [
    "pli_vs_freq = []\n",
    "for y_oscillations in filtered_signals:\n",
    "    pli = calc_pli(y_oscillations)\n",
    "    pli_vs_freq.append(pli)\n",
    "pli_vs_freq = np.array(pli_vs_freq)"
   ]
  },
  {
   "cell_type": "code",
   "execution_count": 24,
   "metadata": {},
   "outputs": [
    {
     "data": {
      "image/png": "[encoded data removed]",
      "text/plain": [
       "<matplotlib.figure.Figure at 0x7f9f77eca5c0>"
      ]
     },
     "metadata": {},
     "output_type": "display_data"
    }
   ],
   "source": [
    "\n",
    "matplotlib.rcParams['xtick.major.size'] = 2.\n",
    "matplotlib.rcParams['ytick.major.size'] = 2.\n",
    "plt.figure(figsize=(3,2))\n",
    "ax = plt.subplot()\n",
    "plt.plot(stimulation_frequencies, pli_vs_freq,'ko', clip_on=False)\n",
    "plt.xlabel('stimulation frequency, Hz')\n",
    "plt.ylabel('phase locking index')\n",
    "ax.spines['top'].set_visible(False)\n",
    "ax.spines['right'].set_visible(False)\n",
    "ax.yaxis.set_ticks_position('left')\n",
    "ax.xaxis.set_ticks_position('bottom')\n",
    "ax.spines['left'].set_position(('outward', 5))\n",
    "\n",
    "for i, idx in enumerate(trace_samples_idx):\n",
    "    plt.annotate(str(i+1), (stimulation_frequencies[idx], pli_vs_freq[idx]),\n",
    "                         (0, -5),\n",
    "                 textcoords='offset points',\n",
    "                 ha='center', va='top',\n",
    "                 size=8)\n",
    "plt.savefig('figures/pli_vs_freq.svg')"
   ]
  },
  {
   "cell_type": "markdown",
   "metadata": {},
   "source": [
    "## Plot: Frequency of UP states vs. stimulatin frequency"
   ]
  },
  {
   "cell_type": "markdown",
   "metadata": {},
   "source": [
    "Count the UP states and plot their frequency vs. the stimulation frequency."
   ]
  },
  {
   "cell_type": "code",
   "execution_count": 25,
   "metadata": {},
   "outputs": [],
   "source": [
    "def count_upstates(y_signal):\n",
    "    y_std = np.std(y_signal)\n",
    "    detection_threshold = y_std\n",
    "    upstates = (y_signal > detection_threshold).astype(int)\n",
    "    downup = np.diff(upstates)\n",
    "    downup[downup < 0] = 0\n",
    "    n_downup = np.sum(downup)\n",
    "    return n_downup"
   ]
  },
  {
   "cell_type": "code",
   "execution_count": 26,
   "metadata": {},
   "outputs": [],
   "source": [
    "n_upstates = []\n",
    "for y_oscillations in filtered_signals:\n",
    "    nup1 = count_upstates(y_oscillations[:, 0])\n",
    "    nup2 = count_upstates(y_oscillations[:, 1])\n",
    "    n_upstates.append((nup1, nup2))\n",
    "n_upstates = np.array(n_upstates)\n"
   ]
  },
  {
   "cell_type": "code",
   "execution_count": 27,
   "metadata": {},
   "outputs": [
    {
     "data": {
      "image/png": "[encoded data removed]",
      "text/plain": [
       "<matplotlib.figure.Figure at 0x7f9f77eca828>"
      ]
     },
     "metadata": {},
     "output_type": "display_data"
    }
   ],
   "source": [
    "import matplotlib\n",
    "plt.figure(figsize=(3,2))\n",
    "\n",
    "line_colors = matplotlib.cycler('color', population_colors)\n",
    "with matplotlib.style.context({'axes.prop_cycle':line_colors}):\n",
    "    ax = plt.subplot(111)\n",
    "    ax.plot(stimulation_frequencies, n_upstates * 1. / tmax, lw=1.5)\n",
    "    ax.plot(stimulation_frequencies, stimulation_frequencies, 'k--')\n",
    "    ax.spines['top'].set_visible(False)\n",
    "    ax.spines['right'].set_visible(False)\n",
    "    ax.xaxis.set_ticks_position('bottom')\n",
    "    ax.yaxis.set_ticks_position('left')\n",
    "    plt.xlabel('stimulation frequency, Hz')\n",
    "    plt.ylabel('UP state frequency, Hz')\n",
    "plt.savefig('figures/up_state_frequency.svg')"
   ]
  },
  {
   "cell_type": "markdown",
   "metadata": {},
   "source": [
    "# Final figure"
   ]
  },
  {
   "cell_type": "code",
   "execution_count": 28,
   "metadata": {},
   "outputs": [],
   "source": [
    "from svgutils import compose as sc"
   ]
  },
  {
   "cell_type": "code",
   "execution_count": 29,
   "metadata": {},
   "outputs": [],
   "source": [
    "fig = sc.Figure('16cm', '9cm',\n",
    "        sc.Panel(\n",
    "          sc.SVG('figures/sync_traces.svg'),\n",
    "          sc.Text('B', 30, 20, size=14)\n",
    "        ).move(100, 0),\n",
    "        sc.Panel(\n",
    "          sc.Text('D', 0, 0, size=14),\n",
    "          sc.SVG('figures/pli_vs_freq.svg')\n",
    "        ).move(260, 160),\n",
    "        sc.Panel(\n",
    "          sc.Text('A', 0, -10, size=14),\n",
    "          sc.SVG('figures/entrained-schematics.svg'\n",
    "          ).scale(0.6)\n",
    "        ).move(0, 30),\n",
    "        sc.Panel(\n",
    "          sc.Text('C', 0, 0, size=14),\n",
    "          sc.SVG('figures/up_state_frequency.svg')        \n",
    "        ).move(20, 160)\n",
    "    )"
   ]
  },
  {
   "cell_type": "code",
   "execution_count": 30,
   "metadata": {},
   "outputs": [],
   "source": [
    "from IPython.display import SVG, display"
   ]
  },
  {
   "cell_type": "code",
   "execution_count": 35,
   "metadata": {},
   "outputs": [],
   "source": [
    "fig.save('figures/inverted_slices_composed.svg')"
   ]
  },
  {
   "cell_type": "code",
   "execution_count": 36,
   "metadata": {},
   "outputs": [
    {
     "data": {
      "image/svg+xml": [
       "<svg height=\"9.0cm\" version=\"1.1\" viewBox=\"0 0 16.0cm 9.0cm\" width=\"16.0cm\" xmlns=\"http://www.w3.org/2000/svg\" xmlns:xlink=\"http://www.w3.org/1999/xlink\">\n",
       "  <g>\n",
       "    <g transform=\"translate(100, 0) scale(1) \">\n",
       "      <g><defs>\n",
       "  <style type=\"text/css\">\n",
       "*{stroke-linecap:butt;stroke-linejoin:round;}\n",
       "  </style>\n",
       " </defs>\n",
       " <g id=\"figure_1\">\n",
       "  <g id=\"patch_1\">\n",
       "   <path d=\"M 0 144  L 432 144  L 432 0  L 0 0  z \" style=\"fill:#ffffff;\"/>\n",
       "  </g>\n",
       "  <g id=\"axes_1\">\n",
       "   <g id=\"matplotlib.axis_1\"/>\n",
       "   <g id=\"matplotlib.axis_2\"/>\n",
       "   <g id=\"line2d_1\">\n",
       "    <path clip-path=\"url(#p80dca10e3d)\" d=\"M 60.917355 37.125861  L 61.563406 21.356445  L 61.840285 19.226901  L 61.932578 19.324428  L 62.117164 20.497376  L 63.040093 28.837895  L 63.224679 28.931792  L 63.59385 28.759202  L 63.778436 29.173913  L 64.055315 30.938867  L 64.51678 36.183517  L 65.070537 42.010798  L 65.439709 44.088653  L 65.808881 45.135514  L 66.270346 45.796604  L 66.639517 45.933302  L 67.008689 45.76172  L 67.470154 45.530677  L 67.839325 45.598004  L 68.393083 45.768164  L 68.762255 45.589353  L 69.408305 45.130555  L 69.685184 45.168725  L 70.146649 45.52854  L 70.608113 45.813787  L 70.977285 45.782002  L 71.992507 45.491249  L 74.022952 45.718221  L 74.853588 45.515424  L 75.499639 45.434074  L 76.145689 45.66234  L 76.699447 45.747375  L 78.083841 45.588885  L 78.914477 45.726072  L 81.49868 45.695314  L 82.421609 45.847911  L 83.898296 45.745278  L 84.821225 45.849809  L 85.467276 45.67044  L 86.482498 45.303595  L 86.943963 45.383248  L 87.959185 45.660225  L 89.435872 45.599349  L 90.358801 45.8384  L 93.404468 45.815498  L 93.958226 45.883433  L 94.41969 45.679943  L 94.973448 45.42896  L 95.250327 45.517674  L 96.173256 46.132972  L 96.450135 45.858809  L 97.465357 44.357757  L 97.742236 44.591086  L 98.665165 45.903432  L 98.942044 45.892859  L 99.864973 45.575472  L 100.603317 45.565548  L 101.433953 45.364905  L 101.895418 45.57361  L 102.541468 45.846576  L 103.372105 45.80007  L 104.110448 45.638867  L 104.756499 45.463614  L 105.125671 45.656185  L 105.679428 45.969508  L 105.956307 45.807494  L 106.879236 44.767742  L 107.340701 44.753965  L 107.525287 44.400061  L 107.802166 42.955516  L 108.171337 39.011331  L 109.001974 28.974712  L 109.18656 28.384272  L 109.278853 28.400244  L 109.463438 28.968333  L 109.924903 32.002782  L 110.294075 33.981949  L 110.663247 34.850375  L 110.940125 35.416338  L 111.217004 36.582702  L 111.586176 39.381797  L 112.324519 45.139196  L 112.601398 45.830577  L 112.785984 45.831648  L 113.155156 45.322739  L 113.524328 44.982441  L 113.801206 45.104453  L 114.631843 45.883104  L 114.908722 45.770231  L 116.016237 44.897446  L 116.385408 45.103926  L 117.123752 45.604346  L 117.585217 45.529455  L 117.954388 45.506448  L 118.32356 45.728747  L 118.692732 45.971902  L 118.877318 45.929867  L 119.061904 45.69333  L 119.338782 44.93909  L 120.169419 42.127472  L 120.354005 42.062758  L 120.53859 42.306738  L 120.907762 43.464357  L 121.553813 45.498515  L 121.830692 45.807013  L 122.10757 45.824871  L 124.045722 45.256211  L 124.507187 45.469416  L 125.24553 45.836189  L 125.799288 45.830371  L 126.81451 45.79286  L 128.106611 45.816137  L 129.121833 45.702334  L 130.044763 45.706218  L 131.059985 45.495447  L 131.982914 45.610268  L 132.998136 45.394925  L 133.644187 45.716031  L 134.105652 45.845099  L 134.843995 45.729142  L 135.397753 45.756301  L 136.320682 45.867188  L 136.87444 45.662843  L 137.705076 45.35216  L 138.166541 45.43074  L 139.366349 45.777404  L 140.196985 45.669236  L 140.750743 45.391415  L 141.581379 44.929191  L 141.858258 45.015156  L 142.319723 45.471485  L 142.781187 45.881082  L 143.058066 45.874468  L 143.427238 45.549374  L 143.980996 45.004793  L 144.257874 44.995176  L 144.627046 45.256314  L 145.180804 45.618285  L 145.642268 45.561365  L 146.103733 45.527649  L 146.842077 45.64892  L 147.211248 45.380613  L 147.672713 45.065762  L 147.949592 45.211351  L 148.780228 46.175454  L 148.964814 46.019607  L 149.703157 44.940009  L 149.887743 45.085118  L 150.626087 46.361993  L 150.71838 46.297799  L 150.995259 45.650547  L 151.456723 44.412014  L 151.549016 44.408958  L 151.733602 44.800075  L 152.102774 46.749814  L 152.379653 47.802995  L 152.471945 47.743857  L 152.656531 46.681718  L 152.93341 42.387502  L 154.040925 18.767973  L 154.133218 18.733476  L 154.317804 19.758698  L 155.240733 28.745449  L 155.425319 28.76525  L 155.886784 28.063743  L 156.07137 28.516228  L 156.348249 30.62394  L 156.902006 38.154291  L 157.363471 43.323271  L 157.732643 45.177549  L 158.009521 45.625419  L 158.378693 45.748697  L 159.024744 45.710218  L 159.947673 45.513537  L 160.870602 45.786878  L 161.885825 45.38429  L 162.439582 45.785348  L 162.808754 45.919743  L 163.177926 45.765011  L 163.916269 45.306235  L 164.377734 45.335803  L 165.20837 45.68  L 165.854421 45.934267  L 166.1313 45.837521  L 166.500471 45.420284  L 167.054229 44.737552  L 167.331108 44.731904  L 167.607987 45.01029  L 168.254037 45.789291  L 168.530916 45.741643  L 168.992381 45.225048  L 169.361552 44.928183  L 169.638431 44.968747  L 170.745946 45.566493  L 171.48429 45.487502  L 172.868684 45.789205  L 174.529957 45.355779  L 175.914351 45.438712  L 176.744987 45.158103  L 177.114159 45.282406  L 178.313967 45.904506  L 178.960017 45.792379  L 179.882947 45.660403  L 181.082755 45.496264  L 182.005684 45.36079  L 182.559442 45.518743  L 183.482371 45.834953  L 184.220715 45.728412  L 184.774472 45.759111  L 185.605109 45.866121  L 186.89721 45.562963  L 187.54326 45.772668  L 187.912432 45.610293  L 188.46619 45.300551  L 188.743068 45.401988  L 189.296826 45.775104  L 189.481412 45.572601  L 189.665998 44.994779  L 189.942877 43.249921  L 190.404341 38.211296  L 191.142685 30.153566  L 191.419563 29.031799  L 191.604149 29.016902  L 191.788735 29.508338  L 192.157907 31.524894  L 193.173129 37.660426  L 193.542301 38.705228  L 193.81918 39.00806  L 194.188351 39.039034  L 194.46523 39.07737  L 194.742109 39.35915  L 195.111281 40.197364  L 195.757331 41.763406  L 196.03421 41.966399  L 196.680261 42.072244  L 196.957139 42.626628  L 197.510897 44.694129  L 197.880069 45.64823  L 198.064655 45.711882  L 198.249241 45.493662  L 199.17217 43.825439  L 199.264463 43.902828  L 199.264463 43.902828  \" style=\"fill:none;stroke:#bfbf00;stroke-linecap:square;\"/>\n",
       "   </g>\n",
       "   <g id=\"text_1\">\n",
       "    <!-- 1 -->\n",
       "    <defs>\n",
       "     <path d=\"M 12.40625 8.296875  L 28.515625 8.296875  L 28.515625 63.921875  L 10.984375 60.40625  L 10.984375 69.390625  L 28.421875 72.90625  L 38.28125 72.90625  L 38.28125 8.296875  L 54.390625 8.296875  L 54.390625 0  L 12.40625 0  z \" id=\"DejaVuSans-31\"/>\n",
       "    </defs>\n",
       "    <g transform=\"translate(45.866364 23.35875)scale(0.08 -0.08)\">\n",
       "     <use xlink:href=\"#DejaVuSans-31\"/>\n",
       "    </g>\n",
       "   </g>\n",
       "   <g id=\"LineCollection_1\">\n",
       "    <path d=\"M 60.917355 50.855294  L 60.917355 46.058824  \" style=\"fill:none;stroke:#000000;stroke-width:1.5;\"/>\n",
       "    <path d=\"M 153.117996 50.855294  L 153.117996 46.058824  \" style=\"fill:none;stroke:#000000;stroke-width:1.5;\"/>\n",
       "   </g>\n",
       "  </g>\n",
       "  <g id=\"axes_2\">\n",
       "   <g id=\"matplotlib.axis_3\"/>\n",
       "   <g id=\"matplotlib.axis_4\"/>\n",
       "   <g id=\"line2d_2\">\n",
       "    <path clip-path=\"url(#p51d438b7ac)\" d=\"M 243.535537 46.408251  L 243.812416 46.294673  L 244.089295 46.407835  L 245.012224 47.182112  L 245.381396 47.014144  L 246.027446 46.62728  L 246.488911 46.669991  L 247.688719 46.95196  L 248.33477 46.81856  L 248.98082 46.726965  L 249.719164 46.746081  L 250.088335 46.427362  L 250.918972 45.487811  L 251.195851 45.623052  L 251.565022 46.201985  L 252.11878 47.048569  L 252.395659 47.136011  L 252.764831 46.957583  L 253.226295 46.773292  L 253.595467 46.928436  L 254.241517 47.295711  L 254.518396 47.21171  L 255.349033 46.721278  L 255.625911 46.860246  L 256.271962 47.38474  L 256.456548 47.318252  L 256.641134 47.048311  L 256.918013 46.16966  L 257.287184 43.92283  L 257.656356 40.161358  L 258.210114 31.498611  L 258.856164 21.176653  L 259.133043 19.369769  L 259.225336 19.312576  L 259.409922 20.014676  L 259.686801 22.73306  L 260.425144 30.873666  L 260.60973 31.434931  L 260.702023 31.460969  L 260.886609 31.156528  L 261.25578 30.303925  L 261.348073 30.274484  L 261.532659 30.612577  L 261.809538 32.097798  L 262.547882 36.811922  L 262.732467 37.103247  L 262.917053 37.078523  L 263.193932 36.979247  L 263.378518 37.249502  L 263.563104 37.995596  L 263.932276 40.889128  L 264.578326 46.364722  L 264.855205 47.218818  L 265.039791 47.256248  L 265.31667 46.891732  L 265.685841 46.468356  L 265.870427 46.489878  L 266.239599 46.911533  L 266.608771 47.314598  L 266.885649 47.330343  L 267.254821 47.025428  L 267.808579 46.605615  L 268.17775 46.605079  L 269.10068 46.71656  L 269.931316 46.454774  L 270.485074 46.371194  L 270.854246 46.520036  L 271.869468 47.161359  L 272.23864 46.990767  L 273.161569 46.310002  L 273.623034 46.385392  L 274.361377 46.551775  L 275.007428 46.696018  L 275.838064 47.088016  L 276.114943 46.937934  L 276.576407 46.33596  L 277.037872 45.85877  L 277.314751 45.877053  L 277.683923 46.246634  L 278.422266 47.11268  L 278.791438 47.194063  L 279.16061 47.029085  L 279.898953 46.328755  L 280.360418 46.056642  L 280.637296 46.119067  L 281.006468 46.458914  L 281.560226 46.982406  L 281.837105 46.982419  L 282.206276 46.688724  L 282.667741 46.309575  L 282.94462 46.330562  L 283.313792 46.662991  L 283.775256 47.068529  L 284.052135 47.050548  L 285.067357 46.57955  L 285.805701 47.027225  L 286.08258 46.867221  L 286.636337 46.412888  L 286.820923 46.470555  L 287.190095 46.960598  L 287.559267 47.397144  L 287.743852 47.363391  L 288.020731 46.959902  L 288.482196 46.256203  L 288.666782 46.359527  L 288.943661 46.999307  L 289.220539 47.657251  L 289.312832 47.699718  L 289.405125 47.581398  L 289.589711 46.716806  L 289.86659 43.576169  L 290.881812 28.242346  L 290.974105 28.385592  L 291.158691 29.846907  L 291.527863 36.188309  L 292.08162 45.804809  L 292.358499 47.656968  L 292.543085 47.765913  L 292.819964 46.998299  L 293.189135 45.977316  L 293.373721 45.915714  L 293.558307 46.16884  L 294.296651 47.635743  L 294.481237 47.60783  L 294.850408 47.158982  L 295.404166 46.49307  L 295.865631 46.277492  L 296.327095 46.245591  L 296.696267 46.426269  L 297.43461 46.953658  L 297.711489 46.893896  L 298.819004 46.284432  L 299.741934 46.447236  L 300.387984 46.340422  L 300.757156 46.527986  L 301.680085 47.184076  L 302.049257 47.118097  L 303.156772 46.682383  L 304.171995 46.708664  L 304.725752 46.60728  L 305.094924 46.873278  L 305.464096 47.111767  L 305.648681 46.88268  L 305.833267 46.168424  L 306.110146 43.828048  L 306.479318 38.10804  L 307.402247 21.768935  L 307.679126 20.372834  L 307.771419 20.37393  L 307.956005 20.924779  L 308.509762 24.37282  L 308.971227 26.492097  L 309.432692 28.484627  L 309.894156 31.803255  L 310.447914 35.742042  L 310.817086 37.030541  L 311.463136 38.634519  L 312.109187 40.706136  L 312.293773 40.645552  L 312.478359 40.129016  L 313.308995 36.946797  L 313.493581 37.482382  L 313.77046 39.470014  L 314.601096 46.785353  L 314.877975 47.529355  L 315.062561 47.552136  L 315.431732 47.106783  L 315.893197 46.672788  L 316.723834 46.449423  L 317.093005 46.462791  L 317.462177 46.719342  L 318.108228 47.246177  L 318.477399 47.223529  L 320.507844 46.421704  L 320.877016 46.591291  L 321.707652 47.119784  L 322.076824 47.047774  L 322.722874 46.857828  L 323.922682 46.846687  L 324.568733 46.632981  L 325.030198 46.757784  L 325.491662 46.863859  L 325.860834 46.697596  L 326.599177 46.162593  L 326.876056 46.233124  L 327.245228 46.616843  L 327.798986 47.22927  L 328.075864 47.292882  L 328.445036 47.105485  L 329.091087 46.692417  L 329.552551 46.70856  L 330.290895 46.797544  L 331.213824 46.742285  L 332.505925 47.032305  L 333.61344 46.603922  L 334.074905 46.828585  L 334.628663 47.096424  L 335.090127 47.047621  L 335.736178 46.91771  L 337.028279 46.984224  L 337.674329 46.789411  L 338.043501 46.914502  L 338.874138 47.323321  L 339.335602 47.213451  L 340.812289 46.549532  L 341.273754 46.68193  L 342.288976 47.165131  L 342.842734 47.066354  L 344.504007 46.563339  L 344.873178 46.758025  L 345.519229 47.164933  L 345.796108 47.045267  L 346.165279 46.542158  L 346.626744 45.912407  L 346.903623 45.891471  L 347.180502 46.214568  L 347.918845 47.398756  L 348.195724 47.392439  L 348.564896 46.987781  L 349.02636 46.474908  L 349.303239 46.411471  L 349.764704 46.608505  L 350.226168 46.707322  L 351.333684 46.576819  L 352.533492 47.099116  L 352.994956 46.90594  L 354.37935 46.076175  L 354.748522 46.202992  L 355.763744 46.790262  L 356.225209 46.655302  L 356.87126 46.426869  L 357.332724 46.521766  L 358.993997 47.147915  L 359.363169 46.914426  L 360.378391 45.914812  L 360.65527 46.137036  L 361.485906 47.209886  L 361.762785 47.119581  L 362.593422 46.460661  L 362.8703 46.619389  L 363.424058 47.036789  L 363.700937 46.981148  L 364.346987 46.623298  L 364.623866 46.752282  L 365.177624 47.130556  L 365.36221 47.035447  L 365.639088 46.608105  L 366.192846 45.715633  L 366.377432 45.755207  L 366.654311 46.181081  L 367.115775 46.911921  L 367.300361 46.828195  L 367.57724 46.191132  L 368.130998 44.74329  L 368.315583 44.77703  L 368.869341 45.616781  L 369.053927 45.120526  L 369.238513 43.683125  L 369.515392 39.497522  L 370.622907 18.957282  L 370.7152 18.733476  L 370.807493 18.800716  L 370.992078 19.648799  L 372.099594 27.184691  L 372.468765 29.284731  L 372.837937 33.270622  L 373.853159 46.099118  L 374.130038 47.139473  L 374.314624 47.265579  L 374.591503 47.037062  L 374.960675 46.715639  L 375.237553 46.71979  L 375.791311 46.853622  L 376.160483 46.634721  L 376.621947 46.359966  L 376.898826 46.475293  L 377.821756 47.303059  L 378.098634 47.008029  L 378.836978 45.860549  L 379.021564 45.860945  L 379.298442 46.137681  L 379.944493 46.956006  L 380.221372 46.944317  L 380.959715 46.588367  L 381.236594 46.757701  L 381.882645 47.24425  L 381.882645 47.24425  \" style=\"fill:none;stroke:#008000;stroke-linecap:square;\"/>\n",
       "   </g>\n",
       "   <g id=\"text_2\">\n",
       "    <!-- 1 -->\n",
       "    <g transform=\"translate(228.484545 23.35875)scale(0.08 -0.08)\">\n",
       "     <use xlink:href=\"#DejaVuSans-31\"/>\n",
       "    </g>\n",
       "   </g>\n",
       "  </g>\n",
       "  <g id=\"axes_3\">\n",
       "   <g id=\"matplotlib.axis_5\"/>\n",
       "   <g id=\"matplotlib.axis_6\"/>\n",
       "   <g id=\"line2d_3\">\n",
       "    <path clip-path=\"url(#p05dac647d9)\" d=\"M 60.917355 82.862767  L 61.286527 81.758801  L 61.655699 79.584072  L 62.117164 74.844881  L 62.763214 67.705441  L 63.040093 66.58081  L 63.132386 66.603781  L 63.316972 67.215635  L 63.686143 69.986767  L 64.147608 73.38259  L 64.424487 74.158213  L 64.609073 74.181962  L 64.978244 73.997479  L 65.16283 74.254567  L 65.439709 75.422789  L 66.73181 83.020585  L 67.562447 85.449478  L 67.65474 85.35521  L 67.839325 84.567968  L 68.116204 81.605153  L 68.577669 72.865285  L 69.039134 64.876686  L 69.316012 62.995945  L 69.408305 62.921829  L 69.592891 63.433962  L 70.423528 67.506968  L 70.700406 67.580036  L 70.884992 67.667256  L 71.069578 68.134313  L 71.346457 69.963902  L 71.807922 75.644813  L 72.361679 81.972479  L 72.638558 83.359231  L 72.823144 83.667607  L 73.00773 83.67857  L 73.469194 83.512525  L 73.746073 83.689773  L 74.299831 84.142307  L 74.57671 84.058652  L 75.407346 83.501739  L 75.776518 83.677182  L 76.330275 83.933079  L 78.453013 83.865421  L 79.00677 83.655868  L 79.375942 83.767313  L 80.021993 84.036307  L 80.483457 83.908835  L 81.037215 83.731962  L 81.49868 83.841988  L 82.14473 84.006306  L 83.344538 83.860094  L 84.544346 83.794268  L 85.467276 84.122353  L 86.574791 83.917071  L 87.128549 84.049395  L 87.49772 83.831517  L 88.051478 83.418743  L 88.328357 83.47025  L 89.0667 83.814187  L 89.435872 83.542819  L 89.805044 83.363116  L 89.989629 83.481493  L 90.451094 84.246345  L 90.727973 84.485685  L 90.912559 84.336955  L 91.281731 83.416997  L 91.558609 82.827733  L 91.743195 82.858834  L 91.927781 83.34178  L 92.573832 85.722927  L 92.758417 84.95448  L 93.035296 81.344068  L 93.496761 70.021096  L 93.958226 59.597626  L 94.235104 57.335572  L 94.327397 57.359124  L 94.511983 58.363999  L 95.434913 66.093711  L 95.619498 66.116495  L 95.98867 65.865853  L 96.173256 66.317046  L 96.450135 68.294197  L 96.911599 74.290304  L 97.465357 80.938789  L 97.834529 83.011645  L 98.111408 83.576004  L 98.480579 83.768329  L 99.12663 83.774482  L 99.957266 83.664442  L 100.418731 83.958003  L 100.880196 84.162598  L 101.157074 84.059971  L 101.987711 83.53995  L 102.356883 83.739019  L 102.91064 84.141358  L 103.187519 84.107405  L 103.648984 83.711926  L 104.110448 83.42504  L 104.387327 83.489574  L 105.217963 83.895531  L 105.587135 83.648101  L 106.325479 83.006989  L 106.602357 83.054659  L 107.063822 83.45906  L 107.61758 83.899191  L 107.986751 83.91562  L 108.632802 83.596011  L 109.094267 83.515417  L 109.555731 83.741803  L 110.109489 83.988407  L 110.478661 83.841156  L 111.217004 83.388248  L 111.586176 83.523998  L 112.139934 83.798103  L 112.601398 83.704128  L 112.97057 83.699233  L 113.339742 83.977371  L 113.708913 84.250523  L 113.893499 84.224232  L 114.170378 83.91417  L 114.724136 83.150515  L 114.908722 83.205259  L 115.1856 83.669054  L 115.647065 84.513459  L 115.831651 84.452676  L 116.10853 83.784717  L 116.569994 82.390569  L 116.75458 82.375237  L 116.939166 82.848194  L 117.492924 85.142123  L 117.585217 85.117267  L 117.769802 84.228237  L 118.046681 80.4165  L 118.508146 69.016306  L 118.969611 59.032754  L 119.246489 57.105241  L 119.338782 57.216696  L 119.523368 58.335248  L 120.354005 65.527147  L 120.53859 65.748437  L 120.907762 65.624383  L 121.092348 66.019217  L 121.276934 67.077669  L 121.646106 71.229034  L 122.476742 81.720748  L 122.753621 83.154784  L 123.0305 83.685987  L 123.399671 83.820166  L 124.230308 83.877253  L 125.060944 83.649564  L 125.983874 83.949492  L 126.445338 83.591102  L 126.81451 83.400192  L 127.091389 83.487134  L 127.829732 83.908294  L 128.106611 83.762243  L 128.752662 83.319521  L 129.02954 83.448214  L 129.767884 84.071951  L 130.044763 83.95797  L 130.783106 83.36858  L 131.059985 83.454732  L 131.613742 83.707466  L 131.890621 83.530926  L 132.628965 82.764228  L 132.905844 82.906256  L 133.367308 83.282526  L 133.551894 83.143015  L 133.73648 82.687005  L 134.013359 81.372947  L 135.213167 74.502022  L 135.674632 73.567886  L 136.136096 73.017302  L 136.320682 73.016727  L 136.505268 73.244215  L 136.782147 74.081656  L 137.889662 78.650735  L 138.074248 78.752964  L 138.351127 78.619504  L 138.720298 78.454725  L 138.904884 78.583532  L 139.181763 79.172446  L 139.550935 80.645377  L 140.381571 84.1706  L 140.566157 84.377987  L 140.750743 84.281773  L 141.119915 83.504804  L 141.396793 83.020923  L 141.581379 83.046279  L 141.765965 83.432596  L 142.412016 85.453964  L 142.504309 85.322707  L 142.688895 84.350292  L 142.965773 80.897938  L 143.611824 67.40567  L 143.980996 62.187505  L 144.165581 61.382024  L 144.257874 61.425349  L 144.44246 62.23531  L 145.273097 67.815597  L 145.457683 67.950944  L 145.919147 67.778465  L 146.103733 68.309636  L 146.380612 70.335726  L 146.842077 76.25748  L 147.395834 82.661297  L 147.672713 84.098708  L 147.857299 84.428567  L 148.041885 84.422132  L 148.872521 83.800652  L 151.272137 83.964832  L 152.102774 83.841194  L 152.93341 83.935111  L 154.040925 83.627195  L 155.148441 84.104631  L 156.163663 83.741948  L 157.086592 84.086949  L 157.455764 83.854056  L 158.009521 83.515026  L 158.2864 83.577163  L 159.301623 84.08074  L 159.763087 83.752699  L 160.224552 83.460462  L 160.593724 83.495419  L 162.070411 84.081288  L 162.716461 83.977788  L 163.177926 83.676182  L 164.193148 82.794193  L 164.470027 83.019403  L 165.20837 83.993316  L 165.392956 83.834838  L 165.669835 83.09639  L 166.223593 81.277806  L 166.408178 81.287006  L 166.592764 81.841265  L 166.961936 84.228818  L 167.331108 86.16972  L 167.423401 86.174759  L 167.607987 85.279892  L 167.884865 81.421484  L 168.438623 67.752394  L 168.807795 60.280675  L 169.084674 58.190173  L 169.176966 58.207827  L 169.361552 59.109786  L 170.284482 66.233505  L 170.469068 66.366358  L 170.838239 66.36649  L 171.022825 66.850685  L 171.299704 68.689088  L 171.761169 74.145156  L 172.407219 81.167807  L 172.776391 82.977498  L 173.145563 83.647721  L 173.607027 83.942968  L 174.160785 84.065936  L 174.806835 83.901159  L 175.360593 83.845448  L 176.468108 83.86544  L 177.298745 83.826158  L 178.498553 83.982472  L 179.513775 83.825068  L 180.252118 83.800408  L 181.082755 83.637158  L 181.54422 83.923388  L 182.005684 84.149732  L 182.282563 84.052043  L 183.113199 83.51707  L 183.390078 83.692359  L 183.943836 84.134255  L 184.128422 84.075207  L 184.405301 83.713852  L 185.143644 82.511093  L 185.789695 82.105171  L 186.066573 81.175888  L 186.435745 78.525178  L 187.450967 69.826329  L 187.635553 69.490054  L 187.820139 69.634931  L 188.097018 70.493897  L 189.204533 75.530082  L 189.665998 78.852854  L 190.312048 83.686472  L 190.588927 84.37566  L 190.773513 84.223146  L 191.511856 82.663904  L 191.696442 83.063177  L 192.342493 85.332234  L 192.434786 85.173457  L 192.619372 84.072206  L 192.89625 80.325695  L 193.911473 62.783747  L 194.096059 62.544813  L 194.280644 63.339186  L 195.018988 68.335479  L 195.203574 68.467117  L 195.38816 68.157887  L 195.757331 67.495364  L 195.849624 67.568981  L 196.03421 68.214841  L 196.311089 70.508521  L 197.418604 82.486239  L 197.695483 83.220692  L 197.972362 83.314037  L 198.433826 83.278632  L 198.802998 83.554705  L 199.264463 83.976639  L 199.264463 83.976639  \" style=\"fill:none;stroke:#bfbf00;stroke-linecap:square;\"/>\n",
       "   </g>\n",
       "   <g id=\"text_3\">\n",
       "    <!-- 2 -->\n",
       "    <defs>\n",
       "     <path d=\"M 19.1875 8.296875  L 53.609375 8.296875  L 53.609375 0  L 7.328125 0  L 7.328125 8.296875  Q 12.9375 14.109375 22.625 23.890625  Q 32.328125 33.6875 34.8125 36.53125  Q 39.546875 41.84375 41.421875 45.53125  Q 43.3125 49.21875 43.3125 52.78125  Q 43.3125 58.59375 39.234375 62.25  Q 35.15625 65.921875 28.609375 65.921875  Q 23.96875 65.921875 18.8125 64.3125  Q 13.671875 62.703125 7.8125 59.421875  L 7.8125 69.390625  Q 13.765625 71.78125 18.9375 73  Q 24.125 74.21875 28.421875 74.21875  Q 39.75 74.21875 46.484375 68.546875  Q 53.21875 62.890625 53.21875 53.421875  Q 53.21875 48.921875 51.53125 44.890625  Q 49.859375 40.875 45.40625 35.40625  Q 44.1875 33.984375 37.640625 27.21875  Q 31.109375 20.453125 19.1875 8.296875  z \" id=\"DejaVuSans-32\"/>\n",
       "    </defs>\n",
       "    <g transform=\"translate(45.866364 61.730515)scale(0.08 -0.08)\">\n",
       "     <use xlink:href=\"#DejaVuSans-32\"/>\n",
       "    </g>\n",
       "   </g>\n",
       "   <g id=\"LineCollection_2\">\n",
       "    <path d=\"M 68.393083 89.227059  L 68.393083 84.430588  \" style=\"fill:none;stroke:#000000;stroke-width:1.5;\"/>\n",
       "    <path d=\"M 93.312175 89.227059  L 93.312175 84.430588  \" style=\"fill:none;stroke:#000000;stroke-width:1.5;\"/>\n",
       "    <path d=\"M 118.231267 89.227059  L 118.231267 84.430588  \" style=\"fill:none;stroke:#000000;stroke-width:1.5;\"/>\n",
       "    <path d=\"M 143.150359 89.227059  L 143.150359 84.430588  \" style=\"fill:none;stroke:#000000;stroke-width:1.5;\"/>\n",
       "    <path d=\"M 168.161744 89.227059  L 168.161744 84.430588  \" style=\"fill:none;stroke:#000000;stroke-width:1.5;\"/>\n",
       "    <path d=\"M 193.080836 89.227059  L 193.080836 84.430588  \" style=\"fill:none;stroke:#000000;stroke-width:1.5;\"/>\n",
       "   </g>\n",
       "  </g>\n",
       "  <g id=\"axes_4\">\n",
       "   <g id=\"matplotlib.axis_7\"/>\n",
       "   <g id=\"matplotlib.axis_8\"/>\n",
       "   <g id=\"line2d_4\">\n",
       "    <path clip-path=\"url(#p1e79fa853f)\" d=\"M 243.535537 85.305227  L 243.720123 85.034652  L 244.089295 83.828099  L 244.550759 82.292966  L 244.735345 82.159121  L 244.919931 82.414354  L 245.289103 83.788414  L 245.750568 85.367331  L 245.935153 85.503607  L 246.119739 85.349246  L 246.673497 84.565354  L 246.858083 84.659375  L 247.134962 85.188428  L 247.504133 85.879259  L 247.688719 85.883669  L 247.873305 85.600845  L 248.427063 84.432414  L 248.611649 84.541955  L 249.165406 85.751748  L 249.257699 85.615609  L 249.442285 84.552483  L 249.719164 80.485837  L 250.180628 68.394223  L 250.642093 58.486309  L 250.826679 57.681803  L 251.011265 59.122483  L 251.288144 64.814464  L 252.11878 84.511716  L 252.395659 86.1528  L 252.487952 86.174759  L 252.672538 85.755522  L 253.134002 84.399416  L 253.318588 84.356003  L 253.595467 84.799191  L 254.056932 85.560636  L 254.241517 85.553747  L 254.610689 85.146459  L 254.979861 84.867287  L 255.25674 85.001392  L 255.90279 85.583505  L 256.087376 85.495739  L 256.271962 85.184172  L 256.548841 84.172403  L 256.82572 82.319852  L 257.194891 78.290738  L 258.486992 61.361069  L 258.763871 60.444491  L 258.948457 60.415674  L 259.133043 60.735146  L 259.409922 61.730944  L 259.779094 64.052953  L 260.240558 68.976  L 261.348073 82.524063  L 261.717245 84.207262  L 262.086417 84.874368  L 262.732467 85.516478  L 263.009346 85.570715  L 263.286225 85.384179  L 263.932276 84.756116  L 264.209154 84.82963  L 265.039791 85.498465  L 265.31667 85.336524  L 266.055013 84.70397  L 266.331892 84.772677  L 267.162528 85.156001  L 268.085458 85.206742  L 268.546922 85.262577  L 268.916094 85.004257  L 269.469852 84.52493  L 269.74673 84.584617  L 270.577367 85.197831  L 270.854246 84.974628  L 271.592589 84.187514  L 271.869468 83.924907  L 272.054054 83.456531  L 272.330932 81.831314  L 272.700104 77.390165  L 273.715326 62.9108  L 273.899912 62.322392  L 273.992205 62.301031  L 274.176791 62.648258  L 274.822842 64.45604  L 275.192013 64.916325  L 275.376599 65.529001  L 275.653478 67.623343  L 276.02265 72.887412  L 276.760993 84.330953  L 277.037872 85.937933  L 277.222458 86.095408  L 277.407044 85.78855  L 277.960801 84.661197  L 278.145387 84.697271  L 278.514559 85.206175  L 278.883731 85.538482  L 279.16061 85.420882  L 279.714367 84.995836  L 279.991246 85.054787  L 280.637296 85.31936  L 281.006468 85.070146  L 281.467933 84.721829  L 281.744812 84.730162  L 282.483155 84.970123  L 282.852327 84.746607  L 283.313792 84.443195  L 283.59067 84.472176  L 284.052135 84.852936  L 284.605893 85.247467  L 285.067357 85.260065  L 286.359458 85.147745  L 286.820923 85.012124  L 287.282388 84.622609  L 288.020731 83.897361  L 288.29761 83.923154  L 288.574489 84.192985  L 289.405125 85.266077  L 289.682004 85.26879  L 290.604933 84.889489  L 291.527863 85.212717  L 291.804741 84.85649  L 292.173913 83.894523  L 292.727671 81.71483  L 293.281428 78.766164  L 293.927479 73.936146  L 294.942701 65.931245  L 295.311873 64.400751  L 295.496459 64.126821  L 295.681045 64.229085  L 295.865631 64.721952  L 296.142509 66.144018  L 297.157732 72.534935  L 297.342317 72.663642  L 297.526903 72.354735  L 298.265247 70.356084  L 298.449833 70.770965  L 298.726711 72.551131  L 299.280469 78.672512  L 299.741934 82.812164  L 300.018813 83.938433  L 300.295691 84.265976  L 300.849449 84.422611  L 301.218621 84.954125  L 301.680085 85.552674  L 301.956964 85.537648  L 302.879893 84.963027  L 303.341358 85.322433  L 303.71053 85.488347  L 304.079702 85.339738  L 304.633459 85.087416  L 305.002631 85.208727  L 305.464096 85.376274  L 305.833267 85.274054  L 306.294732 85.132414  L 306.663904 85.318255  L 307.125368 85.61864  L 307.309954 85.563783  L 307.586833 85.195297  L 308.325177 83.929435  L 308.509762 84.00125  L 308.786641 84.486461  L 309.340399 85.684599  L 309.524985 85.781097  L 309.709571 85.658687  L 310.078742 84.984742  L 310.540207 84.285759  L 310.817086 84.238433  L 311.27855 84.28046  L 311.555429 83.979603  L 312.478359 82.450606  L 312.662944 82.640682  L 313.032116 83.577604  L 313.585874 85.003797  L 313.862753 85.21501  L 314.139631 85.087124  L 314.693389 84.391895  L 315.524025 83.392437  L 315.800904 83.274778  L 316.077783 83.417872  L 316.446955 84.02372  L 317.093005 85.199692  L 317.369884 85.320548  L 317.831349 85.130947  L 318.108228 85.088201  L 318.385106 85.242585  L 319.031157 85.778593  L 319.308036 85.67061  L 319.7695 85.036843  L 320.138672 84.652023  L 320.415551 84.666344  L 321.523066 85.236912  L 321.984531 85.188624  L 322.999753 85.366148  L 323.645804 84.8167  L 323.830389 84.91227  L 324.199561 85.513705  L 324.47644 85.863811  L 324.661026 85.740414  L 324.845612 85.183412  L 325.12249 83.513404  L 325.860834 78.472183  L 326.04542 78.366085  L 326.230006 78.93888  L 326.599177 81.54323  L 327.152935 85.38303  L 327.429814 86.001547  L 327.6144 85.943057  L 328.537329 84.863644  L 329.091087 85.177568  L 329.460258 85.232234  L 330.290895 85.16831  L 331.121531 85.377234  L 331.582996 85.159336  L 332.04446 84.945297  L 332.413632 85.021824  L 332.782804 85.119519  L 332.96739 84.946124  L 333.151976 84.439528  L 333.428854 82.748068  L 333.798026 78.339029  L 335.18242 57.487735  L 335.367006 57.105241  L 335.459299 57.196978  L 335.643885 57.889168  L 335.920764 60.002875  L 336.382228 65.625801  L 337.674329 83.329127  L 337.951208 84.639484  L 338.135794 84.897079  L 338.32038 84.818872  L 338.966431 84.188904  L 339.243309 84.430632  L 339.981653 85.456426  L 340.258532 85.414364  L 341.273754 84.793954  L 341.827511 85.082726  L 342.381269 85.258575  L 345.24235 85.387775  L 346.442158 85.027082  L 347.272795 85.362622  L 347.826552 85.441871  L 348.288017 85.266892  L 348.749481 84.787736  L 349.487825 83.945559  L 349.764704 83.930309  L 350.041583 84.136881  L 350.964512 85.087177  L 351.333684 85.092424  L 351.979734 85.038785  L 352.348906 85.26293  L 353.087249 85.789862  L 353.364128 85.699151  L 353.7333 85.238972  L 354.471643 84.186816  L 354.748522 84.182144  L 355.025401 84.439495  L 355.763744 85.334223  L 356.040623 85.37243  L 356.409795 85.167254  L 357.055845 84.772517  L 358.624825 84.403206  L 358.993997 84.53872  L 360.101512 85.143151  L 361.670492 85.350879  L 362.408836 85.115881  L 362.778007 85.266326  L 363.239472 85.465471  L 363.516351 85.305059  L 363.885523 84.633251  L 364.43928 83.482575  L 364.623866 83.379679  L 364.808452 83.499491  L 365.085331 84.051108  L 365.823674 85.747293  L 366.00826 85.803915  L 366.285139 85.593015  L 366.838896 85.06535  L 367.115775 85.16899  L 367.761826 85.694792  L 367.946412 85.564491  L 368.22329 85.016307  L 368.961634 83.27815  L 369.14622 83.247914  L 369.423099 83.569494  L 370.161442 84.722538  L 370.438321 84.741455  L 371.084371 84.59206  L 372.099594 84.848062  L 372.745644 84.619707  L 373.022523 84.807035  L 373.853159 85.675822  L 374.130038 85.596275  L 374.960675 85.06323  L 375.329846 85.198994  L 375.883604 85.393177  L 376.345069 85.239671  L 376.806533 85.104089  L 377.360291 85.237502  L 377.821756 85.278147  L 379.113857 85.01206  L 379.8522 85.202662  L 381.052008 85.208498  L 381.605766 85.271233  L 381.882645 85.129483  L 381.882645 85.129483  \" style=\"fill:none;stroke:#008000;stroke-linecap:square;\"/>\n",
       "   </g>\n",
       "   <g id=\"text_4\">\n",
       "    <!-- 2 -->\n",
       "    <g transform=\"translate(228.484545 61.730515)scale(0.08 -0.08)\">\n",
       "     <use xlink:href=\"#DejaVuSans-32\"/>\n",
       "    </g>\n",
       "   </g>\n",
       "  </g>\n",
       "  <g id=\"axes_5\">\n",
       "   <g id=\"matplotlib.axis_9\"/>\n",
       "   <g id=\"matplotlib.axis_10\"/>\n",
       "   <g id=\"line2d_5\">\n",
       "    <path clip-path=\"url(#p05ec89b178)\" d=\"M 60.917355 113.947859  L 61.563406 98.160189  L 61.840285 95.593732  L 61.932578 95.477005  L 62.024871 95.684776  L 62.209456 96.879796  L 63.870729 113.601221  L 64.609073 121.487586  L 64.885952 122.773453  L 65.16283 123.112833  L 65.439709 122.947105  L 65.993467 122.558069  L 66.362638 122.608289  L 66.916396 122.997357  L 67.285568 123.206877  L 67.562447 123.08495  L 67.931618 122.47094  L 68.30079 121.941787  L 68.485376 122.029255  L 68.762255 122.745585  L 69.223719 124.146525  L 69.316012 124.105585  L 69.500598 123.361448  L 69.777477 120.254133  L 70.238942 110.853518  L 70.700406 102.407672  L 70.977285 100.642387  L 71.069578 100.668381  L 71.254164 101.431028  L 71.900214 105.429727  L 72.0848 105.537006  L 72.361679 104.920805  L 72.638558 104.500339  L 72.730851 104.64276  L 72.915437 105.566216  L 73.192316 108.636407  L 74.207538 122.324427  L 74.392124 122.847814  L 74.57671 122.846219  L 75.130467 122.290264  L 75.315053 122.433204  L 75.868811 123.156266  L 76.053396 123.105261  L 76.330275 122.688568  L 76.699447 122.087027  L 76.884033 122.037412  L 77.068619 122.211077  L 77.714669 123.17402  L 77.899255 123.068081  L 78.637599 122.134184  L 78.822184 122.47954  L 79.375942 124.012926  L 79.468235 123.936561  L 79.652821 123.128877  L 79.9297 120.002847  L 80.483457 109.023036  L 80.852629 103.035699  L 81.129508 101.391564  L 81.221801 101.412981  L 81.406387 102.124717  L 82.14473 106.567152  L 82.329316 106.710169  L 82.606195 106.358823  L 82.790781 106.180474  L 82.883074 106.22509  L 83.067659 106.729769  L 83.344538 108.701856  L 83.898296 115.51355  L 84.359761 120.226351  L 84.728932 121.942729  L 85.005811 122.406217  L 85.651862 122.85541  L 86.021033 122.890577  L 86.390205 122.607356  L 86.759377 122.366823  L 87.036256 122.496885  L 87.682306 123.196751  L 87.866892 123.0937  L 88.143771 122.582813  L 88.512943 121.85939  L 88.697528 121.842635  L 88.882114 122.182574  L 89.528165 124.087149  L 89.620458 123.936815  L 89.805044 122.920515  L 90.081922 119.415599  L 91.189438 101.424015  L 91.281731 101.339714  L 91.466316 101.927756  L 92.296953 106.896576  L 92.481539 106.869128  L 92.943003 106.343586  L 93.127589 106.844033  L 93.404468 108.991791  L 93.958226 116.656983  L 94.41969 121.644893  L 94.696569 122.765812  L 94.881155 122.894699  L 95.250327 122.594761  L 95.527205 122.526915  L 95.804084 122.754233  L 96.265549 123.119017  L 96.542428 122.975485  L 97.188478 122.387709  L 97.465357 122.510495  L 97.926822 122.820015  L 98.111408 122.74915  L 98.480579 122.258712  L 98.757458 121.999  L 98.942044 122.110934  L 99.218923 122.788832  L 99.680387 123.970093  L 99.77268 123.894306  L 99.957266 123.134724  L 100.234145 120.202969  L 100.69561 111.541099  L 101.157074 103.56072  L 101.433953 101.630488  L 101.526246 101.54567  L 101.710832 102.068885  L 102.633761 106.83885  L 102.818347 106.79013  L 103.095226 106.674818  L 103.279812 107.025731  L 103.464398 107.988647  L 103.741277 110.676078  L 104.664206 121.556411  L 104.941085 122.616802  L 105.125671 122.776613  L 105.494842 122.617007  L 105.771721 122.602509  L 106.417772 122.813996  L 106.69465 122.581969  L 107.156115 122.180847  L 107.340701 122.254296  L 107.709873 122.818564  L 108.079044 123.245421  L 108.26363 123.146211  L 108.632802 122.411667  L 108.909681 121.989327  L 109.094267 122.08847  L 109.371146 122.911474  L 109.83261 124.392148  L 109.924903 124.310477  L 110.109489 123.428533  L 110.386368 120.062707  L 111.493883 101.267676  L 111.678469 101.044463  L 111.863055 101.678714  L 112.601398 105.203614  L 112.878277 105.316587  L 113.062863 105.37294  L 113.247449 105.75079  L 113.524328 107.343891  L 113.985792 112.482425  L 114.53955 118.399115  L 114.908722 120.219955  L 116.016237 122.903126  L 116.293116 123.285909  L 116.477701 123.239344  L 116.75458 122.801821  L 117.216045 122.103792  L 117.400631 122.159237  L 117.67751 122.615739  L 118.046681 123.280195  L 118.231267 123.320955  L 118.415853 123.082725  L 119.154196 121.673391  L 119.338782 122.003379  L 119.984833 123.913593  L 120.077126 123.743983  L 120.261712 122.674674  L 120.53859 119.088183  L 121.553813 101.627058  L 121.738399 101.172638  L 121.922984 101.737506  L 122.845914 106.868976  L 123.0305 106.859765  L 123.307378 106.793353  L 123.491964 107.170519  L 123.768843 108.888436  L 124.230308 114.457731  L 124.784065 120.759529  L 125.060944 122.146966  L 125.337823 122.490995  L 125.983874 122.422296  L 126.629924 122.877361  L 126.906803 122.702974  L 127.46056 122.235987  L 127.645146 122.350783  L 128.475783 123.271645  L 128.752662 122.745815  L 129.214126 121.754973  L 129.398712 121.86485  L 129.675591 122.794001  L 130.137056 124.546524  L 130.229348 124.497677  L 130.413934 123.62406  L 130.690813 120.088932  L 131.798328 100.690227  L 131.890621 100.665918  L 132.075207 101.486938  L 132.905844 107.461366  L 132.998136 107.464443  L 133.182722 107.106525  L 133.551894 106.35445  L 133.644187 106.464766  L 133.828773 107.298156  L 134.105652 110.12875  L 135.028581 121.719735  L 135.30546 122.531766  L 135.490046 122.519943  L 135.95151 122.272771  L 136.228389 122.560707  L 136.689854 123.123164  L 136.87444 123.070403  L 137.243611 122.519227  L 137.52049 122.177487  L 137.705076 122.192878  L 137.981955 122.599717  L 138.44342 123.322771  L 138.628005 123.234865  L 138.904884 122.641035  L 139.274056 121.811542  L 139.458642 121.827284  L 139.643228 122.259826  L 140.196985 124.243277  L 140.289278 124.20383  L 140.473864 123.386464  L 140.750743 120.021761  L 141.858258 101.209529  L 141.950551 101.145754  L 142.135137 101.845293  L 142.965773 107.053031  L 143.150359 106.752176  L 143.611824 105.28693  L 143.704117 105.297845  L 143.888703 105.960069  L 144.165581 108.684115  L 145.180804 122.169033  L 145.36539 122.73236  L 145.549975 122.734788  L 146.196026 122.047477  L 146.472905 122.434348  L 146.934369 123.10888  L 147.118955 123.04499  L 147.395834 122.585586  L 147.857299 121.844635  L 148.041885 121.862428  L 148.411056 122.337379  L 148.687935 122.591349  L 148.872521 122.516967  L 149.610865 121.744655  L 149.79545 122.169549  L 150.441501 124.312338  L 150.533794 124.142053  L 150.71838 123.01793  L 150.995259 119.203392  L 152.010481 101.106455  L 152.195067 100.841828  L 152.379653 101.639581  L 153.117996 106.675646  L 153.302582 106.852271  L 153.579461 106.525246  L 153.764047 106.41954  L 153.948632 106.801708  L 154.133218 107.877149  L 154.50239 111.991205  L 155.148441 119.890746  L 155.425319 121.433583  L 155.702198 121.908175  L 156.255956 122.182329  L 156.994299 123.205012  L 157.178885 123.102707  L 158.009521 122.140723  L 158.2864 122.50408  L 158.747865 123.119876  L 158.932451 123.02345  L 159.301623 122.280142  L 159.578501 121.858373  L 159.763087 121.965453  L 160.039966 122.803272  L 160.501431 124.280595  L 160.593724 124.193985  L 160.77831 123.303605  L 161.055188 119.944115  L 162.162704 101.463895  L 162.254996 101.251408  L 162.347289 101.294595  L 162.531875 101.979402  L 163.177926 105.439457  L 163.362512 105.663195  L 163.63939 105.507827  L 163.823976 105.477666  L 164.008562 105.834917  L 164.285441 107.454568  L 164.746906 112.600264  L 165.300663 118.61016  L 165.669835 120.677278  L 166.1313 121.834138  L 166.77735 122.904125  L 167.054229 123.001637  L 167.331108 122.764468  L 167.884865 122.136216  L 168.069451 122.169342  L 168.34633 122.487969  L 168.807795 123.020402  L 168.992381 122.967811  L 169.269259 122.571877  L 169.638431 122.024249  L 169.823017 122.057667  L 170.007603 122.396751  L 170.653653 124.057512  L 170.838239 123.539847  L 171.022825 122.109512  L 171.391997 116.482415  L 172.222633 101.998568  L 172.407219 100.980313  L 172.499512 100.869688  L 172.591805 100.995756  L 172.776391 101.816658  L 173.69932 107.350999  L 174.345371 109.059904  L 174.714542 111.511591  L 175.822058 120.723354  L 176.191229 121.963011  L 176.560401 122.562232  L 176.929573 122.804508  L 177.206452 122.753555  L 178.129381 122.27972  L 178.498553 122.739189  L 178.867724 123.155745  L 179.05231 123.122428  L 179.329189 122.703339  L 179.790654 121.845569  L 179.97524 121.879488  L 180.159826 122.259175  L 180.805876 124.182256  L 180.898169 124.042221  L 181.082755 123.077295  L 181.359634 119.738041  L 182.467149 101.902488  L 182.559442 101.693452  L 182.651735 101.737051  L 182.836321 102.427721  L 183.574664 106.235788  L 183.75925 106.256065  L 184.220715 105.810066  L 184.405301 106.229504  L 184.682179 108.127519  L 185.143644 114.037912  L 185.697402 120.660209  L 185.97428 122.226388  L 186.251159 122.742349  L 186.528038 122.743409  L 186.989503 122.721075  L 187.450967 122.798924  L 187.820139 122.581731  L 188.189311 122.353818  L 188.46619 122.46775  L 189.204533 123.238479  L 189.389119 123.074416  L 190.127462 121.907083  L 190.312048 122.202514  L 190.958099 124.33196  L 191.050392 124.275453  L 191.234978 123.467222  L 191.511856 120.234931  L 192.065614 108.77094  L 192.434786 102.500169  L 192.711665 100.796907  L 192.803957 100.8322  L 192.988543 101.612042  L 193.726887 106.384491  L 193.911473 106.557784  L 194.372937 106.259669  L 194.557523 106.733758  L 194.834402 108.795942  L 195.295867 115.09548  L 195.757331 120.907589  L 196.03421 122.57854  L 196.218796 122.935411  L 196.403382 122.899178  L 196.957139 122.484163  L 197.234018 122.683768  L 197.60319 122.993907  L 197.880069 122.918471  L 198.526119 122.357177  L 198.802998 122.550658  L 199.264463 123.071741  L 199.264463 123.071741  \" style=\"fill:none;stroke:#bfbf00;stroke-linecap:square;\"/>\n",
       "   </g>\n",
       "   <g id=\"line2d_6\">\n",
       "    <path d=\"M 60.917355 132.395294  L 79.375942 132.395294  \" style=\"fill:none;stroke:#000000;stroke-linecap:square;stroke-width:1.5;\"/>\n",
       "   </g>\n",
       "   <g id=\"text_5\">\n",
       "    <!-- 3 -->\n",
       "    <defs>\n",
       "     <path d=\"M 40.578125 39.3125  Q 47.65625 37.796875 51.625 33  Q 55.609375 28.21875 55.609375 21.1875  Q 55.609375 10.40625 48.1875 4.484375  Q 40.765625 -1.421875 27.09375 -1.421875  Q 22.515625 -1.421875 17.65625 -0.515625  Q 12.796875 0.390625 7.625 2.203125  L 7.625 11.71875  Q 11.71875 9.328125 16.59375 8.109375  Q 21.484375 6.890625 26.8125 6.890625  Q 36.078125 6.890625 40.9375 10.546875  Q 45.796875 14.203125 45.796875 21.1875  Q 45.796875 27.640625 41.28125 31.265625  Q 36.765625 34.90625 28.71875 34.90625  L 20.21875 34.90625  L 20.21875 43.015625  L 29.109375 43.015625  Q 36.375 43.015625 40.234375 45.921875  Q 44.09375 48.828125 44.09375 54.296875  Q 44.09375 59.90625 40.109375 62.90625  Q 36.140625 65.921875 28.71875 65.921875  Q 24.65625 65.921875 20.015625 65.03125  Q 15.375 64.15625 9.8125 62.3125  L 9.8125 71.09375  Q 15.4375 72.65625 20.34375 73.4375  Q 25.25 74.21875 29.59375 74.21875  Q 40.828125 74.21875 47.359375 69.109375  Q 53.90625 64.015625 53.90625 55.328125  Q 53.90625 49.265625 50.4375 45.09375  Q 46.96875 40.921875 40.578125 39.3125  z \" id=\"DejaVuSans-33\"/>\n",
       "    </defs>\n",
       "    <g transform=\"translate(45.866364 100.102279)scale(0.08 -0.08)\">\n",
       "     <use xlink:href=\"#DejaVuSans-33\"/>\n",
       "    </g>\n",
       "   </g>\n",
       "   <g id=\"text_6\">\n",
       "    <!-- 2 s -->\n",
       "    <defs>\n",
       "     <path id=\"DejaVuSans-20\"/>\n",
       "     <path d=\"M 44.28125 53.078125  L 44.28125 44.578125  Q 40.484375 46.53125 36.375 47.5  Q 32.28125 48.484375 27.875 48.484375  Q 21.1875 48.484375 17.84375 46.4375  Q 14.5 44.390625 14.5 40.28125  Q 14.5 37.15625 16.890625 35.375  Q 19.28125 33.59375 26.515625 31.984375  L 29.59375 31.296875  Q 39.15625 29.25 43.1875 25.515625  Q 47.21875 21.78125 47.21875 15.09375  Q 47.21875 7.46875 41.1875 3.015625  Q 35.15625 -1.421875 24.609375 -1.421875  Q 20.21875 -1.421875 15.453125 -0.5625  Q 10.6875 0.296875 5.421875 2  L 5.421875 11.28125  Q 10.40625 8.6875 15.234375 7.390625  Q 20.0625 6.109375 24.8125 6.109375  Q 31.15625 6.109375 34.5625 8.28125  Q 37.984375 10.453125 37.984375 14.40625  Q 37.984375 18.0625 35.515625 20.015625  Q 33.0625 21.96875 24.703125 23.78125  L 21.578125 24.515625  Q 13.234375 26.265625 9.515625 29.90625  Q 5.8125 33.546875 5.8125 39.890625  Q 5.8125 47.609375 11.28125 51.796875  Q 16.75 56 26.8125 56  Q 31.78125 56 36.171875 55.265625  Q 40.578125 54.546875 44.28125 53.078125  z \" id=\"DejaVuSans-73\"/>\n",
       "    </defs>\n",
       "    <g transform=\"translate(62.771649 141.592555)scale(0.1 -0.1)\">\n",
       "     <use xlink:href=\"#DejaVuSans-32\"/>\n",
       "     <use x=\"63.623047\" xlink:href=\"#DejaVuSans-20\"/>\n",
       "     <use x=\"95.410156\" xlink:href=\"#DejaVuSans-73\"/>\n",
       "    </g>\n",
       "   </g>\n",
       "   <g id=\"LineCollection_3\">\n",
       "    <path d=\"M 60.917355 127.598824  L 60.917355 122.802353  \" style=\"fill:none;stroke:#000000;stroke-width:1.5;\"/>\n",
       "    <path d=\"M 69.962063 127.598824  L 69.962063 122.802353  \" style=\"fill:none;stroke:#000000;stroke-width:1.5;\"/>\n",
       "    <path d=\"M 80.114286 127.598824  L 80.114286 122.802353  \" style=\"fill:none;stroke:#000000;stroke-width:1.5;\"/>\n",
       "    <path d=\"M 90.266508 127.598824  L 90.266508 122.802353  \" style=\"fill:none;stroke:#000000;stroke-width:1.5;\"/>\n",
       "    <path d=\"M 100.418731 127.598824  L 100.418731 122.802353  \" style=\"fill:none;stroke:#000000;stroke-width:1.5;\"/>\n",
       "    <path d=\"M 110.570954 127.598824  L 110.570954 122.802353  \" style=\"fill:none;stroke:#000000;stroke-width:1.5;\"/>\n",
       "    <path d=\"M 120.723176 127.598824  L 120.723176 122.802353  \" style=\"fill:none;stroke:#000000;stroke-width:1.5;\"/>\n",
       "    <path d=\"M 130.875399 127.598824  L 130.875399 122.802353  \" style=\"fill:none;stroke:#000000;stroke-width:1.5;\"/>\n",
       "    <path d=\"M 141.027622 127.598824  L 141.027622 122.802353  \" style=\"fill:none;stroke:#000000;stroke-width:1.5;\"/>\n",
       "    <path d=\"M 151.179844 127.598824  L 151.179844 122.802353  \" style=\"fill:none;stroke:#000000;stroke-width:1.5;\"/>\n",
       "    <path d=\"M 161.239774 127.598824  L 161.239774 122.802353  \" style=\"fill:none;stroke:#000000;stroke-width:1.5;\"/>\n",
       "    <path d=\"M 171.391997 127.598824  L 171.391997 122.802353  \" style=\"fill:none;stroke:#000000;stroke-width:1.5;\"/>\n",
       "    <path d=\"M 181.54422 127.598824  L 181.54422 122.802353  \" style=\"fill:none;stroke:#000000;stroke-width:1.5;\"/>\n",
       "    <path d=\"M 191.696442 127.598824  L 191.696442 122.802353  \" style=\"fill:none;stroke:#000000;stroke-width:1.5;\"/>\n",
       "   </g>\n",
       "  </g>\n",
       "  <g id=\"axes_6\">\n",
       "   <g id=\"matplotlib.axis_11\"/>\n",
       "   <g id=\"matplotlib.axis_12\"/>\n",
       "   <g id=\"line2d_7\">\n",
       "    <path clip-path=\"url(#pf11710a78c)\" d=\"M 243.535537 114.074919  L 243.997002 119.272789  L 244.273881 121.483319  L 244.366174 121.713366  L 244.458467 121.654613  L 244.643052 120.727739  L 245.473689 113.996662  L 245.565982 114.088283  L 245.750568 114.958985  L 246.581204 120.578112  L 246.673497 120.441199  L 246.858083 119.548885  L 247.319547 115.311981  L 247.688719 112.647411  L 247.873305 112.187005  L 247.965598 112.191492  L 248.150184 112.607736  L 248.519356 114.446684  L 248.98082 116.674207  L 249.257699 117.208005  L 249.442285 117.164019  L 249.719164 116.639687  L 250.272921 115.452798  L 250.457507 115.515894  L 250.642093 115.955237  L 251.011265 117.837316  L 251.565022 120.961004  L 251.749608 121.355274  L 251.841901 121.363248  L 252.026487 120.996018  L 252.303366 119.640558  L 253.041709 115.455554  L 253.226295 115.251424  L 253.410881 115.576491  L 253.68776 116.954969  L 254.426103 121.449055  L 254.518396 121.553327  L 254.610689 121.481846  L 254.795275 120.814337  L 255.164447 118.006683  L 255.533619 115.635734  L 255.625911 115.489484  L 255.718204 115.589395  L 255.90279 116.54241  L 256.364255 121.565766  L 256.641134 123.431776  L 256.733427 123.380607  L 256.918013 121.995379  L 257.194891 116.876292  L 257.840942 102.440553  L 258.025528 101.446425  L 258.117821 101.758566  L 258.302407 103.856867  L 259.225336 119.277587  L 259.317629 119.366083  L 259.502215 118.691044  L 260.055972 115.232127  L 260.148265 115.11504  L 260.240558 115.198037  L 260.425144 115.875833  L 260.978902 118.609605  L 261.071195 118.692344  L 261.163488 118.613215  L 261.348073 118.027635  L 261.994124 115.211686  L 262.17871 115.21838  L 262.363296 115.668647  L 263.378518 119.093222  L 263.563104 119.188881  L 263.74769 118.99448  L 263.932276 118.382021  L 264.209154 116.40698  L 264.670619 110.655235  L 265.039791 106.865059  L 265.224377 106.546241  L 265.408962 107.642315  L 265.685841 111.620031  L 266.331892 121.728376  L 266.516478 122.210122  L 266.701064 121.333927  L 267.162528 116.128556  L 267.5317 113.356321  L 267.716286 113.228903  L 267.900872 113.801243  L 268.823801 117.839419  L 269.285266 118.492951  L 269.562144 118.548785  L 269.74673 118.30067  L 270.115902 117.161508  L 270.392781 116.487005  L 270.485074 116.484324  L 270.66966 116.97295  L 270.946538 118.889445  L 271.31571 121.723318  L 271.408003 121.974683  L 271.500296 121.888613  L 271.684882 120.51043  L 271.961761 115.401165  L 272.607811 100.92284  L 272.792397 100.322875  L 272.976983 102.166552  L 273.346155 111.032358  L 273.807619 121.162994  L 273.992205 122.255536  L 274.084498 122.089831  L 274.269084 120.646737  L 274.822842 114.745484  L 275.007428 114.479897  L 275.192013 115.350456  L 276.02265 121.800925  L 276.207236 121.879705  L 276.391822 121.521147  L 276.853286 119.875996  L 277.222458 117.837498  L 277.776216 112.722301  L 278.053094 110.874728  L 278.145387 110.699478  L 278.23768 110.807255  L 278.422266 111.909782  L 278.791438 116.827615  L 279.252902 122.406741  L 279.437488 122.827311  L 279.622074 122.085928  L 280.360418 116.812731  L 280.452711 116.798732  L 280.637296 117.245172  L 281.006468 118.330138  L 281.098761 118.244468  L 281.283347 117.314125  L 281.560226 114.067252  L 282.113983 106.680019  L 282.298569 106.113277  L 282.390862 106.363066  L 282.575448 107.834476  L 283.59067 119.051448  L 283.775256 119.241776  L 284.236721 119.107344  L 284.421307 119.346769  L 285.251943 120.881657  L 285.621115 120.80712  L 285.990287 120.570085  L 286.174873 120.186341  L 286.451751 118.765533  L 286.820923 115.012627  L 287.282388 110.565406  L 287.374681 110.335389  L 287.466974 110.447359  L 287.651559 111.750164  L 288.020731 117.690141  L 288.482196 124.256781  L 288.574489 124.546524  L 288.666782 124.386109  L 288.851368 122.776296  L 289.220539 116.194839  L 289.682004 108.884514  L 289.958883 107.137445  L 290.420347 105.274383  L 290.789519 101.602563  L 291.158691 98.25881  L 291.250984 98.109965  L 291.343277 98.381039  L 291.527863 100.286222  L 291.897034 108.511504  L 292.358499 118.591665  L 292.543085 119.917668  L 292.635378 119.860854  L 292.819964 118.555765  L 293.373721 112.711396  L 293.466014 112.545517  L 293.558307 112.758735  L 293.742893 114.23591  L 294.481237 122.309575  L 294.573529 122.262782  L 294.758115 121.300397  L 295.311873 117.038888  L 295.404166 116.962147  L 295.588752 117.642451  L 296.234802 121.807863  L 296.419388 120.587893  L 296.696267 115.752816  L 297.250025 104.192402  L 297.43461 103.245607  L 297.526903 103.637679  L 297.711489 106.051934  L 298.634419 123.305271  L 298.726711 123.199661  L 298.911297 121.859273  L 299.557348 115.081226  L 299.649641 114.877132  L 299.741934 114.932478  L 299.92652 115.648758  L 300.387984 117.829218  L 300.480277 117.848471  L 300.664863 117.301262  L 301.218621 114.354738  L 301.310914 114.370569  L 301.495499 115.240204  L 301.864671 119.589586  L 302.233843 123.198023  L 302.326136 123.294307  L 302.418429 122.950562  L 302.603015 120.929416  L 303.064479 111.028487  L 303.433651 105.4196  L 303.525944 105.155848  L 303.618237 105.416818  L 303.802823 107.39283  L 304.725752 122.605397  L 304.818045 122.715032  L 305.002631 122.066855  L 305.740974 117.374325  L 306.017853 117.112083  L 306.202439 116.955378  L 306.387025 116.431661  L 306.663904 114.705331  L 307.217661 111.043517  L 307.309954 111.019613  L 307.49454 111.785787  L 307.771419 114.742496  L 308.325177 121.599594  L 308.509762 122.364039  L 308.602055 122.334056  L 308.786641 121.553144  L 309.524985 116.656533  L 309.617278 116.645743  L 309.801864 117.17261  L 310.6325 121.279198  L 310.724793 121.20999  L 310.909379 120.623817  L 311.27855 118.171705  L 312.016894 113.085092  L 312.293773 112.388525  L 312.386066 112.376625  L 312.570652 112.709478  L 312.84753 114.068189  L 313.862753 120.520774  L 313.955046 120.537013  L 314.139631 120.162678  L 314.508803 118.276605  L 315.062561 115.475927  L 315.33944 115.100573  L 315.524025 115.304783  L 315.800904 116.176181  L 316.816126 120.12277  L 317.000712 119.985143  L 317.277591 119.099148  L 317.831349 116.925341  L 318.015935 116.833569  L 318.20052 117.230604  L 318.569692 119.006158  L 318.938864 120.409875  L 319.031157 120.478588  L 319.215743 120.202254  L 319.492622 118.981018  L 319.954086 117.051853  L 320.046379 116.994162  L 320.230965 117.330326  L 320.507844 118.733211  L 320.969308 121.002786  L 321.061601 121.081134  L 321.153894 120.972431  L 321.33848 120.180521  L 321.707652 116.776679  L 322.353702 110.380635  L 322.722874 108.816842  L 322.90746 108.590558  L 323.092046 108.634364  L 323.368925 109.095939  L 323.738096 110.296909  L 324.47644 112.800547  L 324.753319 113.015112  L 325.030198 113.08501  L 325.214783 113.375292  L 325.399369 114.086198  L 325.676248 116.106771  L 326.414592 122.525794  L 326.599177 122.675881  L 326.783763 121.942715  L 327.245228 117.99459  L 327.522107 116.346829  L 327.6144 116.20438  L 327.706693 116.299995  L 327.891278 117.179406  L 328.352743 121.673555  L 328.721915 124.082655  L 328.814208 124.163155  L 328.906501 124.009485  L 329.091087 123.055164  L 329.552551 118.497172  L 330.014016 114.785442  L 330.290895 114.070191  L 330.475481 114.165383  L 330.752359 114.865573  L 331.39841 116.845364  L 331.582996 116.927186  L 331.767582 116.580263  L 332.04446 115.184379  L 332.782804 110.494315  L 332.875097 110.507774  L 333.059683 111.264588  L 333.336562 114.058012  L 333.982612 121.189709  L 334.074905 121.383407  L 334.167198 121.265435  L 334.351784 120.144796  L 334.813249 114.435001  L 335.18242 111.182994  L 335.367006 110.977633  L 335.551592 111.709782  L 335.920764 114.88413  L 336.566814 120.200776  L 336.843693 121.329436  L 337.028279 121.499887  L 337.212865 120.979515  L 337.397451 119.529838  L 337.674329 115.279382  L 338.689552 95.477005  L 338.781845 95.678627  L 338.966431 97.706908  L 339.335602 106.681104  L 339.88936 120.620645  L 340.166239 123.261781  L 340.258532 123.425032  L 340.350825 123.30508  L 340.627703 121.912522  L 340.996875 119.992405  L 341.181461 119.661839  L 341.366047 119.710286  L 341.642926 119.886666  L 341.827511 119.607503  L 342.012097 118.76264  L 342.381269 115.564907  L 342.842734 111.955193  L 343.02732 111.790989  L 343.211905 112.589224  L 343.581077 116.226972  L 343.950249 119.58389  L 344.134835 120.004846  L 344.227128 119.788911  L 344.411714 118.525932  L 344.873178 112.555443  L 345.24235 109.232249  L 345.334643 109.070244  L 345.426936 109.216  L 345.611522 110.366841  L 346.072986 115.999711  L 346.442158 119.248859  L 346.626744 119.587711  L 346.81133 119.158733  L 347.365087 116.935276  L 347.45738 116.892009  L 347.641966 117.224144  L 348.195724 118.90568  L 348.288017 118.725588  L 348.472603 117.589284  L 348.749481 113.966344  L 349.395532 103.845788  L 349.580118 103.042238  L 349.672411 103.202359  L 349.856997 104.591689  L 350.226168 110.280857  L 350.779926 118.121365  L 351.056805 119.362076  L 351.241391 119.351593  L 351.795148 118.624571  L 351.979734 118.834629  L 352.718078 120.229159  L 352.902663 119.885248  L 353.179542 118.672205  L 353.825593 115.479085  L 354.010179 115.281556  L 354.194765 115.524591  L 354.563936 116.840607  L 354.933108 117.887278  L 355.117694 117.889592  L 355.30228 117.528618  L 355.763744 116.309637  L 355.856037 116.280881  L 356.040623 116.649668  L 356.317502 118.25465  L 356.778967 121.42909  L 356.87126 121.645721  L 356.963553 121.604332  L 357.148138 120.649877  L 357.425017 117.154477  L 358.071068 107.278241  L 358.255654 106.453275  L 358.347947 106.536119  L 358.532532 107.565239  L 359.363169 114.392219  L 359.455462 114.410219  L 359.640048 114.001026  L 360.101512 112.731654  L 360.193805 112.821623  L 360.378391 113.547591  L 360.747563 116.75764  L 361.209028 120.758291  L 361.393613 121.342537  L 361.485906 121.347368  L 361.670492 120.822119  L 362.039664 118.331768  L 362.501129 115.199388  L 362.778007 114.503472  L 362.8703 114.522488  L 363.054886 114.901157  L 363.424058 116.568127  L 363.977816 118.944969  L 364.254694 119.371612  L 364.900745 119.818019  L 365.639088 121.210834  L 365.823674 120.861427  L 366.100553 119.397861  L 366.746604 115.073937  L 366.931189 114.914547  L 367.115775 115.482883  L 367.854119 119.332035  L 367.946412 119.181684  L 368.130998 118.147505  L 368.500169 113.816202  L 368.961634 108.56578  L 369.14622 107.892396  L 369.238513 107.965353  L 369.423099 108.887196  L 369.79227 112.882451  L 370.346028 118.81832  L 370.622907 119.93847  L 370.7152 119.995696  L 370.899786 119.70633  L 371.176664 118.541111  L 371.822715 115.374907  L 372.007301 115.067868  L 372.099594 115.084884  L 372.28418 115.475615  L 372.561058 116.835008  L 373.207109 120.455862  L 373.391695 120.698898  L 373.576281 120.445238  L 373.945452 119.011204  L 374.314624 117.890647  L 374.49921 117.914833  L 374.683796 118.368729  L 375.606725 121.491153  L 375.791311 121.413837  L 376.345069 120.879122  L 376.529654 120.989731  L 377.267998 121.901559  L 377.452584 121.610193  L 377.729463 120.526713  L 378.929271 114.255492  L 379.113857 114.15239  L 379.298442 114.412497  L 379.575321 115.461114  L 380.590544 120.457349  L 380.775129 120.044562  L 381.052008 118.278672  L 381.698059 113.457263  L 381.790352 113.359757  L 381.882645 113.514421  L 381.882645 113.514421  \" style=\"fill:none;stroke:#008000;stroke-linecap:square;\"/>\n",
       "   </g>\n",
       "   <g id=\"text_7\">\n",
       "    <!-- 3 -->\n",
       "    <g transform=\"translate(228.484545 100.102279)scale(0.08 -0.08)\">\n",
       "     <use xlink:href=\"#DejaVuSans-33\"/>\n",
       "    </g>\n",
       "   </g>\n",
       "  </g>\n",
       " </g>\n",
       " <defs>\n",
       "  <clipPath id=\"p80dca10e3d\">\n",
       "   <rect height=\"31.976471\" width=\"152.181818\" x=\"54\" y=\"17.28\"/>\n",
       "  </clipPath>\n",
       "  <clipPath id=\"p51d438b7ac\">\n",
       "   <rect height=\"31.976471\" width=\"152.181818\" x=\"236.618182\" y=\"17.28\"/>\n",
       "  </clipPath>\n",
       "  <clipPath id=\"p05dac647d9\">\n",
       "   <rect height=\"31.976471\" width=\"152.181818\" x=\"54\" y=\"55.651765\"/>\n",
       "  </clipPath>\n",
       "  <clipPath id=\"p1e79fa853f\">\n",
       "   <rect height=\"31.976471\" width=\"152.181818\" x=\"236.618182\" y=\"55.651765\"/>\n",
       "  </clipPath>\n",
       "  <clipPath id=\"p05ec89b178\">\n",
       "   <rect height=\"31.976471\" width=\"152.181818\" x=\"54\" y=\"94.023529\"/>\n",
       "  </clipPath>\n",
       "  <clipPath id=\"pf11710a78c\">\n",
       "   <rect height=\"31.976471\" width=\"152.181818\" x=\"236.618182\" y=\"94.023529\"/>\n",
       "  </clipPath>\n",
       " </defs>\n",
       "</g>\n",
       "      <text fill=\"black\" font-family=\"Verdana\" font-size=\"14\" font-weight=\"normal\" letter-spacing=\"0\" text-anchor=\"start\" x=\"30\" y=\"20\">B</text>\n",
       "    </g>\n",
       "    <g transform=\"translate(260, 160) scale(1) \">\n",
       "      <text fill=\"black\" font-family=\"Verdana\" font-size=\"14\" font-weight=\"normal\" letter-spacing=\"0\" text-anchor=\"start\" x=\"0\" y=\"0\">D</text>\n",
       "      <g><defs>\n",
       "  <style type=\"text/css\">\n",
       "*{stroke-linecap:butt;stroke-linejoin:round;}\n",
       "  </style>\n",
       " </defs>\n",
       " <g id=\"figure_1\">\n",
       "  <g id=\"patch_1\">\n",
       "   <path d=\"M 0 144  L 216 144  L 216 0  L 0 0  z \" style=\"fill:#ffffff;\"/>\n",
       "  </g>\n",
       "  <g id=\"axes_1\">\n",
       "   <g id=\"patch_2\">\n",
       "    <path d=\"M 27 126  L 194.4 126  L 194.4 17.28  L 27 17.28  z \" style=\"fill:#ffffff;\"/>\n",
       "   </g>\n",
       "   <g id=\"matplotlib.axis_1\">\n",
       "    <g id=\"xtick_1\">\n",
       "     <g id=\"line2d_1\">\n",
       "      <defs>\n",
       "       <path d=\"M 0 0  L 0 2  \" id=\"m4e9418a2a4\" style=\"stroke:#000000;stroke-width:0.8;\"/>\n",
       "      </defs>\n",
       "      <g>\n",
       "       <use style=\"stroke:#000000;stroke-width:0.8;\" x=\"51.518182\" xlink:href=\"#m4e9418a2a4\" y=\"126\"/>\n",
       "      </g>\n",
       "     </g>\n",
       "     <g id=\"text_1\">\n",
       "      <!-- 0.2 -->\n",
       "      <defs>\n",
       "       <path d=\"M 31.78125 66.40625  Q 24.171875 66.40625 20.328125 58.90625  Q 16.5 51.421875 16.5 36.375  Q 16.5 21.390625 20.328125 13.890625  Q 24.171875 6.390625 31.78125 6.390625  Q 39.453125 6.390625 43.28125 13.890625  Q 47.125 21.390625 47.125 36.375  Q 47.125 51.421875 43.28125 58.90625  Q 39.453125 66.40625 31.78125 66.40625  z M 31.78125 74.21875  Q 44.046875 74.21875 50.515625 64.515625  Q 56.984375 54.828125 56.984375 36.375  Q 56.984375 17.96875 50.515625 8.265625  Q 44.046875 -1.421875 31.78125 -1.421875  Q 19.53125 -1.421875 13.0625 8.265625  Q 6.59375 17.96875 6.59375 36.375  Q 6.59375 54.828125 13.0625 64.515625  Q 19.53125 74.21875 31.78125 74.21875  z \" id=\"DejaVuSans-30\"/>\n",
       "       <path d=\"M 10.6875 12.40625  L 21 12.40625  L 21 0  L 10.6875 0  z \" id=\"DejaVuSans-2e\"/>\n",
       "       <path d=\"M 19.1875 8.296875  L 53.609375 8.296875  L 53.609375 0  L 7.328125 0  L 7.328125 8.296875  Q 12.9375 14.109375 22.625 23.890625  Q 32.328125 33.6875 34.8125 36.53125  Q 39.546875 41.84375 41.421875 45.53125  Q 43.3125 49.21875 43.3125 52.78125  Q 43.3125 58.59375 39.234375 62.25  Q 35.15625 65.921875 28.609375 65.921875  Q 23.96875 65.921875 18.8125 64.3125  Q 13.671875 62.703125 7.8125 59.421875  L 7.8125 69.390625  Q 13.765625 71.78125 18.9375 73  Q 24.125 74.21875 28.421875 74.21875  Q 39.75 74.21875 46.484375 68.546875  Q 53.21875 62.890625 53.21875 53.421875  Q 53.21875 48.921875 51.53125 44.890625  Q 49.859375 40.875 45.40625 35.40625  Q 44.1875 33.984375 37.640625 27.21875  Q 31.109375 20.453125 19.1875 8.296875  z \" id=\"DejaVuSans-32\"/>\n",
       "      </defs>\n",
       "      <g transform=\"translate(43.566619 139.098437)scale(0.1 -0.1)\">\n",
       "       <use xlink:href=\"#DejaVuSans-30\"/>\n",
       "       <use x=\"63.623047\" xlink:href=\"#DejaVuSans-2e\"/>\n",
       "       <use x=\"95.410156\" xlink:href=\"#DejaVuSans-32\"/>\n",
       "      </g>\n",
       "     </g>\n",
       "    </g>\n",
       "    <g id=\"xtick_2\">\n",
       "     <g id=\"line2d_2\">\n",
       "      <g>\n",
       "       <use style=\"stroke:#000000;stroke-width:0.8;\" x=\"85.336364\" xlink:href=\"#m4e9418a2a4\" y=\"126\"/>\n",
       "      </g>\n",
       "     </g>\n",
       "     <g id=\"text_2\">\n",
       "      <!-- 0.4 -->\n",
       "      <defs>\n",
       "       <path d=\"M 37.796875 64.3125  L 12.890625 25.390625  L 37.796875 25.390625  z M 35.203125 72.90625  L 47.609375 72.90625  L 47.609375 25.390625  L 58.015625 25.390625  L 58.015625 17.1875  L 47.609375 17.1875  L 47.609375 0  L 37.796875 0  L 37.796875 17.1875  L 4.890625 17.1875  L 4.890625 26.703125  z \" id=\"DejaVuSans-34\"/>\n",
       "      </defs>\n",
       "      <g transform=\"translate(77.384801 139.098437)scale(0.1 -0.1)\">\n",
       "       <use xlink:href=\"#DejaVuSans-30\"/>\n",
       "       <use x=\"63.623047\" xlink:href=\"#DejaVuSans-2e\"/>\n",
       "       <use x=\"95.410156\" xlink:href=\"#DejaVuSans-34\"/>\n",
       "      </g>\n",
       "     </g>\n",
       "    </g>\n",
       "    <g id=\"xtick_3\">\n",
       "     <g id=\"line2d_3\">\n",
       "      <g>\n",
       "       <use style=\"stroke:#000000;stroke-width:0.8;\" x=\"119.154545\" xlink:href=\"#m4e9418a2a4\" y=\"126\"/>\n",
       "      </g>\n",
       "     </g>\n",
       "     <g id=\"text_3\">\n",
       "      <!-- 0.6 -->\n",
       "      <defs>\n",
       "       <path d=\"M 33.015625 40.375  Q 26.375 40.375 22.484375 35.828125  Q 18.609375 31.296875 18.609375 23.390625  Q 18.609375 15.53125 22.484375 10.953125  Q 26.375 6.390625 33.015625 6.390625  Q 39.65625 6.390625 43.53125 10.953125  Q 47.40625 15.53125 47.40625 23.390625  Q 47.40625 31.296875 43.53125 35.828125  Q 39.65625 40.375 33.015625 40.375  z M 52.59375 71.296875  L 52.59375 62.3125  Q 48.875 64.0625 45.09375 64.984375  Q 41.3125 65.921875 37.59375 65.921875  Q 27.828125 65.921875 22.671875 59.328125  Q 17.53125 52.734375 16.796875 39.40625  Q 19.671875 43.65625 24.015625 45.921875  Q 28.375 48.1875 33.59375 48.1875  Q 44.578125 48.1875 50.953125 41.515625  Q 57.328125 34.859375 57.328125 23.390625  Q 57.328125 12.15625 50.6875 5.359375  Q 44.046875 -1.421875 33.015625 -1.421875  Q 20.359375 -1.421875 13.671875 8.265625  Q 6.984375 17.96875 6.984375 36.375  Q 6.984375 53.65625 15.1875 63.9375  Q 23.390625 74.21875 37.203125 74.21875  Q 40.921875 74.21875 44.703125 73.484375  Q 48.484375 72.75 52.59375 71.296875  z \" id=\"DejaVuSans-36\"/>\n",
       "      </defs>\n",
       "      <g transform=\"translate(111.202983 139.098437)scale(0.1 -0.1)\">\n",
       "       <use xlink:href=\"#DejaVuSans-30\"/>\n",
       "       <use x=\"63.623047\" xlink:href=\"#DejaVuSans-2e\"/>\n",
       "       <use x=\"95.410156\" xlink:href=\"#DejaVuSans-36\"/>\n",
       "      </g>\n",
       "     </g>\n",
       "    </g>\n",
       "    <g id=\"xtick_4\">\n",
       "     <g id=\"line2d_4\">\n",
       "      <g>\n",
       "       <use style=\"stroke:#000000;stroke-width:0.8;\" x=\"152.972727\" xlink:href=\"#m4e9418a2a4\" y=\"126\"/>\n",
       "      </g>\n",
       "     </g>\n",
       "     <g id=\"text_4\">\n",
       "      <!-- 0.8 -->\n",
       "      <defs>\n",
       "       <path d=\"M 31.78125 34.625  Q 24.75 34.625 20.71875 30.859375  Q 16.703125 27.09375 16.703125 20.515625  Q 16.703125 13.921875 20.71875 10.15625  Q 24.75 6.390625 31.78125 6.390625  Q 38.8125 6.390625 42.859375 10.171875  Q 46.921875 13.96875 46.921875 20.515625  Q 46.921875 27.09375 42.890625 30.859375  Q 38.875 34.625 31.78125 34.625  z M 21.921875 38.8125  Q 15.578125 40.375 12.03125 44.71875  Q 8.5 49.078125 8.5 55.328125  Q 8.5 64.0625 14.71875 69.140625  Q 20.953125 74.21875 31.78125 74.21875  Q 42.671875 74.21875 48.875 69.140625  Q 55.078125 64.0625 55.078125 55.328125  Q 55.078125 49.078125 51.53125 44.71875  Q 48 40.375 41.703125 38.8125  Q 48.828125 37.15625 52.796875 32.3125  Q 56.78125 27.484375 56.78125 20.515625  Q 56.78125 9.90625 50.3125 4.234375  Q 43.84375 -1.421875 31.78125 -1.421875  Q 19.734375 -1.421875 13.25 4.234375  Q 6.78125 9.90625 6.78125 20.515625  Q 6.78125 27.484375 10.78125 32.3125  Q 14.796875 37.15625 21.921875 38.8125  z M 18.3125 54.390625  Q 18.3125 48.734375 21.84375 45.5625  Q 25.390625 42.390625 31.78125 42.390625  Q 38.140625 42.390625 41.71875 45.5625  Q 45.3125 48.734375 45.3125 54.390625  Q 45.3125 60.0625 41.71875 63.234375  Q 38.140625 66.40625 31.78125 66.40625  Q 25.390625 66.40625 21.84375 63.234375  Q 18.3125 60.0625 18.3125 54.390625  z \" id=\"DejaVuSans-38\"/>\n",
       "      </defs>\n",
       "      <g transform=\"translate(145.021165 139.098437)scale(0.1 -0.1)\">\n",
       "       <use xlink:href=\"#DejaVuSans-30\"/>\n",
       "       <use x=\"63.623047\" xlink:href=\"#DejaVuSans-2e\"/>\n",
       "       <use x=\"95.410156\" xlink:href=\"#DejaVuSans-38\"/>\n",
       "      </g>\n",
       "     </g>\n",
       "    </g>\n",
       "    <g id=\"xtick_5\">\n",
       "     <g id=\"line2d_5\">\n",
       "      <g>\n",
       "       <use style=\"stroke:#000000;stroke-width:0.8;\" x=\"186.790909\" xlink:href=\"#m4e9418a2a4\" y=\"126\"/>\n",
       "      </g>\n",
       "     </g>\n",
       "     <g id=\"text_5\">\n",
       "      <!-- 1.0 -->\n",
       "      <defs>\n",
       "       <path d=\"M 12.40625 8.296875  L 28.515625 8.296875  L 28.515625 63.921875  L 10.984375 60.40625  L 10.984375 69.390625  L 28.421875 72.90625  L 38.28125 72.90625  L 38.28125 8.296875  L 54.390625 8.296875  L 54.390625 0  L 12.40625 0  z \" id=\"DejaVuSans-31\"/>\n",
       "      </defs>\n",
       "      <g transform=\"translate(178.839347 139.098437)scale(0.1 -0.1)\">\n",
       "       <use xlink:href=\"#DejaVuSans-31\"/>\n",
       "       <use x=\"63.623047\" xlink:href=\"#DejaVuSans-2e\"/>\n",
       "       <use x=\"95.410156\" xlink:href=\"#DejaVuSans-30\"/>\n",
       "      </g>\n",
       "     </g>\n",
       "    </g>\n",
       "    <g id=\"text_6\">\n",
       "     <!-- stimulation frequency, Hz -->\n",
       "     <defs>\n",
       "      <path d=\"M 44.28125 53.078125  L 44.28125 44.578125  Q 40.484375 46.53125 36.375 47.5  Q 32.28125 48.484375 27.875 48.484375  Q 21.1875 48.484375 17.84375 46.4375  Q 14.5 44.390625 14.5 40.28125  Q 14.5 37.15625 16.890625 35.375  Q 19.28125 33.59375 26.515625 31.984375  L 29.59375 31.296875  Q 39.15625 29.25 43.1875 25.515625  Q 47.21875 21.78125 47.21875 15.09375  Q 47.21875 7.46875 41.1875 3.015625  Q 35.15625 -1.421875 24.609375 -1.421875  Q 20.21875 -1.421875 15.453125 -0.5625  Q 10.6875 0.296875 5.421875 2  L 5.421875 11.28125  Q 10.40625 8.6875 15.234375 7.390625  Q 20.0625 6.109375 24.8125 6.109375  Q 31.15625 6.109375 34.5625 8.28125  Q 37.984375 10.453125 37.984375 14.40625  Q 37.984375 18.0625 35.515625 20.015625  Q 33.0625 21.96875 24.703125 23.78125  L 21.578125 24.515625  Q 13.234375 26.265625 9.515625 29.90625  Q 5.8125 33.546875 5.8125 39.890625  Q 5.8125 47.609375 11.28125 51.796875  Q 16.75 56 26.8125 56  Q 31.78125 56 36.171875 55.265625  Q 40.578125 54.546875 44.28125 53.078125  z \" id=\"DejaVuSans-73\"/>\n",
       "      <path d=\"M 18.3125 70.21875  L 18.3125 54.6875  L 36.8125 54.6875  L 36.8125 47.703125  L 18.3125 47.703125  L 18.3125 18.015625  Q 18.3125 11.328125 20.140625 9.421875  Q 21.96875 7.515625 27.59375 7.515625  L 36.8125 7.515625  L 36.8125 0  L 27.59375 0  Q 17.1875 0 13.234375 3.875  Q 9.28125 7.765625 9.28125 18.015625  L 9.28125 47.703125  L 2.6875 47.703125  L 2.6875 54.6875  L 9.28125 54.6875  L 9.28125 70.21875  z \" id=\"DejaVuSans-74\"/>\n",
       "      <path d=\"M 9.421875 54.6875  L 18.40625 54.6875  L 18.40625 0  L 9.421875 0  z M 9.421875 75.984375  L 18.40625 75.984375  L 18.40625 64.59375  L 9.421875 64.59375  z \" id=\"DejaVuSans-69\"/>\n",
       "      <path d=\"M 52 44.1875  Q 55.375 50.25 60.0625 53.125  Q 64.75 56 71.09375 56  Q 79.640625 56 84.28125 50.015625  Q 88.921875 44.046875 88.921875 33.015625  L 88.921875 0  L 79.890625 0  L 79.890625 32.71875  Q 79.890625 40.578125 77.09375 44.375  Q 74.3125 48.1875 68.609375 48.1875  Q 61.625 48.1875 57.5625 43.546875  Q 53.515625 38.921875 53.515625 30.90625  L 53.515625 0  L 44.484375 0  L 44.484375 32.71875  Q 44.484375 40.625 41.703125 44.40625  Q 38.921875 48.1875 33.109375 48.1875  Q 26.21875 48.1875 22.15625 43.53125  Q 18.109375 38.875 18.109375 30.90625  L 18.109375 0  L 9.078125 0  L 9.078125 54.6875  L 18.109375 54.6875  L 18.109375 46.1875  Q 21.1875 51.21875 25.484375 53.609375  Q 29.78125 56 35.6875 56  Q 41.65625 56 45.828125 52.96875  Q 50 49.953125 52 44.1875  z \" id=\"DejaVuSans-6d\"/>\n",
       "      <path d=\"M 8.5 21.578125  L 8.5 54.6875  L 17.484375 54.6875  L 17.484375 21.921875  Q 17.484375 14.15625 20.5 10.265625  Q 23.53125 6.390625 29.59375 6.390625  Q 36.859375 6.390625 41.078125 11.03125  Q 45.3125 15.671875 45.3125 23.6875  L 45.3125 54.6875  L 54.296875 54.6875  L 54.296875 0  L 45.3125 0  L 45.3125 8.40625  Q 42.046875 3.421875 37.71875 1  Q 33.40625 -1.421875 27.6875 -1.421875  Q 18.265625 -1.421875 13.375 4.4375  Q 8.5 10.296875 8.5 21.578125  z M 31.109375 56  z \" id=\"DejaVuSans-75\"/>\n",
       "      <path d=\"M 9.421875 75.984375  L 18.40625 75.984375  L 18.40625 0  L 9.421875 0  z \" id=\"DejaVuSans-6c\"/>\n",
       "      <path d=\"M 34.28125 27.484375  Q 23.390625 27.484375 19.1875 25  Q 14.984375 22.515625 14.984375 16.5  Q 14.984375 11.71875 18.140625 8.90625  Q 21.296875 6.109375 26.703125 6.109375  Q 34.1875 6.109375 38.703125 11.40625  Q 43.21875 16.703125 43.21875 25.484375  L 43.21875 27.484375  z M 52.203125 31.203125  L 52.203125 0  L 43.21875 0  L 43.21875 8.296875  Q 40.140625 3.328125 35.546875 0.953125  Q 30.953125 -1.421875 24.3125 -1.421875  Q 15.921875 -1.421875 10.953125 3.296875  Q 6 8.015625 6 15.921875  Q 6 25.140625 12.171875 29.828125  Q 18.359375 34.515625 30.609375 34.515625  L 43.21875 34.515625  L 43.21875 35.40625  Q 43.21875 41.609375 39.140625 45  Q 35.0625 48.390625 27.6875 48.390625  Q 23 48.390625 18.546875 47.265625  Q 14.109375 46.140625 10.015625 43.890625  L 10.015625 52.203125  Q 14.9375 54.109375 19.578125 55.046875  Q 24.21875 56 28.609375 56  Q 40.484375 56 46.34375 49.84375  Q 52.203125 43.703125 52.203125 31.203125  z \" id=\"DejaVuSans-61\"/>\n",
       "      <path d=\"M 30.609375 48.390625  Q 23.390625 48.390625 19.1875 42.75  Q 14.984375 37.109375 14.984375 27.296875  Q 14.984375 17.484375 19.15625 11.84375  Q 23.34375 6.203125 30.609375 6.203125  Q 37.796875 6.203125 41.984375 11.859375  Q 46.1875 17.53125 46.1875 27.296875  Q 46.1875 37.015625 41.984375 42.703125  Q 37.796875 48.390625 30.609375 48.390625  z M 30.609375 56  Q 42.328125 56 49.015625 48.375  Q 55.71875 40.765625 55.71875 27.296875  Q 55.71875 13.875 49.015625 6.21875  Q 42.328125 -1.421875 30.609375 -1.421875  Q 18.84375 -1.421875 12.171875 6.21875  Q 5.515625 13.875 5.515625 27.296875  Q 5.515625 40.765625 12.171875 48.375  Q 18.84375 56 30.609375 56  z \" id=\"DejaVuSans-6f\"/>\n",
       "      <path d=\"M 54.890625 33.015625  L 54.890625 0  L 45.90625 0  L 45.90625 32.71875  Q 45.90625 40.484375 42.875 44.328125  Q 39.84375 48.1875 33.796875 48.1875  Q 26.515625 48.1875 22.3125 43.546875  Q 18.109375 38.921875 18.109375 30.90625  L 18.109375 0  L 9.078125 0  L 9.078125 54.6875  L 18.109375 54.6875  L 18.109375 46.1875  Q 21.34375 51.125 25.703125 53.5625  Q 30.078125 56 35.796875 56  Q 45.21875 56 50.046875 50.171875  Q 54.890625 44.34375 54.890625 33.015625  z \" id=\"DejaVuSans-6e\"/>\n",
       "      <path id=\"DejaVuSans-20\"/>\n",
       "      <path d=\"M 37.109375 75.984375  L 37.109375 68.5  L 28.515625 68.5  Q 23.6875 68.5 21.796875 66.546875  Q 19.921875 64.59375 19.921875 59.515625  L 19.921875 54.6875  L 34.71875 54.6875  L 34.71875 47.703125  L 19.921875 47.703125  L 19.921875 0  L 10.890625 0  L 10.890625 47.703125  L 2.296875 47.703125  L 2.296875 54.6875  L 10.890625 54.6875  L 10.890625 58.5  Q 10.890625 67.625 15.140625 71.796875  Q 19.390625 75.984375 28.609375 75.984375  z \" id=\"DejaVuSans-66\"/>\n",
       "      <path d=\"M 41.109375 46.296875  Q 39.59375 47.171875 37.8125 47.578125  Q 36.03125 48 33.890625 48  Q 26.265625 48 22.1875 43.046875  Q 18.109375 38.09375 18.109375 28.8125  L 18.109375 0  L 9.078125 0  L 9.078125 54.6875  L 18.109375 54.6875  L 18.109375 46.1875  Q 20.953125 51.171875 25.484375 53.578125  Q 30.03125 56 36.53125 56  Q 37.453125 56 38.578125 55.875  Q 39.703125 55.765625 41.0625 55.515625  z \" id=\"DejaVuSans-72\"/>\n",
       "      <path d=\"M 56.203125 29.59375  L 56.203125 25.203125  L 14.890625 25.203125  Q 15.484375 15.921875 20.484375 11.0625  Q 25.484375 6.203125 34.421875 6.203125  Q 39.59375 6.203125 44.453125 7.46875  Q 49.3125 8.734375 54.109375 11.28125  L 54.109375 2.78125  Q 49.265625 0.734375 44.1875 -0.34375  Q 39.109375 -1.421875 33.890625 -1.421875  Q 20.796875 -1.421875 13.15625 6.1875  Q 5.515625 13.8125 5.515625 26.8125  Q 5.515625 40.234375 12.765625 48.109375  Q 20.015625 56 32.328125 56  Q 43.359375 56 49.78125 48.890625  Q 56.203125 41.796875 56.203125 29.59375  z M 47.21875 32.234375  Q 47.125 39.59375 43.09375 43.984375  Q 39.0625 48.390625 32.421875 48.390625  Q 24.90625 48.390625 20.390625 44.140625  Q 15.875 39.890625 15.1875 32.171875  z \" id=\"DejaVuSans-65\"/>\n",
       "      <path d=\"M 14.796875 27.296875  Q 14.796875 17.390625 18.875 11.75  Q 22.953125 6.109375 30.078125 6.109375  Q 37.203125 6.109375 41.296875 11.75  Q 45.40625 17.390625 45.40625 27.296875  Q 45.40625 37.203125 41.296875 42.84375  Q 37.203125 48.484375 30.078125 48.484375  Q 22.953125 48.484375 18.875 42.84375  Q 14.796875 37.203125 14.796875 27.296875  z M 45.40625 8.203125  Q 42.578125 3.328125 38.25 0.953125  Q 33.9375 -1.421875 27.875 -1.421875  Q 17.96875 -1.421875 11.734375 6.484375  Q 5.515625 14.40625 5.515625 27.296875  Q 5.515625 40.1875 11.734375 48.09375  Q 17.96875 56 27.875 56  Q 33.9375 56 38.25 53.625  Q 42.578125 51.265625 45.40625 46.390625  L 45.40625 54.6875  L 54.390625 54.6875  L 54.390625 -20.796875  L 45.40625 -20.796875  z \" id=\"DejaVuSans-71\"/>\n",
       "      <path d=\"M 48.78125 52.59375  L 48.78125 44.1875  Q 44.96875 46.296875 41.140625 47.34375  Q 37.3125 48.390625 33.40625 48.390625  Q 24.65625 48.390625 19.8125 42.84375  Q 14.984375 37.3125 14.984375 27.296875  Q 14.984375 17.28125 19.8125 11.734375  Q 24.65625 6.203125 33.40625 6.203125  Q 37.3125 6.203125 41.140625 7.25  Q 44.96875 8.296875 48.78125 10.40625  L 48.78125 2.09375  Q 45.015625 0.34375 40.984375 -0.53125  Q 36.96875 -1.421875 32.421875 -1.421875  Q 20.0625 -1.421875 12.78125 6.34375  Q 5.515625 14.109375 5.515625 27.296875  Q 5.515625 40.671875 12.859375 48.328125  Q 20.21875 56 33.015625 56  Q 37.15625 56 41.109375 55.140625  Q 45.0625 54.296875 48.78125 52.59375  z \" id=\"DejaVuSans-63\"/>\n",
       "      <path d=\"M 32.171875 -5.078125  Q 28.375 -14.84375 24.75 -17.8125  Q 21.140625 -20.796875 15.09375 -20.796875  L 7.90625 -20.796875  L 7.90625 -13.28125  L 13.1875 -13.28125  Q 16.890625 -13.28125 18.9375 -11.515625  Q 21 -9.765625 23.484375 -3.21875  L 25.09375 0.875  L 2.984375 54.6875  L 12.5 54.6875  L 29.59375 11.921875  L 46.6875 54.6875  L 56.203125 54.6875  z \" id=\"DejaVuSans-79\"/>\n",
       "      <path d=\"M 11.71875 12.40625  L 22.015625 12.40625  L 22.015625 4  L 14.015625 -11.625  L 7.71875 -11.625  L 11.71875 4  z \" id=\"DejaVuSans-2c\"/>\n",
       "      <path d=\"M 9.8125 72.90625  L 19.671875 72.90625  L 19.671875 43.015625  L 55.515625 43.015625  L 55.515625 72.90625  L 65.375 72.90625  L 65.375 0  L 55.515625 0  L 55.515625 34.71875  L 19.671875 34.71875  L 19.671875 0  L 9.8125 0  z \" id=\"DejaVuSans-48\"/>\n",
       "      <path d=\"M 5.515625 54.6875  L 48.1875 54.6875  L 48.1875 46.484375  L 14.40625 7.171875  L 48.1875 7.171875  L 48.1875 0  L 4.296875 0  L 4.296875 8.203125  L 38.09375 47.515625  L 5.515625 47.515625  z \" id=\"DejaVuSans-7a\"/>\n",
       "     </defs>\n",
       "     <g transform=\"translate(46.3375 152.776563)scale(0.1 -0.1)\">\n",
       "      <use xlink:href=\"#DejaVuSans-73\"/>\n",
       "      <use x=\"52.099609\" xlink:href=\"#DejaVuSans-74\"/>\n",
       "      <use x=\"91.308594\" xlink:href=\"#DejaVuSans-69\"/>\n",
       "      <use x=\"119.091797\" xlink:href=\"#DejaVuSans-6d\"/>\n",
       "      <use x=\"216.503906\" xlink:href=\"#DejaVuSans-75\"/>\n",
       "      <use x=\"279.882812\" xlink:href=\"#DejaVuSans-6c\"/>\n",
       "      <use x=\"307.666016\" xlink:href=\"#DejaVuSans-61\"/>\n",
       "      <use x=\"368.945312\" xlink:href=\"#DejaVuSans-74\"/>\n",
       "      <use x=\"408.154297\" xlink:href=\"#DejaVuSans-69\"/>\n",
       "      <use x=\"435.9375\" xlink:href=\"#DejaVuSans-6f\"/>\n",
       "      <use x=\"497.119141\" xlink:href=\"#DejaVuSans-6e\"/>\n",
       "      <use x=\"560.498047\" xlink:href=\"#DejaVuSans-20\"/>\n",
       "      <use x=\"592.285156\" xlink:href=\"#DejaVuSans-66\"/>\n",
       "      <use x=\"627.490234\" xlink:href=\"#DejaVuSans-72\"/>\n",
       "      <use x=\"668.572266\" xlink:href=\"#DejaVuSans-65\"/>\n",
       "      <use x=\"730.095703\" xlink:href=\"#DejaVuSans-71\"/>\n",
       "      <use x=\"793.572266\" xlink:href=\"#DejaVuSans-75\"/>\n",
       "      <use x=\"856.951172\" xlink:href=\"#DejaVuSans-65\"/>\n",
       "      <use x=\"918.474609\" xlink:href=\"#DejaVuSans-6e\"/>\n",
       "      <use x=\"981.853516\" xlink:href=\"#DejaVuSans-63\"/>\n",
       "      <use x=\"1036.833984\" xlink:href=\"#DejaVuSans-79\"/>\n",
       "      <use x=\"1096.013672\" xlink:href=\"#DejaVuSans-2c\"/>\n",
       "      <use x=\"1127.800781\" xlink:href=\"#DejaVuSans-20\"/>\n",
       "      <use x=\"1159.587891\" xlink:href=\"#DejaVuSans-48\"/>\n",
       "      <use x=\"1234.783203\" xlink:href=\"#DejaVuSans-7a\"/>\n",
       "     </g>\n",
       "    </g>\n",
       "   </g>\n",
       "   <g id=\"matplotlib.axis_2\">\n",
       "    <g id=\"ytick_1\">\n",
       "     <g id=\"line2d_6\">\n",
       "      <defs>\n",
       "       <path d=\"M 0 0  L -2 0  \" id=\"m778716b047\" style=\"stroke:#000000;stroke-width:0.8;\"/>\n",
       "      </defs>\n",
       "      <g>\n",
       "       <use style=\"stroke:#000000;stroke-width:0.8;\" x=\"22\" xlink:href=\"#m778716b047\" y=\"84.60008\"/>\n",
       "      </g>\n",
       "     </g>\n",
       "     <g id=\"text_7\">\n",
       "      <!-- 0.10 -->\n",
       "      <g transform=\"translate(-5.765625 88.399298)scale(0.1 -0.1)\">\n",
       "       <use xlink:href=\"#DejaVuSans-30\"/>\n",
       "       <use x=\"63.623047\" xlink:href=\"#DejaVuSans-2e\"/>\n",
       "       <use x=\"95.410156\" xlink:href=\"#DejaVuSans-31\"/>\n",
       "       <use x=\"159.033203\" xlink:href=\"#DejaVuSans-30\"/>\n",
       "      </g>\n",
       "     </g>\n",
       "    </g>\n",
       "    <g id=\"ytick_2\">\n",
       "     <g id=\"line2d_7\">\n",
       "      <g>\n",
       "       <use style=\"stroke:#000000;stroke-width:0.8;\" x=\"22\" xlink:href=\"#m778716b047\" y=\"41.254281\"/>\n",
       "      </g>\n",
       "     </g>\n",
       "     <g id=\"text_8\">\n",
       "      <!-- 0.15 -->\n",
       "      <defs>\n",
       "       <path d=\"M 10.796875 72.90625  L 49.515625 72.90625  L 49.515625 64.59375  L 19.828125 64.59375  L 19.828125 46.734375  Q 21.96875 47.46875 24.109375 47.828125  Q 26.265625 48.1875 28.421875 48.1875  Q 40.625 48.1875 47.75 41.5  Q 54.890625 34.8125 54.890625 23.390625  Q 54.890625 11.625 47.5625 5.09375  Q 40.234375 -1.421875 26.90625 -1.421875  Q 22.3125 -1.421875 17.546875 -0.640625  Q 12.796875 0.140625 7.71875 1.703125  L 7.71875 11.625  Q 12.109375 9.234375 16.796875 8.0625  Q 21.484375 6.890625 26.703125 6.890625  Q 35.15625 6.890625 40.078125 11.328125  Q 45.015625 15.765625 45.015625 23.390625  Q 45.015625 31 40.078125 35.4375  Q 35.15625 39.890625 26.703125 39.890625  Q 22.75 39.890625 18.8125 39.015625  Q 14.890625 38.140625 10.796875 36.28125  z \" id=\"DejaVuSans-35\"/>\n",
       "      </defs>\n",
       "      <g transform=\"translate(-5.765625 45.053499)scale(0.1 -0.1)\">\n",
       "       <use xlink:href=\"#DejaVuSans-30\"/>\n",
       "       <use x=\"63.623047\" xlink:href=\"#DejaVuSans-2e\"/>\n",
       "       <use x=\"95.410156\" xlink:href=\"#DejaVuSans-31\"/>\n",
       "       <use x=\"159.033203\" xlink:href=\"#DejaVuSans-35\"/>\n",
       "      </g>\n",
       "     </g>\n",
       "    </g>\n",
       "    <g id=\"text_9\">\n",
       "     <!-- phase locking index -->\n",
       "     <defs>\n",
       "      <path d=\"M 18.109375 8.203125  L 18.109375 -20.796875  L 9.078125 -20.796875  L 9.078125 54.6875  L 18.109375 54.6875  L 18.109375 46.390625  Q 20.953125 51.265625 25.265625 53.625  Q 29.59375 56 35.59375 56  Q 45.5625 56 51.78125 48.09375  Q 58.015625 40.1875 58.015625 27.296875  Q 58.015625 14.40625 51.78125 6.484375  Q 45.5625 -1.421875 35.59375 -1.421875  Q 29.59375 -1.421875 25.265625 0.953125  Q 20.953125 3.328125 18.109375 8.203125  z M 48.6875 27.296875  Q 48.6875 37.203125 44.609375 42.84375  Q 40.53125 48.484375 33.40625 48.484375  Q 26.265625 48.484375 22.1875 42.84375  Q 18.109375 37.203125 18.109375 27.296875  Q 18.109375 17.390625 22.1875 11.75  Q 26.265625 6.109375 33.40625 6.109375  Q 40.53125 6.109375 44.609375 11.75  Q 48.6875 17.390625 48.6875 27.296875  z \" id=\"DejaVuSans-70\"/>\n",
       "      <path d=\"M 54.890625 33.015625  L 54.890625 0  L 45.90625 0  L 45.90625 32.71875  Q 45.90625 40.484375 42.875 44.328125  Q 39.84375 48.1875 33.796875 48.1875  Q 26.515625 48.1875 22.3125 43.546875  Q 18.109375 38.921875 18.109375 30.90625  L 18.109375 0  L 9.078125 0  L 9.078125 75.984375  L 18.109375 75.984375  L 18.109375 46.1875  Q 21.34375 51.125 25.703125 53.5625  Q 30.078125 56 35.796875 56  Q 45.21875 56 50.046875 50.171875  Q 54.890625 44.34375 54.890625 33.015625  z \" id=\"DejaVuSans-68\"/>\n",
       "      <path d=\"M 9.078125 75.984375  L 18.109375 75.984375  L 18.109375 31.109375  L 44.921875 54.6875  L 56.390625 54.6875  L 27.390625 29.109375  L 57.625 0  L 45.90625 0  L 18.109375 26.703125  L 18.109375 0  L 9.078125 0  z \" id=\"DejaVuSans-6b\"/>\n",
       "      <path d=\"M 45.40625 27.984375  Q 45.40625 37.75 41.375 43.109375  Q 37.359375 48.484375 30.078125 48.484375  Q 22.859375 48.484375 18.828125 43.109375  Q 14.796875 37.75 14.796875 27.984375  Q 14.796875 18.265625 18.828125 12.890625  Q 22.859375 7.515625 30.078125 7.515625  Q 37.359375 7.515625 41.375 12.890625  Q 45.40625 18.265625 45.40625 27.984375  z M 54.390625 6.78125  Q 54.390625 -7.171875 48.1875 -13.984375  Q 42 -20.796875 29.203125 -20.796875  Q 24.46875 -20.796875 20.265625 -20.09375  Q 16.0625 -19.390625 12.109375 -17.921875  L 12.109375 -9.1875  Q 16.0625 -11.328125 19.921875 -12.34375  Q 23.78125 -13.375 27.78125 -13.375  Q 36.625 -13.375 41.015625 -8.765625  Q 45.40625 -4.15625 45.40625 5.171875  L 45.40625 9.625  Q 42.625 4.78125 38.28125 2.390625  Q 33.9375 0 27.875 0  Q 17.828125 0 11.671875 7.65625  Q 5.515625 15.328125 5.515625 27.984375  Q 5.515625 40.671875 11.671875 48.328125  Q 17.828125 56 27.875 56  Q 33.9375 56 38.28125 53.609375  Q 42.625 51.21875 45.40625 46.390625  L 45.40625 54.6875  L 54.390625 54.6875  z \" id=\"DejaVuSans-67\"/>\n",
       "      <path d=\"M 45.40625 46.390625  L 45.40625 75.984375  L 54.390625 75.984375  L 54.390625 0  L 45.40625 0  L 45.40625 8.203125  Q 42.578125 3.328125 38.25 0.953125  Q 33.9375 -1.421875 27.875 -1.421875  Q 17.96875 -1.421875 11.734375 6.484375  Q 5.515625 14.40625 5.515625 27.296875  Q 5.515625 40.1875 11.734375 48.09375  Q 17.96875 56 27.875 56  Q 33.9375 56 38.25 53.625  Q 42.578125 51.265625 45.40625 46.390625  z M 14.796875 27.296875  Q 14.796875 17.390625 18.875 11.75  Q 22.953125 6.109375 30.078125 6.109375  Q 37.203125 6.109375 41.296875 11.75  Q 45.40625 17.390625 45.40625 27.296875  Q 45.40625 37.203125 41.296875 42.84375  Q 37.203125 48.484375 30.078125 48.484375  Q 22.953125 48.484375 18.875 42.84375  Q 14.796875 37.203125 14.796875 27.296875  z \" id=\"DejaVuSans-64\"/>\n",
       "      <path d=\"M 54.890625 54.6875  L 35.109375 28.078125  L 55.90625 0  L 45.3125 0  L 29.390625 21.484375  L 13.484375 0  L 2.875 0  L 24.125 28.609375  L 4.6875 54.6875  L 15.28125 54.6875  L 29.78125 35.203125  L 44.28125 54.6875  z \" id=\"DejaVuSans-78\"/>\n",
       "     </defs>\n",
       "     <g transform=\"translate(-11.845313 121.498594)rotate(-90)scale(0.1 -0.1)\">\n",
       "      <use xlink:href=\"#DejaVuSans-70\"/>\n",
       "      <use x=\"63.476562\" xlink:href=\"#DejaVuSans-68\"/>\n",
       "      <use x=\"126.855469\" xlink:href=\"#DejaVuSans-61\"/>\n",
       "      <use x=\"188.134766\" xlink:href=\"#DejaVuSans-73\"/>\n",
       "      <use x=\"240.234375\" xlink:href=\"#DejaVuSans-65\"/>\n",
       "      <use x=\"301.757812\" xlink:href=\"#DejaVuSans-20\"/>\n",
       "      <use x=\"333.544922\" xlink:href=\"#DejaVuSans-6c\"/>\n",
       "      <use x=\"361.328125\" xlink:href=\"#DejaVuSans-6f\"/>\n",
       "      <use x=\"422.509766\" xlink:href=\"#DejaVuSans-63\"/>\n",
       "      <use x=\"477.490234\" xlink:href=\"#DejaVuSans-6b\"/>\n",
       "      <use x=\"535.400391\" xlink:href=\"#DejaVuSans-69\"/>\n",
       "      <use x=\"563.183594\" xlink:href=\"#DejaVuSans-6e\"/>\n",
       "      <use x=\"626.5625\" xlink:href=\"#DejaVuSans-67\"/>\n",
       "      <use x=\"690.039062\" xlink:href=\"#DejaVuSans-20\"/>\n",
       "      <use x=\"721.826172\" xlink:href=\"#DejaVuSans-69\"/>\n",
       "      <use x=\"749.609375\" xlink:href=\"#DejaVuSans-6e\"/>\n",
       "      <use x=\"812.988281\" xlink:href=\"#DejaVuSans-64\"/>\n",
       "      <use x=\"876.464844\" xlink:href=\"#DejaVuSans-65\"/>\n",
       "      <use x=\"937.972656\" xlink:href=\"#DejaVuSans-78\"/>\n",
       "     </g>\n",
       "    </g>\n",
       "   </g>\n",
       "   <g id=\"line2d_8\">\n",
       "    <defs>\n",
       "     <path d=\"M 0 3  C 0.795609 3 1.55874 2.683901 2.12132 2.12132  C 2.683901 1.55874 3 0.795609 3 0  C 3 -0.795609 2.683901 -1.55874 2.12132 -2.12132  C 1.55874 -2.683901 0.795609 -3 0 -3  C -0.795609 -3 -1.55874 -2.683901 -2.12132 -2.12132  C -2.683901 -1.55874 -3 -0.795609 -3 0  C -3 0.795609 -2.683901 1.55874 -2.12132 2.12132  C -1.55874 2.683901 -0.795609 3 0 3  z \" id=\"m72d1b57323\" style=\"stroke:#000000;\"/>\n",
       "    </defs>\n",
       "    <g>\n",
       "     <use style=\"stroke:#000000;\" x=\"34.609091\" xlink:href=\"#m72d1b57323\" y=\"85.653916\"/>\n",
       "     <use style=\"stroke:#000000;\" x=\"49.827273\" xlink:href=\"#m72d1b57323\" y=\"110.726095\"/>\n",
       "     <use style=\"stroke:#000000;\" x=\"65.045455\" xlink:href=\"#m72d1b57323\" y=\"48.016871\"/>\n",
       "     <use style=\"stroke:#000000;\" x=\"80.263636\" xlink:href=\"#m72d1b57323\" y=\"121.058182\"/>\n",
       "     <use style=\"stroke:#000000;\" x=\"95.481818\" xlink:href=\"#m72d1b57323\" y=\"106.120157\"/>\n",
       "     <use style=\"stroke:#000000;\" x=\"110.7\" xlink:href=\"#m72d1b57323\" y=\"57.493439\"/>\n",
       "     <use style=\"stroke:#000000;\" x=\"125.918182\" xlink:href=\"#m72d1b57323\" y=\"63.533819\"/>\n",
       "     <use style=\"stroke:#000000;\" x=\"141.136364\" xlink:href=\"#m72d1b57323\" y=\"41.709484\"/>\n",
       "     <use style=\"stroke:#000000;\" x=\"156.354545\" xlink:href=\"#m72d1b57323\" y=\"58.04389\"/>\n",
       "     <use style=\"stroke:#000000;\" x=\"171.572727\" xlink:href=\"#m72d1b57323\" y=\"22.221818\"/>\n",
       "     <use style=\"stroke:#000000;\" x=\"186.790909\" xlink:href=\"#m72d1b57323\" y=\"34.635191\"/>\n",
       "    </g>\n",
       "   </g>\n",
       "   <g id=\"patch_3\">\n",
       "    <path d=\"M 22 126  L 22 17.28  \" style=\"fill:none;stroke:#000000;stroke-linecap:square;stroke-linejoin:miter;stroke-width:0.8;\"/>\n",
       "   </g>\n",
       "   <g id=\"patch_4\">\n",
       "    <path d=\"M 27 126  L 194.4 126  \" style=\"fill:none;stroke:#000000;stroke-linecap:square;stroke-linejoin:miter;stroke-width:0.8;\"/>\n",
       "   </g>\n",
       "   <g id=\"text_10\">\n",
       "    <!-- 1 -->\n",
       "    <g transform=\"translate(32.064091 96.732666)scale(0.08 -0.08)\">\n",
       "     <use xlink:href=\"#DejaVuSans-31\"/>\n",
       "    </g>\n",
       "   </g>\n",
       "   <g id=\"text_11\">\n",
       "    <!-- 2 -->\n",
       "    <g transform=\"translate(77.718636 132.136932)scale(0.08 -0.08)\">\n",
       "     <use xlink:href=\"#DejaVuSans-32\"/>\n",
       "    </g>\n",
       "   </g>\n",
       "   <g id=\"text_12\">\n",
       "    <!-- 3 -->\n",
       "    <defs>\n",
       "     <path d=\"M 40.578125 39.3125  Q 47.65625 37.796875 51.625 33  Q 55.609375 28.21875 55.609375 21.1875  Q 55.609375 10.40625 48.1875 4.484375  Q 40.765625 -1.421875 27.09375 -1.421875  Q 22.515625 -1.421875 17.65625 -0.515625  Q 12.796875 0.390625 7.625 2.203125  L 7.625 11.71875  Q 11.71875 9.328125 16.59375 8.109375  Q 21.484375 6.890625 26.8125 6.890625  Q 36.078125 6.890625 40.9375 10.546875  Q 45.796875 14.203125 45.796875 21.1875  Q 45.796875 27.640625 41.28125 31.265625  Q 36.765625 34.90625 28.71875 34.90625  L 20.21875 34.90625  L 20.21875 43.015625  L 29.109375 43.015625  Q 36.375 43.015625 40.234375 45.921875  Q 44.09375 48.828125 44.09375 54.296875  Q 44.09375 59.90625 40.109375 62.90625  Q 36.140625 65.921875 28.71875 65.921875  Q 24.65625 65.921875 20.015625 65.03125  Q 15.375 64.15625 9.8125 62.3125  L 9.8125 71.09375  Q 15.4375 72.65625 20.34375 73.4375  Q 25.25 74.21875 29.59375 74.21875  Q 40.828125 74.21875 47.359375 69.109375  Q 53.90625 64.015625 53.90625 55.328125  Q 53.90625 49.265625 50.4375 45.09375  Q 46.96875 40.921875 40.578125 39.3125  z \" id=\"DejaVuSans-33\"/>\n",
       "    </defs>\n",
       "    <g transform=\"translate(169.027727 33.300568)scale(0.08 -0.08)\">\n",
       "     <use xlink:href=\"#DejaVuSans-33\"/>\n",
       "    </g>\n",
       "   </g>\n",
       "  </g>\n",
       " </g>\n",
       "</g>\n",
       "    </g>\n",
       "    <g transform=\"translate(0, 30) scale(1) \">\n",
       "      <text fill=\"black\" font-family=\"Verdana\" font-size=\"14\" font-weight=\"normal\" letter-spacing=\"0\" text-anchor=\"start\" x=\"0\" y=\"-10\">A</text>\n",
       "      <g transform=\"translate(0, 0) scale(0.6) \"><defs id=\"defs3494\">\n",
       "    <clipPath id=\"p7d9d16f1c5\">\n",
       "      <rect height=\"32.823528\" id=\"rect4490\" width=\"167.39999\" x=\"27\" y=\"14.4\"/>\n",
       "    </clipPath>\n",
       "    <clipPath id=\"clipPath4511\">\n",
       "      <rect height=\"32.823528\" id=\"rect4513\" width=\"167.39999\" x=\"27\" y=\"14.4\"/>\n",
       "    </clipPath>\n",
       "    <clipPath id=\"p2a16f51d2b\">\n",
       "      <rect height=\"32.823528\" id=\"rect4487\" width=\"167.39999\" x=\"27\" y=\"53.788235\"/>\n",
       "    </clipPath>\n",
       "    <clipPath id=\"clipPath4517\">\n",
       "      <rect height=\"32.823528\" id=\"rect4519\" width=\"167.39999\" x=\"27\" y=\"53.788235\"/>\n",
       "    </clipPath>\n",
       "    <clipPath id=\"pfe89fe5b43\">\n",
       "      <rect height=\"32.823528\" id=\"rect4493\" width=\"167.39999\" x=\"27\" y=\"93.176468\"/>\n",
       "    </clipPath>\n",
       "    <clipPath id=\"clipPath4523\">\n",
       "      <rect height=\"32.823528\" id=\"rect4525\" width=\"167.39999\" x=\"27\" y=\"93.176468\"/>\n",
       "    </clipPath>\n",
       "    <clipPath id=\"clipPath4527\">\n",
       "      <rect height=\"32.823528\" id=\"rect4529\" width=\"167.39999\" x=\"27\" y=\"93.176468\"/>\n",
       "    </clipPath>\n",
       "  </defs>\n",
       "  <sodipodi:namedview bordercolor=\"#666666\" borderopacity=\"1.0\" fit-margin-bottom=\"0\" fit-margin-left=\"0\" fit-margin-right=\"0\" fit-margin-top=\"0\" id=\"base\" inkscape:current-layer=\"g4794\" inkscape:cx=\"-187.05853\" inkscape:cy=\"146.6184\" inkscape:document-units=\"px\" inkscape:pageopacity=\"0.0\" inkscape:pageshadow=\"2\" inkscape:window-height=\"1050\" inkscape:window-maximized=\"1\" inkscape:window-width=\"1920\" inkscape:window-x=\"0\" inkscape:window-y=\"30\" inkscape:zoom=\"1.6401174\" pagecolor=\"#ffffff\" showgrid=\"false\" xmlns:inkscape=\"http://www.inkscape.org/namespaces/inkscape\" xmlns:sodipodi=\"http://sodipodi.sourceforge.net/DTD/sodipodi-0.dtd\"/>\n",
       "  <metadata id=\"metadata3497\" xmlns:cc=\"http://creativecommons.org/ns#\" xmlns:dc=\"http://purl.org/dc/elements/1.1/\" xmlns:rdf=\"http://www.w3.org/1999/02/22-rdf-syntax-ns#\">\n",
       "    <rdf:RDF>\n",
       "      <cc:Work rdf:about=\"\">\n",
       "        <dc:format>image/svg+xml</dc:format>\n",
       "        <dc:type rdf:resource=\"http://purl.org/dc/dcmitype/StillImage\"/>\n",
       "        <dc:title/>\n",
       "      </cc:Work>\n",
       "    </rdf:RDF>\n",
       "  </metadata>\n",
       "  <g id=\"layer1\" inkscape:groupmode=\"layer\" inkscape:label=\"Layer 1\" transform=\"translate(-252.46187,-418.8063)\" xmlns:inkscape=\"http://www.inkscape.org/namespaces/inkscape\" xmlns:sodipodi=\"http://sodipodi.sourceforge.net/DTD/sodipodi-0.dtd\">\n",
       "    <g id=\"g4794\">\n",
       "      <path d=\"m 379.0558,509.2843 c 0,3.90087 -3.16228,7.06315 -7.06315,7.06315 -3.90088,0 -7.06316,-3.16228 -7.06316,-7.06315 0,-3.90087 3.16228,-7.06315 7.06316,-7.06315 3.90087,0 7.06315,3.16228 7.06315,7.06315 z\" id=\"path3500\" sodipodi:cx=\"371.99265\" sodipodi:cy=\"509.2843\" sodipodi:rx=\"7.0631514\" sodipodi:ry=\"7.0631514\" sodipodi:type=\"arc\" style=\"fill:#bfbf00;fill-opacity:1;stroke:#ffffff;stroke-width:0.5;stroke-linecap:round;stroke-miterlimit:4;stroke-opacity:1;stroke-dasharray:none;stroke-dashoffset:0\"/>\n",
       "      <path d=\"m 379.0558,509.2843 c 0,3.90087 -3.16228,7.06315 -7.06315,7.06315 -3.90088,0 -7.06316,-3.16228 -7.06316,-7.06315 0,-3.90087 3.16228,-7.06315 7.06316,-7.06315 3.90087,0 7.06315,3.16228 7.06315,7.06315 z\" id=\"path3504\" sodipodi:cx=\"371.99265\" sodipodi:cy=\"509.2843\" sodipodi:rx=\"7.0631514\" sodipodi:ry=\"7.0631514\" sodipodi:type=\"arc\" style=\"fill:#008000;fill-opacity:1;stroke:#ffffff;stroke-width:0.5;stroke-linecap:round;stroke-miterlimit:4;stroke-opacity:1;stroke-dasharray:none;stroke-dashoffset:0\" transform=\"translate(-112.22563,0)\"/>\n",
       "      <g id=\"g4303\" transform=\"matrix(0.45161112,0.19440443,-0.19440443,0.45161112,308.43143,200.96276)\">\n",
       "        <path d=\"M 374.73942,490.25305 408.22785,342.35293\" id=\"path3506\" inkscape:connector-curvature=\"0\" sodipodi:nodetypes=\"cc\" style=\"fill:none;stroke:#000000;stroke-width:2.03385806px;stroke-linecap:butt;stroke-linejoin:miter;stroke-opacity:1\"/>\n",
       "        <path d=\"M 378.50086,490.67911 424.57388,346.83183\" id=\"path3508\" inkscape:connector-curvature=\"0\" sodipodi:nodetypes=\"cc\" style=\"fill:none;stroke:#000000;stroke-width:2.03385806px;stroke-linecap:butt;stroke-linejoin:miter;stroke-opacity:1\"/>\n",
       "      </g>\n",
       "      <text id=\"text3510\" sodipodi:linespacing=\"125%\" style=\"font-size:10px;font-style:normal;font-variant:normal;font-weight:normal;font-stretch:normal;text-align:center;line-height:125%;letter-spacing:0px;word-spacing:0px;text-anchor:middle;fill:#000000;fill-opacity:1;stroke:none;font-family:Arial;-inkscape-font-specification:Arial\" x=\"437.17224\" xml:space=\"preserve\" y=\"429.72672\"><tspan id=\"tspan3512\" sodipodi:role=\"line\" style=\"font-size:15px\" x=\"437.17224\" y=\"429.72672\">Stim</tspan></text>\n",
       "      <path d=\"m 319.64174,460.24805 0,106.54724\" id=\"path3514\" inkscape:connector-curvature=\"0\" sodipodi:nodetypes=\"cc\" style=\"fill:none;stroke:#000000;stroke-width:1;stroke-linecap:butt;stroke-linejoin:miter;stroke-miterlimit:4;stroke-opacity:1;stroke-dasharray:3, 3;stroke-dashoffset:0\"/>\n",
       "      <g id=\"layer1-3\" transform=\"matrix(-0.18355554,0,0,0.18355554,336.28011,432.15483)\">\n",
       "        <g id=\"g2634\" transform=\"matrix(0.72973,0,0,0.72973,344.4851,-241.2349)\">\n",
       "          <path d=\"m -359.125,443.12 -9.91406,6.04687 -29.53125,-15.36719 c -11.01564,-4.82804 -16.52345,-10.8046 -16.52344,-17.92968 -10e-6,-3.79679 1.40624,-9.00772 4.21875,-11.63282 2.85936,-2.62489 6.30467,-3.93739 10.33594,-3.9375 5.76559,1.1e-4 10.82809,1.94542 15.1875,5.83594 4.31245,3.89072 6.4687,8.41415 6.46875,13.57031 -5e-5,0.37509 -0.0938,1.66415 -0.28125,3.86719 l -0.0703,1.61719 c -0.0938,1.03133 -0.14067,1.80476 -0.14062,2.32031 -5e-5,3.37507 2.67183,6.28132 8.01562,8.71875 0.93745,0.46882 1.85151,0.961 2.74219,1.47656 l 9.49219,5.41407\" id=\"path2594\" inkscape:connector-curvature=\"0\" style=\"font-size:144px;font-style:normal;font-variant:normal;font-weight:normal;font-stretch:normal;text-align:start;line-height:125%;writing-mode:lr-tb;text-anchor:start;fill:#000000;fill-opacity:1;stroke:none;font-family:Wingdings\"/>\n",
       "          <path d=\"m -373.60938,456.33875 72.04772,-44.13969 c 1.35924,-0.1874 6.10416,-2.25592 11.76629,-3.24341 6.37243,-1.11137 12.37335,-1.17931 18.70162,1.39872 l -84.44531,49.00781 c -2.62507,1.54692 -4.42976,2.50786 -5.41407,2.88282 l -1.54687,0.5625 c -4.03131,1.50004 -6.04693,4.19534 -6.04688,8.08593 l 0,0.63282 0.14063,1.75781 0.21094,3.44531 c 0.32806,6.37502 -3.11724,12.56252 -10.33594,18.5625 -7.21879,6.04688 -14.81253,9.07031 -22.78125,9.07031 -4.03127,0 -7.33595,-1.00781 -9.91406,-3.02343 -2.57814,-2.0625 -7.8672,-8.66406 -7.86719,-11.80469 -10e-6,-4.07811 4.0078,-8.62498 12.02344,-13.64063 0,0 33.55463,-18.89839 33.46093,-19.55468\" id=\"path2592\" inkscape:connector-curvature=\"0\" style=\"font-size:144px;font-style:normal;font-variant:normal;font-weight:normal;font-stretch:normal;text-align:start;line-height:125%;writing-mode:lr-tb;text-anchor:start;fill:#000000;fill-opacity:1;stroke:none;font-family:Wingdings\"/>\n",
       "          <path d=\"m -350.75781,460.76843 10.82812,-6.46875 68.83594,39.51563 c -5.76577,2.34376 -8.31142,2.03455 -13.56128,2.03454 -2.10951,10e-6 -8.82618,0.7999 -13.73202,-1.05619 l -52.37076,-34.02523\" id=\"path2590\" inkscape:connector-curvature=\"0\" style=\"font-size:144px;font-style:normal;font-variant:normal;font-weight:normal;font-stretch:normal;text-align:start;line-height:125%;writing-mode:lr-tb;text-anchor:start;fill:#000000;fill-opacity:1;stroke:none;font-family:Wingdings\"/>\n",
       "          <path d=\"m -400.56434,424.27176 3.00813,1.47337 c 2.70115,1.2688 4.89073,1.90317 6.56876,1.9031 3.27412,7e-5 4.9112,-2.29184 4.91123,-6.87572 -3e-5,-3.35592 -1.51433,-6.4459 -4.54289,-9.26994 -3.02861,-2.82386 -6.36415,-4.23584 -10.00662,-4.23593 -2.16914,9e-5 -4.05178,0.75724 -5.64791,2.27144 -1.55523,1.51438 -2.33285,3.31516 -2.33283,5.40235 -2e-5,3.47886 2.68069,6.5893 8.04213,9.33133\" id=\"path2588\" inkscape:connector-curvature=\"0\" style=\"font-size:144px;font-style:normal;font-variant:normal;font-weight:normal;font-stretch:normal;text-align:start;line-height:125%;writing-mode:lr-tb;text-anchor:start;fill:#ffffff;fill-opacity:1;stroke:none;font-family:Wingdings\"/>\n",
       "          <path d=\"m -404.83566,482.55627 c -4.92189,3.09377 -5.90175,6.28277 -5.90173,8.57963 -2e-5,1.87501 0.74998,3.28126 2.25,4.21875 1.49998,0.93751 3.74998,1.40626 6.75,1.40625 6.18747,1e-5 12.25778,-2.41405 18.21094,-7.24219 5.95307,-4.82811 8.92963,-9.74998 8.92968,-14.76562 -5e-5,-3.37497 -4.93247,-4.56878 -7.88554,-4.56881\" id=\"path2586\" inkscape:connector-curvature=\"0\" style=\"font-size:144px;font-style:normal;font-variant:normal;font-weight:normal;font-stretch:normal;text-align:start;line-height:125%;writing-mode:lr-tb;text-anchor:start;fill:#ffffff;fill-opacity:1;stroke:none;font-family:Wingdings\"/>\n",
       "          <path d=\"m -355.60938,455.63562 c 2.29681,5e-5 3.44524,-1.10151 3.44532,-3.30469 -8e-5,-2.20307 -1.14851,-3.30463 -3.44532,-3.30468 -2.25006,5e-5 -3.37506,1.10161 -3.375,3.30468 -6e-5,2.20318 1.12494,3.30474 3.375,3.30469\" id=\"path2584\" inkscape:connector-curvature=\"0\" style=\"font-size:144px;font-style:normal;font-variant:normal;font-weight:normal;font-stretch:normal;text-align:start;line-height:125%;writing-mode:lr-tb;text-anchor:start;fill:#000000;fill-opacity:1;stroke:none;font-family:Wingdings\"/>\n",
       "        </g>\n",
       "      </g>\n",
       "    </g>\n",
       "  </g>\n",
       "</g>\n",
       "    </g>\n",
       "    <g transform=\"translate(20, 160) scale(1) \">\n",
       "      <text fill=\"black\" font-family=\"Verdana\" font-size=\"14\" font-weight=\"normal\" letter-spacing=\"0\" text-anchor=\"start\" x=\"0\" y=\"0\">C</text>\n",
       "      <g><defs>\n",
       "  <style type=\"text/css\">\n",
       "*{stroke-linecap:butt;stroke-linejoin:round;}\n",
       "  </style>\n",
       " </defs>\n",
       " <g id=\"figure_1\">\n",
       "  <g id=\"patch_1\">\n",
       "   <path d=\"M 0 144  L 216 144  L 216 0  L 0 0  z \" style=\"fill:#ffffff;\"/>\n",
       "  </g>\n",
       "  <g id=\"axes_1\">\n",
       "   <g id=\"patch_2\">\n",
       "    <path d=\"M 27 126  L 194.4 126  L 194.4 17.28  L 27 17.28  z \" style=\"fill:#ffffff;\"/>\n",
       "   </g>\n",
       "   <g id=\"matplotlib.axis_1\">\n",
       "    <g id=\"xtick_1\">\n",
       "     <g id=\"line2d_1\">\n",
       "      <defs>\n",
       "       <path d=\"M 0 0  L 0 2  \" id=\"m0f0fc53235\" style=\"stroke:#000000;stroke-width:0.8;\"/>\n",
       "      </defs>\n",
       "      <g>\n",
       "       <use style=\"stroke:#000000;stroke-width:0.8;\" x=\"51.518182\" xlink:href=\"#m0f0fc53235\" y=\"126\"/>\n",
       "      </g>\n",
       "     </g>\n",
       "     <g id=\"text_1\">\n",
       "      <!-- 0.2 -->\n",
       "      <defs>\n",
       "       <path d=\"M 31.78125 66.40625  Q 24.171875 66.40625 20.328125 58.90625  Q 16.5 51.421875 16.5 36.375  Q 16.5 21.390625 20.328125 13.890625  Q 24.171875 6.390625 31.78125 6.390625  Q 39.453125 6.390625 43.28125 13.890625  Q 47.125 21.390625 47.125 36.375  Q 47.125 51.421875 43.28125 58.90625  Q 39.453125 66.40625 31.78125 66.40625  z M 31.78125 74.21875  Q 44.046875 74.21875 50.515625 64.515625  Q 56.984375 54.828125 56.984375 36.375  Q 56.984375 17.96875 50.515625 8.265625  Q 44.046875 -1.421875 31.78125 -1.421875  Q 19.53125 -1.421875 13.0625 8.265625  Q 6.59375 17.96875 6.59375 36.375  Q 6.59375 54.828125 13.0625 64.515625  Q 19.53125 74.21875 31.78125 74.21875  z \" id=\"DejaVuSans-30\"/>\n",
       "       <path d=\"M 10.6875 12.40625  L 21 12.40625  L 21 0  L 10.6875 0  z \" id=\"DejaVuSans-2e\"/>\n",
       "       <path d=\"M 19.1875 8.296875  L 53.609375 8.296875  L 53.609375 0  L 7.328125 0  L 7.328125 8.296875  Q 12.9375 14.109375 22.625 23.890625  Q 32.328125 33.6875 34.8125 36.53125  Q 39.546875 41.84375 41.421875 45.53125  Q 43.3125 49.21875 43.3125 52.78125  Q 43.3125 58.59375 39.234375 62.25  Q 35.15625 65.921875 28.609375 65.921875  Q 23.96875 65.921875 18.8125 64.3125  Q 13.671875 62.703125 7.8125 59.421875  L 7.8125 69.390625  Q 13.765625 71.78125 18.9375 73  Q 24.125 74.21875 28.421875 74.21875  Q 39.75 74.21875 46.484375 68.546875  Q 53.21875 62.890625 53.21875 53.421875  Q 53.21875 48.921875 51.53125 44.890625  Q 49.859375 40.875 45.40625 35.40625  Q 44.1875 33.984375 37.640625 27.21875  Q 31.109375 20.453125 19.1875 8.296875  z \" id=\"DejaVuSans-32\"/>\n",
       "      </defs>\n",
       "      <g transform=\"translate(43.566619 139.098437)scale(0.1 -0.1)\">\n",
       "       <use xlink:href=\"#DejaVuSans-30\"/>\n",
       "       <use x=\"63.623047\" xlink:href=\"#DejaVuSans-2e\"/>\n",
       "       <use x=\"95.410156\" xlink:href=\"#DejaVuSans-32\"/>\n",
       "      </g>\n",
       "     </g>\n",
       "    </g>\n",
       "    <g id=\"xtick_2\">\n",
       "     <g id=\"line2d_2\">\n",
       "      <g>\n",
       "       <use style=\"stroke:#000000;stroke-width:0.8;\" x=\"85.336364\" xlink:href=\"#m0f0fc53235\" y=\"126\"/>\n",
       "      </g>\n",
       "     </g>\n",
       "     <g id=\"text_2\">\n",
       "      <!-- 0.4 -->\n",
       "      <defs>\n",
       "       <path d=\"M 37.796875 64.3125  L 12.890625 25.390625  L 37.796875 25.390625  z M 35.203125 72.90625  L 47.609375 72.90625  L 47.609375 25.390625  L 58.015625 25.390625  L 58.015625 17.1875  L 47.609375 17.1875  L 47.609375 0  L 37.796875 0  L 37.796875 17.1875  L 4.890625 17.1875  L 4.890625 26.703125  z \" id=\"DejaVuSans-34\"/>\n",
       "      </defs>\n",
       "      <g transform=\"translate(77.384801 139.098437)scale(0.1 -0.1)\">\n",
       "       <use xlink:href=\"#DejaVuSans-30\"/>\n",
       "       <use x=\"63.623047\" xlink:href=\"#DejaVuSans-2e\"/>\n",
       "       <use x=\"95.410156\" xlink:href=\"#DejaVuSans-34\"/>\n",
       "      </g>\n",
       "     </g>\n",
       "    </g>\n",
       "    <g id=\"xtick_3\">\n",
       "     <g id=\"line2d_3\">\n",
       "      <g>\n",
       "       <use style=\"stroke:#000000;stroke-width:0.8;\" x=\"119.154545\" xlink:href=\"#m0f0fc53235\" y=\"126\"/>\n",
       "      </g>\n",
       "     </g>\n",
       "     <g id=\"text_3\">\n",
       "      <!-- 0.6 -->\n",
       "      <defs>\n",
       "       <path d=\"M 33.015625 40.375  Q 26.375 40.375 22.484375 35.828125  Q 18.609375 31.296875 18.609375 23.390625  Q 18.609375 15.53125 22.484375 10.953125  Q 26.375 6.390625 33.015625 6.390625  Q 39.65625 6.390625 43.53125 10.953125  Q 47.40625 15.53125 47.40625 23.390625  Q 47.40625 31.296875 43.53125 35.828125  Q 39.65625 40.375 33.015625 40.375  z M 52.59375 71.296875  L 52.59375 62.3125  Q 48.875 64.0625 45.09375 64.984375  Q 41.3125 65.921875 37.59375 65.921875  Q 27.828125 65.921875 22.671875 59.328125  Q 17.53125 52.734375 16.796875 39.40625  Q 19.671875 43.65625 24.015625 45.921875  Q 28.375 48.1875 33.59375 48.1875  Q 44.578125 48.1875 50.953125 41.515625  Q 57.328125 34.859375 57.328125 23.390625  Q 57.328125 12.15625 50.6875 5.359375  Q 44.046875 -1.421875 33.015625 -1.421875  Q 20.359375 -1.421875 13.671875 8.265625  Q 6.984375 17.96875 6.984375 36.375  Q 6.984375 53.65625 15.1875 63.9375  Q 23.390625 74.21875 37.203125 74.21875  Q 40.921875 74.21875 44.703125 73.484375  Q 48.484375 72.75 52.59375 71.296875  z \" id=\"DejaVuSans-36\"/>\n",
       "      </defs>\n",
       "      <g transform=\"translate(111.202983 139.098437)scale(0.1 -0.1)\">\n",
       "       <use xlink:href=\"#DejaVuSans-30\"/>\n",
       "       <use x=\"63.623047\" xlink:href=\"#DejaVuSans-2e\"/>\n",
       "       <use x=\"95.410156\" xlink:href=\"#DejaVuSans-36\"/>\n",
       "      </g>\n",
       "     </g>\n",
       "    </g>\n",
       "    <g id=\"xtick_4\">\n",
       "     <g id=\"line2d_4\">\n",
       "      <g>\n",
       "       <use style=\"stroke:#000000;stroke-width:0.8;\" x=\"152.972727\" xlink:href=\"#m0f0fc53235\" y=\"126\"/>\n",
       "      </g>\n",
       "     </g>\n",
       "     <g id=\"text_4\">\n",
       "      <!-- 0.8 -->\n",
       "      <defs>\n",
       "       <path d=\"M 31.78125 34.625  Q 24.75 34.625 20.71875 30.859375  Q 16.703125 27.09375 16.703125 20.515625  Q 16.703125 13.921875 20.71875 10.15625  Q 24.75 6.390625 31.78125 6.390625  Q 38.8125 6.390625 42.859375 10.171875  Q 46.921875 13.96875 46.921875 20.515625  Q 46.921875 27.09375 42.890625 30.859375  Q 38.875 34.625 31.78125 34.625  z M 21.921875 38.8125  Q 15.578125 40.375 12.03125 44.71875  Q 8.5 49.078125 8.5 55.328125  Q 8.5 64.0625 14.71875 69.140625  Q 20.953125 74.21875 31.78125 74.21875  Q 42.671875 74.21875 48.875 69.140625  Q 55.078125 64.0625 55.078125 55.328125  Q 55.078125 49.078125 51.53125 44.71875  Q 48 40.375 41.703125 38.8125  Q 48.828125 37.15625 52.796875 32.3125  Q 56.78125 27.484375 56.78125 20.515625  Q 56.78125 9.90625 50.3125 4.234375  Q 43.84375 -1.421875 31.78125 -1.421875  Q 19.734375 -1.421875 13.25 4.234375  Q 6.78125 9.90625 6.78125 20.515625  Q 6.78125 27.484375 10.78125 32.3125  Q 14.796875 37.15625 21.921875 38.8125  z M 18.3125 54.390625  Q 18.3125 48.734375 21.84375 45.5625  Q 25.390625 42.390625 31.78125 42.390625  Q 38.140625 42.390625 41.71875 45.5625  Q 45.3125 48.734375 45.3125 54.390625  Q 45.3125 60.0625 41.71875 63.234375  Q 38.140625 66.40625 31.78125 66.40625  Q 25.390625 66.40625 21.84375 63.234375  Q 18.3125 60.0625 18.3125 54.390625  z \" id=\"DejaVuSans-38\"/>\n",
       "      </defs>\n",
       "      <g transform=\"translate(145.021165 139.098437)scale(0.1 -0.1)\">\n",
       "       <use xlink:href=\"#DejaVuSans-30\"/>\n",
       "       <use x=\"63.623047\" xlink:href=\"#DejaVuSans-2e\"/>\n",
       "       <use x=\"95.410156\" xlink:href=\"#DejaVuSans-38\"/>\n",
       "      </g>\n",
       "     </g>\n",
       "    </g>\n",
       "    <g id=\"xtick_5\">\n",
       "     <g id=\"line2d_5\">\n",
       "      <g>\n",
       "       <use style=\"stroke:#000000;stroke-width:0.8;\" x=\"186.790909\" xlink:href=\"#m0f0fc53235\" y=\"126\"/>\n",
       "      </g>\n",
       "     </g>\n",
       "     <g id=\"text_5\">\n",
       "      <!-- 1.0 -->\n",
       "      <defs>\n",
       "       <path d=\"M 12.40625 8.296875  L 28.515625 8.296875  L 28.515625 63.921875  L 10.984375 60.40625  L 10.984375 69.390625  L 28.421875 72.90625  L 38.28125 72.90625  L 38.28125 8.296875  L 54.390625 8.296875  L 54.390625 0  L 12.40625 0  z \" id=\"DejaVuSans-31\"/>\n",
       "      </defs>\n",
       "      <g transform=\"translate(178.839347 139.098437)scale(0.1 -0.1)\">\n",
       "       <use xlink:href=\"#DejaVuSans-31\"/>\n",
       "       <use x=\"63.623047\" xlink:href=\"#DejaVuSans-2e\"/>\n",
       "       <use x=\"95.410156\" xlink:href=\"#DejaVuSans-30\"/>\n",
       "      </g>\n",
       "     </g>\n",
       "    </g>\n",
       "    <g id=\"text_6\">\n",
       "     <!-- stimulation frequency, Hz -->\n",
       "     <defs>\n",
       "      <path d=\"M 44.28125 53.078125  L 44.28125 44.578125  Q 40.484375 46.53125 36.375 47.5  Q 32.28125 48.484375 27.875 48.484375  Q 21.1875 48.484375 17.84375 46.4375  Q 14.5 44.390625 14.5 40.28125  Q 14.5 37.15625 16.890625 35.375  Q 19.28125 33.59375 26.515625 31.984375  L 29.59375 31.296875  Q 39.15625 29.25 43.1875 25.515625  Q 47.21875 21.78125 47.21875 15.09375  Q 47.21875 7.46875 41.1875 3.015625  Q 35.15625 -1.421875 24.609375 -1.421875  Q 20.21875 -1.421875 15.453125 -0.5625  Q 10.6875 0.296875 5.421875 2  L 5.421875 11.28125  Q 10.40625 8.6875 15.234375 7.390625  Q 20.0625 6.109375 24.8125 6.109375  Q 31.15625 6.109375 34.5625 8.28125  Q 37.984375 10.453125 37.984375 14.40625  Q 37.984375 18.0625 35.515625 20.015625  Q 33.0625 21.96875 24.703125 23.78125  L 21.578125 24.515625  Q 13.234375 26.265625 9.515625 29.90625  Q 5.8125 33.546875 5.8125 39.890625  Q 5.8125 47.609375 11.28125 51.796875  Q 16.75 56 26.8125 56  Q 31.78125 56 36.171875 55.265625  Q 40.578125 54.546875 44.28125 53.078125  z \" id=\"DejaVuSans-73\"/>\n",
       "      <path d=\"M 18.3125 70.21875  L 18.3125 54.6875  L 36.8125 54.6875  L 36.8125 47.703125  L 18.3125 47.703125  L 18.3125 18.015625  Q 18.3125 11.328125 20.140625 9.421875  Q 21.96875 7.515625 27.59375 7.515625  L 36.8125 7.515625  L 36.8125 0  L 27.59375 0  Q 17.1875 0 13.234375 3.875  Q 9.28125 7.765625 9.28125 18.015625  L 9.28125 47.703125  L 2.6875 47.703125  L 2.6875 54.6875  L 9.28125 54.6875  L 9.28125 70.21875  z \" id=\"DejaVuSans-74\"/>\n",
       "      <path d=\"M 9.421875 54.6875  L 18.40625 54.6875  L 18.40625 0  L 9.421875 0  z M 9.421875 75.984375  L 18.40625 75.984375  L 18.40625 64.59375  L 9.421875 64.59375  z \" id=\"DejaVuSans-69\"/>\n",
       "      <path d=\"M 52 44.1875  Q 55.375 50.25 60.0625 53.125  Q 64.75 56 71.09375 56  Q 79.640625 56 84.28125 50.015625  Q 88.921875 44.046875 88.921875 33.015625  L 88.921875 0  L 79.890625 0  L 79.890625 32.71875  Q 79.890625 40.578125 77.09375 44.375  Q 74.3125 48.1875 68.609375 48.1875  Q 61.625 48.1875 57.5625 43.546875  Q 53.515625 38.921875 53.515625 30.90625  L 53.515625 0  L 44.484375 0  L 44.484375 32.71875  Q 44.484375 40.625 41.703125 44.40625  Q 38.921875 48.1875 33.109375 48.1875  Q 26.21875 48.1875 22.15625 43.53125  Q 18.109375 38.875 18.109375 30.90625  L 18.109375 0  L 9.078125 0  L 9.078125 54.6875  L 18.109375 54.6875  L 18.109375 46.1875  Q 21.1875 51.21875 25.484375 53.609375  Q 29.78125 56 35.6875 56  Q 41.65625 56 45.828125 52.96875  Q 50 49.953125 52 44.1875  z \" id=\"DejaVuSans-6d\"/>\n",
       "      <path d=\"M 8.5 21.578125  L 8.5 54.6875  L 17.484375 54.6875  L 17.484375 21.921875  Q 17.484375 14.15625 20.5 10.265625  Q 23.53125 6.390625 29.59375 6.390625  Q 36.859375 6.390625 41.078125 11.03125  Q 45.3125 15.671875 45.3125 23.6875  L 45.3125 54.6875  L 54.296875 54.6875  L 54.296875 0  L 45.3125 0  L 45.3125 8.40625  Q 42.046875 3.421875 37.71875 1  Q 33.40625 -1.421875 27.6875 -1.421875  Q 18.265625 -1.421875 13.375 4.4375  Q 8.5 10.296875 8.5 21.578125  z M 31.109375 56  z \" id=\"DejaVuSans-75\"/>\n",
       "      <path d=\"M 9.421875 75.984375  L 18.40625 75.984375  L 18.40625 0  L 9.421875 0  z \" id=\"DejaVuSans-6c\"/>\n",
       "      <path d=\"M 34.28125 27.484375  Q 23.390625 27.484375 19.1875 25  Q 14.984375 22.515625 14.984375 16.5  Q 14.984375 11.71875 18.140625 8.90625  Q 21.296875 6.109375 26.703125 6.109375  Q 34.1875 6.109375 38.703125 11.40625  Q 43.21875 16.703125 43.21875 25.484375  L 43.21875 27.484375  z M 52.203125 31.203125  L 52.203125 0  L 43.21875 0  L 43.21875 8.296875  Q 40.140625 3.328125 35.546875 0.953125  Q 30.953125 -1.421875 24.3125 -1.421875  Q 15.921875 -1.421875 10.953125 3.296875  Q 6 8.015625 6 15.921875  Q 6 25.140625 12.171875 29.828125  Q 18.359375 34.515625 30.609375 34.515625  L 43.21875 34.515625  L 43.21875 35.40625  Q 43.21875 41.609375 39.140625 45  Q 35.0625 48.390625 27.6875 48.390625  Q 23 48.390625 18.546875 47.265625  Q 14.109375 46.140625 10.015625 43.890625  L 10.015625 52.203125  Q 14.9375 54.109375 19.578125 55.046875  Q 24.21875 56 28.609375 56  Q 40.484375 56 46.34375 49.84375  Q 52.203125 43.703125 52.203125 31.203125  z \" id=\"DejaVuSans-61\"/>\n",
       "      <path d=\"M 30.609375 48.390625  Q 23.390625 48.390625 19.1875 42.75  Q 14.984375 37.109375 14.984375 27.296875  Q 14.984375 17.484375 19.15625 11.84375  Q 23.34375 6.203125 30.609375 6.203125  Q 37.796875 6.203125 41.984375 11.859375  Q 46.1875 17.53125 46.1875 27.296875  Q 46.1875 37.015625 41.984375 42.703125  Q 37.796875 48.390625 30.609375 48.390625  z M 30.609375 56  Q 42.328125 56 49.015625 48.375  Q 55.71875 40.765625 55.71875 27.296875  Q 55.71875 13.875 49.015625 6.21875  Q 42.328125 -1.421875 30.609375 -1.421875  Q 18.84375 -1.421875 12.171875 6.21875  Q 5.515625 13.875 5.515625 27.296875  Q 5.515625 40.765625 12.171875 48.375  Q 18.84375 56 30.609375 56  z \" id=\"DejaVuSans-6f\"/>\n",
       "      <path d=\"M 54.890625 33.015625  L 54.890625 0  L 45.90625 0  L 45.90625 32.71875  Q 45.90625 40.484375 42.875 44.328125  Q 39.84375 48.1875 33.796875 48.1875  Q 26.515625 48.1875 22.3125 43.546875  Q 18.109375 38.921875 18.109375 30.90625  L 18.109375 0  L 9.078125 0  L 9.078125 54.6875  L 18.109375 54.6875  L 18.109375 46.1875  Q 21.34375 51.125 25.703125 53.5625  Q 30.078125 56 35.796875 56  Q 45.21875 56 50.046875 50.171875  Q 54.890625 44.34375 54.890625 33.015625  z \" id=\"DejaVuSans-6e\"/>\n",
       "      <path id=\"DejaVuSans-20\"/>\n",
       "      <path d=\"M 37.109375 75.984375  L 37.109375 68.5  L 28.515625 68.5  Q 23.6875 68.5 21.796875 66.546875  Q 19.921875 64.59375 19.921875 59.515625  L 19.921875 54.6875  L 34.71875 54.6875  L 34.71875 47.703125  L 19.921875 47.703125  L 19.921875 0  L 10.890625 0  L 10.890625 47.703125  L 2.296875 47.703125  L 2.296875 54.6875  L 10.890625 54.6875  L 10.890625 58.5  Q 10.890625 67.625 15.140625 71.796875  Q 19.390625 75.984375 28.609375 75.984375  z \" id=\"DejaVuSans-66\"/>\n",
       "      <path d=\"M 41.109375 46.296875  Q 39.59375 47.171875 37.8125 47.578125  Q 36.03125 48 33.890625 48  Q 26.265625 48 22.1875 43.046875  Q 18.109375 38.09375 18.109375 28.8125  L 18.109375 0  L 9.078125 0  L 9.078125 54.6875  L 18.109375 54.6875  L 18.109375 46.1875  Q 20.953125 51.171875 25.484375 53.578125  Q 30.03125 56 36.53125 56  Q 37.453125 56 38.578125 55.875  Q 39.703125 55.765625 41.0625 55.515625  z \" id=\"DejaVuSans-72\"/>\n",
       "      <path d=\"M 56.203125 29.59375  L 56.203125 25.203125  L 14.890625 25.203125  Q 15.484375 15.921875 20.484375 11.0625  Q 25.484375 6.203125 34.421875 6.203125  Q 39.59375 6.203125 44.453125 7.46875  Q 49.3125 8.734375 54.109375 11.28125  L 54.109375 2.78125  Q 49.265625 0.734375 44.1875 -0.34375  Q 39.109375 -1.421875 33.890625 -1.421875  Q 20.796875 -1.421875 13.15625 6.1875  Q 5.515625 13.8125 5.515625 26.8125  Q 5.515625 40.234375 12.765625 48.109375  Q 20.015625 56 32.328125 56  Q 43.359375 56 49.78125 48.890625  Q 56.203125 41.796875 56.203125 29.59375  z M 47.21875 32.234375  Q 47.125 39.59375 43.09375 43.984375  Q 39.0625 48.390625 32.421875 48.390625  Q 24.90625 48.390625 20.390625 44.140625  Q 15.875 39.890625 15.1875 32.171875  z \" id=\"DejaVuSans-65\"/>\n",
       "      <path d=\"M 14.796875 27.296875  Q 14.796875 17.390625 18.875 11.75  Q 22.953125 6.109375 30.078125 6.109375  Q 37.203125 6.109375 41.296875 11.75  Q 45.40625 17.390625 45.40625 27.296875  Q 45.40625 37.203125 41.296875 42.84375  Q 37.203125 48.484375 30.078125 48.484375  Q 22.953125 48.484375 18.875 42.84375  Q 14.796875 37.203125 14.796875 27.296875  z M 45.40625 8.203125  Q 42.578125 3.328125 38.25 0.953125  Q 33.9375 -1.421875 27.875 -1.421875  Q 17.96875 -1.421875 11.734375 6.484375  Q 5.515625 14.40625 5.515625 27.296875  Q 5.515625 40.1875 11.734375 48.09375  Q 17.96875 56 27.875 56  Q 33.9375 56 38.25 53.625  Q 42.578125 51.265625 45.40625 46.390625  L 45.40625 54.6875  L 54.390625 54.6875  L 54.390625 -20.796875  L 45.40625 -20.796875  z \" id=\"DejaVuSans-71\"/>\n",
       "      <path d=\"M 48.78125 52.59375  L 48.78125 44.1875  Q 44.96875 46.296875 41.140625 47.34375  Q 37.3125 48.390625 33.40625 48.390625  Q 24.65625 48.390625 19.8125 42.84375  Q 14.984375 37.3125 14.984375 27.296875  Q 14.984375 17.28125 19.8125 11.734375  Q 24.65625 6.203125 33.40625 6.203125  Q 37.3125 6.203125 41.140625 7.25  Q 44.96875 8.296875 48.78125 10.40625  L 48.78125 2.09375  Q 45.015625 0.34375 40.984375 -0.53125  Q 36.96875 -1.421875 32.421875 -1.421875  Q 20.0625 -1.421875 12.78125 6.34375  Q 5.515625 14.109375 5.515625 27.296875  Q 5.515625 40.671875 12.859375 48.328125  Q 20.21875 56 33.015625 56  Q 37.15625 56 41.109375 55.140625  Q 45.0625 54.296875 48.78125 52.59375  z \" id=\"DejaVuSans-63\"/>\n",
       "      <path d=\"M 32.171875 -5.078125  Q 28.375 -14.84375 24.75 -17.8125  Q 21.140625 -20.796875 15.09375 -20.796875  L 7.90625 -20.796875  L 7.90625 -13.28125  L 13.1875 -13.28125  Q 16.890625 -13.28125 18.9375 -11.515625  Q 21 -9.765625 23.484375 -3.21875  L 25.09375 0.875  L 2.984375 54.6875  L 12.5 54.6875  L 29.59375 11.921875  L 46.6875 54.6875  L 56.203125 54.6875  z \" id=\"DejaVuSans-79\"/>\n",
       "      <path d=\"M 11.71875 12.40625  L 22.015625 12.40625  L 22.015625 4  L 14.015625 -11.625  L 7.71875 -11.625  L 11.71875 4  z \" id=\"DejaVuSans-2c\"/>\n",
       "      <path d=\"M 9.8125 72.90625  L 19.671875 72.90625  L 19.671875 43.015625  L 55.515625 43.015625  L 55.515625 72.90625  L 65.375 72.90625  L 65.375 0  L 55.515625 0  L 55.515625 34.71875  L 19.671875 34.71875  L 19.671875 0  L 9.8125 0  z \" id=\"DejaVuSans-48\"/>\n",
       "      <path d=\"M 5.515625 54.6875  L 48.1875 54.6875  L 48.1875 46.484375  L 14.40625 7.171875  L 48.1875 7.171875  L 48.1875 0  L 4.296875 0  L 4.296875 8.203125  L 38.09375 47.515625  L 5.515625 47.515625  z \" id=\"DejaVuSans-7a\"/>\n",
       "     </defs>\n",
       "     <g transform=\"translate(46.3375 152.776563)scale(0.1 -0.1)\">\n",
       "      <use xlink:href=\"#DejaVuSans-73\"/>\n",
       "      <use x=\"52.099609\" xlink:href=\"#DejaVuSans-74\"/>\n",
       "      <use x=\"91.308594\" xlink:href=\"#DejaVuSans-69\"/>\n",
       "      <use x=\"119.091797\" xlink:href=\"#DejaVuSans-6d\"/>\n",
       "      <use x=\"216.503906\" xlink:href=\"#DejaVuSans-75\"/>\n",
       "      <use x=\"279.882812\" xlink:href=\"#DejaVuSans-6c\"/>\n",
       "      <use x=\"307.666016\" xlink:href=\"#DejaVuSans-61\"/>\n",
       "      <use x=\"368.945312\" xlink:href=\"#DejaVuSans-74\"/>\n",
       "      <use x=\"408.154297\" xlink:href=\"#DejaVuSans-69\"/>\n",
       "      <use x=\"435.9375\" xlink:href=\"#DejaVuSans-6f\"/>\n",
       "      <use x=\"497.119141\" xlink:href=\"#DejaVuSans-6e\"/>\n",
       "      <use x=\"560.498047\" xlink:href=\"#DejaVuSans-20\"/>\n",
       "      <use x=\"592.285156\" xlink:href=\"#DejaVuSans-66\"/>\n",
       "      <use x=\"627.490234\" xlink:href=\"#DejaVuSans-72\"/>\n",
       "      <use x=\"668.572266\" xlink:href=\"#DejaVuSans-65\"/>\n",
       "      <use x=\"730.095703\" xlink:href=\"#DejaVuSans-71\"/>\n",
       "      <use x=\"793.572266\" xlink:href=\"#DejaVuSans-75\"/>\n",
       "      <use x=\"856.951172\" xlink:href=\"#DejaVuSans-65\"/>\n",
       "      <use x=\"918.474609\" xlink:href=\"#DejaVuSans-6e\"/>\n",
       "      <use x=\"981.853516\" xlink:href=\"#DejaVuSans-63\"/>\n",
       "      <use x=\"1036.833984\" xlink:href=\"#DejaVuSans-79\"/>\n",
       "      <use x=\"1096.013672\" xlink:href=\"#DejaVuSans-2c\"/>\n",
       "      <use x=\"1127.800781\" xlink:href=\"#DejaVuSans-20\"/>\n",
       "      <use x=\"1159.587891\" xlink:href=\"#DejaVuSans-48\"/>\n",
       "      <use x=\"1234.783203\" xlink:href=\"#DejaVuSans-7a\"/>\n",
       "     </g>\n",
       "    </g>\n",
       "   </g>\n",
       "   <g id=\"matplotlib.axis_2\">\n",
       "    <g id=\"ytick_1\">\n",
       "     <g id=\"line2d_6\">\n",
       "      <defs>\n",
       "       <path d=\"M 0 0  L -2 0  \" id=\"m98e21851a4\" style=\"stroke:#000000;stroke-width:0.8;\"/>\n",
       "      </defs>\n",
       "      <g>\n",
       "       <use style=\"stroke:#000000;stroke-width:0.8;\" x=\"27\" xlink:href=\"#m98e21851a4\" y=\"110.076364\"/>\n",
       "      </g>\n",
       "     </g>\n",
       "     <g id=\"text_7\">\n",
       "      <!-- 0.2 -->\n",
       "      <g transform=\"translate(5.596875 113.875582)scale(0.1 -0.1)\">\n",
       "       <use xlink:href=\"#DejaVuSans-30\"/>\n",
       "       <use x=\"63.623047\" xlink:href=\"#DejaVuSans-2e\"/>\n",
       "       <use x=\"95.410156\" xlink:href=\"#DejaVuSans-32\"/>\n",
       "      </g>\n",
       "     </g>\n",
       "    </g>\n",
       "    <g id=\"ytick_2\">\n",
       "     <g id=\"line2d_7\">\n",
       "      <g>\n",
       "       <use style=\"stroke:#000000;stroke-width:0.8;\" x=\"27\" xlink:href=\"#m98e21851a4\" y=\"88.112727\"/>\n",
       "      </g>\n",
       "     </g>\n",
       "     <g id=\"text_8\">\n",
       "      <!-- 0.4 -->\n",
       "      <g transform=\"translate(5.596875 91.911946)scale(0.1 -0.1)\">\n",
       "       <use xlink:href=\"#DejaVuSans-30\"/>\n",
       "       <use x=\"63.623047\" xlink:href=\"#DejaVuSans-2e\"/>\n",
       "       <use x=\"95.410156\" xlink:href=\"#DejaVuSans-34\"/>\n",
       "      </g>\n",
       "     </g>\n",
       "    </g>\n",
       "    <g id=\"ytick_3\">\n",
       "     <g id=\"line2d_8\">\n",
       "      <g>\n",
       "       <use style=\"stroke:#000000;stroke-width:0.8;\" x=\"27\" xlink:href=\"#m98e21851a4\" y=\"66.149091\"/>\n",
       "      </g>\n",
       "     </g>\n",
       "     <g id=\"text_9\">\n",
       "      <!-- 0.6 -->\n",
       "      <g transform=\"translate(5.596875 69.94831)scale(0.1 -0.1)\">\n",
       "       <use xlink:href=\"#DejaVuSans-30\"/>\n",
       "       <use x=\"63.623047\" xlink:href=\"#DejaVuSans-2e\"/>\n",
       "       <use x=\"95.410156\" xlink:href=\"#DejaVuSans-36\"/>\n",
       "      </g>\n",
       "     </g>\n",
       "    </g>\n",
       "    <g id=\"ytick_4\">\n",
       "     <g id=\"line2d_9\">\n",
       "      <g>\n",
       "       <use style=\"stroke:#000000;stroke-width:0.8;\" x=\"27\" xlink:href=\"#m98e21851a4\" y=\"44.185455\"/>\n",
       "      </g>\n",
       "     </g>\n",
       "     <g id=\"text_10\">\n",
       "      <!-- 0.8 -->\n",
       "      <g transform=\"translate(5.596875 47.984673)scale(0.1 -0.1)\">\n",
       "       <use xlink:href=\"#DejaVuSans-30\"/>\n",
       "       <use x=\"63.623047\" xlink:href=\"#DejaVuSans-2e\"/>\n",
       "       <use x=\"95.410156\" xlink:href=\"#DejaVuSans-38\"/>\n",
       "      </g>\n",
       "     </g>\n",
       "    </g>\n",
       "    <g id=\"ytick_5\">\n",
       "     <g id=\"line2d_10\">\n",
       "      <g>\n",
       "       <use style=\"stroke:#000000;stroke-width:0.8;\" x=\"27\" xlink:href=\"#m98e21851a4\" y=\"22.221818\"/>\n",
       "      </g>\n",
       "     </g>\n",
       "     <g id=\"text_11\">\n",
       "      <!-- 1.0 -->\n",
       "      <g transform=\"translate(5.596875 26.021037)scale(0.1 -0.1)\">\n",
       "       <use xlink:href=\"#DejaVuSans-31\"/>\n",
       "       <use x=\"63.623047\" xlink:href=\"#DejaVuSans-2e\"/>\n",
       "       <use x=\"95.410156\" xlink:href=\"#DejaVuSans-30\"/>\n",
       "      </g>\n",
       "     </g>\n",
       "    </g>\n",
       "    <g id=\"text_12\">\n",
       "     <!-- UP state frequency, Hz -->\n",
       "     <defs>\n",
       "      <path d=\"M 8.6875 72.90625  L 18.609375 72.90625  L 18.609375 28.609375  Q 18.609375 16.890625 22.84375 11.734375  Q 27.09375 6.59375 36.625 6.59375  Q 46.09375 6.59375 50.34375 11.734375  Q 54.59375 16.890625 54.59375 28.609375  L 54.59375 72.90625  L 64.5 72.90625  L 64.5 27.390625  Q 64.5 13.140625 57.4375 5.859375  Q 50.390625 -1.421875 36.625 -1.421875  Q 22.796875 -1.421875 15.734375 5.859375  Q 8.6875 13.140625 8.6875 27.390625  z \" id=\"DejaVuSans-55\"/>\n",
       "      <path d=\"M 19.671875 64.796875  L 19.671875 37.40625  L 32.078125 37.40625  Q 38.96875 37.40625 42.71875 40.96875  Q 46.484375 44.53125 46.484375 51.125  Q 46.484375 57.671875 42.71875 61.234375  Q 38.96875 64.796875 32.078125 64.796875  z M 9.8125 72.90625  L 32.078125 72.90625  Q 44.34375 72.90625 50.609375 67.359375  Q 56.890625 61.8125 56.890625 51.125  Q 56.890625 40.328125 50.609375 34.8125  Q 44.34375 29.296875 32.078125 29.296875  L 19.671875 29.296875  L 19.671875 0  L 9.8125 0  z \" id=\"DejaVuSans-50\"/>\n",
       "     </defs>\n",
       "     <g transform=\"translate(-0.482813 128.907969)rotate(-90)scale(0.1 -0.1)\">\n",
       "      <use xlink:href=\"#DejaVuSans-55\"/>\n",
       "      <use x=\"73.193359\" xlink:href=\"#DejaVuSans-50\"/>\n",
       "      <use x=\"133.496094\" xlink:href=\"#DejaVuSans-20\"/>\n",
       "      <use x=\"165.283203\" xlink:href=\"#DejaVuSans-73\"/>\n",
       "      <use x=\"217.382812\" xlink:href=\"#DejaVuSans-74\"/>\n",
       "      <use x=\"256.591797\" xlink:href=\"#DejaVuSans-61\"/>\n",
       "      <use x=\"317.871094\" xlink:href=\"#DejaVuSans-74\"/>\n",
       "      <use x=\"357.080078\" xlink:href=\"#DejaVuSans-65\"/>\n",
       "      <use x=\"418.603516\" xlink:href=\"#DejaVuSans-20\"/>\n",
       "      <use x=\"450.390625\" xlink:href=\"#DejaVuSans-66\"/>\n",
       "      <use x=\"485.595703\" xlink:href=\"#DejaVuSans-72\"/>\n",
       "      <use x=\"526.677734\" xlink:href=\"#DejaVuSans-65\"/>\n",
       "      <use x=\"588.201172\" xlink:href=\"#DejaVuSans-71\"/>\n",
       "      <use x=\"651.677734\" xlink:href=\"#DejaVuSans-75\"/>\n",
       "      <use x=\"715.056641\" xlink:href=\"#DejaVuSans-65\"/>\n",
       "      <use x=\"776.580078\" xlink:href=\"#DejaVuSans-6e\"/>\n",
       "      <use x=\"839.958984\" xlink:href=\"#DejaVuSans-63\"/>\n",
       "      <use x=\"894.939453\" xlink:href=\"#DejaVuSans-79\"/>\n",
       "      <use x=\"954.119141\" xlink:href=\"#DejaVuSans-2c\"/>\n",
       "      <use x=\"985.90625\" xlink:href=\"#DejaVuSans-20\"/>\n",
       "      <use x=\"1017.693359\" xlink:href=\"#DejaVuSans-48\"/>\n",
       "      <use x=\"1092.888672\" xlink:href=\"#DejaVuSans-7a\"/>\n",
       "     </g>\n",
       "    </g>\n",
       "   </g>\n",
       "   <g id=\"line2d_11\">\n",
       "    <path clip-path=\"url(#p60f4c5a035)\" d=\"M 34.609091 105.683636  L 49.827273 99.094545  L 65.045455 94.152727  L 80.263636 88.112727  L 95.481818 81.523636  L 110.7 74.934545  L 125.918182 65.050909  L 141.136364 56.265455  L 156.354545 46.381818  L 171.572727 37.596364  L 186.790909 28.261818  \" style=\"fill:none;stroke:#bfbf00;stroke-linecap:square;stroke-width:1.5;\"/>\n",
       "   </g>\n",
       "   <g id=\"line2d_12\">\n",
       "    <path clip-path=\"url(#p60f4c5a035)\" d=\"M 34.609091 106.232727  L 49.827273 111.174545  L 65.045455 113.92  L 80.263636 109.527273  L 95.481818 110.076364  L 110.7 114.469091  L 125.918182 109.527273  L 141.136364 114.469091  L 156.354545 110.076364  L 171.572727 113.92  L 186.790909 114.469091  \" style=\"fill:none;stroke:#008000;stroke-linecap:square;stroke-width:1.5;\"/>\n",
       "   </g>\n",
       "   <g id=\"line2d_13\">\n",
       "    <path clip-path=\"url(#p60f4c5a035)\" d=\"M 34.609091 121.058182  L 49.827273 111.174545  L 65.045455 101.290909  L 80.263636 91.407273  L 95.481818 81.523636  L 110.7 71.64  L 125.918182 61.756364  L 141.136364 51.872727  L 156.354545 41.989091  L 171.572727 32.105455  L 186.790909 22.221818  \" style=\"fill:none;stroke:#000000;stroke-dasharray:5.55,2.4;stroke-dashoffset:0;stroke-width:1.5;\"/>\n",
       "   </g>\n",
       "   <g id=\"patch_3\">\n",
       "    <path d=\"M 27 126  L 27 17.28  \" style=\"fill:none;stroke:#000000;stroke-linecap:square;stroke-linejoin:miter;stroke-width:0.8;\"/>\n",
       "   </g>\n",
       "   <g id=\"patch_4\">\n",
       "    <path d=\"M 27 126  L 194.4 126  \" style=\"fill:none;stroke:#000000;stroke-linecap:square;stroke-linejoin:miter;stroke-width:0.8;\"/>\n",
       "   </g>\n",
       "  </g>\n",
       " </g>\n",
       " <defs>\n",
       "  <clipPath id=\"p60f4c5a035\">\n",
       "   <rect height=\"108.72\" width=\"167.4\" x=\"27\" y=\"17.28\"/>\n",
       "  </clipPath>\n",
       " </defs>\n",
       "</g>\n",
       "    </g>\n",
       "  </g>\n",
       "</svg>"
      ],
      "text/plain": [
       "<IPython.core.display.SVG object>"
      ]
     },
     "metadata": {},
     "output_type": "display_data"
    }
   ],
   "source": [
    "svg = SVG(filename='figures/inverted_slices_composed.svg')\n",
    "display(svg)"
   ]
  },
  {
   "cell_type": "markdown",
   "metadata": {},
   "source": [
    "**Figure** Entrainment of the UP-DOWN oscillations to the periodic glutamate stimulation on both sides of the sectioned slice.  (**A**) Schematics of the stimulation protocol. In the model glutamate injection (Stim) is applied on the right side of the slice (green) triggering periodic UP states on both sides (yellow). (**B**) Sample traces of excitatory population rate (color coded, compare with (A)) on both sides of the slice at three stimulation frequencies (red line, see the numbers in (B) and (C) for the values of the frequencies). (**C**) The frequency of the UP states in both parts of the slice is shown as the function of stimulation frequency (color code same as in (A)).  Slice to the left of the cut frequency-locks to the stimulation by means of the electric-field (ephaptic) coupling. (**D**) The precision of the entrainment depends on the frequency of the glutamate injection (stimulation frequency) as quantified by the phase locking index (PLI). Larger PLI indicates stronger synchronisation. "
   ]
  },
  {
   "cell_type": "code",
   "execution_count": null,
   "metadata": {},
   "outputs": [],
   "source": []
  },
  {
   "cell_type": "code",
   "execution_count": null,
   "metadata": {},
   "outputs": [],
   "source": []
  }
 ],
 "metadata": {
  "kernelspec": {
   "display_name": "Python 3",
   "language": "python",
   "name": "python3"
  },
  "language_info": {
   "codemirror_mode": {
    "name": "ipython",
    "version": 3
   },
   "file_extension": ".py",
   "mimetype": "text/x-python",
   "name": "python",
   "nbconvert_exporter": "python",
   "pygments_lexer": "ipython3",
   "version": "3.6.3"
  },
  "toc": {
   "nav_menu": {},
   "number_sections": true,
   "sideBar": true,
   "skip_h1_title": false,
   "toc_cell": false,
   "toc_position": {},
   "toc_section_display": "block",
   "toc_window_display": false
  }
 },
 "nbformat": 4,
 "nbformat_minor": 2
}

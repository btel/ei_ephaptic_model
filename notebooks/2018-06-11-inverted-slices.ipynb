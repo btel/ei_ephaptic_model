{
 "cells": [
  {
   "cell_type": "markdown",
   "metadata": {},
   "source": [
    "copy of [2017-10-24-frequency-entrainement](2017-10-24-frequency-entrainement.ipynb)"
   ]
  },
  {
   "cell_type": "code",
   "execution_count": 1,
   "metadata": {},
   "outputs": [],
   "source": [
    "import sys\n",
    "sys.path.append('../libs/')"
   ]
  },
  {
   "cell_type": "code",
   "execution_count": 2,
   "metadata": {},
   "outputs": [],
   "source": [
    "import matplotlib.pyplot as plt\n",
    "%matplotlib inline\n",
    "from mean_field_model import *\n",
    "from scipy import signal\n",
    "from matplotlib import gridspec\n",
    "from matplotlib import transforms"
   ]
  },
  {
   "cell_type": "markdown",
   "metadata": {},
   "source": [
    "# Simulate a pair of coupled oscillators driven by stimulus"
   ]
  },
  {
   "cell_type": "code",
   "execution_count": 3,
   "metadata": {},
   "outputs": [],
   "source": [
    "uV = 1e-6 * V\n",
    "nV = 1e-9 * V"
   ]
  },
  {
   "cell_type": "code",
   "execution_count": 4,
   "metadata": {},
   "outputs": [],
   "source": [
    "tau_adapt = 800 * ms # adaptation time constant\n",
    "beta_adapt = 0.00005*mV / Hz # strength of adaptation (per firing rate of E population)\n",
    "gamma_ephaptic = -100 * uV / (6000*Hz) # ephaptic coupling coefficient\n",
    "dt = 1 * ms # integration time step\n",
    "tau_e = 10*ms # time constant of excitatory population\n",
    "tau_i = 5* ms # time constant of inhibitory population\n",
    "threshold_inh0 = -51 * mV # inhibitory threshold"
   ]
  },
  {
   "cell_type": "markdown",
   "metadata": {},
   "source": [
    "Define the system of three differential equations describing E population, I population and adaptation potential:\n",
    "\n",
    "$$\\tau_e\\frac{\\nu_e}{dt}=-\\nu_e+n_ef_e(\\nu_e+\\nu_{\\mathrm{ext}}, \\nu_i)  + \\sigma_{\\mathrm{e}}\\eta_t \\\\\n",
    "\\tau_i\\frac{\\nu_i}{dt}=-\\nu_i+ n_i f_i(\\nu_e+\\nu_{\\mathrm{ext}}, \\nu_i)+ \\sigma_{\\mathrm{i}}\\eta_t \\\\\n",
    "\\tau_{\\mathrm{adapt}}\\frac{dU_{\\mathrm{adapt}}}{dt}=-U_{\\mathrm{adapt}} + \\beta \\nu_{exc}$$\n"
   ]
  },
  {
   "cell_type": "code",
   "execution_count": 5,
   "metadata": {},
   "outputs": [],
   "source": [
    "def solve_ei_dynamics(f_ext, n_e, n_i, threshold_exc, threshold_inh, tau_e=1*s, tau_i=1*s):\n",
    "    def _update(rinh, rexc, ephaptic, theta_adapt, external):\n",
    "        fexc, finh = calc_output_rate_inh_exc(rexc + f_ext + external, rinh, n_e, n_i, \n",
    "                               threshold_exc + theta_adapt - ephaptic, threshold_inh)\n",
    "        rinh += (-rinh + finh) * dt / tau_i\n",
    "        rexc += (-rexc + fexc) * dt / tau_e\n",
    "        theta_adapt += (-(theta_adapt + 0.0 * mV) +  beta_adapt * rexc) * dt / tau_adapt\n",
    "        \n",
    "        return rinh, rexc, theta_adapt\n",
    "    return _update\n"
   ]
  },
  {
   "cell_type": "markdown",
   "metadata": {},
   "source": [
    "Simulate a pair of E/I populations coupled through the electric field. The coupling is between the excitatory firing rate of one population and membrane potential of the other."
   ]
  },
  {
   "cell_type": "code",
   "execution_count": 6,
   "metadata": {},
   "outputs": [],
   "source": [
    "f_ext0 = 1000. # external firing rate\n",
    "\n",
    "\n",
    "def single_trial(update_func, external_drive, noise_e, noise_i, tmax, gamma_ephaptic):\n",
    "\n",
    "\n",
    "    rexc = np.ones(2) * 100 * Hz\n",
    "    rinh = np.ones(2) * 100 * Hz\n",
    "    theta_adapt = np.zeros(2) * mV\n",
    "    t = 0\n",
    "    solution= []\n",
    "    while t < tmax:\n",
    "        rexc_old0, rexc_old1 = rexc[0], rexc[1]\n",
    "        rexc += np.random.randn(2) * noise_e\n",
    "        rinh += np.random.randn(2) * noise_i\n",
    "        rexc = np.maximum(rexc, 0)\n",
    "        rinh = np.maximum(rinh, 0)\n",
    "        rinh[0], rexc[0], theta_adapt[0] = update_func(rinh[0], \n",
    "                                                       rexc[0],\n",
    "                                                       0, #gamma_ephaptic * rexc_old1,\n",
    "                                                       theta_adapt[0],\n",
    "                                                       external_drive(t))\n",
    "        rinh[1], rexc[1], theta_adapt[1] = update_func(rinh[1],\n",
    "                                                       rexc[1],\n",
    "                                                       gamma_ephaptic * rexc_old0,\n",
    "                                                       theta_adapt[1],\n",
    "                                                       0)\n",
    "        \n",
    "\n",
    "\n",
    "        t += dt\n",
    "        solution.append((rexc, rinh, theta_adapt.copy()))\n",
    "    solution = np.array(solution)\n",
    "    return solution"
   ]
  },
  {
   "cell_type": "code",
   "execution_count": 7,
   "metadata": {},
   "outputs": [],
   "source": [
    "def square_wave(amplitude, period, duration, delay=0):\n",
    "    def _value(t):\n",
    "        return amplitude * (np.mod(t, period) < duration) * (t > delay)\n",
    "    return _value"
   ]
  },
  {
   "cell_type": "markdown",
   "metadata": {},
   "source": [
    "## Sample stimulation protocol"
   ]
  },
  {
   "cell_type": "markdown",
   "metadata": {},
   "source": [
    "To simulate the glutamate injections in the experimental protocol, in the mode we trigger UP states by depolarising excitatory population. This is repeated periodically with a given frequency. The duration of a single stimulation pulse is 0.35 s."
   ]
  },
  {
   "cell_type": "code",
   "execution_count": 8,
   "metadata": {},
   "outputs": [],
   "source": [
    "depolarisation_glutamate =  1000. * Hz\n",
    "glutamate_delay = 10.\n",
    "glutamate_frequency = 1. * Hz\n",
    "glutamate_duration = 0.35 * s\n",
    "glutamate_application = square_wave(depolarisation_glutamate,\n",
    "                                    1./glutamate_frequency,\n",
    "                                    glutamate_duration,\n",
    "                                    glutamate_delay)\n",
    "update_func = solve_ei_dynamics(f_ext0, n_e, n_i, threshold, threshold_inh0,  tau_e=tau_e, tau_i=tau_i)\n",
    "\n",
    "noise_e, noise_i = 2000 * Hz / s * np.sqrt(dt), 0\n",
    "tmax = 100 * s\n",
    "solution = single_trial(update_func, glutamate_application, noise_e, noise_i, tmax, gamma_ephaptic)"
   ]
  },
  {
   "cell_type": "code",
   "execution_count": 9,
   "metadata": {},
   "outputs": [
    {
     "data": {
      "text/plain": [
       "Text(0.5,0,'time, s')"
      ]
     },
     "execution_count": 9,
     "metadata": {},
     "output_type": "execute_result"
    },
    {
     "data": {
      "image/png": "[encoded data removed]",
      "text/plain": [
       "<matplotlib.figure.Figure at 0x7f629990a828>"
      ]
     },
     "metadata": {
      "needs_background": "light"
     },
     "output_type": "display_data"
    }
   ],
   "source": [
    "gs = gridspec.GridSpec(3,1, height_ratios=[2, 1, 1])\n",
    "ax1 = plt.subplot(gs[0])\n",
    "\n",
    "time = np.arange(solution.shape[0]) * dt\n",
    "glu_signal = glutamate_application(time)\n",
    "lines = plt.plot(time, solution[:, 0, 0], 'b')\n",
    "lines = plt.plot(time, solution[:, 1, 0], 'r')\n",
    "plt.plot(time, glu_signal / depolarisation_glutamate * solution[:, 0, 0].max(), 'k-')\n",
    "\n",
    "ax1.spines['top'].set_visible(False)\n",
    "ax1.spines['bottom'].set_visible(False)\n",
    "ax1.spines['right'].set_visible(False)\n",
    "ax1.xaxis.set_ticks_position('none')\n",
    "ax1.yaxis.set_ticks_position('left')\n",
    "ax1.yaxis.set_tick_params(length=2)\n",
    "plt.setp(ax1.xaxis.get_ticklabels(), visible=False)\n",
    "plt.ylabel('firing rate, Hz')\n",
    "\n",
    "ax2 = plt.subplot(gs[1], sharex=ax1)\n",
    "plt.plot(time, solution[:, 2, 0] / mV, '-r')\n",
    "plt.ylabel('adaptation, mV')\n",
    "plt.xlim(0, 20)\n",
    "ax2.spines['top'].set_visible(False)\n",
    "ax2.xaxis.set_ticks_position('bottom')\n",
    "ax2.yaxis.set_ticks_position('left')\n",
    "ax2.spines['right'].set_visible(False)\n",
    "ax2.spines['bottom'].set_position(('outward', 10))\n",
    "ax2.yaxis.set_tick_params(length=2)\n",
    "ax2.xaxis.set_tick_params(length=2)\n",
    "plt.xlabel('time, s')"
   ]
  },
  {
   "cell_type": "markdown",
   "metadata": {},
   "source": [
    "**Supplementary Figure** Top: The total population firing rates of the excitatory (blue) and inhibitory (red) together with the train of stimulations triggering UP states (black). Bottom: The trace of adaptation variable."
   ]
  },
  {
   "cell_type": "markdown",
   "metadata": {},
   "source": [
    "## Low-pass filter"
   ]
  },
  {
   "cell_type": "markdown",
   "metadata": {},
   "source": [
    "To obtain band-limited signals corresponding to the UP/DOWN oscillation frequency, we low-pass filter the population firing rates. We design an infinite impulse response filter (IIR) using SciPy methods with the frequency band of [0, 5] Hz (order 17). Next, we apply the filter both directions (forward and backward) using SciPy's `filtfilt` method."
   ]
  },
  {
   "cell_type": "code",
   "execution_count": 10,
   "metadata": {},
   "outputs": [],
   "source": [
    "n_subsamp = 10\n",
    "y = solution[::n_subsamp, 0, :].copy()\n",
    "time_subsamp = time[::n_subsamp]\n",
    "filter_order = 17\n",
    "cutoff_frequency = 5.\n",
    "sampling_frequency = 1 / (dt * n_subsamp)\n",
    "b, a = signal.iirfilter(filter_order,  cutoff_frequency * 2 / sampling_frequency, btype='lowpass')\n",
    "y_filtered = signal.filtfilt(b, a, y[:], axis=0)"
   ]
  },
  {
   "cell_type": "code",
   "execution_count": null,
   "metadata": {},
   "outputs": [],
   "source": []
  },
  {
   "cell_type": "code",
   "execution_count": 11,
   "metadata": {},
   "outputs": [
    {
     "data": {
      "text/plain": [
       "Text(0,0.5,'filter gain')"
      ]
     },
     "execution_count": 11,
     "metadata": {},
     "output_type": "execute_result"
    },
    {
     "data": {
      "image/png": "[encoded data removed]",
      "text/plain": [
       "<matplotlib.figure.Figure at 0x7f6297ae0b38>"
      ]
     },
     "metadata": {
      "needs_background": "light"
     },
     "output_type": "display_data"
    }
   ],
   "source": [
    "f, resp = signal.freqz(b, a)\n",
    "plt.plot(f / (2 * np.pi) * sampling_frequency, np.abs(resp), lw=2)\n",
    "plt.axvline(cutoff_frequency, ls='--', color='k')\n",
    "plt.xlabel('frequency, Hz')\n",
    "plt.ylabel('filter gain')"
   ]
  },
  {
   "cell_type": "markdown",
   "metadata": {},
   "source": [
    "**Supplementary Figure** Frequency response of the designed IIR filter. Dashed line shows the cutoff frequency"
   ]
  },
  {
   "cell_type": "code",
   "execution_count": 12,
   "metadata": {},
   "outputs": [
    {
     "data": {
      "text/plain": [
       "Text(0.5,0,'time, s')"
      ]
     },
     "execution_count": 12,
     "metadata": {},
     "output_type": "execute_result"
    },
    {
     "data": {
      "image/png": "[encoded data removed]",
      "text/plain": [
       "<matplotlib.figure.Figure at 0x7f6297b0dbe0>"
      ]
     },
     "metadata": {
      "needs_background": "light"
     },
     "output_type": "display_data"
    }
   ],
   "source": [
    "tsel = (time_subsamp > 18) & (time_subsamp < (20. * s))\n",
    "ax1 = plt.subplot(211)\n",
    "plt.plot(time_subsamp[tsel], y[tsel, 0], 'r-', lw=0.5)\n",
    "plt.plot(time_subsamp[tsel], y_filtered[tsel, 0], 'r', lw=2)\n",
    "plt.plot(time_subsamp[tsel], y[tsel, 0], 'b-', lw=0.5)\n",
    "\n",
    "ax1.spines['left'].set_visible(False)\n",
    "ax1.spines['top'].set_visible(False)\n",
    "ax1.spines['bottom'].set_visible(False)\n",
    "ax1.spines['right'].set_visible(False)\n",
    "ax1.xaxis.set_ticks_position('none')\n",
    "ax1.yaxis.set_ticks_position('none')\n",
    "plt.setp(ax1.xaxis.get_ticklabels(), visible=False)\n",
    "plt.setp(ax1.yaxis.get_ticklabels(), visible=False)\n",
    "\n",
    "ax2 = plt.subplot(212, sharex=ax1, sharey=ax1)\n",
    "plt.plot(time_subsamp[tsel], y_filtered[tsel, 1], 'r', lw=2)\n",
    "plt.plot(time_subsamp[tsel], y[tsel, 1], 'b-', lw=0.5)\n",
    "ax2.spines['left'].set_visible(False)\n",
    "ax2.spines['top'].set_visible(False)\n",
    "ax2.spines['bottom'].set_position(('outward', 10))\n",
    "ax2.spines['right'].set_visible(False)\n",
    "ax2.xaxis.set_ticks_position('bottom')\n",
    "ax2.yaxis.set_ticks_position('none')\n",
    "ax2.xaxis.set_tick_params(length=2)\n",
    "plt.setp(ax2.yaxis.get_ticklabels(), visible=False)\n",
    "\n",
    "trans = transforms.blended_transform_factory(ax2.transAxes, ax2.transData)\n",
    "plt.plot([-0.02, -0.02], [6000, 8000], 'k-', transform=trans, clip_on=False)\n",
    "plt.text(-0.0, 7000, '2000 $s^{-1}$', ha='left', va='center', transform=trans)\n",
    "plt.xlabel('time, s')"
   ]
  },
  {
   "cell_type": "markdown",
   "metadata": {},
   "source": [
    "**Supplementary Figure** Filtered population rates (thick red) superimposed on the raw population rates (thin blue) for two excitatory populations."
   ]
  },
  {
   "cell_type": "markdown",
   "metadata": {},
   "source": [
    "## Detect UP states"
   ]
  },
  {
   "cell_type": "markdown",
   "metadata": {},
   "source": [
    "We detected the UP states by identifying points at which the excitatory population rate exceeds a threshold (equal to the standard deviation of the rate). These points correspond to DOWN-to-UP transitions."
   ]
  },
  {
   "cell_type": "code",
   "execution_count": 13,
   "metadata": {},
   "outputs": [
    {
     "data": {
      "text/plain": [
       "[<matplotlib.lines.Line2D at 0x7f629971a358>]"
      ]
     },
     "execution_count": 13,
     "metadata": {},
     "output_type": "execute_result"
    },
    {
     "data": {
      "image/png": "[encoded data removed]",
      "text/plain": [
       "<matplotlib.figure.Figure at 0x7f629971ac50>"
      ]
     },
     "metadata": {
      "needs_background": "light"
     },
     "output_type": "display_data"
    }
   ],
   "source": [
    "y_signal = y_filtered[:, 1]\n",
    "y_std = np.std(y_signal)\n",
    "n, x = np.histogram(y_signal, 100)\n",
    "plt.axvline(y_std, ls='--', color='k')\n",
    "plt.plot(x[:-1], n)"
   ]
  },
  {
   "cell_type": "code",
   "execution_count": 14,
   "metadata": {},
   "outputs": [
    {
     "data": {
      "text/plain": [
       "(0, 60)"
      ]
     },
     "execution_count": 14,
     "metadata": {},
     "output_type": "execute_result"
    },
    {
     "data": {
      "image/png": "[encoded data removed]",
      "text/plain": [
       "<matplotlib.figure.Figure at 0x7f6297af9be0>"
      ]
     },
     "metadata": {
      "needs_background": "light"
     },
     "output_type": "display_data"
    }
   ],
   "source": [
    "detection_threshold = y_std\n",
    "upstates = (y_signal > detection_threshold).astype(int)\n",
    "plt.plot(time_subsamp, upstates, 'g')\n",
    "plt.ylim(-0.1, 1.1)\n",
    "plt.twinx()\n",
    "plt.plot(time_subsamp, y_signal, 'r', lw=2)\n",
    "plt.axhline(detection_threshold, color='k', ls='--')\n",
    "plt.xlim(0, 60)"
   ]
  },
  {
   "cell_type": "code",
   "execution_count": 15,
   "metadata": {},
   "outputs": [
    {
     "data": {
      "text/plain": [
       "(10000,)"
      ]
     },
     "execution_count": 15,
     "metadata": {},
     "output_type": "execute_result"
    }
   ],
   "source": [
    "upstates.shape"
   ]
  },
  {
   "cell_type": "code",
   "execution_count": 16,
   "metadata": {},
   "outputs": [
    {
     "name": "stdout",
     "output_type": "stream",
     "text": [
      "19 0.1900190019\n"
     ]
    },
    {
     "data": {
      "image/png": "[encoded data removed]",
      "text/plain": [
       "<matplotlib.figure.Figure at 0x7f629965c470>"
      ]
     },
     "metadata": {
      "needs_background": "light"
     },
     "output_type": "display_data"
    }
   ],
   "source": [
    "downup = np.diff(upstates)\n",
    "downup[downup < 0] = 0\n",
    "n_downup = np.sum(downup)\n",
    "freq_downup = n_downup / time_subsamp.max()\n",
    "plt.plot(time_subsamp[:-1], (downup))\n",
    "#plt.xlim(0, 20)\n",
    "print(n_downup, freq_downup)"
   ]
  },
  {
   "cell_type": "code",
   "execution_count": 17,
   "metadata": {},
   "outputs": [],
   "source": [
    "def detect_upstates(y_signal):\n",
    "    y_std = np.std(y_signal)\n",
    "    detection_threshold = y_std\n",
    "    upstates = (y_signal > detection_threshold).astype(int)\n",
    "    downup = np.diff(upstates)\n",
    "    indices, = np.where(downup > 0)\n",
    "    return indices"
   ]
  },
  {
   "cell_type": "markdown",
   "metadata": {},
   "source": [
    "# Dependency on stimulation frequency"
   ]
  },
  {
   "cell_type": "code",
   "execution_count": 18,
   "metadata": {},
   "outputs": [],
   "source": [
    "population_colors = ['y', 'g']"
   ]
  },
  {
   "cell_type": "markdown",
   "metadata": {},
   "source": [
    "## Sweep through stimulation frequencies"
   ]
  },
  {
   "cell_type": "code",
   "execution_count": 19,
   "metadata": {},
   "outputs": [],
   "source": [
    "def calc_pli(y):\n",
    "    \"\"\"\n",
    "    y - last axis has a dimension of 2 and contains signals from two different oscillators\n",
    "    \"\"\"\n",
    "    \n",
    "    phases = np.angle(signal.hilbert(y, axis=0))\n",
    "    pli = np.abs(np.mean(np.exp(np.diff(phases, 1)*1j)))\n",
    "    return pli   "
   ]
  },
  {
   "cell_type": "markdown",
   "metadata": {},
   "source": [
    "Simulate the coupled populations model with the stimulation for a range of stimulation frequencies from 0.1 to 1 Hz."
   ]
  },
  {
   "cell_type": "code",
   "execution_count": 20,
   "metadata": {},
   "outputs": [
    {
     "name": "stderr",
     "output_type": "stream",
     "text": [
      "/home/bartosz/.pyenv/versions/ephaptic_test_3/lib/python3.6/site-packages/ipykernel-5.1.0-py3.6.egg/ipykernel_launcher.py:1: DeprecationWarning: object of type <class 'float'> cannot be safely interpreted as an integer.\n",
      "  \"\"\"Entry point for launching an IPython kernel.\n"
     ]
    }
   ],
   "source": [
    "stimulation_frequencies = np.linspace(0.1, 1., 11.)\n",
    "\n",
    "filtered_signals = []\n",
    "glu_signals = []\n",
    "for gl_freq in stimulation_frequencies:\n",
    "    glutamate_application = square_wave(depolarisation_glutamate, 1./gl_freq, glutamate_duration, glutamate_delay)\n",
    "\n",
    "    tmax = 200 * s\n",
    "    solution = single_trial(update_func, glutamate_application, noise_e, noise_i, tmax, gamma_ephaptic)\n",
    "    \n",
    "    y = solution[::n_subsamp, 0, :].copy()\n",
    "    \n",
    "    y_filtered = signal.filtfilt(b, a, y[:], axis=0)\n",
    "    i0 = int(glutamate_delay / (dt * n_subsamp))\n",
    "    y_oscillations = y_filtered[i0:, :]\n",
    "    \n",
    "    filtered_signals.append(y_oscillations)\n",
    "    \n",
    "    time = np.arange(solution.shape[0]) * dt\n",
    "    time = time[::n_subsamp][i0:]\n",
    "    glu_signals.append(glutamate_application(time))\n",
    "    \n",
    "filtered_signals = np.array(filtered_signals)\n",
    "glu_signals = np.array(glu_signals)"
   ]
  },
  {
   "cell_type": "markdown",
   "metadata": {},
   "source": [
    "## Plot: sample excitatory rates of the two populations"
   ]
  },
  {
   "cell_type": "markdown",
   "metadata": {},
   "source": [
    "We plot sample excitatory rates from both populations for three different stimulation frequencies."
   ]
  },
  {
   "cell_type": "code",
   "execution_count": 21,
   "metadata": {},
   "outputs": [
    {
     "data": {
      "image/png": "[encoded data removed]",
      "text/plain": [
       "<matplotlib.figure.Figure at 0x7f6299571c88>"
      ]
     },
     "metadata": {},
     "output_type": "display_data"
    }
   ],
   "source": [
    "import matplotlib\n",
    "\n",
    "line_colors = matplotlib.cycler('color', population_colors)\n",
    "trace_samples_idx =  [0, 3, 9]\n",
    "\n",
    "n_points = 1500\n",
    "with matplotlib.style.context({'axes.prop_cycle':line_colors}):\n",
    "    fig, axes = plt.subplots(3, 2, sharex=True, sharey=False,\n",
    "                             subplot_kw={'frameon':False},\n",
    "                            figsize=(6, 2))\n",
    "    for i in range(len(trace_samples_idx)):\n",
    "        ax = axes[i, :]\n",
    "        i_sig = trace_samples_idx[i]\n",
    "        ampl = filtered_signals[i_sig, :n_points, :].max()\n",
    "        glu_trace = glu_signals[i_sig, :n_points]\n",
    "        t_upstates = detect_upstates(glu_trace)\n",
    "        \n",
    "        \n",
    "        #ax[0].plot(glu_trace / glu_trace.max() * ampl, 'r-')\n",
    "        ax[0].plot(filtered_signals[i_sig, :n_points, 0], lw=1,\n",
    "                   color=population_colors[0])\n",
    "        ax[1].plot(filtered_signals[i_sig, :n_points, 1], lw=1,\n",
    "                   color=population_colors[1])\n",
    "        trans = transforms.blended_transform_factory(ax[0].transData,\n",
    "                                                     ax[0].transAxes)\n",
    "        ax[0].vlines(t_upstates, -0.05, 0.1, transform=trans,\n",
    "                     zorder=10, lw=1.5, clip_on=False)\n",
    "        for a in ax:\n",
    "            a.xaxis.set_ticks_position('none')\n",
    "            a.yaxis.set_ticks_position('none')\n",
    "            a.yaxis.set_ticks([])\n",
    "            a.xaxis.set_ticks([])\n",
    "            a.text(-0.02, 1, str(i+1), transform=a.transAxes, va='top', ha='right', size=8)\n",
    "    trans = transforms.blended_transform_factory(axes[-1, 0].transData,\n",
    "                                                 axes[-1, 0].transAxes)\n",
    "    axes[-1, 0].plot([0, 2 / (dt * n_subsamp) ], [-0.2, -0.2], 'k', lw=1.5,\n",
    "                    transform=trans, clip_on=False)\n",
    "    axes[-1, 0].text(1. / (dt * n_subsamp), -0.25, '2 s', ha='center', va='top',\n",
    "                    transform=trans, clip_on=False)\n",
    "plt.savefig('figures/sync_traces.svg')"
   ]
  },
  {
   "cell_type": "markdown",
   "metadata": {},
   "source": [
    "## Plot: phase locking index vs. stimulation frequency"
   ]
  },
  {
   "cell_type": "markdown",
   "metadata": {},
   "source": [
    "Phase locking index is a measure of synchronisation between two oscillators. PLI close to 0 means that the oscillators are independent and their phases are not locked. PLI equal to 1 corresponds to perfect synchronisation."
   ]
  },
  {
   "cell_type": "code",
   "execution_count": 22,
   "metadata": {},
   "outputs": [],
   "source": [
    "pli_vs_freq = []\n",
    "for y_oscillations in filtered_signals:\n",
    "    pli = calc_pli(y_oscillations)\n",
    "    pli_vs_freq.append(pli)\n",
    "pli_vs_freq = np.array(pli_vs_freq)"
   ]
  },
  {
   "cell_type": "code",
   "execution_count": 23,
   "metadata": {},
   "outputs": [
    {
     "data": {
      "image/png": "[encoded data removed]",
      "text/plain": [
       "<matplotlib.figure.Figure at 0x7f6299647208>"
      ]
     },
     "metadata": {
      "needs_background": "light"
     },
     "output_type": "display_data"
    }
   ],
   "source": [
    "\n",
    "matplotlib.rcParams['xtick.major.size'] = 2.\n",
    "matplotlib.rcParams['ytick.major.size'] = 2.\n",
    "plt.figure(figsize=(3,2))\n",
    "ax = plt.subplot()\n",
    "plt.plot(stimulation_frequencies, pli_vs_freq,'ko', clip_on=False)\n",
    "plt.xlabel('stimulation frequency, Hz')\n",
    "plt.ylabel('phase locking index')\n",
    "ax.spines['top'].set_visible(False)\n",
    "ax.spines['right'].set_visible(False)\n",
    "ax.yaxis.set_ticks_position('left')\n",
    "ax.xaxis.set_ticks_position('bottom')\n",
    "ax.spines['left'].set_position(('outward', 5))\n",
    "\n",
    "for i, idx in enumerate(trace_samples_idx):\n",
    "    plt.annotate(str(i+1), (stimulation_frequencies[idx], pli_vs_freq[idx]),\n",
    "                         (0, -5),\n",
    "                 textcoords='offset points',\n",
    "                 ha='center', va='top',\n",
    "                 size=8)\n",
    "plt.savefig('figures/pli_vs_freq.svg')"
   ]
  },
  {
   "cell_type": "markdown",
   "metadata": {},
   "source": [
    "## Plot: Frequency of UP states vs. stimulatin frequency"
   ]
  },
  {
   "cell_type": "markdown",
   "metadata": {},
   "source": [
    "Count the UP states and plot their frequency vs. the stimulation frequency."
   ]
  },
  {
   "cell_type": "code",
   "execution_count": 24,
   "metadata": {},
   "outputs": [],
   "source": [
    "def count_upstates(y_signal):\n",
    "    y_std = np.std(y_signal)\n",
    "    detection_threshold = y_std\n",
    "    upstates = (y_signal > detection_threshold).astype(int)\n",
    "    downup = np.diff(upstates)\n",
    "    downup[downup < 0] = 0\n",
    "    n_downup = np.sum(downup)\n",
    "    return n_downup"
   ]
  },
  {
   "cell_type": "code",
   "execution_count": 25,
   "metadata": {},
   "outputs": [],
   "source": [
    "n_upstates = []\n",
    "for y_oscillations in filtered_signals:\n",
    "    nup1 = count_upstates(y_oscillations[:, 0])\n",
    "    nup2 = count_upstates(y_oscillations[:, 1])\n",
    "    n_upstates.append((nup1, nup2))\n",
    "n_upstates = np.array(n_upstates)\n"
   ]
  },
  {
   "cell_type": "code",
   "execution_count": 26,
   "metadata": {},
   "outputs": [
    {
     "data": {
      "image/png": "[encoded data removed]",
      "text/plain": [
       "<matplotlib.figure.Figure at 0x7f6299647358>"
      ]
     },
     "metadata": {
      "needs_background": "light"
     },
     "output_type": "display_data"
    }
   ],
   "source": [
    "import matplotlib\n",
    "plt.figure(figsize=(3,2))\n",
    "\n",
    "line_colors = matplotlib.cycler('color', population_colors)\n",
    "with matplotlib.style.context({'axes.prop_cycle':line_colors}):\n",
    "    ax = plt.subplot(111)\n",
    "    ax.plot(stimulation_frequencies, n_upstates * 1. / tmax, lw=1.5)\n",
    "    ax.plot(stimulation_frequencies, stimulation_frequencies, 'k--')\n",
    "    ax.spines['top'].set_visible(False)\n",
    "    ax.spines['right'].set_visible(False)\n",
    "    ax.xaxis.set_ticks_position('bottom')\n",
    "    ax.yaxis.set_ticks_position('left')\n",
    "    plt.xlabel('stimulation frequency, Hz')\n",
    "    plt.ylabel('UP state frequency, Hz')\n",
    "plt.savefig('figures/up_state_frequency.svg')"
   ]
  },
  {
   "cell_type": "markdown",
   "metadata": {},
   "source": [
    "# Final figure"
   ]
  },
  {
   "cell_type": "code",
   "execution_count": 31,
   "metadata": {},
   "outputs": [],
   "source": [
    "from svgutils import compose as sc"
   ]
  },
  {
   "cell_type": "code",
   "execution_count": 32,
   "metadata": {},
   "outputs": [],
   "source": [
    "fig = sc.Figure('16cm', '9cm',\n",
    "        sc.Panel(\n",
    "          sc.SVG('figures/sync_traces.svg'),\n",
    "          sc.Text('B', 30, 20, size=14)\n",
    "        ).move(100, 0),\n",
    "        sc.Panel(\n",
    "          sc.Text('D', 0, 0, size=14),\n",
    "          sc.SVG('figures/pli_vs_freq.svg')\n",
    "        ).move(260, 160),\n",
    "        sc.Panel(\n",
    "          sc.Text('A', 0, -10, size=14),\n",
    "          sc.SVG('figures/entrained-schematics.svg'\n",
    "          ).scale(0.6)\n",
    "        ).move(0, 30),\n",
    "        sc.Panel(\n",
    "          sc.Text('C', 0, 0, size=14),\n",
    "          sc.SVG('figures/up_state_frequency.svg')        \n",
    "        ).move(20, 160)\n",
    "    )"
   ]
  },
  {
   "cell_type": "code",
   "execution_count": 33,
   "metadata": {},
   "outputs": [],
   "source": [
    "from IPython.display import SVG, display"
   ]
  },
  {
   "cell_type": "code",
   "execution_count": 34,
   "metadata": {},
   "outputs": [],
   "source": [
    "fig.save('figures/inverted_slices_composed.svg')"
   ]
  },
  {
   "cell_type": "code",
   "execution_count": 35,
   "metadata": {},
   "outputs": [
    {
     "data": {
      "image/svg+xml": [
       "<svg height=\"9.0cm\" version=\"1.1\" viewBox=\"0 0 16.0cm 9.0cm\" width=\"16.0cm\" xmlns=\"http://www.w3.org/2000/svg\" xmlns:xlink=\"http://www.w3.org/1999/xlink\">\n",
       "  <g>\n",
       "    <g transform=\"translate(100, 0) scale(1) \">\n",
       "      <g><defs>\n",
       "  <style type=\"text/css\">\n",
       "*{stroke-linecap:butt;stroke-linejoin:round;}\n",
       "  </style>\n",
       " </defs>\n",
       " <g id=\"figure_1\">\n",
       "  <g id=\"patch_1\">\n",
       "   <path d=\"M 0 144  L 432 144  L 432 0  L 0 0  z \" style=\"fill:#ffffff;\"/>\n",
       "  </g>\n",
       "  <g id=\"axes_1\">\n",
       "   <g id=\"matplotlib.axis_1\"/>\n",
       "   <g id=\"matplotlib.axis_2\"/>\n",
       "   <g id=\"line2d_1\">\n",
       "    <path clip-path=\"url(#p27d0ba0f89)\" d=\"M 60.917355 37.603206  L 61.655699 19.941408  L 61.840285 18.733476  L 61.932578 18.75501  L 62.117164 19.845163  L 63.040093 28.651643  L 63.224679 28.821427  L 63.59385 28.778079  L 63.778436 29.313289  L 64.055315 31.40096  L 64.609073 38.712854  L 65.070537 43.606156  L 65.347416 44.935709  L 65.624295 45.371106  L 66.639517 45.937731  L 67.008689 46.058888  L 67.470154 45.849958  L 67.839325 45.748959  L 68.208497 45.901975  L 68.762255 46.178818  L 69.131426 46.081734  L 69.962063 45.695137  L 71.807922 45.816435  L 72.638558 46.000238  L 73.838366 45.99756  L 74.392124 45.988102  L 75.130467 45.900661  L 76.053396 46.106255  L 76.422568 45.694754  L 76.976326 45.029886  L 77.253205 45.070072  L 77.622376 45.523235  L 78.083841 46.006603  L 78.268427 45.975716  L 78.545306 45.669169  L 79.191356 44.788992  L 79.468235 44.805723  L 79.837407 45.199716  L 80.483457 45.913899  L 80.944922 46.082238  L 81.49868 46.094006  L 81.867851 45.919917  L 82.698488 45.339247  L 82.975366 45.451582  L 83.990589 46.28733  L 84.359761 46.046552  L 84.913518 45.677154  L 85.28269 45.779567  L 85.92874 46.121724  L 86.297912 46.031486  L 87.036256 45.695552  L 87.49772 45.806943  L 88.143771 45.985427  L 88.697528 45.852071  L 89.435872 45.683722  L 90.081922 45.783567  L 91.374023 46.094556  L 94.050519 45.818598  L 94.604276 45.789892  L 96.727014 46.064445  L 98.572872 45.935166  L 99.680387 45.601341  L 100.141852 45.850304  L 100.511024 46.024262  L 100.787903 45.920472  L 101.064781 45.530627  L 101.987711 43.873745  L 102.172297 43.9263  L 102.449175 44.322119  L 103.279812 45.897173  L 103.556691 46.023584  L 105.217963 45.933926  L 106.140893 45.671367  L 107.156115 45.853765  L 107.61758 45.486239  L 108.079044 45.17149  L 108.355923 45.177804  L 108.725095 45.415572  L 109.555731 46.034741  L 110.017196 46.05422  L 111.770762 45.81377  L 113.801206 45.837783  L 114.262671 45.901122  L 115.001014 46.149208  L 115.462479 45.958354  L 115.923944 45.781712  L 116.385408 45.667736  L 116.569994 45.364195  L 116.846873 44.207949  L 117.123752 41.922867  L 117.67751 34.726992  L 118.138974 29.70746  L 118.415853 28.692925  L 118.508146 28.726098  L 118.692732 29.252639  L 119.707954 33.567617  L 119.984833 33.583231  L 120.169419 33.607031  L 120.354005 33.849621  L 120.630883 34.864465  L 121.000055 37.402336  L 121.830692 43.515137  L 122.199863 44.887475  L 122.661328 45.734431  L 123.122793 46.10887  L 123.491964 46.136718  L 124.59948 45.937024  L 125.337823 46.054992  L 126.445338 45.922383  L 127.368268 46.102818  L 128.475783 46.016079  L 129.214126 46.074881  L 130.59852 45.93276  L 131.244571 45.945053  L 132.444379 45.717162  L 133.828773 46.099966  L 134.567116 45.924304  L 135.674632 46.006355  L 136.597561 45.549773  L 136.966733 45.798791  L 137.428197 46.11601  L 137.705076 46.02711  L 138.074248 45.544675  L 138.535713 44.945307  L 138.812591 44.929667  L 139.08947 45.205353  L 139.735521 45.934653  L 140.012399 45.887943  L 140.750743 45.483764  L 141.027622 45.6759  L 141.765965 46.403222  L 142.042844 46.29591  L 142.504309 45.715736  L 143.058066 45.148928  L 143.519531 45.006805  L 143.888703 45.075915  L 144.165581 45.330986  L 144.627046 46.192574  L 144.903925 46.61397  L 145.088511 46.581825  L 145.273097 46.129174  L 145.549975 44.460232  L 145.919147 40.495423  L 146.749784 31.154922  L 147.026662 30.016085  L 147.211248 29.895716  L 147.395834 30.156996  L 147.857299 31.574014  L 148.503349 33.308009  L 149.057107 34.649971  L 149.518572 36.527941  L 150.441501 40.731319  L 150.71838 41.065588  L 151.179844 41.174086  L 151.36443 41.550248  L 151.641309 42.875743  L 152.379653 47.76045  L 152.471945 47.802995  L 152.656531 47.082849  L 152.93341 43.89538  L 154.040925 27.048379  L 154.133218 26.939666  L 154.225511 27.058584  L 154.50239 28.327596  L 154.963855 30.51857  L 155.148441 30.660154  L 155.333026 30.386668  L 155.702198 29.622865  L 155.794491 29.617672  L 155.979077 30.058515  L 156.255956 32.025033  L 156.809713 39.080267  L 157.271178 44.018031  L 157.548057 45.456969  L 157.824936 45.940449  L 158.101814 45.938921  L 158.563279 45.862386  L 159.763087 46.027301  L 160.409138 46.042348  L 161.147481 46.09149  L 162.624168 45.871361  L 163.547098 45.778997  L 164.377734 45.734501  L 166.408178 45.897926  L 167.054229 45.920971  L 167.70028 45.958139  L 168.254037 45.711724  L 168.807795 45.50195  L 169.176966 45.605476  L 170.192189 46.107371  L 170.653653 45.915321  L 171.207411 45.74965  L 171.668876 45.688754  L 171.853462 45.473401  L 172.13034 44.668565  L 172.499512 42.424232  L 173.607027 33.779549  L 173.883906 33.369216  L 174.068492 33.521246  L 174.899128 34.729236  L 175.2683 34.591086  L 175.545179 34.513074  L 175.822058 34.694117  L 176.191229 35.380748  L 176.83728 37.197344  L 177.298745 39.096036  L 177.944795 43.124664  L 178.40626 45.607206  L 178.683139 46.320382  L 178.867724 46.458398  L 179.144603 46.327142  L 179.698361 45.921097  L 180.067533 46.011183  L 180.62129 46.205897  L 180.990462 46.023828  L 181.821098 45.441837  L 182.19027 45.517674  L 183.205492 45.95758  L 183.482371 45.700672  L 183.75925 45.107753  L 184.220715 43.394447  L 184.866765 40.896679  L 185.143644 40.572339  L 185.32823 40.746226  L 185.605109 41.553602  L 186.712624 45.758953  L 186.989503 45.926736  L 188.004725 45.909132  L 188.558483 46.16768  L 188.927654 46.077135  L 189.665998 45.766981  L 190.865806 45.727509  L 191.419563 45.488863  L 191.788735 45.583061  L 192.89625 46.157703  L 193.450008 45.952509  L 194.096059 45.786315  L 194.649816 45.906651  L 195.572745 46.125227  L 197.326311 46.087785  L 197.880069 46.091  L 198.987584 45.917636  L 199.264463 45.998429  L 199.264463 45.998429  \" style=\"fill:none;stroke:#bfbf00;stroke-linecap:square;\"/>\n",
       "   </g>\n",
       "   <g id=\"text_1\">\n",
       "    <!-- 1 -->\n",
       "    <defs>\n",
       "     <path d=\"M 12.40625 8.296875  L 28.515625 8.296875  L 28.515625 63.921875  L 10.984375 60.40625  L 10.984375 69.390625  L 28.421875 72.90625  L 38.28125 72.90625  L 38.28125 8.296875  L 54.390625 8.296875  L 54.390625 0  L 12.40625 0  z \" id=\"DejaVuSans-31\"/>\n",
       "    </defs>\n",
       "    <g transform=\"translate(45.866364 23.35875)scale(0.08 -0.08)\">\n",
       "     <use xlink:href=\"#DejaVuSans-31\"/>\n",
       "    </g>\n",
       "   </g>\n",
       "   <g id=\"LineCollection_1\">\n",
       "    <path d=\"M 60.917355 50.855294  L 60.917355 46.058824  \" style=\"fill:none;stroke:#000000;stroke-width:1.5;\"/>\n",
       "    <path d=\"M 153.117996 50.855294  L 153.117996 46.058824  \" style=\"fill:none;stroke:#000000;stroke-width:1.5;\"/>\n",
       "   </g>\n",
       "  </g>\n",
       "  <g id=\"axes_2\">\n",
       "   <g id=\"matplotlib.axis_3\"/>\n",
       "   <g id=\"matplotlib.axis_4\"/>\n",
       "   <g id=\"line2d_2\">\n",
       "    <path clip-path=\"url(#pc3af597a4d)\" d=\"M 243.535537 47.250422  L 243.812416 47.101247  L 244.827638 46.142499  L 245.104517 46.327141  L 245.935153 47.124266  L 246.304325 47.051441  L 246.950376 46.844808  L 247.319547 47.0027  L 247.965598 47.299844  L 248.33477 47.178803  L 249.165406 46.76819  L 249.534578 46.90441  L 250.272921 47.256395  L 250.5498 47.135713  L 251.011265 46.607832  L 251.472729 46.118097  L 251.749608 46.068061  L 252.026487 46.239647  L 253.041709 47.212416  L 253.410881 47.177855  L 254.241517 46.979736  L 255.718204 46.959638  L 257.287184 46.719342  L 258.025528 46.486698  L 258.486992 46.637252  L 259.594508 47.238238  L 260.055972 47.091952  L 260.794316 46.76203  L 261.25578 46.831254  L 261.809538 46.917237  L 262.271003 46.699408  L 262.82476 46.414069  L 263.101639 46.473027  L 263.563104 46.856677  L 264.024568 47.156733  L 264.39374 47.101982  L 265.039791 46.872418  L 265.501255 47.029173  L 265.96272 47.117669  L 266.331892 46.884191  L 266.885649 46.472354  L 267.162528 46.528289  L 267.993165 46.984369  L 268.270043 46.694052  L 269.008387 45.636922  L 269.192973 45.682088  L 269.469852 46.068566  L 270.208195 47.44394  L 270.485074 47.512045  L 270.854246 47.240324  L 271.408003 46.831373  L 271.961761 46.792601  L 272.515518 46.659798  L 273.069276 46.519251  L 273.530741 46.678051  L 274.269084 46.982578  L 276.391822 46.984821  L 277.037872 46.958167  L 278.23768 47.133009  L 279.252902 47.084601  L 279.898953 46.962087  L 280.452711 46.660299  L 280.729589 46.212909  L 281.006468 45.161158  L 281.283347 43.094985  L 281.652519 38.34228  L 282.852327 19.461425  L 283.036913 18.754701  L 283.129206 18.733476  L 283.313792 19.294487  L 283.59067 21.335408  L 284.329014 29.530508  L 285.621115 42.805974  L 286.08258 45.693039  L 286.359458 46.448361  L 286.544044 46.59671  L 286.820923 46.486975  L 287.374681 46.162913  L 287.651559 46.277237  L 288.574489 46.899866  L 289.128246 46.748563  L 289.589711 46.721247  L 290.974105 46.950965  L 292.266206 46.925453  L 293.189135 46.994351  L 293.558307 46.694156  L 294.296651 45.95912  L 294.573529 46.11001  L 295.034994 46.883379  L 295.404166 47.295423  L 295.588752 47.226329  L 295.865631 46.74911  L 296.603974 45.177768  L 296.78856 45.19366  L 297.065439 45.589955  L 297.803782 46.930648  L 298.080661 46.967382  L 298.819004 46.719327  L 299.280469 47.001452  L 299.741934 47.203942  L 300.203398 47.074871  L 300.664863 47.014092  L 301.680085 47.235946  L 302.695308 46.651424  L 303.064479 46.984617  L 303.525944 47.35796  L 303.802823 47.286533  L 304.264287 46.769303  L 304.633459 46.477017  L 304.910338 46.52908  L 305.740974 46.965564  L 306.017853 46.702344  L 306.84849 45.67265  L 307.125368 45.763522  L 308.232884 46.632674  L 309.06352 46.536479  L 309.524985 46.855297  L 309.986449 47.121329  L 310.355621 47.080378  L 311.001672 46.914198  L 311.370843 47.09119  L 311.924601 47.383187  L 312.20148 47.278683  L 312.662944 46.746486  L 313.032116 46.399413  L 313.308995 46.394114  L 313.678167 46.694015  L 314.231924 47.118575  L 314.601096 47.072902  L 315.247147 46.901538  L 316.446955 47.033499  L 317.55447 46.406096  L 318.015935 46.513222  L 318.569692 46.955684  L 319.12345 47.362496  L 319.400329 47.302523  L 319.7695 46.890637  L 320.323258 46.244734  L 320.600137 46.256012  L 320.969308 46.60335  L 321.430773 46.982913  L 321.707652 46.964133  L 322.445995 46.755709  L 323.092046 46.841142  L 323.368925 46.514809  L 324.107268 45.289836  L 324.291854 45.377655  L 324.568733 45.939313  L 325.12249 47.328361  L 325.307076 47.393933  L 325.491662 47.159589  L 326.322299 45.28142  L 326.506884 45.431576  L 327.060642 46.213933  L 327.245228 45.75274  L 327.522107 43.658938  L 327.891278 38.430802  L 328.445036 30.544493  L 328.629622 29.572148  L 328.721915 29.554333  L 328.906501 30.468332  L 329.18338 33.858358  L 330.014016 46.2816  L 330.290895 47.683326  L 330.475481 47.791  L 330.752359 47.283771  L 331.121531 46.565362  L 331.306117 46.490392  L 331.582996 46.731365  L 332.136753 47.342147  L 332.413632 47.241721  L 333.336562 46.436075  L 333.705733 46.646024  L 334.259491 46.993196  L 334.628663 46.949679  L 335.551592 46.665644  L 336.289935 46.885177  L 338.228087 47.31697  L 338.597259 47.102644  L 339.704774 46.099654  L 339.981653 46.23529  L 340.904582 46.911904  L 341.273754 46.797337  L 342.012097 46.49298  L 343.488784 46.593831  L 343.950249 46.7986  L 344.596299 47.117652  L 344.965471 47.03855  L 345.611522 46.796048  L 345.980693 46.917388  L 346.719037 47.277985  L 347.180502 47.149358  L 347.826552 46.931302  L 350.226168 46.897542  L 351.610562 47.116729  L 351.887441 46.879761  L 352.256613 46.202811  L 352.902663 44.964251  L 353.087249 44.888059  L 353.271835 44.988039  L 353.641007 45.593086  L 354.287057 46.719975  L 354.656229 46.899273  L 355.856037 47.012701  L 356.409795 47.067451  L 356.963553 46.832401  L 357.51731 46.620853  L 357.886482 46.674546  L 359.08629 47.102916  L 360.009219 47.017923  L 360.747563 47.178829  L 361.209028 46.950385  L 361.670492 46.750935  L 362.039664 46.860376  L 362.593422 47.065753  L 362.8703 46.911344  L 363.608644 46.30018  L 363.885523 46.520566  L 364.623866 47.520907  L 364.808452 47.375162  L 365.085331 46.682593  L 365.915967 43.956139  L 366.100553 43.891724  L 366.285139 44.09836  L 366.654311 45.034786  L 367.208068 46.342678  L 367.484947 46.576542  L 367.854119 46.586981  L 368.500169 46.576879  L 369.238513 46.56392  L 369.699977 46.620793  L 370.069149 46.948826  L 370.622907 47.496502  L 370.899786 47.425603  L 371.176664 47.038553  L 371.822715 45.934552  L 372.099594 45.905821  L 372.376472 46.189575  L 372.93023 46.83161  L 373.207109 46.834167  L 374.130038 46.431095  L 374.591503 46.413274  L 374.868382 46.139204  L 375.699018 45.003901  L 375.883604 45.150108  L 376.160483 45.728739  L 376.806533 47.247035  L 377.083412 47.337054  L 377.360291 47.088316  L 378.006341 46.376765  L 378.744685 45.867136  L 379.483028 45.05334  L 379.667614 45.081656  L 379.944493 45.389912  L 380.867422 46.793844  L 381.236594 46.858354  L 381.790352 46.918148  L 381.882645 46.957335  L 381.882645 46.957335  \" style=\"fill:none;stroke:#008000;stroke-linecap:square;\"/>\n",
       "   </g>\n",
       "   <g id=\"text_2\">\n",
       "    <!-- 1 -->\n",
       "    <g transform=\"translate(228.484545 23.35875)scale(0.08 -0.08)\">\n",
       "     <use xlink:href=\"#DejaVuSans-31\"/>\n",
       "    </g>\n",
       "   </g>\n",
       "  </g>\n",
       "  <g id=\"axes_3\">\n",
       "   <g id=\"matplotlib.axis_5\"/>\n",
       "   <g id=\"matplotlib.axis_6\"/>\n",
       "   <g id=\"line2d_3\">\n",
       "    <path clip-path=\"url(#p36e706c579)\" d=\"M 60.917355 82.946545  L 61.286527 83.236482  L 61.471113 83.185309  L 61.747992 82.806172  L 62.394042 81.730648  L 62.578628 81.798485  L 62.855507 82.297775  L 63.224679 83.038575  L 63.409265 82.992356  L 63.59385 82.410666  L 63.870729 80.339736  L 64.424487 73.19709  L 64.885952 68.348684  L 65.16283 67.329567  L 65.255123 67.300215  L 65.439709 67.585159  L 66.08576 69.722014  L 66.547224 71.496863  L 66.916396 74.308861  L 67.65474 81.205196  L 67.747032 81.42827  L 67.839325 81.380663  L 68.023911 80.428574  L 68.30079 77.065659  L 69.039134 66.166171  L 69.223719 65.252837  L 69.316012 65.1792  L 69.500598 65.677143  L 70.331235 69.758511  L 70.51582 69.612468  L 70.977285 68.705776  L 71.069578 68.744997  L 71.254164 69.296897  L 71.531043 71.430978  L 72.730851 83.845103  L 73.00773 84.285789  L 73.284608 84.194058  L 73.65378 84.043435  L 74.022952 84.177143  L 74.484417 84.300344  L 74.853588 84.111044  L 75.315053 83.886259  L 75.684225 84.003457  L 76.330275 84.346459  L 76.699447 84.267534  L 77.43779 84.045134  L 78.176134 84.00336  L 79.00677 83.756493  L 79.375942 84.002738  L 79.837407 84.343201  L 80.114286 84.291769  L 80.483457 83.855921  L 81.037215 83.168636  L 81.314094 83.17032  L 81.683265 83.525539  L 82.237023 84.061882  L 82.606195 84.102518  L 83.344538 84.055922  L 84.082882 84.101689  L 85.098104 83.863886  L 86.297912 84.225192  L 87.128549 84.428018  L 87.590013 84.211731  L 88.051478 84.010833  L 88.42065 84.098292  L 88.789821 84.188431  L 89.0667 84.02982  L 89.805044 83.302104  L 89.989629 83.471744  L 90.358801 84.315469  L 90.727973 84.979876  L 90.912559 84.899191  L 91.189438 84.205595  L 91.650902 82.904706  L 91.743195 82.87551  L 91.927781 83.181943  L 92.573832 85.535937  L 92.666125 85.374751  L 92.85071 84.152356  L 93.127589 79.804245  L 94.142811 58.063105  L 94.327397 57.65224  L 94.511983 58.572942  L 95.434913 65.899557  L 95.619498 65.956172  L 95.896377 65.930814  L 96.080963 66.404683  L 96.357842 68.458746  L 96.819307 74.903795  L 97.373064 81.975586  L 97.649943 83.539039  L 97.926822 83.980485  L 98.295993 83.89345  L 98.572872 83.917119  L 99.495802 84.351243  L 100.326438 84.114939  L 101.249367 84.364066  L 102.26459 83.917249  L 102.91064 84.259084  L 103.372105 84.329535  L 104.47962 84.252982  L 105.033378 84.264626  L 107.894459 83.628062  L 108.355923 83.796518  L 109.094267 84.100203  L 110.201782 84.124182  L 111.032418 84.055232  L 111.678469 84.035237  L 112.601398 84.078318  L 113.432035 83.984794  L 114.078085 83.989951  L 115.093307 83.713465  L 115.462479 83.785921  L 115.647065 83.604224  L 115.831651 83.117434  L 116.10853 81.647677  L 116.569994 77.521185  L 117.123752 72.74529  L 117.492924 71.079866  L 118.046681 69.143639  L 118.508146 66.238137  L 118.969611 63.836579  L 119.154196 63.69124  L 119.338782 64.11265  L 119.707954 66.106609  L 120.169419 68.322475  L 120.354005 68.588413  L 120.53859 68.547245  L 120.815469 68.386776  L 121.000055 68.612066  L 121.184641 69.373042  L 121.46152 71.710978  L 122.569035 83.92307  L 122.753621 84.373924  L 122.938207 84.350863  L 123.307378 83.639799  L 123.67655 83.126299  L 123.861136 83.128177  L 124.138015 83.381572  L 124.784065 84.046644  L 125.24553 84.13081  L 126.445338 84.028255  L 127.091389 83.951426  L 128.38349 84.197425  L 129.398712 83.951843  L 130.506227 83.979047  L 131.429157 84.280354  L 131.798328 83.96458  L 132.352086 83.374038  L 132.628965 83.395684  L 132.905844 83.695854  L 133.459601 84.426972  L 133.73648 84.424375  L 134.013359 84.084514  L 134.843995 82.80562  L 135.120874 82.845573  L 135.490046 83.247128  L 136.228389 84.159754  L 136.597561 84.269753  L 136.966733 84.069623  L 137.705076 83.535403  L 137.981955 83.674406  L 138.812591 84.39167  L 139.08947 84.162629  L 139.643228 83.581006  L 139.827814 83.649914  L 140.196985 84.205086  L 140.473864 84.554805  L 140.65845 84.51269  L 140.843036 84.181434  L 141.489086 82.417161  L 141.581379 82.432841  L 141.765965 82.8546  L 142.135137 84.869311  L 142.412016 86.102342  L 142.504309 86.155211  L 142.596602 85.938615  L 142.781187 84.55108  L 143.058066 79.962136  L 144.073289 58.810599  L 144.257874 58.43912  L 144.44246 59.281084  L 145.36539 65.962315  L 145.642268 66.129952  L 145.826854 66.261923  L 146.01144 66.77097  L 146.288319 68.619441  L 146.749784 74.092504  L 147.303541 80.290162  L 147.672713 82.405791  L 148.041885 83.371139  L 148.687935 84.297297  L 148.964814 84.456086  L 149.241693 84.395537  L 149.980036 84.040338  L 150.349208 84.223452  L 150.810673 84.438359  L 151.179844 84.297049  L 151.825895 83.945238  L 152.195067 84.081164  L 152.748824 84.316137  L 153.210289 84.172994  L 153.579461 84.129262  L 153.948632 84.368631  L 154.317804 84.606713  L 154.50239 84.54821  L 154.779269 84.109879  L 155.702198 81.864109  L 155.886784 81.938861  L 156.163663 82.470971  L 156.902006 84.13704  L 157.178885 84.218421  L 158.194107 83.998321  L 158.747865 84.091121  L 159.670794 84.049424  L 160.224552 84.194259  L 160.593724 84.010032  L 161.147481 83.668712  L 161.42436 83.743989  L 162.162704 84.160577  L 162.531875 83.98437  L 162.901047 83.833183  L 163.177926 83.963452  L 163.823976 84.513024  L 164.100855 84.366607  L 164.746906 83.772437  L 164.931492 83.893175  L 165.577542 84.618183  L 165.762128 84.417877  L 166.1313 83.387185  L 166.408178 82.777418  L 166.500471 82.755654  L 166.685057 83.088151  L 166.961936 84.417149  L 167.331108 86.142024  L 167.423401 86.174759  L 167.515694 85.929818  L 167.70028 84.446547  L 167.977158 79.596481  L 168.900088 58.838387  L 169.084674 58.103126  L 169.176966 58.310344  L 169.361552 59.62296  L 170.099896 66.519632  L 170.284482 66.824016  L 170.469068 66.659328  L 170.745946 66.400951  L 170.930532 66.787722  L 171.115118 67.898794  L 171.48429 72.142336  L 172.222633 81.116423  L 172.591805 82.809922  L 172.960977 83.331224  L 173.607027 84.092931  L 173.976199 84.352126  L 174.253078 84.271464  L 174.899128 83.918348  L 175.2683 84.065715  L 175.822058 84.303653  L 176.191229 84.162601  L 176.83728 83.874163  L 177.391038 83.991066  L 178.960017 84.300819  L 179.236896 84.165339  L 179.606068 83.646694  L 180.252118 82.684051  L 180.436704 82.66757  L 180.713583 82.923177  L 181.54422 84.096281  L 181.821098 84.119628  L 182.744028 83.925772  L 183.574664 84.167774  L 184.774472 84.142106  L 185.235937 84.069561  L 185.881987 83.888596  L 186.251159 84.124351  L 186.804917 84.562208  L 187.081796 84.444263  L 187.450967 83.90536  L 187.912432 83.337629  L 188.189311 83.372442  L 189.019947 83.873485  L 189.573705 83.74714  L 189.850584 84.009279  L 190.404341 84.750829  L 190.588927 84.647303  L 190.865806 83.982247  L 191.327271 82.665752  L 191.511856 82.694978  L 191.696442 83.236517  L 192.342493 86.055925  L 192.434786 85.860413  L 192.619372 84.48808  L 192.89625 79.77146  L 193.911473 57.418489  L 194.003766 57.105241  L 194.096059 57.183726  L 194.280644 58.322412  L 195.111281 66.097343  L 195.295867 66.321277  L 195.757331 66.08232  L 195.941917 66.673698  L 196.218796 68.963899  L 196.864847 78.092934  L 197.326311 82.634194  L 197.60319 83.721619  L 197.880069 84.047119  L 198.987584 84.311681  L 199.264463 84.199656  L 199.264463 84.199656  \" style=\"fill:none;stroke:#bfbf00;stroke-linecap:square;\"/>\n",
       "   </g>\n",
       "   <g id=\"text_3\">\n",
       "    <!-- 2 -->\n",
       "    <defs>\n",
       "     <path d=\"M 19.1875 8.296875  L 53.609375 8.296875  L 53.609375 0  L 7.328125 0  L 7.328125 8.296875  Q 12.9375 14.109375 22.625 23.890625  Q 32.328125 33.6875 34.8125 36.53125  Q 39.546875 41.84375 41.421875 45.53125  Q 43.3125 49.21875 43.3125 52.78125  Q 43.3125 58.59375 39.234375 62.25  Q 35.15625 65.921875 28.609375 65.921875  Q 23.96875 65.921875 18.8125 64.3125  Q 13.671875 62.703125 7.8125 59.421875  L 7.8125 69.390625  Q 13.765625 71.78125 18.9375 73  Q 24.125 74.21875 28.421875 74.21875  Q 39.75 74.21875 46.484375 68.546875  Q 53.21875 62.890625 53.21875 53.421875  Q 53.21875 48.921875 51.53125 44.890625  Q 49.859375 40.875 45.40625 35.40625  Q 44.1875 33.984375 37.640625 27.21875  Q 31.109375 20.453125 19.1875 8.296875  z \" id=\"DejaVuSans-32\"/>\n",
       "    </defs>\n",
       "    <g transform=\"translate(45.866364 61.730515)scale(0.08 -0.08)\">\n",
       "     <use xlink:href=\"#DejaVuSans-32\"/>\n",
       "    </g>\n",
       "   </g>\n",
       "   <g id=\"LineCollection_2\">\n",
       "    <path d=\"M 68.393083 89.227059  L 68.393083 84.430588  \" style=\"fill:none;stroke:#000000;stroke-width:1.5;\"/>\n",
       "    <path d=\"M 93.312175 89.227059  L 93.312175 84.430588  \" style=\"fill:none;stroke:#000000;stroke-width:1.5;\"/>\n",
       "    <path d=\"M 118.231267 89.227059  L 118.231267 84.430588  \" style=\"fill:none;stroke:#000000;stroke-width:1.5;\"/>\n",
       "    <path d=\"M 143.150359 89.227059  L 143.150359 84.430588  \" style=\"fill:none;stroke:#000000;stroke-width:1.5;\"/>\n",
       "    <path d=\"M 168.161744 89.227059  L 168.161744 84.430588  \" style=\"fill:none;stroke:#000000;stroke-width:1.5;\"/>\n",
       "    <path d=\"M 193.080836 89.227059  L 193.080836 84.430588  \" style=\"fill:none;stroke:#000000;stroke-width:1.5;\"/>\n",
       "   </g>\n",
       "  </g>\n",
       "  <g id=\"axes_4\">\n",
       "   <g id=\"matplotlib.axis_7\"/>\n",
       "   <g id=\"matplotlib.axis_8\"/>\n",
       "   <g id=\"line2d_4\">\n",
       "    <path clip-path=\"url(#p4b6a6b12c1)\" d=\"M 243.535537 85.294744  L 244.273881 85.953274  L 244.550759 85.908887  L 244.827638 85.615949  L 245.842861 84.167423  L 246.027446 84.238991  L 246.304325 84.605162  L 247.134962 86.00241  L 247.41184 86.084108  L 247.781012 85.899217  L 248.519356 85.471696  L 249.719164 85.188597  L 250.734386 84.428286  L 251.011265 84.58398  L 251.565022 85.333729  L 252.026487 85.769385  L 252.395659 85.746797  L 253.134002 85.498627  L 254.33381 85.56637  L 254.979861 85.333206  L 255.625911 85.452672  L 255.995083 85.411079  L 257.010305 85.066315  L 257.933235 85.391014  L 258.763871 85.136681  L 259.04075 85.439825  L 259.502215 86.053816  L 259.686801 86.037552  L 259.871386 85.73209  L 260.148265 84.696557  L 260.978902 80.932384  L 261.163488 80.908672  L 261.348073 81.305657  L 261.717245 82.925772  L 262.17871 84.824348  L 262.455589 85.217553  L 262.640174 85.172304  L 263.378518 84.649134  L 263.655397 84.906799  L 264.301447 85.648736  L 264.578326 85.564462  L 265.039791 84.971011  L 265.408962 84.584822  L 265.685841 84.556306  L 266.055013 84.843744  L 266.793356 85.531414  L 267.162528 85.546836  L 267.993165 85.373814  L 268.454629 85.657963  L 268.916094 85.922414  L 269.192973 85.847562  L 269.562144 85.44861  L 270.115902 84.879629  L 270.392781 84.919869  L 270.854246 85.381123  L 271.223417 85.614046  L 271.500296 85.472153  L 271.869468 84.898912  L 272.423225 84.015258  L 272.700104 83.891167  L 272.976983 84.024818  L 273.438448 84.622312  L 274.269084 85.718894  L 274.638256 85.833258  L 275.007428 85.63597  L 275.838064 84.956417  L 276.207236 84.992816  L 277.407044 85.443293  L 278.145387 85.618703  L 278.791438 85.7879  L 279.252902 85.684878  L 280.729589 85.158905  L 281.191054 85.27568  L 282.390862 85.791835  L 284.144428 85.592376  L 284.975064 85.619948  L 285.805701 85.393487  L 286.359458 85.300582  L 286.913216 85.487073  L 287.466974 85.633399  L 287.928438 85.488478  L 288.482196 85.346296  L 288.943661 85.531494  L 289.497418 85.766735  L 289.958883 85.698396  L 290.51264 85.658979  L 291.620156 85.931896  L 292.635378 85.555051  L 293.373721 85.613221  L 293.835186 85.282001  L 294.296651 84.998673  L 294.665822 85.061697  L 295.311873 85.317148  L 295.681045 85.1792  L 296.327095 84.856215  L 296.696267 84.962201  L 297.43461 85.301863  L 298.542126 85.486563  L 299.095883 85.670423  L 299.557348 85.546372  L 300.018813 85.439337  L 301.126328 85.508146  L 301.772378 85.150586  L 302.049257 85.23927  L 302.787601 85.647871  L 303.064479 85.388142  L 303.895116 84.211414  L 304.079702 84.289675  L 304.448873 84.853452  L 304.910338 85.559513  L 305.187217 85.615042  L 305.464096 85.386489  L 306.202439 84.64962  L 306.479318 84.663558  L 306.84849 84.933077  L 307.771419 85.854161  L 308.048298 85.753864  L 308.325177 85.342482  L 308.971227 84.142665  L 309.155813 84.101009  L 309.340399 84.273841  L 309.801864 85.272502  L 310.171035 85.786584  L 310.355621 85.726119  L 310.6325 85.271884  L 311.186258 84.231021  L 311.370843 84.175006  L 311.647722 84.418323  L 312.386066 85.374016  L 312.755237 85.381519  L 313.585874 85.249812  L 314.601096 85.26788  L 315.431732 85.854677  L 315.616318 85.634006  L 315.98549 84.625342  L 316.446955 83.288357  L 316.631541 83.106942  L 316.816126 83.208716  L 317.093005 83.774928  L 317.55447 84.793517  L 317.739056 84.895858  L 317.923642 84.775494  L 318.661985 83.838341  L 318.846571 83.960756  L 319.215743 84.667672  L 319.677207 85.507344  L 319.954086 85.603214  L 320.323258 85.349555  L 320.784723 85.020982  L 321.246187 84.99158  L 322.26141 85.222252  L 323.092046 85.583274  L 323.553511 85.429853  L 324.014975 85.320736  L 324.47644 85.514237  L 324.937905 85.679649  L 325.307076 85.567444  L 325.953127 85.302303  L 326.414592 85.422499  L 326.968349 85.52799  L 327.891278 85.452296  L 328.814208 85.758919  L 329.367965 85.514904  L 329.82943 85.399748  L 330.660066 85.324455  L 331.582996 84.817124  L 331.859875 84.99103  L 332.690511 85.736526  L 332.96739 85.644556  L 333.798026 85.144969  L 334.167198 85.371088  L 334.813249 85.866978  L 335.18242 85.828995  L 336.013057 85.555377  L 337.028279 85.535208  L 338.043501 85.155687  L 338.412673 85.340313  L 339.243309 85.86671  L 339.612481 85.739027  L 340.258532 85.419464  L 340.627703 85.596621  L 340.904582 85.641492  L 341.089168 85.35254  L 341.273754 84.587702  L 341.550633 82.197935  L 341.919804 76.457121  L 342.935027 58.511734  L 343.211905 57.151064  L 343.304198 57.105241  L 343.488784 57.480739  L 343.857956 59.269129  L 345.150057 66.962922  L 345.796108 71.582773  L 346.072986 72.517353  L 346.442158 72.947739  L 346.626744 73.207823  L 346.903623 74.187727  L 347.272795 76.992843  L 348.195724 85.243408  L 348.472603 85.988762  L 348.657189 86.025779  L 348.934067 85.697594  L 349.487825 84.942756  L 349.856997 84.782391  L 350.318461 84.855281  L 350.872219 85.217358  L 351.425977 85.555773  L 351.795148 85.487845  L 352.810371 85.019131  L 353.641007 85.247548  L 354.287057 85.530913  L 354.933108 85.820811  L 355.394573 85.721576  L 355.856037 85.650394  L 356.87126 85.800471  L 357.51731 85.29932  L 357.701896 85.375196  L 358.071068 85.884933  L 358.347947 86.174759  L 358.532532 86.052524  L 358.717118 85.550558  L 359.08629 83.452787  L 359.640048 80.139709  L 359.824634 79.864736  L 360.009219 80.180945  L 360.286098 81.552497  L 360.932149 84.98921  L 361.116735 85.188192  L 361.30132 84.999878  L 362.039664 83.553566  L 362.22425 83.660637  L 362.593422 84.398197  L 363.054886 85.271601  L 363.331765 85.439125  L 365.269917 85.502557  L 365.915967 85.245422  L 366.654311 84.774981  L 366.931189 84.957364  L 367.57724 85.69539  L 367.761826 85.257507  L 367.946412 84.150929  L 368.22329 81.002786  L 368.777048 70.680374  L 369.330806 61.908255  L 369.607684 60.324276  L 369.699977 60.232738  L 369.884563 60.570234  L 370.253735 62.414097  L 370.807493 64.925606  L 371.453543 67.08068  L 371.822715 69.552729  L 372.653351 75.767607  L 372.837937 76.180488  L 373.022523 76.128625  L 373.299402 75.501209  L 373.576281 74.906271  L 373.760866 74.921171  L 373.945452 75.449916  L 374.222331 77.24767  L 375.237553 85.484685  L 375.514432 85.937158  L 375.699018 85.87725  L 376.345069 85.368879  L 376.991119 85.204877  L 377.452584 84.624255  L 377.821756 84.283292  L 378.006341 84.309097  L 378.28322 84.601726  L 378.929271 85.465879  L 379.20615 85.510269  L 380.036786 85.336529  L 380.959715 85.763928  L 381.328887 85.463357  L 381.882645 84.817758  L 381.882645 84.817758  \" style=\"fill:none;stroke:#008000;stroke-linecap:square;\"/>\n",
       "   </g>\n",
       "   <g id=\"text_4\">\n",
       "    <!-- 2 -->\n",
       "    <g transform=\"translate(228.484545 61.730515)scale(0.08 -0.08)\">\n",
       "     <use xlink:href=\"#DejaVuSans-32\"/>\n",
       "    </g>\n",
       "   </g>\n",
       "  </g>\n",
       "  <g id=\"axes_5\">\n",
       "   <g id=\"matplotlib.axis_9\"/>\n",
       "   <g id=\"matplotlib.axis_10\"/>\n",
       "   <g id=\"line2d_5\">\n",
       "    <path clip-path=\"url(#p585e86f533)\" d=\"M 60.917355 96.986047  L 61.194234 95.53698  L 61.286527 95.477005  L 61.471113 95.809294  L 62.578628 99.845505  L 62.855507 101.758071  L 63.224679 106.2423  L 64.147608 118.935447  L 64.51678 120.926625  L 64.978244 121.924051  L 65.624295 122.853082  L 65.808881 122.830273  L 66.08576 122.468948  L 66.547224 121.812341  L 66.73181 121.873495  L 67.008689 122.389724  L 67.470154 123.304905  L 67.65474 123.238892  L 67.931618 122.57197  L 68.393083 121.394539  L 68.485376 121.400034  L 68.669962 121.764328  L 69.223719 123.835114  L 69.316012 123.806085  L 69.500598 122.939591  L 69.777477 119.231398  L 70.238942 108.150182  L 70.700406 98.516293  L 70.977285 96.639475  L 71.069578 96.71395  L 71.254164 97.65631  L 71.900214 102.43825  L 72.0848 102.706595  L 72.269386 102.476628  L 72.546265 101.978361  L 72.638558 101.981121  L 72.823144 102.504407  L 73.100023 104.876737  L 73.561487 112.010592  L 74.115245 119.500197  L 74.392124 121.170499  L 74.669002 121.787055  L 75.776518 122.741173  L 75.961104 122.610319  L 76.79174 121.553108  L 76.976326 121.775751  L 77.622376 122.916291  L 77.806962 122.792644  L 78.083841 122.152957  L 78.453013 121.357019  L 78.637599 121.436325  L 78.822184 121.947206  L 79.375942 123.985579  L 79.468235 123.888675  L 79.652821 122.870633  L 79.9297 118.975257  L 80.483457 105.578073  L 80.852629 98.584569  L 81.037215 97.133503  L 81.129508 96.963989  L 81.221801 97.130224  L 81.406387 98.267503  L 82.14473 104.063265  L 82.329316 104.150079  L 82.790781 103.379496  L 82.883074 103.469349  L 83.067659 104.234097  L 83.344538 107.011644  L 84.452053 121.51329  L 84.728932 122.129045  L 85.005811 122.052447  L 85.28269 121.999416  L 85.559569 122.258591  L 86.021033 122.789518  L 86.205619 122.758787  L 86.482498 122.4224  L 86.85167 121.961203  L 87.036256 121.97142  L 87.313134 122.354391  L 87.774599 123.077483  L 87.959185 123.008974  L 88.236064 122.439581  L 88.605235 121.605539  L 88.789821 121.616884  L 88.974407 122.062452  L 89.528165 124.182359  L 89.620458 124.143644  L 89.805044 123.25091  L 90.081922 119.484943  L 90.543387 108.234107  L 91.004852 98.459243  L 91.281731 96.650712  L 91.374023 96.782635  L 91.558609 97.8818  L 92.20466 103.14308  L 92.389246 103.387462  L 92.573832 103.062903  L 92.85071 102.393607  L 92.943003 102.360542  L 93.035296 102.510439  L 93.219882 103.491209  L 93.496761 106.747475  L 94.41969 120.473941  L 94.696569 121.647523  L 94.881155 121.781247  L 95.34262 121.77673  L 95.619498 122.241148  L 96.080963 123.106743  L 96.265549 123.109239  L 96.542428 122.676063  L 97.003892 121.831757  L 97.188478 121.837139  L 97.465357 122.265937  L 97.834529 122.934259  L 98.019115 122.968687  L 98.203701 122.723032  L 98.757458 121.591132  L 98.942044 121.738603  L 99.218923 122.727694  L 99.588095 124.297814  L 99.680387 124.40446  L 99.77268 124.286904  L 99.957266 123.207705  L 100.234145 119.192886  L 100.787903 105.515919  L 101.157074 98.210031  L 101.433953 96.245513  L 101.526246 96.285766  L 101.710832 97.181228  L 102.541468 103.168125  L 102.726054 103.334826  L 103.002933 103.318835  L 103.187519 103.660649  L 103.372105 104.63182  L 103.648984 107.488387  L 104.756499 121.638303  L 105.033378 122.415527  L 105.217963 122.489502  L 105.771721 122.457548  L 106.325479 122.677666  L 106.602357 122.482187  L 107.156115 121.983979  L 107.340701 122.079189  L 107.709873 122.660292  L 107.986751 123.003818  L 108.171337 122.968463  L 108.448216 122.459184  L 108.909681 121.424129  L 109.094267 121.462274  L 109.278853 121.888943  L 109.83261 123.624897  L 109.924903 123.519979  L 110.109489 122.562059  L 110.386368 118.957299  L 110.940125 106.371473  L 111.40159 98.320689  L 111.586176 97.244599  L 111.678469 97.182053  L 111.863055 97.835449  L 112.785984 103.517571  L 112.97057 103.594283  L 113.247449 103.616007  L 113.432035 103.998381  L 113.708913 105.609964  L 114.078085 109.625232  L 114.816429 118.167041  L 115.277893 120.833446  L 115.739358 122.208164  L 116.10853 122.811997  L 116.293116 122.884935  L 116.477701 122.783963  L 117.308338 121.968117  L 117.585217 122.334476  L 118.046681 123.021539  L 118.231267 122.940528  L 118.508146 122.313464  L 118.969611 121.141165  L 119.061904 121.129064  L 119.246489 121.473709  L 119.523368 122.789451  L 119.89254 124.496228  L 119.984833 124.546524  L 120.077126 124.335258  L 120.261712 122.975927  L 120.53859 118.443454  L 121.553813 97.417991  L 121.646106 97.096968  L 121.738399 97.129204  L 121.922984 98.067291  L 122.753621 104.189135  L 122.938207 104.153297  L 123.307378 103.65364  L 123.399671 103.736663  L 123.584257 104.43905  L 123.861136 107.02537  L 125.060944 121.559342  L 125.337823 122.127181  L 126.537631 122.857651  L 126.81451 122.549296  L 127.368268 121.714609  L 127.552853 121.743965  L 127.829732 122.154362  L 128.291197 122.901644  L 128.475783 122.865245  L 128.752662 122.388361  L 129.121833 121.675614  L 129.306419 121.682359  L 129.491005 122.052974  L 130.044763 123.761677  L 130.137056 123.702707  L 130.321641 122.883754  L 130.59852 119.563511  L 131.059985 109.610021  L 131.52145 100.503268  L 131.798328 98.375639  L 131.890621 98.303995  L 132.075207 98.927478  L 132.813551 103.397877  L 132.998136 103.428342  L 133.459601 102.713954  L 133.551894 102.828538  L 133.73648 103.659234  L 134.013359 106.612939  L 135.120874 122.341989  L 135.30546 122.826411  L 135.490046 122.770364  L 136.043803 122.009996  L 136.228389 122.086407  L 136.87444 122.749362  L 137.151319 122.568377  L 137.612783 122.141444  L 137.797369 122.214572  L 138.166541 122.774133  L 138.44342 123.089327  L 138.628005 123.020269  L 138.904884 122.467141  L 139.274056 121.624703  L 139.458642 121.606189  L 139.643228 122.013819  L 140.289278 124.215372  L 140.381571 124.003889  L 140.566157 122.713152  L 140.843036 118.411896  L 141.858258 97.601683  L 142.042844 97.107585  L 142.22743 97.823278  L 143.058066 103.52715  L 143.242652 103.529435  L 143.611824 103.092943  L 143.704117 103.181227  L 143.888703 103.887798  L 144.165581 106.505932  L 145.36539 121.894867  L 145.642268 122.395135  L 145.919147 122.307839  L 146.196026 122.261581  L 146.565198 122.550755  L 146.842077 122.733402  L 147.026662 122.686312  L 147.303541 122.353112  L 147.765006 121.820434  L 147.949592 121.885902  L 148.318763 122.46834  L 148.595642 122.847768  L 148.780228 122.849371  L 149.057107 122.429343  L 149.426279 121.736515  L 149.610865 121.747244  L 149.79545 122.146912  L 150.441501 124.2145  L 150.626087 123.512559  L 150.902966 120.195864  L 151.36443 109.582172  L 151.918188 98.108395  L 152.102774 96.72465  L 152.195067 96.564509  L 152.28736 96.720859  L 152.471945 97.782084  L 153.210289 103.14408  L 153.394875 103.265339  L 153.856339 102.703205  L 153.948632 102.797218  L 154.133218 103.477806  L 154.410097 105.87055  L 155.702198 120.484673  L 156.07137 121.635455  L 156.71742 122.81369  L 156.994299 122.947834  L 157.178885 122.800656  L 157.548057 122.061115  L 157.917229 121.365096  L 158.101814 121.268173  L 158.2864 121.369643  L 159.024744 122.102006  L 159.301623 121.879573  L 159.670794 121.624146  L 159.85538 121.800703  L 160.132259 122.51933  L 160.501431 123.360215  L 160.593724 123.284175  L 160.77831 122.487303  L 161.055188 119.289863  L 161.516653 109.373044  L 162.070411 98.600304  L 162.254996 97.306094  L 162.347289 97.169232  L 162.439582 97.33832  L 162.624168 98.403286  L 163.270219 103.360929  L 163.454805 103.692438  L 163.63939 103.5329  L 163.916269 103.14291  L 164.008562 103.183192  L 164.193148 103.789832  L 164.470027 106.324473  L 165.023784 115.37049  L 165.485249 121.239863  L 165.762128 122.546877  L 165.946714 122.700384  L 166.223593 122.470686  L 166.500471 122.303985  L 166.77735 122.439096  L 167.146522 122.694319  L 167.331108 122.649358  L 167.70028 122.199151  L 168.069451 121.885047  L 168.254037 121.985191  L 168.992381 122.770494  L 169.176966 122.544044  L 169.730724 121.598084  L 169.91531 121.793278  L 170.192189 122.795959  L 170.56136 124.247344  L 170.653653 124.300774  L 170.745946 124.1231  L 170.930532 122.913562  L 171.207411 118.737128  L 172.314926 97.531595  L 172.407219 97.430124  L 172.591805 98.075109  L 173.330148 102.823698  L 173.422441 102.872325  L 173.607027 102.55686  L 173.976199 101.551778  L 174.068492 101.537268  L 174.253078 102.108155  L 174.529957 104.713463  L 175.083714 114.007556  L 175.545179 120.161842  L 175.822058 121.728937  L 176.098936 122.117005  L 176.744987 122.189534  L 177.298745 122.573365  L 177.575623 122.430798  L 178.037088 122.076546  L 178.221674 122.144919  L 178.498553 122.538024  L 178.867724 123.110758  L 179.05231 123.1341  L 179.236896 122.893806  L 179.882947 121.526933  L 180.067533 121.726131  L 180.344411 122.754216  L 180.713583 124.194578  L 180.805876 124.233965  L 180.898169 124.039541  L 181.082755 122.794883  L 181.359634 118.584613  L 182.374856 97.91284  L 182.559442 97.383264  L 182.744028 98.046652  L 183.574664 103.13871  L 183.75925 102.910586  L 184.128422 102.043697  L 184.220715 102.055638  L 184.405301 102.673609  L 184.682179 105.343567  L 185.235937 114.699198  L 185.697402 120.659334  L 185.97428 122.005794  L 186.158866 122.207679  L 186.804917 122.197869  L 187.450967 122.974687  L 187.635553 122.885451  L 188.46619 122.003563  L 188.743068 122.379426  L 189.11224 122.845402  L 189.296826 122.74021  L 189.573705 122.058976  L 190.035169 120.827943  L 190.127462 120.820364  L 190.312048 121.187746  L 190.68122 123.062245  L 190.958099 124.135775  L 191.050392 124.121385  L 191.234978 123.227375  L 191.511856 119.393532  L 192.065614 105.808868  L 192.434786 98.691859  L 192.711665 97.016863  L 192.803957 97.163109  L 192.988543 98.24383  L 193.634594 103.356597  L 193.81918 103.678224  L 194.003766 103.496994  L 194.280644 103.084218  L 194.372937 103.121875  L 194.557523 103.724168  L 194.834402 106.218401  L 195.480453 116.30742  L 195.849624 120.411633  L 196.126503 121.705813  L 196.403382 122.002131  L 196.772554 122.107502  L 197.141725 122.59124  L 197.510897 122.98732  L 197.695483 122.93815  L 198.064655 122.430045  L 198.341533 122.119999  L 198.526119 122.140526  L 198.802998 122.525699  L 199.264463 123.17558  L 199.264463 123.17558  \" style=\"fill:none;stroke:#bfbf00;stroke-linecap:square;\"/>\n",
       "   </g>\n",
       "   <g id=\"line2d_6\">\n",
       "    <path d=\"M 60.917355 132.395294  L 79.375942 132.395294  \" style=\"fill:none;stroke:#000000;stroke-linecap:square;stroke-width:1.5;\"/>\n",
       "   </g>\n",
       "   <g id=\"text_5\">\n",
       "    <!-- 3 -->\n",
       "    <defs>\n",
       "     <path d=\"M 40.578125 39.3125  Q 47.65625 37.796875 51.625 33  Q 55.609375 28.21875 55.609375 21.1875  Q 55.609375 10.40625 48.1875 4.484375  Q 40.765625 -1.421875 27.09375 -1.421875  Q 22.515625 -1.421875 17.65625 -0.515625  Q 12.796875 0.390625 7.625 2.203125  L 7.625 11.71875  Q 11.71875 9.328125 16.59375 8.109375  Q 21.484375 6.890625 26.8125 6.890625  Q 36.078125 6.890625 40.9375 10.546875  Q 45.796875 14.203125 45.796875 21.1875  Q 45.796875 27.640625 41.28125 31.265625  Q 36.765625 34.90625 28.71875 34.90625  L 20.21875 34.90625  L 20.21875 43.015625  L 29.109375 43.015625  Q 36.375 43.015625 40.234375 45.921875  Q 44.09375 48.828125 44.09375 54.296875  Q 44.09375 59.90625 40.109375 62.90625  Q 36.140625 65.921875 28.71875 65.921875  Q 24.65625 65.921875 20.015625 65.03125  Q 15.375 64.15625 9.8125 62.3125  L 9.8125 71.09375  Q 15.4375 72.65625 20.34375 73.4375  Q 25.25 74.21875 29.59375 74.21875  Q 40.828125 74.21875 47.359375 69.109375  Q 53.90625 64.015625 53.90625 55.328125  Q 53.90625 49.265625 50.4375 45.09375  Q 46.96875 40.921875 40.578125 39.3125  z \" id=\"DejaVuSans-33\"/>\n",
       "    </defs>\n",
       "    <g transform=\"translate(45.866364 100.102279)scale(0.08 -0.08)\">\n",
       "     <use xlink:href=\"#DejaVuSans-33\"/>\n",
       "    </g>\n",
       "   </g>\n",
       "   <g id=\"text_6\">\n",
       "    <!-- 2 s -->\n",
       "    <defs>\n",
       "     <path id=\"DejaVuSans-20\"/>\n",
       "     <path d=\"M 44.28125 53.078125  L 44.28125 44.578125  Q 40.484375 46.53125 36.375 47.5  Q 32.28125 48.484375 27.875 48.484375  Q 21.1875 48.484375 17.84375 46.4375  Q 14.5 44.390625 14.5 40.28125  Q 14.5 37.15625 16.890625 35.375  Q 19.28125 33.59375 26.515625 31.984375  L 29.59375 31.296875  Q 39.15625 29.25 43.1875 25.515625  Q 47.21875 21.78125 47.21875 15.09375  Q 47.21875 7.46875 41.1875 3.015625  Q 35.15625 -1.421875 24.609375 -1.421875  Q 20.21875 -1.421875 15.453125 -0.5625  Q 10.6875 0.296875 5.421875 2  L 5.421875 11.28125  Q 10.40625 8.6875 15.234375 7.390625  Q 20.0625 6.109375 24.8125 6.109375  Q 31.15625 6.109375 34.5625 8.28125  Q 37.984375 10.453125 37.984375 14.40625  Q 37.984375 18.0625 35.515625 20.015625  Q 33.0625 21.96875 24.703125 23.78125  L 21.578125 24.515625  Q 13.234375 26.265625 9.515625 29.90625  Q 5.8125 33.546875 5.8125 39.890625  Q 5.8125 47.609375 11.28125 51.796875  Q 16.75 56 26.8125 56  Q 31.78125 56 36.171875 55.265625  Q 40.578125 54.546875 44.28125 53.078125  z \" id=\"DejaVuSans-73\"/>\n",
       "    </defs>\n",
       "    <g transform=\"translate(62.771649 141.592555)scale(0.1 -0.1)\">\n",
       "     <use xlink:href=\"#DejaVuSans-32\"/>\n",
       "     <use x=\"63.623047\" xlink:href=\"#DejaVuSans-20\"/>\n",
       "     <use x=\"95.410156\" xlink:href=\"#DejaVuSans-73\"/>\n",
       "    </g>\n",
       "   </g>\n",
       "   <g id=\"LineCollection_3\">\n",
       "    <path d=\"M 60.917355 127.598824  L 60.917355 122.802353  \" style=\"fill:none;stroke:#000000;stroke-width:1.5;\"/>\n",
       "    <path d=\"M 69.962063 127.598824  L 69.962063 122.802353  \" style=\"fill:none;stroke:#000000;stroke-width:1.5;\"/>\n",
       "    <path d=\"M 80.114286 127.598824  L 80.114286 122.802353  \" style=\"fill:none;stroke:#000000;stroke-width:1.5;\"/>\n",
       "    <path d=\"M 90.266508 127.598824  L 90.266508 122.802353  \" style=\"fill:none;stroke:#000000;stroke-width:1.5;\"/>\n",
       "    <path d=\"M 100.418731 127.598824  L 100.418731 122.802353  \" style=\"fill:none;stroke:#000000;stroke-width:1.5;\"/>\n",
       "    <path d=\"M 110.570954 127.598824  L 110.570954 122.802353  \" style=\"fill:none;stroke:#000000;stroke-width:1.5;\"/>\n",
       "    <path d=\"M 120.723176 127.598824  L 120.723176 122.802353  \" style=\"fill:none;stroke:#000000;stroke-width:1.5;\"/>\n",
       "    <path d=\"M 130.875399 127.598824  L 130.875399 122.802353  \" style=\"fill:none;stroke:#000000;stroke-width:1.5;\"/>\n",
       "    <path d=\"M 141.027622 127.598824  L 141.027622 122.802353  \" style=\"fill:none;stroke:#000000;stroke-width:1.5;\"/>\n",
       "    <path d=\"M 151.179844 127.598824  L 151.179844 122.802353  \" style=\"fill:none;stroke:#000000;stroke-width:1.5;\"/>\n",
       "    <path d=\"M 161.239774 127.598824  L 161.239774 122.802353  \" style=\"fill:none;stroke:#000000;stroke-width:1.5;\"/>\n",
       "    <path d=\"M 171.391997 127.598824  L 171.391997 122.802353  \" style=\"fill:none;stroke:#000000;stroke-width:1.5;\"/>\n",
       "    <path d=\"M 181.54422 127.598824  L 181.54422 122.802353  \" style=\"fill:none;stroke:#000000;stroke-width:1.5;\"/>\n",
       "    <path d=\"M 191.696442 127.598824  L 191.696442 122.802353  \" style=\"fill:none;stroke:#000000;stroke-width:1.5;\"/>\n",
       "   </g>\n",
       "  </g>\n",
       "  <g id=\"axes_6\">\n",
       "   <g id=\"matplotlib.axis_11\"/>\n",
       "   <g id=\"matplotlib.axis_12\"/>\n",
       "   <g id=\"line2d_7\">\n",
       "    <path clip-path=\"url(#p8d24ead9ba)\" d=\"M 243.535537 123.914354  L 243.904709 124.072721  L 244.366174 123.989187  L 244.919931 123.906779  L 247.688719 124.111423  L 248.611649 123.874931  L 249.811457 123.962743  L 250.734386 124.261348  L 251.011265 124.065254  L 252.11878 122.919257  L 252.487952 123.12342  L 253.041709 123.410883  L 253.503174 123.307939  L 253.964639 123.247813  L 254.610689 123.513444  L 255.072154 123.558327  L 255.718204 123.537766  L 256.179669 123.830655  L 256.733427 124.177238  L 257.102598 124.16906  L 257.840942 124.066758  L 258.856164 124.238353  L 260.055972 123.840528  L 260.978902 124.038252  L 262.086417 123.873292  L 263.009346 124.152285  L 264.024568 123.917958  L 264.947498 124.255805  L 265.408962 123.911902  L 265.778134 123.718695  L 266.055013 123.798283  L 266.701064 124.148502  L 266.977942 123.977215  L 267.808579 123.157572  L 268.085458 122.982217  L 268.270043 122.58128  L 268.454629 121.691207  L 268.731508 119.003002  L 269.10068 112.608942  L 269.931316 96.706007  L 270.115902 95.561251  L 270.208195 95.477005  L 270.392781 96.21023  L 270.66966 98.994305  L 271.31571 106.064302  L 271.592589 107.013179  L 271.777175 106.996357  L 272.146347 106.757803  L 272.330932 107.193477  L 272.607811 109.118474  L 273.069276 115.233974  L 273.623034 122.389782  L 273.899912 124.106798  L 274.084498 124.512609  L 274.269084 124.499836  L 275.007428 123.757199  L 275.284306 123.917397  L 275.838064 124.279372  L 276.207236 124.159531  L 277.130165 123.679062  L 277.868508 123.601668  L 278.23768 123.800696  L 278.976024 124.295776  L 279.252902 124.162249  L 280.083539 123.460826  L 280.360418 123.567112  L 280.914175 123.85785  L 281.191054 123.730631  L 281.929398 123.146049  L 282.206276 123.30464  L 282.94462 124.020945  L 283.221499 123.90953  L 284.052135 123.273488  L 284.421307 123.449525  L 284.882771 123.662761  L 285.251943 123.569752  L 285.713408 123.451942  L 285.990287 123.593984  L 286.913216 124.301013  L 287.190095 124.14889  L 288.113024 123.448014  L 288.574489 123.519062  L 289.86659 123.899655  L 290.328055 123.758222  L 291.066398 123.434613  L 291.43557 123.603415  L 292.358499 124.268442  L 292.819964 124.155301  L 293.558307 123.973974  L 294.296651 123.805779  L 294.758115 123.718842  L 295.127287 123.874185  L 295.773338 124.213565  L 296.050216 124.095643  L 296.880853 123.433529  L 297.157732 123.550116  L 297.711489 123.928575  L 297.988368 123.806469  L 298.449833 123.111965  L 298.819004 122.737902  L 299.00359 122.798284  L 299.280469 123.209895  L 299.92652 124.363177  L 300.111105 124.374485  L 300.387984 124.051776  L 301.126328 122.864247  L 301.403207 122.865849  L 302.326136 123.298122  L 303.064479 123.120004  L 303.433651 123.375968  L 304.079702 123.895688  L 304.541166 123.909978  L 305.094924 123.926178  L 305.92556 124.082929  L 306.940783 123.898874  L 307.402247 123.936878  L 307.679126 123.723308  L 308.140591 122.901077  L 308.509762 122.315811  L 308.694348 122.244151  L 308.878934 122.368101  L 309.155813 122.869577  L 309.801864 124.165034  L 309.986449 124.235069  L 310.263328 124.041169  L 311.001672 123.246655  L 311.27855 123.304256  L 312.016894 123.681851  L 312.386066 123.526388  L 312.939823 123.229772  L 313.308995 123.283946  L 314.41651 123.69167  L 315.98549 123.74459  L 316.539248 123.689022  L 317.000712 123.939308  L 317.462177 124.127822  L 317.739056 123.984616  L 318.108228 123.464892  L 318.661985 122.648438  L 318.938864 122.566534  L 319.215743 122.764608  L 320.415551 124.168784  L 320.784723 124.135893  L 321.246187 123.81612  L 321.984531 123.233729  L 322.26141 123.235685  L 322.630581 123.49743  L 323.368925 124.132289  L 323.738096 124.126151  L 324.753319 123.888859  L 327.245228 124.027956  L 327.891278 123.568468  L 328.537329 122.888727  L 329.644844 121.395549  L 329.82943 121.51572  L 330.106309 122.006438  L 331.029238 124.062874  L 331.306117 124.166807  L 331.767582 123.968944  L 332.229046 123.837248  L 333.336562 123.752736  L 333.890319 123.677176  L 335.274713 123.82026  L 335.920764 123.707611  L 336.474521 123.923742  L 337.120572 124.130642  L 337.766622 124.018633  L 338.32038 124.010438  L 339.520188 124.210977  L 340.812289 123.709686  L 341.735219 123.812445  L 342.565855 123.713414  L 343.765663 123.963943  L 344.504007 123.854655  L 345.611522 124.119021  L 346.534451 123.797238  L 347.45738 123.894198  L 348.195724 123.669811  L 348.657189 123.901467  L 349.02636 124.004044  L 349.303239 123.83221  L 350.041583 123.060384  L 350.226168 123.117193  L 350.503047 123.45457  L 350.964512 124.089082  L 351.149098 124.111305  L 351.333684 123.927712  L 351.702855 123.080725  L 352.16432 122.084359  L 352.348906 121.998022  L 352.533492 122.138044  L 352.902663 122.90909  L 353.456421 124.03181  L 353.7333 124.130699  L 354.010179 123.917427  L 354.933108 122.909151  L 355.209987 122.964788  L 355.579159 123.323661  L 356.317502 124.13887  L 356.686674 124.214223  L 358.163361 123.888281  L 358.717118 123.352837  L 359.08629 123.099392  L 359.363169 123.140487  L 359.824634 123.54665  L 360.193805 123.785629  L 360.470684 123.736077  L 361.485906 123.187449  L 361.855078 123.50325  L 362.501129 124.133164  L 362.8703 124.162707  L 364.070108 123.870207  L 365.269917 124.363506  L 367.392654 123.70201  L 368.038705 123.260402  L 368.315583 123.298468  L 369.423099 123.806506  L 370.346028 123.461799  L 370.7152 123.781688  L 371.268957 124.34107  L 371.545836 124.371137  L 371.915008 124.119257  L 372.468765 123.727633  L 372.745644 123.768397  L 373.760866 124.185786  L 374.49921 123.987625  L 375.422139 124.192963  L 375.699018 123.817183  L 376.437362 122.619433  L 376.621947 122.653739  L 376.898826 123.036263  L 377.63717 124.35611  L 377.914048 124.375117  L 378.28322 124.045503  L 378.929271 123.47044  L 379.8522 123.051309  L 380.221372 123.12902  L 381.144301 123.653879  L 381.42118 123.408929  L 381.882645 122.814817  L 381.882645 122.814817  \" style=\"fill:none;stroke:#008000;stroke-linecap:square;\"/>\n",
       "   </g>\n",
       "   <g id=\"text_7\">\n",
       "    <!-- 3 -->\n",
       "    <g transform=\"translate(228.484545 100.102279)scale(0.08 -0.08)\">\n",
       "     <use xlink:href=\"#DejaVuSans-33\"/>\n",
       "    </g>\n",
       "   </g>\n",
       "  </g>\n",
       " </g>\n",
       " <defs>\n",
       "  <clipPath id=\"p27d0ba0f89\">\n",
       "   <rect height=\"31.976471\" width=\"152.181818\" x=\"54\" y=\"17.28\"/>\n",
       "  </clipPath>\n",
       "  <clipPath id=\"pc3af597a4d\">\n",
       "   <rect height=\"31.976471\" width=\"152.181818\" x=\"236.618182\" y=\"17.28\"/>\n",
       "  </clipPath>\n",
       "  <clipPath id=\"p36e706c579\">\n",
       "   <rect height=\"31.976471\" width=\"152.181818\" x=\"54\" y=\"55.651765\"/>\n",
       "  </clipPath>\n",
       "  <clipPath id=\"p4b6a6b12c1\">\n",
       "   <rect height=\"31.976471\" width=\"152.181818\" x=\"236.618182\" y=\"55.651765\"/>\n",
       "  </clipPath>\n",
       "  <clipPath id=\"p585e86f533\">\n",
       "   <rect height=\"31.976471\" width=\"152.181818\" x=\"54\" y=\"94.023529\"/>\n",
       "  </clipPath>\n",
       "  <clipPath id=\"p8d24ead9ba\">\n",
       "   <rect height=\"31.976471\" width=\"152.181818\" x=\"236.618182\" y=\"94.023529\"/>\n",
       "  </clipPath>\n",
       " </defs>\n",
       "</g>\n",
       "      <text fill=\"black\" font-family=\"Verdana\" font-size=\"14\" font-weight=\"normal\" letter-spacing=\"0\" text-anchor=\"start\" x=\"30\" y=\"20\">B</text>\n",
       "    </g>\n",
       "    <g transform=\"translate(260, 160) scale(1) \">\n",
       "      <text fill=\"black\" font-family=\"Verdana\" font-size=\"14\" font-weight=\"normal\" letter-spacing=\"0\" text-anchor=\"start\" x=\"0\" y=\"0\">D</text>\n",
       "      <g><defs>\n",
       "  <style type=\"text/css\">\n",
       "*{stroke-linecap:butt;stroke-linejoin:round;}\n",
       "  </style>\n",
       " </defs>\n",
       " <g id=\"figure_1\">\n",
       "  <g id=\"patch_1\">\n",
       "   <path d=\"M 0 144  L 216 144  L 216 0  L 0 0  z \" style=\"fill:#ffffff;\"/>\n",
       "  </g>\n",
       "  <g id=\"axes_1\">\n",
       "   <g id=\"patch_2\">\n",
       "    <path d=\"M 27 126  L 194.4 126  L 194.4 17.28  L 27 17.28  z \" style=\"fill:#ffffff;\"/>\n",
       "   </g>\n",
       "   <g id=\"matplotlib.axis_1\">\n",
       "    <g id=\"xtick_1\">\n",
       "     <g id=\"line2d_1\">\n",
       "      <defs>\n",
       "       <path d=\"M 0 0  L 0 2  \" id=\"m75be2c88ee\" style=\"stroke:#000000;stroke-width:0.8;\"/>\n",
       "      </defs>\n",
       "      <g>\n",
       "       <use style=\"stroke:#000000;stroke-width:0.8;\" x=\"51.518182\" xlink:href=\"#m75be2c88ee\" y=\"126\"/>\n",
       "      </g>\n",
       "     </g>\n",
       "     <g id=\"text_1\">\n",
       "      <!-- 0.2 -->\n",
       "      <defs>\n",
       "       <path d=\"M 31.78125 66.40625  Q 24.171875 66.40625 20.328125 58.90625  Q 16.5 51.421875 16.5 36.375  Q 16.5 21.390625 20.328125 13.890625  Q 24.171875 6.390625 31.78125 6.390625  Q 39.453125 6.390625 43.28125 13.890625  Q 47.125 21.390625 47.125 36.375  Q 47.125 51.421875 43.28125 58.90625  Q 39.453125 66.40625 31.78125 66.40625  z M 31.78125 74.21875  Q 44.046875 74.21875 50.515625 64.515625  Q 56.984375 54.828125 56.984375 36.375  Q 56.984375 17.96875 50.515625 8.265625  Q 44.046875 -1.421875 31.78125 -1.421875  Q 19.53125 -1.421875 13.0625 8.265625  Q 6.59375 17.96875 6.59375 36.375  Q 6.59375 54.828125 13.0625 64.515625  Q 19.53125 74.21875 31.78125 74.21875  z \" id=\"DejaVuSans-30\"/>\n",
       "       <path d=\"M 10.6875 12.40625  L 21 12.40625  L 21 0  L 10.6875 0  z \" id=\"DejaVuSans-2e\"/>\n",
       "       <path d=\"M 19.1875 8.296875  L 53.609375 8.296875  L 53.609375 0  L 7.328125 0  L 7.328125 8.296875  Q 12.9375 14.109375 22.625 23.890625  Q 32.328125 33.6875 34.8125 36.53125  Q 39.546875 41.84375 41.421875 45.53125  Q 43.3125 49.21875 43.3125 52.78125  Q 43.3125 58.59375 39.234375 62.25  Q 35.15625 65.921875 28.609375 65.921875  Q 23.96875 65.921875 18.8125 64.3125  Q 13.671875 62.703125 7.8125 59.421875  L 7.8125 69.390625  Q 13.765625 71.78125 18.9375 73  Q 24.125 74.21875 28.421875 74.21875  Q 39.75 74.21875 46.484375 68.546875  Q 53.21875 62.890625 53.21875 53.421875  Q 53.21875 48.921875 51.53125 44.890625  Q 49.859375 40.875 45.40625 35.40625  Q 44.1875 33.984375 37.640625 27.21875  Q 31.109375 20.453125 19.1875 8.296875  z \" id=\"DejaVuSans-32\"/>\n",
       "      </defs>\n",
       "      <g transform=\"translate(43.566619 139.098437)scale(0.1 -0.1)\">\n",
       "       <use xlink:href=\"#DejaVuSans-30\"/>\n",
       "       <use x=\"63.623047\" xlink:href=\"#DejaVuSans-2e\"/>\n",
       "       <use x=\"95.410156\" xlink:href=\"#DejaVuSans-32\"/>\n",
       "      </g>\n",
       "     </g>\n",
       "    </g>\n",
       "    <g id=\"xtick_2\">\n",
       "     <g id=\"line2d_2\">\n",
       "      <g>\n",
       "       <use style=\"stroke:#000000;stroke-width:0.8;\" x=\"85.336364\" xlink:href=\"#m75be2c88ee\" y=\"126\"/>\n",
       "      </g>\n",
       "     </g>\n",
       "     <g id=\"text_2\">\n",
       "      <!-- 0.4 -->\n",
       "      <defs>\n",
       "       <path d=\"M 37.796875 64.3125  L 12.890625 25.390625  L 37.796875 25.390625  z M 35.203125 72.90625  L 47.609375 72.90625  L 47.609375 25.390625  L 58.015625 25.390625  L 58.015625 17.1875  L 47.609375 17.1875  L 47.609375 0  L 37.796875 0  L 37.796875 17.1875  L 4.890625 17.1875  L 4.890625 26.703125  z \" id=\"DejaVuSans-34\"/>\n",
       "      </defs>\n",
       "      <g transform=\"translate(77.384801 139.098437)scale(0.1 -0.1)\">\n",
       "       <use xlink:href=\"#DejaVuSans-30\"/>\n",
       "       <use x=\"63.623047\" xlink:href=\"#DejaVuSans-2e\"/>\n",
       "       <use x=\"95.410156\" xlink:href=\"#DejaVuSans-34\"/>\n",
       "      </g>\n",
       "     </g>\n",
       "    </g>\n",
       "    <g id=\"xtick_3\">\n",
       "     <g id=\"line2d_3\">\n",
       "      <g>\n",
       "       <use style=\"stroke:#000000;stroke-width:0.8;\" x=\"119.154545\" xlink:href=\"#m75be2c88ee\" y=\"126\"/>\n",
       "      </g>\n",
       "     </g>\n",
       "     <g id=\"text_3\">\n",
       "      <!-- 0.6 -->\n",
       "      <defs>\n",
       "       <path d=\"M 33.015625 40.375  Q 26.375 40.375 22.484375 35.828125  Q 18.609375 31.296875 18.609375 23.390625  Q 18.609375 15.53125 22.484375 10.953125  Q 26.375 6.390625 33.015625 6.390625  Q 39.65625 6.390625 43.53125 10.953125  Q 47.40625 15.53125 47.40625 23.390625  Q 47.40625 31.296875 43.53125 35.828125  Q 39.65625 40.375 33.015625 40.375  z M 52.59375 71.296875  L 52.59375 62.3125  Q 48.875 64.0625 45.09375 64.984375  Q 41.3125 65.921875 37.59375 65.921875  Q 27.828125 65.921875 22.671875 59.328125  Q 17.53125 52.734375 16.796875 39.40625  Q 19.671875 43.65625 24.015625 45.921875  Q 28.375 48.1875 33.59375 48.1875  Q 44.578125 48.1875 50.953125 41.515625  Q 57.328125 34.859375 57.328125 23.390625  Q 57.328125 12.15625 50.6875 5.359375  Q 44.046875 -1.421875 33.015625 -1.421875  Q 20.359375 -1.421875 13.671875 8.265625  Q 6.984375 17.96875 6.984375 36.375  Q 6.984375 53.65625 15.1875 63.9375  Q 23.390625 74.21875 37.203125 74.21875  Q 40.921875 74.21875 44.703125 73.484375  Q 48.484375 72.75 52.59375 71.296875  z \" id=\"DejaVuSans-36\"/>\n",
       "      </defs>\n",
       "      <g transform=\"translate(111.202983 139.098437)scale(0.1 -0.1)\">\n",
       "       <use xlink:href=\"#DejaVuSans-30\"/>\n",
       "       <use x=\"63.623047\" xlink:href=\"#DejaVuSans-2e\"/>\n",
       "       <use x=\"95.410156\" xlink:href=\"#DejaVuSans-36\"/>\n",
       "      </g>\n",
       "     </g>\n",
       "    </g>\n",
       "    <g id=\"xtick_4\">\n",
       "     <g id=\"line2d_4\">\n",
       "      <g>\n",
       "       <use style=\"stroke:#000000;stroke-width:0.8;\" x=\"152.972727\" xlink:href=\"#m75be2c88ee\" y=\"126\"/>\n",
       "      </g>\n",
       "     </g>\n",
       "     <g id=\"text_4\">\n",
       "      <!-- 0.8 -->\n",
       "      <defs>\n",
       "       <path d=\"M 31.78125 34.625  Q 24.75 34.625 20.71875 30.859375  Q 16.703125 27.09375 16.703125 20.515625  Q 16.703125 13.921875 20.71875 10.15625  Q 24.75 6.390625 31.78125 6.390625  Q 38.8125 6.390625 42.859375 10.171875  Q 46.921875 13.96875 46.921875 20.515625  Q 46.921875 27.09375 42.890625 30.859375  Q 38.875 34.625 31.78125 34.625  z M 21.921875 38.8125  Q 15.578125 40.375 12.03125 44.71875  Q 8.5 49.078125 8.5 55.328125  Q 8.5 64.0625 14.71875 69.140625  Q 20.953125 74.21875 31.78125 74.21875  Q 42.671875 74.21875 48.875 69.140625  Q 55.078125 64.0625 55.078125 55.328125  Q 55.078125 49.078125 51.53125 44.71875  Q 48 40.375 41.703125 38.8125  Q 48.828125 37.15625 52.796875 32.3125  Q 56.78125 27.484375 56.78125 20.515625  Q 56.78125 9.90625 50.3125 4.234375  Q 43.84375 -1.421875 31.78125 -1.421875  Q 19.734375 -1.421875 13.25 4.234375  Q 6.78125 9.90625 6.78125 20.515625  Q 6.78125 27.484375 10.78125 32.3125  Q 14.796875 37.15625 21.921875 38.8125  z M 18.3125 54.390625  Q 18.3125 48.734375 21.84375 45.5625  Q 25.390625 42.390625 31.78125 42.390625  Q 38.140625 42.390625 41.71875 45.5625  Q 45.3125 48.734375 45.3125 54.390625  Q 45.3125 60.0625 41.71875 63.234375  Q 38.140625 66.40625 31.78125 66.40625  Q 25.390625 66.40625 21.84375 63.234375  Q 18.3125 60.0625 18.3125 54.390625  z \" id=\"DejaVuSans-38\"/>\n",
       "      </defs>\n",
       "      <g transform=\"translate(145.021165 139.098437)scale(0.1 -0.1)\">\n",
       "       <use xlink:href=\"#DejaVuSans-30\"/>\n",
       "       <use x=\"63.623047\" xlink:href=\"#DejaVuSans-2e\"/>\n",
       "       <use x=\"95.410156\" xlink:href=\"#DejaVuSans-38\"/>\n",
       "      </g>\n",
       "     </g>\n",
       "    </g>\n",
       "    <g id=\"xtick_5\">\n",
       "     <g id=\"line2d_5\">\n",
       "      <g>\n",
       "       <use style=\"stroke:#000000;stroke-width:0.8;\" x=\"186.790909\" xlink:href=\"#m75be2c88ee\" y=\"126\"/>\n",
       "      </g>\n",
       "     </g>\n",
       "     <g id=\"text_5\">\n",
       "      <!-- 1.0 -->\n",
       "      <defs>\n",
       "       <path d=\"M 12.40625 8.296875  L 28.515625 8.296875  L 28.515625 63.921875  L 10.984375 60.40625  L 10.984375 69.390625  L 28.421875 72.90625  L 38.28125 72.90625  L 38.28125 8.296875  L 54.390625 8.296875  L 54.390625 0  L 12.40625 0  z \" id=\"DejaVuSans-31\"/>\n",
       "      </defs>\n",
       "      <g transform=\"translate(178.839347 139.098437)scale(0.1 -0.1)\">\n",
       "       <use xlink:href=\"#DejaVuSans-31\"/>\n",
       "       <use x=\"63.623047\" xlink:href=\"#DejaVuSans-2e\"/>\n",
       "       <use x=\"95.410156\" xlink:href=\"#DejaVuSans-30\"/>\n",
       "      </g>\n",
       "     </g>\n",
       "    </g>\n",
       "    <g id=\"text_6\">\n",
       "     <!-- stimulation frequency, Hz -->\n",
       "     <defs>\n",
       "      <path d=\"M 44.28125 53.078125  L 44.28125 44.578125  Q 40.484375 46.53125 36.375 47.5  Q 32.28125 48.484375 27.875 48.484375  Q 21.1875 48.484375 17.84375 46.4375  Q 14.5 44.390625 14.5 40.28125  Q 14.5 37.15625 16.890625 35.375  Q 19.28125 33.59375 26.515625 31.984375  L 29.59375 31.296875  Q 39.15625 29.25 43.1875 25.515625  Q 47.21875 21.78125 47.21875 15.09375  Q 47.21875 7.46875 41.1875 3.015625  Q 35.15625 -1.421875 24.609375 -1.421875  Q 20.21875 -1.421875 15.453125 -0.5625  Q 10.6875 0.296875 5.421875 2  L 5.421875 11.28125  Q 10.40625 8.6875 15.234375 7.390625  Q 20.0625 6.109375 24.8125 6.109375  Q 31.15625 6.109375 34.5625 8.28125  Q 37.984375 10.453125 37.984375 14.40625  Q 37.984375 18.0625 35.515625 20.015625  Q 33.0625 21.96875 24.703125 23.78125  L 21.578125 24.515625  Q 13.234375 26.265625 9.515625 29.90625  Q 5.8125 33.546875 5.8125 39.890625  Q 5.8125 47.609375 11.28125 51.796875  Q 16.75 56 26.8125 56  Q 31.78125 56 36.171875 55.265625  Q 40.578125 54.546875 44.28125 53.078125  z \" id=\"DejaVuSans-73\"/>\n",
       "      <path d=\"M 18.3125 70.21875  L 18.3125 54.6875  L 36.8125 54.6875  L 36.8125 47.703125  L 18.3125 47.703125  L 18.3125 18.015625  Q 18.3125 11.328125 20.140625 9.421875  Q 21.96875 7.515625 27.59375 7.515625  L 36.8125 7.515625  L 36.8125 0  L 27.59375 0  Q 17.1875 0 13.234375 3.875  Q 9.28125 7.765625 9.28125 18.015625  L 9.28125 47.703125  L 2.6875 47.703125  L 2.6875 54.6875  L 9.28125 54.6875  L 9.28125 70.21875  z \" id=\"DejaVuSans-74\"/>\n",
       "      <path d=\"M 9.421875 54.6875  L 18.40625 54.6875  L 18.40625 0  L 9.421875 0  z M 9.421875 75.984375  L 18.40625 75.984375  L 18.40625 64.59375  L 9.421875 64.59375  z \" id=\"DejaVuSans-69\"/>\n",
       "      <path d=\"M 52 44.1875  Q 55.375 50.25 60.0625 53.125  Q 64.75 56 71.09375 56  Q 79.640625 56 84.28125 50.015625  Q 88.921875 44.046875 88.921875 33.015625  L 88.921875 0  L 79.890625 0  L 79.890625 32.71875  Q 79.890625 40.578125 77.09375 44.375  Q 74.3125 48.1875 68.609375 48.1875  Q 61.625 48.1875 57.5625 43.546875  Q 53.515625 38.921875 53.515625 30.90625  L 53.515625 0  L 44.484375 0  L 44.484375 32.71875  Q 44.484375 40.625 41.703125 44.40625  Q 38.921875 48.1875 33.109375 48.1875  Q 26.21875 48.1875 22.15625 43.53125  Q 18.109375 38.875 18.109375 30.90625  L 18.109375 0  L 9.078125 0  L 9.078125 54.6875  L 18.109375 54.6875  L 18.109375 46.1875  Q 21.1875 51.21875 25.484375 53.609375  Q 29.78125 56 35.6875 56  Q 41.65625 56 45.828125 52.96875  Q 50 49.953125 52 44.1875  z \" id=\"DejaVuSans-6d\"/>\n",
       "      <path d=\"M 8.5 21.578125  L 8.5 54.6875  L 17.484375 54.6875  L 17.484375 21.921875  Q 17.484375 14.15625 20.5 10.265625  Q 23.53125 6.390625 29.59375 6.390625  Q 36.859375 6.390625 41.078125 11.03125  Q 45.3125 15.671875 45.3125 23.6875  L 45.3125 54.6875  L 54.296875 54.6875  L 54.296875 0  L 45.3125 0  L 45.3125 8.40625  Q 42.046875 3.421875 37.71875 1  Q 33.40625 -1.421875 27.6875 -1.421875  Q 18.265625 -1.421875 13.375 4.4375  Q 8.5 10.296875 8.5 21.578125  z M 31.109375 56  z \" id=\"DejaVuSans-75\"/>\n",
       "      <path d=\"M 9.421875 75.984375  L 18.40625 75.984375  L 18.40625 0  L 9.421875 0  z \" id=\"DejaVuSans-6c\"/>\n",
       "      <path d=\"M 34.28125 27.484375  Q 23.390625 27.484375 19.1875 25  Q 14.984375 22.515625 14.984375 16.5  Q 14.984375 11.71875 18.140625 8.90625  Q 21.296875 6.109375 26.703125 6.109375  Q 34.1875 6.109375 38.703125 11.40625  Q 43.21875 16.703125 43.21875 25.484375  L 43.21875 27.484375  z M 52.203125 31.203125  L 52.203125 0  L 43.21875 0  L 43.21875 8.296875  Q 40.140625 3.328125 35.546875 0.953125  Q 30.953125 -1.421875 24.3125 -1.421875  Q 15.921875 -1.421875 10.953125 3.296875  Q 6 8.015625 6 15.921875  Q 6 25.140625 12.171875 29.828125  Q 18.359375 34.515625 30.609375 34.515625  L 43.21875 34.515625  L 43.21875 35.40625  Q 43.21875 41.609375 39.140625 45  Q 35.0625 48.390625 27.6875 48.390625  Q 23 48.390625 18.546875 47.265625  Q 14.109375 46.140625 10.015625 43.890625  L 10.015625 52.203125  Q 14.9375 54.109375 19.578125 55.046875  Q 24.21875 56 28.609375 56  Q 40.484375 56 46.34375 49.84375  Q 52.203125 43.703125 52.203125 31.203125  z \" id=\"DejaVuSans-61\"/>\n",
       "      <path d=\"M 30.609375 48.390625  Q 23.390625 48.390625 19.1875 42.75  Q 14.984375 37.109375 14.984375 27.296875  Q 14.984375 17.484375 19.15625 11.84375  Q 23.34375 6.203125 30.609375 6.203125  Q 37.796875 6.203125 41.984375 11.859375  Q 46.1875 17.53125 46.1875 27.296875  Q 46.1875 37.015625 41.984375 42.703125  Q 37.796875 48.390625 30.609375 48.390625  z M 30.609375 56  Q 42.328125 56 49.015625 48.375  Q 55.71875 40.765625 55.71875 27.296875  Q 55.71875 13.875 49.015625 6.21875  Q 42.328125 -1.421875 30.609375 -1.421875  Q 18.84375 -1.421875 12.171875 6.21875  Q 5.515625 13.875 5.515625 27.296875  Q 5.515625 40.765625 12.171875 48.375  Q 18.84375 56 30.609375 56  z \" id=\"DejaVuSans-6f\"/>\n",
       "      <path d=\"M 54.890625 33.015625  L 54.890625 0  L 45.90625 0  L 45.90625 32.71875  Q 45.90625 40.484375 42.875 44.328125  Q 39.84375 48.1875 33.796875 48.1875  Q 26.515625 48.1875 22.3125 43.546875  Q 18.109375 38.921875 18.109375 30.90625  L 18.109375 0  L 9.078125 0  L 9.078125 54.6875  L 18.109375 54.6875  L 18.109375 46.1875  Q 21.34375 51.125 25.703125 53.5625  Q 30.078125 56 35.796875 56  Q 45.21875 56 50.046875 50.171875  Q 54.890625 44.34375 54.890625 33.015625  z \" id=\"DejaVuSans-6e\"/>\n",
       "      <path id=\"DejaVuSans-20\"/>\n",
       "      <path d=\"M 37.109375 75.984375  L 37.109375 68.5  L 28.515625 68.5  Q 23.6875 68.5 21.796875 66.546875  Q 19.921875 64.59375 19.921875 59.515625  L 19.921875 54.6875  L 34.71875 54.6875  L 34.71875 47.703125  L 19.921875 47.703125  L 19.921875 0  L 10.890625 0  L 10.890625 47.703125  L 2.296875 47.703125  L 2.296875 54.6875  L 10.890625 54.6875  L 10.890625 58.5  Q 10.890625 67.625 15.140625 71.796875  Q 19.390625 75.984375 28.609375 75.984375  z \" id=\"DejaVuSans-66\"/>\n",
       "      <path d=\"M 41.109375 46.296875  Q 39.59375 47.171875 37.8125 47.578125  Q 36.03125 48 33.890625 48  Q 26.265625 48 22.1875 43.046875  Q 18.109375 38.09375 18.109375 28.8125  L 18.109375 0  L 9.078125 0  L 9.078125 54.6875  L 18.109375 54.6875  L 18.109375 46.1875  Q 20.953125 51.171875 25.484375 53.578125  Q 30.03125 56 36.53125 56  Q 37.453125 56 38.578125 55.875  Q 39.703125 55.765625 41.0625 55.515625  z \" id=\"DejaVuSans-72\"/>\n",
       "      <path d=\"M 56.203125 29.59375  L 56.203125 25.203125  L 14.890625 25.203125  Q 15.484375 15.921875 20.484375 11.0625  Q 25.484375 6.203125 34.421875 6.203125  Q 39.59375 6.203125 44.453125 7.46875  Q 49.3125 8.734375 54.109375 11.28125  L 54.109375 2.78125  Q 49.265625 0.734375 44.1875 -0.34375  Q 39.109375 -1.421875 33.890625 -1.421875  Q 20.796875 -1.421875 13.15625 6.1875  Q 5.515625 13.8125 5.515625 26.8125  Q 5.515625 40.234375 12.765625 48.109375  Q 20.015625 56 32.328125 56  Q 43.359375 56 49.78125 48.890625  Q 56.203125 41.796875 56.203125 29.59375  z M 47.21875 32.234375  Q 47.125 39.59375 43.09375 43.984375  Q 39.0625 48.390625 32.421875 48.390625  Q 24.90625 48.390625 20.390625 44.140625  Q 15.875 39.890625 15.1875 32.171875  z \" id=\"DejaVuSans-65\"/>\n",
       "      <path d=\"M 14.796875 27.296875  Q 14.796875 17.390625 18.875 11.75  Q 22.953125 6.109375 30.078125 6.109375  Q 37.203125 6.109375 41.296875 11.75  Q 45.40625 17.390625 45.40625 27.296875  Q 45.40625 37.203125 41.296875 42.84375  Q 37.203125 48.484375 30.078125 48.484375  Q 22.953125 48.484375 18.875 42.84375  Q 14.796875 37.203125 14.796875 27.296875  z M 45.40625 8.203125  Q 42.578125 3.328125 38.25 0.953125  Q 33.9375 -1.421875 27.875 -1.421875  Q 17.96875 -1.421875 11.734375 6.484375  Q 5.515625 14.40625 5.515625 27.296875  Q 5.515625 40.1875 11.734375 48.09375  Q 17.96875 56 27.875 56  Q 33.9375 56 38.25 53.625  Q 42.578125 51.265625 45.40625 46.390625  L 45.40625 54.6875  L 54.390625 54.6875  L 54.390625 -20.796875  L 45.40625 -20.796875  z \" id=\"DejaVuSans-71\"/>\n",
       "      <path d=\"M 48.78125 52.59375  L 48.78125 44.1875  Q 44.96875 46.296875 41.140625 47.34375  Q 37.3125 48.390625 33.40625 48.390625  Q 24.65625 48.390625 19.8125 42.84375  Q 14.984375 37.3125 14.984375 27.296875  Q 14.984375 17.28125 19.8125 11.734375  Q 24.65625 6.203125 33.40625 6.203125  Q 37.3125 6.203125 41.140625 7.25  Q 44.96875 8.296875 48.78125 10.40625  L 48.78125 2.09375  Q 45.015625 0.34375 40.984375 -0.53125  Q 36.96875 -1.421875 32.421875 -1.421875  Q 20.0625 -1.421875 12.78125 6.34375  Q 5.515625 14.109375 5.515625 27.296875  Q 5.515625 40.671875 12.859375 48.328125  Q 20.21875 56 33.015625 56  Q 37.15625 56 41.109375 55.140625  Q 45.0625 54.296875 48.78125 52.59375  z \" id=\"DejaVuSans-63\"/>\n",
       "      <path d=\"M 32.171875 -5.078125  Q 28.375 -14.84375 24.75 -17.8125  Q 21.140625 -20.796875 15.09375 -20.796875  L 7.90625 -20.796875  L 7.90625 -13.28125  L 13.1875 -13.28125  Q 16.890625 -13.28125 18.9375 -11.515625  Q 21 -9.765625 23.484375 -3.21875  L 25.09375 0.875  L 2.984375 54.6875  L 12.5 54.6875  L 29.59375 11.921875  L 46.6875 54.6875  L 56.203125 54.6875  z \" id=\"DejaVuSans-79\"/>\n",
       "      <path d=\"M 11.71875 12.40625  L 22.015625 12.40625  L 22.015625 4  L 14.015625 -11.625  L 7.71875 -11.625  L 11.71875 4  z \" id=\"DejaVuSans-2c\"/>\n",
       "      <path d=\"M 9.8125 72.90625  L 19.671875 72.90625  L 19.671875 43.015625  L 55.515625 43.015625  L 55.515625 72.90625  L 65.375 72.90625  L 65.375 0  L 55.515625 0  L 55.515625 34.71875  L 19.671875 34.71875  L 19.671875 0  L 9.8125 0  z \" id=\"DejaVuSans-48\"/>\n",
       "      <path d=\"M 5.515625 54.6875  L 48.1875 54.6875  L 48.1875 46.484375  L 14.40625 7.171875  L 48.1875 7.171875  L 48.1875 0  L 4.296875 0  L 4.296875 8.203125  L 38.09375 47.515625  L 5.515625 47.515625  z \" id=\"DejaVuSans-7a\"/>\n",
       "     </defs>\n",
       "     <g transform=\"translate(46.3375 152.776563)scale(0.1 -0.1)\">\n",
       "      <use xlink:href=\"#DejaVuSans-73\"/>\n",
       "      <use x=\"52.099609\" xlink:href=\"#DejaVuSans-74\"/>\n",
       "      <use x=\"91.308594\" xlink:href=\"#DejaVuSans-69\"/>\n",
       "      <use x=\"119.091797\" xlink:href=\"#DejaVuSans-6d\"/>\n",
       "      <use x=\"216.503906\" xlink:href=\"#DejaVuSans-75\"/>\n",
       "      <use x=\"279.882812\" xlink:href=\"#DejaVuSans-6c\"/>\n",
       "      <use x=\"307.666016\" xlink:href=\"#DejaVuSans-61\"/>\n",
       "      <use x=\"368.945312\" xlink:href=\"#DejaVuSans-74\"/>\n",
       "      <use x=\"408.154297\" xlink:href=\"#DejaVuSans-69\"/>\n",
       "      <use x=\"435.9375\" xlink:href=\"#DejaVuSans-6f\"/>\n",
       "      <use x=\"497.119141\" xlink:href=\"#DejaVuSans-6e\"/>\n",
       "      <use x=\"560.498047\" xlink:href=\"#DejaVuSans-20\"/>\n",
       "      <use x=\"592.285156\" xlink:href=\"#DejaVuSans-66\"/>\n",
       "      <use x=\"627.490234\" xlink:href=\"#DejaVuSans-72\"/>\n",
       "      <use x=\"668.572266\" xlink:href=\"#DejaVuSans-65\"/>\n",
       "      <use x=\"730.095703\" xlink:href=\"#DejaVuSans-71\"/>\n",
       "      <use x=\"793.572266\" xlink:href=\"#DejaVuSans-75\"/>\n",
       "      <use x=\"856.951172\" xlink:href=\"#DejaVuSans-65\"/>\n",
       "      <use x=\"918.474609\" xlink:href=\"#DejaVuSans-6e\"/>\n",
       "      <use x=\"981.853516\" xlink:href=\"#DejaVuSans-63\"/>\n",
       "      <use x=\"1036.833984\" xlink:href=\"#DejaVuSans-79\"/>\n",
       "      <use x=\"1096.013672\" xlink:href=\"#DejaVuSans-2c\"/>\n",
       "      <use x=\"1127.800781\" xlink:href=\"#DejaVuSans-20\"/>\n",
       "      <use x=\"1159.587891\" xlink:href=\"#DejaVuSans-48\"/>\n",
       "      <use x=\"1234.783203\" xlink:href=\"#DejaVuSans-7a\"/>\n",
       "     </g>\n",
       "    </g>\n",
       "   </g>\n",
       "   <g id=\"matplotlib.axis_2\">\n",
       "    <g id=\"ytick_1\">\n",
       "     <g id=\"line2d_6\">\n",
       "      <defs>\n",
       "       <path d=\"M 0 0  L -2 0  \" id=\"m09275ca261\" style=\"stroke:#000000;stroke-width:0.8;\"/>\n",
       "      </defs>\n",
       "      <g>\n",
       "       <use style=\"stroke:#000000;stroke-width:0.8;\" x=\"22\" xlink:href=\"#m09275ca261\" y=\"97.36666\"/>\n",
       "      </g>\n",
       "     </g>\n",
       "     <g id=\"text_7\">\n",
       "      <!-- 0.05 -->\n",
       "      <defs>\n",
       "       <path d=\"M 10.796875 72.90625  L 49.515625 72.90625  L 49.515625 64.59375  L 19.828125 64.59375  L 19.828125 46.734375  Q 21.96875 47.46875 24.109375 47.828125  Q 26.265625 48.1875 28.421875 48.1875  Q 40.625 48.1875 47.75 41.5  Q 54.890625 34.8125 54.890625 23.390625  Q 54.890625 11.625 47.5625 5.09375  Q 40.234375 -1.421875 26.90625 -1.421875  Q 22.3125 -1.421875 17.546875 -0.640625  Q 12.796875 0.140625 7.71875 1.703125  L 7.71875 11.625  Q 12.109375 9.234375 16.796875 8.0625  Q 21.484375 6.890625 26.703125 6.890625  Q 35.15625 6.890625 40.078125 11.328125  Q 45.015625 15.765625 45.015625 23.390625  Q 45.015625 31 40.078125 35.4375  Q 35.15625 39.890625 26.703125 39.890625  Q 22.75 39.890625 18.8125 39.015625  Q 14.890625 38.140625 10.796875 36.28125  z \" id=\"DejaVuSans-35\"/>\n",
       "      </defs>\n",
       "      <g transform=\"translate(-5.765625 101.165879)scale(0.1 -0.1)\">\n",
       "       <use xlink:href=\"#DejaVuSans-30\"/>\n",
       "       <use x=\"63.623047\" xlink:href=\"#DejaVuSans-2e\"/>\n",
       "       <use x=\"95.410156\" xlink:href=\"#DejaVuSans-30\"/>\n",
       "       <use x=\"159.033203\" xlink:href=\"#DejaVuSans-35\"/>\n",
       "      </g>\n",
       "     </g>\n",
       "    </g>\n",
       "    <g id=\"ytick_2\">\n",
       "     <g id=\"line2d_7\">\n",
       "      <g>\n",
       "       <use style=\"stroke:#000000;stroke-width:0.8;\" x=\"22\" xlink:href=\"#m09275ca261\" y=\"66.266769\"/>\n",
       "      </g>\n",
       "     </g>\n",
       "     <g id=\"text_8\">\n",
       "      <!-- 0.10 -->\n",
       "      <g transform=\"translate(-5.765625 70.065988)scale(0.1 -0.1)\">\n",
       "       <use xlink:href=\"#DejaVuSans-30\"/>\n",
       "       <use x=\"63.623047\" xlink:href=\"#DejaVuSans-2e\"/>\n",
       "       <use x=\"95.410156\" xlink:href=\"#DejaVuSans-31\"/>\n",
       "       <use x=\"159.033203\" xlink:href=\"#DejaVuSans-30\"/>\n",
       "      </g>\n",
       "     </g>\n",
       "    </g>\n",
       "    <g id=\"ytick_3\">\n",
       "     <g id=\"line2d_8\">\n",
       "      <g>\n",
       "       <use style=\"stroke:#000000;stroke-width:0.8;\" x=\"22\" xlink:href=\"#m09275ca261\" y=\"35.166878\"/>\n",
       "      </g>\n",
       "     </g>\n",
       "     <g id=\"text_9\">\n",
       "      <!-- 0.15 -->\n",
       "      <g transform=\"translate(-5.765625 38.966096)scale(0.1 -0.1)\">\n",
       "       <use xlink:href=\"#DejaVuSans-30\"/>\n",
       "       <use x=\"63.623047\" xlink:href=\"#DejaVuSans-2e\"/>\n",
       "       <use x=\"95.410156\" xlink:href=\"#DejaVuSans-31\"/>\n",
       "       <use x=\"159.033203\" xlink:href=\"#DejaVuSans-35\"/>\n",
       "      </g>\n",
       "     </g>\n",
       "    </g>\n",
       "    <g id=\"text_10\">\n",
       "     <!-- phase locking index -->\n",
       "     <defs>\n",
       "      <path d=\"M 18.109375 8.203125  L 18.109375 -20.796875  L 9.078125 -20.796875  L 9.078125 54.6875  L 18.109375 54.6875  L 18.109375 46.390625  Q 20.953125 51.265625 25.265625 53.625  Q 29.59375 56 35.59375 56  Q 45.5625 56 51.78125 48.09375  Q 58.015625 40.1875 58.015625 27.296875  Q 58.015625 14.40625 51.78125 6.484375  Q 45.5625 -1.421875 35.59375 -1.421875  Q 29.59375 -1.421875 25.265625 0.953125  Q 20.953125 3.328125 18.109375 8.203125  z M 48.6875 27.296875  Q 48.6875 37.203125 44.609375 42.84375  Q 40.53125 48.484375 33.40625 48.484375  Q 26.265625 48.484375 22.1875 42.84375  Q 18.109375 37.203125 18.109375 27.296875  Q 18.109375 17.390625 22.1875 11.75  Q 26.265625 6.109375 33.40625 6.109375  Q 40.53125 6.109375 44.609375 11.75  Q 48.6875 17.390625 48.6875 27.296875  z \" id=\"DejaVuSans-70\"/>\n",
       "      <path d=\"M 54.890625 33.015625  L 54.890625 0  L 45.90625 0  L 45.90625 32.71875  Q 45.90625 40.484375 42.875 44.328125  Q 39.84375 48.1875 33.796875 48.1875  Q 26.515625 48.1875 22.3125 43.546875  Q 18.109375 38.921875 18.109375 30.90625  L 18.109375 0  L 9.078125 0  L 9.078125 75.984375  L 18.109375 75.984375  L 18.109375 46.1875  Q 21.34375 51.125 25.703125 53.5625  Q 30.078125 56 35.796875 56  Q 45.21875 56 50.046875 50.171875  Q 54.890625 44.34375 54.890625 33.015625  z \" id=\"DejaVuSans-68\"/>\n",
       "      <path d=\"M 9.078125 75.984375  L 18.109375 75.984375  L 18.109375 31.109375  L 44.921875 54.6875  L 56.390625 54.6875  L 27.390625 29.109375  L 57.625 0  L 45.90625 0  L 18.109375 26.703125  L 18.109375 0  L 9.078125 0  z \" id=\"DejaVuSans-6b\"/>\n",
       "      <path d=\"M 45.40625 27.984375  Q 45.40625 37.75 41.375 43.109375  Q 37.359375 48.484375 30.078125 48.484375  Q 22.859375 48.484375 18.828125 43.109375  Q 14.796875 37.75 14.796875 27.984375  Q 14.796875 18.265625 18.828125 12.890625  Q 22.859375 7.515625 30.078125 7.515625  Q 37.359375 7.515625 41.375 12.890625  Q 45.40625 18.265625 45.40625 27.984375  z M 54.390625 6.78125  Q 54.390625 -7.171875 48.1875 -13.984375  Q 42 -20.796875 29.203125 -20.796875  Q 24.46875 -20.796875 20.265625 -20.09375  Q 16.0625 -19.390625 12.109375 -17.921875  L 12.109375 -9.1875  Q 16.0625 -11.328125 19.921875 -12.34375  Q 23.78125 -13.375 27.78125 -13.375  Q 36.625 -13.375 41.015625 -8.765625  Q 45.40625 -4.15625 45.40625 5.171875  L 45.40625 9.625  Q 42.625 4.78125 38.28125 2.390625  Q 33.9375 0 27.875 0  Q 17.828125 0 11.671875 7.65625  Q 5.515625 15.328125 5.515625 27.984375  Q 5.515625 40.671875 11.671875 48.328125  Q 17.828125 56 27.875 56  Q 33.9375 56 38.28125 53.609375  Q 42.625 51.21875 45.40625 46.390625  L 45.40625 54.6875  L 54.390625 54.6875  z \" id=\"DejaVuSans-67\"/>\n",
       "      <path d=\"M 45.40625 46.390625  L 45.40625 75.984375  L 54.390625 75.984375  L 54.390625 0  L 45.40625 0  L 45.40625 8.203125  Q 42.578125 3.328125 38.25 0.953125  Q 33.9375 -1.421875 27.875 -1.421875  Q 17.96875 -1.421875 11.734375 6.484375  Q 5.515625 14.40625 5.515625 27.296875  Q 5.515625 40.1875 11.734375 48.09375  Q 17.96875 56 27.875 56  Q 33.9375 56 38.25 53.625  Q 42.578125 51.265625 45.40625 46.390625  z M 14.796875 27.296875  Q 14.796875 17.390625 18.875 11.75  Q 22.953125 6.109375 30.078125 6.109375  Q 37.203125 6.109375 41.296875 11.75  Q 45.40625 17.390625 45.40625 27.296875  Q 45.40625 37.203125 41.296875 42.84375  Q 37.203125 48.484375 30.078125 48.484375  Q 22.953125 48.484375 18.875 42.84375  Q 14.796875 37.203125 14.796875 27.296875  z \" id=\"DejaVuSans-64\"/>\n",
       "      <path d=\"M 54.890625 54.6875  L 35.109375 28.078125  L 55.90625 0  L 45.3125 0  L 29.390625 21.484375  L 13.484375 0  L 2.875 0  L 24.125 28.609375  L 4.6875 54.6875  L 15.28125 54.6875  L 29.78125 35.203125  L 44.28125 54.6875  z \" id=\"DejaVuSans-78\"/>\n",
       "     </defs>\n",
       "     <g transform=\"translate(-11.845313 121.498594)rotate(-90)scale(0.1 -0.1)\">\n",
       "      <use xlink:href=\"#DejaVuSans-70\"/>\n",
       "      <use x=\"63.476562\" xlink:href=\"#DejaVuSans-68\"/>\n",
       "      <use x=\"126.855469\" xlink:href=\"#DejaVuSans-61\"/>\n",
       "      <use x=\"188.134766\" xlink:href=\"#DejaVuSans-73\"/>\n",
       "      <use x=\"240.234375\" xlink:href=\"#DejaVuSans-65\"/>\n",
       "      <use x=\"301.757812\" xlink:href=\"#DejaVuSans-20\"/>\n",
       "      <use x=\"333.544922\" xlink:href=\"#DejaVuSans-6c\"/>\n",
       "      <use x=\"361.328125\" xlink:href=\"#DejaVuSans-6f\"/>\n",
       "      <use x=\"422.509766\" xlink:href=\"#DejaVuSans-63\"/>\n",
       "      <use x=\"477.490234\" xlink:href=\"#DejaVuSans-6b\"/>\n",
       "      <use x=\"535.400391\" xlink:href=\"#DejaVuSans-69\"/>\n",
       "      <use x=\"563.183594\" xlink:href=\"#DejaVuSans-6e\"/>\n",
       "      <use x=\"626.5625\" xlink:href=\"#DejaVuSans-67\"/>\n",
       "      <use x=\"690.039062\" xlink:href=\"#DejaVuSans-20\"/>\n",
       "      <use x=\"721.826172\" xlink:href=\"#DejaVuSans-69\"/>\n",
       "      <use x=\"749.609375\" xlink:href=\"#DejaVuSans-6e\"/>\n",
       "      <use x=\"812.988281\" xlink:href=\"#DejaVuSans-64\"/>\n",
       "      <use x=\"876.464844\" xlink:href=\"#DejaVuSans-65\"/>\n",
       "      <use x=\"937.972656\" xlink:href=\"#DejaVuSans-78\"/>\n",
       "     </g>\n",
       "    </g>\n",
       "   </g>\n",
       "   <g id=\"line2d_9\">\n",
       "    <defs>\n",
       "     <path d=\"M 0 3  C 0.795609 3 1.55874 2.683901 2.12132 2.12132  C 2.683901 1.55874 3 0.795609 3 0  C 3 -0.795609 2.683901 -1.55874 2.12132 -2.12132  C 1.55874 -2.683901 0.795609 -3 0 -3  C -0.795609 -3 -1.55874 -2.683901 -2.12132 -2.12132  C -2.683901 -1.55874 -3 -0.795609 -3 0  C -3 0.795609 -2.683901 1.55874 -2.12132 2.12132  C -1.55874 2.683901 -0.795609 3 0 3  z \" id=\"mbd3f19df79\" style=\"stroke:#000000;\"/>\n",
       "    </defs>\n",
       "    <g>\n",
       "     <use style=\"stroke:#000000;\" x=\"34.609091\" xlink:href=\"#mbd3f19df79\" y=\"93.189622\"/>\n",
       "     <use style=\"stroke:#000000;\" x=\"49.827273\" xlink:href=\"#mbd3f19df79\" y=\"121.058182\"/>\n",
       "     <use style=\"stroke:#000000;\" x=\"65.045455\" xlink:href=\"#mbd3f19df79\" y=\"91.104703\"/>\n",
       "     <use style=\"stroke:#000000;\" x=\"80.263636\" xlink:href=\"#mbd3f19df79\" y=\"94.091656\"/>\n",
       "     <use style=\"stroke:#000000;\" x=\"95.481818\" xlink:href=\"#mbd3f19df79\" y=\"62.777302\"/>\n",
       "     <use style=\"stroke:#000000;\" x=\"110.7\" xlink:href=\"#mbd3f19df79\" y=\"42.245968\"/>\n",
       "     <use style=\"stroke:#000000;\" x=\"125.918182\" xlink:href=\"#mbd3f19df79\" y=\"39.371559\"/>\n",
       "     <use style=\"stroke:#000000;\" x=\"141.136364\" xlink:href=\"#mbd3f19df79\" y=\"68.395649\"/>\n",
       "     <use style=\"stroke:#000000;\" x=\"156.354545\" xlink:href=\"#mbd3f19df79\" y=\"33.326511\"/>\n",
       "     <use style=\"stroke:#000000;\" x=\"171.572727\" xlink:href=\"#mbd3f19df79\" y=\"22.221818\"/>\n",
       "     <use style=\"stroke:#000000;\" x=\"186.790909\" xlink:href=\"#mbd3f19df79\" y=\"30.64915\"/>\n",
       "    </g>\n",
       "   </g>\n",
       "   <g id=\"patch_3\">\n",
       "    <path d=\"M 22 126  L 22 17.28  \" style=\"fill:none;stroke:#000000;stroke-linecap:square;stroke-linejoin:miter;stroke-width:0.8;\"/>\n",
       "   </g>\n",
       "   <g id=\"patch_4\">\n",
       "    <path d=\"M 27 126  L 194.4 126  \" style=\"fill:none;stroke:#000000;stroke-linecap:square;stroke-linejoin:miter;stroke-width:0.8;\"/>\n",
       "   </g>\n",
       "   <g id=\"text_11\">\n",
       "    <!-- 1 -->\n",
       "    <g transform=\"translate(32.064091 104.268372)scale(0.08 -0.08)\">\n",
       "     <use xlink:href=\"#DejaVuSans-31\"/>\n",
       "    </g>\n",
       "   </g>\n",
       "   <g id=\"text_12\">\n",
       "    <!-- 2 -->\n",
       "    <g transform=\"translate(77.718636 105.170406)scale(0.08 -0.08)\">\n",
       "     <use xlink:href=\"#DejaVuSans-32\"/>\n",
       "    </g>\n",
       "   </g>\n",
       "   <g id=\"text_13\">\n",
       "    <!-- 3 -->\n",
       "    <defs>\n",
       "     <path d=\"M 40.578125 39.3125  Q 47.65625 37.796875 51.625 33  Q 55.609375 28.21875 55.609375 21.1875  Q 55.609375 10.40625 48.1875 4.484375  Q 40.765625 -1.421875 27.09375 -1.421875  Q 22.515625 -1.421875 17.65625 -0.515625  Q 12.796875 0.390625 7.625 2.203125  L 7.625 11.71875  Q 11.71875 9.328125 16.59375 8.109375  Q 21.484375 6.890625 26.8125 6.890625  Q 36.078125 6.890625 40.9375 10.546875  Q 45.796875 14.203125 45.796875 21.1875  Q 45.796875 27.640625 41.28125 31.265625  Q 36.765625 34.90625 28.71875 34.90625  L 20.21875 34.90625  L 20.21875 43.015625  L 29.109375 43.015625  Q 36.375 43.015625 40.234375 45.921875  Q 44.09375 48.828125 44.09375 54.296875  Q 44.09375 59.90625 40.109375 62.90625  Q 36.140625 65.921875 28.71875 65.921875  Q 24.65625 65.921875 20.015625 65.03125  Q 15.375 64.15625 9.8125 62.3125  L 9.8125 71.09375  Q 15.4375 72.65625 20.34375 73.4375  Q 25.25 74.21875 29.59375 74.21875  Q 40.828125 74.21875 47.359375 69.109375  Q 53.90625 64.015625 53.90625 55.328125  Q 53.90625 49.265625 50.4375 45.09375  Q 46.96875 40.921875 40.578125 39.3125  z \" id=\"DejaVuSans-33\"/>\n",
       "    </defs>\n",
       "    <g transform=\"translate(169.027727 33.300568)scale(0.08 -0.08)\">\n",
       "     <use xlink:href=\"#DejaVuSans-33\"/>\n",
       "    </g>\n",
       "   </g>\n",
       "  </g>\n",
       " </g>\n",
       "</g>\n",
       "    </g>\n",
       "    <g transform=\"translate(0, 30) scale(1) \">\n",
       "      <text fill=\"black\" font-family=\"Verdana\" font-size=\"14\" font-weight=\"normal\" letter-spacing=\"0\" text-anchor=\"start\" x=\"0\" y=\"-10\">A</text>\n",
       "      <g transform=\"translate(0, 0) scale(0.6) \"><defs id=\"defs3494\">\n",
       "    <clipPath id=\"p7d9d16f1c5\">\n",
       "      <rect height=\"32.823528\" id=\"rect4490\" width=\"167.39999\" x=\"27\" y=\"14.4\"/>\n",
       "    </clipPath>\n",
       "    <clipPath id=\"clipPath4511\">\n",
       "      <rect height=\"32.823528\" id=\"rect4513\" width=\"167.39999\" x=\"27\" y=\"14.4\"/>\n",
       "    </clipPath>\n",
       "    <clipPath id=\"p2a16f51d2b\">\n",
       "      <rect height=\"32.823528\" id=\"rect4487\" width=\"167.39999\" x=\"27\" y=\"53.788235\"/>\n",
       "    </clipPath>\n",
       "    <clipPath id=\"clipPath4517\">\n",
       "      <rect height=\"32.823528\" id=\"rect4519\" width=\"167.39999\" x=\"27\" y=\"53.788235\"/>\n",
       "    </clipPath>\n",
       "    <clipPath id=\"pfe89fe5b43\">\n",
       "      <rect height=\"32.823528\" id=\"rect4493\" width=\"167.39999\" x=\"27\" y=\"93.176468\"/>\n",
       "    </clipPath>\n",
       "    <clipPath id=\"clipPath4523\">\n",
       "      <rect height=\"32.823528\" id=\"rect4525\" width=\"167.39999\" x=\"27\" y=\"93.176468\"/>\n",
       "    </clipPath>\n",
       "    <clipPath id=\"clipPath4527\">\n",
       "      <rect height=\"32.823528\" id=\"rect4529\" width=\"167.39999\" x=\"27\" y=\"93.176468\"/>\n",
       "    </clipPath>\n",
       "  </defs>\n",
       "  <sodipodi:namedview bordercolor=\"#666666\" borderopacity=\"1.0\" fit-margin-bottom=\"0\" fit-margin-left=\"0\" fit-margin-right=\"0\" fit-margin-top=\"0\" id=\"base\" inkscape:current-layer=\"g4794\" inkscape:cx=\"-187.05853\" inkscape:cy=\"146.6184\" inkscape:document-units=\"px\" inkscape:pageopacity=\"0.0\" inkscape:pageshadow=\"2\" inkscape:window-height=\"1050\" inkscape:window-maximized=\"1\" inkscape:window-width=\"1920\" inkscape:window-x=\"0\" inkscape:window-y=\"30\" inkscape:zoom=\"1.6401174\" pagecolor=\"#ffffff\" showgrid=\"false\" xmlns:inkscape=\"http://www.inkscape.org/namespaces/inkscape\" xmlns:sodipodi=\"http://sodipodi.sourceforge.net/DTD/sodipodi-0.dtd\"/>\n",
       "  <metadata id=\"metadata3497\" xmlns:cc=\"http://creativecommons.org/ns#\" xmlns:dc=\"http://purl.org/dc/elements/1.1/\" xmlns:rdf=\"http://www.w3.org/1999/02/22-rdf-syntax-ns#\">\n",
       "    <rdf:RDF>\n",
       "      <cc:Work rdf:about=\"\">\n",
       "        <dc:format>image/svg+xml</dc:format>\n",
       "        <dc:type rdf:resource=\"http://purl.org/dc/dcmitype/StillImage\"/>\n",
       "        <dc:title/>\n",
       "      </cc:Work>\n",
       "    </rdf:RDF>\n",
       "  </metadata>\n",
       "  <g id=\"layer1\" inkscape:groupmode=\"layer\" inkscape:label=\"Layer 1\" transform=\"translate(-252.46187,-418.8063)\" xmlns:inkscape=\"http://www.inkscape.org/namespaces/inkscape\" xmlns:sodipodi=\"http://sodipodi.sourceforge.net/DTD/sodipodi-0.dtd\">\n",
       "    <g id=\"g4794\">\n",
       "      <path d=\"m 379.0558,509.2843 c 0,3.90087 -3.16228,7.06315 -7.06315,7.06315 -3.90088,0 -7.06316,-3.16228 -7.06316,-7.06315 0,-3.90087 3.16228,-7.06315 7.06316,-7.06315 3.90087,0 7.06315,3.16228 7.06315,7.06315 z\" id=\"path3500\" sodipodi:cx=\"371.99265\" sodipodi:cy=\"509.2843\" sodipodi:rx=\"7.0631514\" sodipodi:ry=\"7.0631514\" sodipodi:type=\"arc\" style=\"fill:#bfbf00;fill-opacity:1;stroke:#ffffff;stroke-width:0.5;stroke-linecap:round;stroke-miterlimit:4;stroke-opacity:1;stroke-dasharray:none;stroke-dashoffset:0\"/>\n",
       "      <path d=\"m 379.0558,509.2843 c 0,3.90087 -3.16228,7.06315 -7.06315,7.06315 -3.90088,0 -7.06316,-3.16228 -7.06316,-7.06315 0,-3.90087 3.16228,-7.06315 7.06316,-7.06315 3.90087,0 7.06315,3.16228 7.06315,7.06315 z\" id=\"path3504\" sodipodi:cx=\"371.99265\" sodipodi:cy=\"509.2843\" sodipodi:rx=\"7.0631514\" sodipodi:ry=\"7.0631514\" sodipodi:type=\"arc\" style=\"fill:#008000;fill-opacity:1;stroke:#ffffff;stroke-width:0.5;stroke-linecap:round;stroke-miterlimit:4;stroke-opacity:1;stroke-dasharray:none;stroke-dashoffset:0\" transform=\"translate(-112.22563,0)\"/>\n",
       "      <g id=\"g4303\" transform=\"matrix(0.45161112,0.19440443,-0.19440443,0.45161112,308.43143,200.96276)\">\n",
       "        <path d=\"M 374.73942,490.25305 408.22785,342.35293\" id=\"path3506\" inkscape:connector-curvature=\"0\" sodipodi:nodetypes=\"cc\" style=\"fill:none;stroke:#000000;stroke-width:2.03385806px;stroke-linecap:butt;stroke-linejoin:miter;stroke-opacity:1\"/>\n",
       "        <path d=\"M 378.50086,490.67911 424.57388,346.83183\" id=\"path3508\" inkscape:connector-curvature=\"0\" sodipodi:nodetypes=\"cc\" style=\"fill:none;stroke:#000000;stroke-width:2.03385806px;stroke-linecap:butt;stroke-linejoin:miter;stroke-opacity:1\"/>\n",
       "      </g>\n",
       "      <text id=\"text3510\" sodipodi:linespacing=\"125%\" style=\"font-size:10px;font-style:normal;font-variant:normal;font-weight:normal;font-stretch:normal;text-align:center;line-height:125%;letter-spacing:0px;word-spacing:0px;text-anchor:middle;fill:#000000;fill-opacity:1;stroke:none;font-family:Arial;-inkscape-font-specification:Arial\" x=\"437.17224\" xml:space=\"preserve\" y=\"429.72672\"><tspan id=\"tspan3512\" sodipodi:role=\"line\" style=\"font-size:15px\" x=\"437.17224\" y=\"429.72672\">Stim</tspan></text>\n",
       "      <path d=\"m 319.64174,460.24805 0,106.54724\" id=\"path3514\" inkscape:connector-curvature=\"0\" sodipodi:nodetypes=\"cc\" style=\"fill:none;stroke:#000000;stroke-width:1;stroke-linecap:butt;stroke-linejoin:miter;stroke-miterlimit:4;stroke-opacity:1;stroke-dasharray:3, 3;stroke-dashoffset:0\"/>\n",
       "      <g id=\"layer1-3\" transform=\"matrix(-0.18355554,0,0,0.18355554,336.28011,432.15483)\">\n",
       "        <g id=\"g2634\" transform=\"matrix(0.72973,0,0,0.72973,344.4851,-241.2349)\">\n",
       "          <path d=\"m -359.125,443.12 -9.91406,6.04687 -29.53125,-15.36719 c -11.01564,-4.82804 -16.52345,-10.8046 -16.52344,-17.92968 -10e-6,-3.79679 1.40624,-9.00772 4.21875,-11.63282 2.85936,-2.62489 6.30467,-3.93739 10.33594,-3.9375 5.76559,1.1e-4 10.82809,1.94542 15.1875,5.83594 4.31245,3.89072 6.4687,8.41415 6.46875,13.57031 -5e-5,0.37509 -0.0938,1.66415 -0.28125,3.86719 l -0.0703,1.61719 c -0.0938,1.03133 -0.14067,1.80476 -0.14062,2.32031 -5e-5,3.37507 2.67183,6.28132 8.01562,8.71875 0.93745,0.46882 1.85151,0.961 2.74219,1.47656 l 9.49219,5.41407\" id=\"path2594\" inkscape:connector-curvature=\"0\" style=\"font-size:144px;font-style:normal;font-variant:normal;font-weight:normal;font-stretch:normal;text-align:start;line-height:125%;writing-mode:lr-tb;text-anchor:start;fill:#000000;fill-opacity:1;stroke:none;font-family:Wingdings\"/>\n",
       "          <path d=\"m -373.60938,456.33875 72.04772,-44.13969 c 1.35924,-0.1874 6.10416,-2.25592 11.76629,-3.24341 6.37243,-1.11137 12.37335,-1.17931 18.70162,1.39872 l -84.44531,49.00781 c -2.62507,1.54692 -4.42976,2.50786 -5.41407,2.88282 l -1.54687,0.5625 c -4.03131,1.50004 -6.04693,4.19534 -6.04688,8.08593 l 0,0.63282 0.14063,1.75781 0.21094,3.44531 c 0.32806,6.37502 -3.11724,12.56252 -10.33594,18.5625 -7.21879,6.04688 -14.81253,9.07031 -22.78125,9.07031 -4.03127,0 -7.33595,-1.00781 -9.91406,-3.02343 -2.57814,-2.0625 -7.8672,-8.66406 -7.86719,-11.80469 -10e-6,-4.07811 4.0078,-8.62498 12.02344,-13.64063 0,0 33.55463,-18.89839 33.46093,-19.55468\" id=\"path2592\" inkscape:connector-curvature=\"0\" style=\"font-size:144px;font-style:normal;font-variant:normal;font-weight:normal;font-stretch:normal;text-align:start;line-height:125%;writing-mode:lr-tb;text-anchor:start;fill:#000000;fill-opacity:1;stroke:none;font-family:Wingdings\"/>\n",
       "          <path d=\"m -350.75781,460.76843 10.82812,-6.46875 68.83594,39.51563 c -5.76577,2.34376 -8.31142,2.03455 -13.56128,2.03454 -2.10951,10e-6 -8.82618,0.7999 -13.73202,-1.05619 l -52.37076,-34.02523\" id=\"path2590\" inkscape:connector-curvature=\"0\" style=\"font-size:144px;font-style:normal;font-variant:normal;font-weight:normal;font-stretch:normal;text-align:start;line-height:125%;writing-mode:lr-tb;text-anchor:start;fill:#000000;fill-opacity:1;stroke:none;font-family:Wingdings\"/>\n",
       "          <path d=\"m -400.56434,424.27176 3.00813,1.47337 c 2.70115,1.2688 4.89073,1.90317 6.56876,1.9031 3.27412,7e-5 4.9112,-2.29184 4.91123,-6.87572 -3e-5,-3.35592 -1.51433,-6.4459 -4.54289,-9.26994 -3.02861,-2.82386 -6.36415,-4.23584 -10.00662,-4.23593 -2.16914,9e-5 -4.05178,0.75724 -5.64791,2.27144 -1.55523,1.51438 -2.33285,3.31516 -2.33283,5.40235 -2e-5,3.47886 2.68069,6.5893 8.04213,9.33133\" id=\"path2588\" inkscape:connector-curvature=\"0\" style=\"font-size:144px;font-style:normal;font-variant:normal;font-weight:normal;font-stretch:normal;text-align:start;line-height:125%;writing-mode:lr-tb;text-anchor:start;fill:#ffffff;fill-opacity:1;stroke:none;font-family:Wingdings\"/>\n",
       "          <path d=\"m -404.83566,482.55627 c -4.92189,3.09377 -5.90175,6.28277 -5.90173,8.57963 -2e-5,1.87501 0.74998,3.28126 2.25,4.21875 1.49998,0.93751 3.74998,1.40626 6.75,1.40625 6.18747,1e-5 12.25778,-2.41405 18.21094,-7.24219 5.95307,-4.82811 8.92963,-9.74998 8.92968,-14.76562 -5e-5,-3.37497 -4.93247,-4.56878 -7.88554,-4.56881\" id=\"path2586\" inkscape:connector-curvature=\"0\" style=\"font-size:144px;font-style:normal;font-variant:normal;font-weight:normal;font-stretch:normal;text-align:start;line-height:125%;writing-mode:lr-tb;text-anchor:start;fill:#ffffff;fill-opacity:1;stroke:none;font-family:Wingdings\"/>\n",
       "          <path d=\"m -355.60938,455.63562 c 2.29681,5e-5 3.44524,-1.10151 3.44532,-3.30469 -8e-5,-2.20307 -1.14851,-3.30463 -3.44532,-3.30468 -2.25006,5e-5 -3.37506,1.10161 -3.375,3.30468 -6e-5,2.20318 1.12494,3.30474 3.375,3.30469\" id=\"path2584\" inkscape:connector-curvature=\"0\" style=\"font-size:144px;font-style:normal;font-variant:normal;font-weight:normal;font-stretch:normal;text-align:start;line-height:125%;writing-mode:lr-tb;text-anchor:start;fill:#000000;fill-opacity:1;stroke:none;font-family:Wingdings\"/>\n",
       "        </g>\n",
       "      </g>\n",
       "    </g>\n",
       "  </g>\n",
       "</g>\n",
       "    </g>\n",
       "    <g transform=\"translate(20, 160) scale(1) \">\n",
       "      <text fill=\"black\" font-family=\"Verdana\" font-size=\"14\" font-weight=\"normal\" letter-spacing=\"0\" text-anchor=\"start\" x=\"0\" y=\"0\">C</text>\n",
       "      <g><defs>\n",
       "  <style type=\"text/css\">\n",
       "*{stroke-linecap:butt;stroke-linejoin:round;}\n",
       "  </style>\n",
       " </defs>\n",
       " <g id=\"figure_1\">\n",
       "  <g id=\"patch_1\">\n",
       "   <path d=\"M 0 144  L 216 144  L 216 0  L 0 0  z \" style=\"fill:#ffffff;\"/>\n",
       "  </g>\n",
       "  <g id=\"axes_1\">\n",
       "   <g id=\"patch_2\">\n",
       "    <path d=\"M 27 126  L 194.4 126  L 194.4 17.28  L 27 17.28  z \" style=\"fill:#ffffff;\"/>\n",
       "   </g>\n",
       "   <g id=\"matplotlib.axis_1\">\n",
       "    <g id=\"xtick_1\">\n",
       "     <g id=\"line2d_1\">\n",
       "      <defs>\n",
       "       <path d=\"M 0 0  L 0 2  \" id=\"m468bb96212\" style=\"stroke:#000000;stroke-width:0.8;\"/>\n",
       "      </defs>\n",
       "      <g>\n",
       "       <use style=\"stroke:#000000;stroke-width:0.8;\" x=\"51.518182\" xlink:href=\"#m468bb96212\" y=\"126\"/>\n",
       "      </g>\n",
       "     </g>\n",
       "     <g id=\"text_1\">\n",
       "      <!-- 0.2 -->\n",
       "      <defs>\n",
       "       <path d=\"M 31.78125 66.40625  Q 24.171875 66.40625 20.328125 58.90625  Q 16.5 51.421875 16.5 36.375  Q 16.5 21.390625 20.328125 13.890625  Q 24.171875 6.390625 31.78125 6.390625  Q 39.453125 6.390625 43.28125 13.890625  Q 47.125 21.390625 47.125 36.375  Q 47.125 51.421875 43.28125 58.90625  Q 39.453125 66.40625 31.78125 66.40625  z M 31.78125 74.21875  Q 44.046875 74.21875 50.515625 64.515625  Q 56.984375 54.828125 56.984375 36.375  Q 56.984375 17.96875 50.515625 8.265625  Q 44.046875 -1.421875 31.78125 -1.421875  Q 19.53125 -1.421875 13.0625 8.265625  Q 6.59375 17.96875 6.59375 36.375  Q 6.59375 54.828125 13.0625 64.515625  Q 19.53125 74.21875 31.78125 74.21875  z \" id=\"DejaVuSans-30\"/>\n",
       "       <path d=\"M 10.6875 12.40625  L 21 12.40625  L 21 0  L 10.6875 0  z \" id=\"DejaVuSans-2e\"/>\n",
       "       <path d=\"M 19.1875 8.296875  L 53.609375 8.296875  L 53.609375 0  L 7.328125 0  L 7.328125 8.296875  Q 12.9375 14.109375 22.625 23.890625  Q 32.328125 33.6875 34.8125 36.53125  Q 39.546875 41.84375 41.421875 45.53125  Q 43.3125 49.21875 43.3125 52.78125  Q 43.3125 58.59375 39.234375 62.25  Q 35.15625 65.921875 28.609375 65.921875  Q 23.96875 65.921875 18.8125 64.3125  Q 13.671875 62.703125 7.8125 59.421875  L 7.8125 69.390625  Q 13.765625 71.78125 18.9375 73  Q 24.125 74.21875 28.421875 74.21875  Q 39.75 74.21875 46.484375 68.546875  Q 53.21875 62.890625 53.21875 53.421875  Q 53.21875 48.921875 51.53125 44.890625  Q 49.859375 40.875 45.40625 35.40625  Q 44.1875 33.984375 37.640625 27.21875  Q 31.109375 20.453125 19.1875 8.296875  z \" id=\"DejaVuSans-32\"/>\n",
       "      </defs>\n",
       "      <g transform=\"translate(43.566619 139.098437)scale(0.1 -0.1)\">\n",
       "       <use xlink:href=\"#DejaVuSans-30\"/>\n",
       "       <use x=\"63.623047\" xlink:href=\"#DejaVuSans-2e\"/>\n",
       "       <use x=\"95.410156\" xlink:href=\"#DejaVuSans-32\"/>\n",
       "      </g>\n",
       "     </g>\n",
       "    </g>\n",
       "    <g id=\"xtick_2\">\n",
       "     <g id=\"line2d_2\">\n",
       "      <g>\n",
       "       <use style=\"stroke:#000000;stroke-width:0.8;\" x=\"85.336364\" xlink:href=\"#m468bb96212\" y=\"126\"/>\n",
       "      </g>\n",
       "     </g>\n",
       "     <g id=\"text_2\">\n",
       "      <!-- 0.4 -->\n",
       "      <defs>\n",
       "       <path d=\"M 37.796875 64.3125  L 12.890625 25.390625  L 37.796875 25.390625  z M 35.203125 72.90625  L 47.609375 72.90625  L 47.609375 25.390625  L 58.015625 25.390625  L 58.015625 17.1875  L 47.609375 17.1875  L 47.609375 0  L 37.796875 0  L 37.796875 17.1875  L 4.890625 17.1875  L 4.890625 26.703125  z \" id=\"DejaVuSans-34\"/>\n",
       "      </defs>\n",
       "      <g transform=\"translate(77.384801 139.098437)scale(0.1 -0.1)\">\n",
       "       <use xlink:href=\"#DejaVuSans-30\"/>\n",
       "       <use x=\"63.623047\" xlink:href=\"#DejaVuSans-2e\"/>\n",
       "       <use x=\"95.410156\" xlink:href=\"#DejaVuSans-34\"/>\n",
       "      </g>\n",
       "     </g>\n",
       "    </g>\n",
       "    <g id=\"xtick_3\">\n",
       "     <g id=\"line2d_3\">\n",
       "      <g>\n",
       "       <use style=\"stroke:#000000;stroke-width:0.8;\" x=\"119.154545\" xlink:href=\"#m468bb96212\" y=\"126\"/>\n",
       "      </g>\n",
       "     </g>\n",
       "     <g id=\"text_3\">\n",
       "      <!-- 0.6 -->\n",
       "      <defs>\n",
       "       <path d=\"M 33.015625 40.375  Q 26.375 40.375 22.484375 35.828125  Q 18.609375 31.296875 18.609375 23.390625  Q 18.609375 15.53125 22.484375 10.953125  Q 26.375 6.390625 33.015625 6.390625  Q 39.65625 6.390625 43.53125 10.953125  Q 47.40625 15.53125 47.40625 23.390625  Q 47.40625 31.296875 43.53125 35.828125  Q 39.65625 40.375 33.015625 40.375  z M 52.59375 71.296875  L 52.59375 62.3125  Q 48.875 64.0625 45.09375 64.984375  Q 41.3125 65.921875 37.59375 65.921875  Q 27.828125 65.921875 22.671875 59.328125  Q 17.53125 52.734375 16.796875 39.40625  Q 19.671875 43.65625 24.015625 45.921875  Q 28.375 48.1875 33.59375 48.1875  Q 44.578125 48.1875 50.953125 41.515625  Q 57.328125 34.859375 57.328125 23.390625  Q 57.328125 12.15625 50.6875 5.359375  Q 44.046875 -1.421875 33.015625 -1.421875  Q 20.359375 -1.421875 13.671875 8.265625  Q 6.984375 17.96875 6.984375 36.375  Q 6.984375 53.65625 15.1875 63.9375  Q 23.390625 74.21875 37.203125 74.21875  Q 40.921875 74.21875 44.703125 73.484375  Q 48.484375 72.75 52.59375 71.296875  z \" id=\"DejaVuSans-36\"/>\n",
       "      </defs>\n",
       "      <g transform=\"translate(111.202983 139.098437)scale(0.1 -0.1)\">\n",
       "       <use xlink:href=\"#DejaVuSans-30\"/>\n",
       "       <use x=\"63.623047\" xlink:href=\"#DejaVuSans-2e\"/>\n",
       "       <use x=\"95.410156\" xlink:href=\"#DejaVuSans-36\"/>\n",
       "      </g>\n",
       "     </g>\n",
       "    </g>\n",
       "    <g id=\"xtick_4\">\n",
       "     <g id=\"line2d_4\">\n",
       "      <g>\n",
       "       <use style=\"stroke:#000000;stroke-width:0.8;\" x=\"152.972727\" xlink:href=\"#m468bb96212\" y=\"126\"/>\n",
       "      </g>\n",
       "     </g>\n",
       "     <g id=\"text_4\">\n",
       "      <!-- 0.8 -->\n",
       "      <defs>\n",
       "       <path d=\"M 31.78125 34.625  Q 24.75 34.625 20.71875 30.859375  Q 16.703125 27.09375 16.703125 20.515625  Q 16.703125 13.921875 20.71875 10.15625  Q 24.75 6.390625 31.78125 6.390625  Q 38.8125 6.390625 42.859375 10.171875  Q 46.921875 13.96875 46.921875 20.515625  Q 46.921875 27.09375 42.890625 30.859375  Q 38.875 34.625 31.78125 34.625  z M 21.921875 38.8125  Q 15.578125 40.375 12.03125 44.71875  Q 8.5 49.078125 8.5 55.328125  Q 8.5 64.0625 14.71875 69.140625  Q 20.953125 74.21875 31.78125 74.21875  Q 42.671875 74.21875 48.875 69.140625  Q 55.078125 64.0625 55.078125 55.328125  Q 55.078125 49.078125 51.53125 44.71875  Q 48 40.375 41.703125 38.8125  Q 48.828125 37.15625 52.796875 32.3125  Q 56.78125 27.484375 56.78125 20.515625  Q 56.78125 9.90625 50.3125 4.234375  Q 43.84375 -1.421875 31.78125 -1.421875  Q 19.734375 -1.421875 13.25 4.234375  Q 6.78125 9.90625 6.78125 20.515625  Q 6.78125 27.484375 10.78125 32.3125  Q 14.796875 37.15625 21.921875 38.8125  z M 18.3125 54.390625  Q 18.3125 48.734375 21.84375 45.5625  Q 25.390625 42.390625 31.78125 42.390625  Q 38.140625 42.390625 41.71875 45.5625  Q 45.3125 48.734375 45.3125 54.390625  Q 45.3125 60.0625 41.71875 63.234375  Q 38.140625 66.40625 31.78125 66.40625  Q 25.390625 66.40625 21.84375 63.234375  Q 18.3125 60.0625 18.3125 54.390625  z \" id=\"DejaVuSans-38\"/>\n",
       "      </defs>\n",
       "      <g transform=\"translate(145.021165 139.098437)scale(0.1 -0.1)\">\n",
       "       <use xlink:href=\"#DejaVuSans-30\"/>\n",
       "       <use x=\"63.623047\" xlink:href=\"#DejaVuSans-2e\"/>\n",
       "       <use x=\"95.410156\" xlink:href=\"#DejaVuSans-38\"/>\n",
       "      </g>\n",
       "     </g>\n",
       "    </g>\n",
       "    <g id=\"xtick_5\">\n",
       "     <g id=\"line2d_5\">\n",
       "      <g>\n",
       "       <use style=\"stroke:#000000;stroke-width:0.8;\" x=\"186.790909\" xlink:href=\"#m468bb96212\" y=\"126\"/>\n",
       "      </g>\n",
       "     </g>\n",
       "     <g id=\"text_5\">\n",
       "      <!-- 1.0 -->\n",
       "      <defs>\n",
       "       <path d=\"M 12.40625 8.296875  L 28.515625 8.296875  L 28.515625 63.921875  L 10.984375 60.40625  L 10.984375 69.390625  L 28.421875 72.90625  L 38.28125 72.90625  L 38.28125 8.296875  L 54.390625 8.296875  L 54.390625 0  L 12.40625 0  z \" id=\"DejaVuSans-31\"/>\n",
       "      </defs>\n",
       "      <g transform=\"translate(178.839347 139.098437)scale(0.1 -0.1)\">\n",
       "       <use xlink:href=\"#DejaVuSans-31\"/>\n",
       "       <use x=\"63.623047\" xlink:href=\"#DejaVuSans-2e\"/>\n",
       "       <use x=\"95.410156\" xlink:href=\"#DejaVuSans-30\"/>\n",
       "      </g>\n",
       "     </g>\n",
       "    </g>\n",
       "    <g id=\"text_6\">\n",
       "     <!-- stimulation frequency, Hz -->\n",
       "     <defs>\n",
       "      <path d=\"M 44.28125 53.078125  L 44.28125 44.578125  Q 40.484375 46.53125 36.375 47.5  Q 32.28125 48.484375 27.875 48.484375  Q 21.1875 48.484375 17.84375 46.4375  Q 14.5 44.390625 14.5 40.28125  Q 14.5 37.15625 16.890625 35.375  Q 19.28125 33.59375 26.515625 31.984375  L 29.59375 31.296875  Q 39.15625 29.25 43.1875 25.515625  Q 47.21875 21.78125 47.21875 15.09375  Q 47.21875 7.46875 41.1875 3.015625  Q 35.15625 -1.421875 24.609375 -1.421875  Q 20.21875 -1.421875 15.453125 -0.5625  Q 10.6875 0.296875 5.421875 2  L 5.421875 11.28125  Q 10.40625 8.6875 15.234375 7.390625  Q 20.0625 6.109375 24.8125 6.109375  Q 31.15625 6.109375 34.5625 8.28125  Q 37.984375 10.453125 37.984375 14.40625  Q 37.984375 18.0625 35.515625 20.015625  Q 33.0625 21.96875 24.703125 23.78125  L 21.578125 24.515625  Q 13.234375 26.265625 9.515625 29.90625  Q 5.8125 33.546875 5.8125 39.890625  Q 5.8125 47.609375 11.28125 51.796875  Q 16.75 56 26.8125 56  Q 31.78125 56 36.171875 55.265625  Q 40.578125 54.546875 44.28125 53.078125  z \" id=\"DejaVuSans-73\"/>\n",
       "      <path d=\"M 18.3125 70.21875  L 18.3125 54.6875  L 36.8125 54.6875  L 36.8125 47.703125  L 18.3125 47.703125  L 18.3125 18.015625  Q 18.3125 11.328125 20.140625 9.421875  Q 21.96875 7.515625 27.59375 7.515625  L 36.8125 7.515625  L 36.8125 0  L 27.59375 0  Q 17.1875 0 13.234375 3.875  Q 9.28125 7.765625 9.28125 18.015625  L 9.28125 47.703125  L 2.6875 47.703125  L 2.6875 54.6875  L 9.28125 54.6875  L 9.28125 70.21875  z \" id=\"DejaVuSans-74\"/>\n",
       "      <path d=\"M 9.421875 54.6875  L 18.40625 54.6875  L 18.40625 0  L 9.421875 0  z M 9.421875 75.984375  L 18.40625 75.984375  L 18.40625 64.59375  L 9.421875 64.59375  z \" id=\"DejaVuSans-69\"/>\n",
       "      <path d=\"M 52 44.1875  Q 55.375 50.25 60.0625 53.125  Q 64.75 56 71.09375 56  Q 79.640625 56 84.28125 50.015625  Q 88.921875 44.046875 88.921875 33.015625  L 88.921875 0  L 79.890625 0  L 79.890625 32.71875  Q 79.890625 40.578125 77.09375 44.375  Q 74.3125 48.1875 68.609375 48.1875  Q 61.625 48.1875 57.5625 43.546875  Q 53.515625 38.921875 53.515625 30.90625  L 53.515625 0  L 44.484375 0  L 44.484375 32.71875  Q 44.484375 40.625 41.703125 44.40625  Q 38.921875 48.1875 33.109375 48.1875  Q 26.21875 48.1875 22.15625 43.53125  Q 18.109375 38.875 18.109375 30.90625  L 18.109375 0  L 9.078125 0  L 9.078125 54.6875  L 18.109375 54.6875  L 18.109375 46.1875  Q 21.1875 51.21875 25.484375 53.609375  Q 29.78125 56 35.6875 56  Q 41.65625 56 45.828125 52.96875  Q 50 49.953125 52 44.1875  z \" id=\"DejaVuSans-6d\"/>\n",
       "      <path d=\"M 8.5 21.578125  L 8.5 54.6875  L 17.484375 54.6875  L 17.484375 21.921875  Q 17.484375 14.15625 20.5 10.265625  Q 23.53125 6.390625 29.59375 6.390625  Q 36.859375 6.390625 41.078125 11.03125  Q 45.3125 15.671875 45.3125 23.6875  L 45.3125 54.6875  L 54.296875 54.6875  L 54.296875 0  L 45.3125 0  L 45.3125 8.40625  Q 42.046875 3.421875 37.71875 1  Q 33.40625 -1.421875 27.6875 -1.421875  Q 18.265625 -1.421875 13.375 4.4375  Q 8.5 10.296875 8.5 21.578125  z M 31.109375 56  z \" id=\"DejaVuSans-75\"/>\n",
       "      <path d=\"M 9.421875 75.984375  L 18.40625 75.984375  L 18.40625 0  L 9.421875 0  z \" id=\"DejaVuSans-6c\"/>\n",
       "      <path d=\"M 34.28125 27.484375  Q 23.390625 27.484375 19.1875 25  Q 14.984375 22.515625 14.984375 16.5  Q 14.984375 11.71875 18.140625 8.90625  Q 21.296875 6.109375 26.703125 6.109375  Q 34.1875 6.109375 38.703125 11.40625  Q 43.21875 16.703125 43.21875 25.484375  L 43.21875 27.484375  z M 52.203125 31.203125  L 52.203125 0  L 43.21875 0  L 43.21875 8.296875  Q 40.140625 3.328125 35.546875 0.953125  Q 30.953125 -1.421875 24.3125 -1.421875  Q 15.921875 -1.421875 10.953125 3.296875  Q 6 8.015625 6 15.921875  Q 6 25.140625 12.171875 29.828125  Q 18.359375 34.515625 30.609375 34.515625  L 43.21875 34.515625  L 43.21875 35.40625  Q 43.21875 41.609375 39.140625 45  Q 35.0625 48.390625 27.6875 48.390625  Q 23 48.390625 18.546875 47.265625  Q 14.109375 46.140625 10.015625 43.890625  L 10.015625 52.203125  Q 14.9375 54.109375 19.578125 55.046875  Q 24.21875 56 28.609375 56  Q 40.484375 56 46.34375 49.84375  Q 52.203125 43.703125 52.203125 31.203125  z \" id=\"DejaVuSans-61\"/>\n",
       "      <path d=\"M 30.609375 48.390625  Q 23.390625 48.390625 19.1875 42.75  Q 14.984375 37.109375 14.984375 27.296875  Q 14.984375 17.484375 19.15625 11.84375  Q 23.34375 6.203125 30.609375 6.203125  Q 37.796875 6.203125 41.984375 11.859375  Q 46.1875 17.53125 46.1875 27.296875  Q 46.1875 37.015625 41.984375 42.703125  Q 37.796875 48.390625 30.609375 48.390625  z M 30.609375 56  Q 42.328125 56 49.015625 48.375  Q 55.71875 40.765625 55.71875 27.296875  Q 55.71875 13.875 49.015625 6.21875  Q 42.328125 -1.421875 30.609375 -1.421875  Q 18.84375 -1.421875 12.171875 6.21875  Q 5.515625 13.875 5.515625 27.296875  Q 5.515625 40.765625 12.171875 48.375  Q 18.84375 56 30.609375 56  z \" id=\"DejaVuSans-6f\"/>\n",
       "      <path d=\"M 54.890625 33.015625  L 54.890625 0  L 45.90625 0  L 45.90625 32.71875  Q 45.90625 40.484375 42.875 44.328125  Q 39.84375 48.1875 33.796875 48.1875  Q 26.515625 48.1875 22.3125 43.546875  Q 18.109375 38.921875 18.109375 30.90625  L 18.109375 0  L 9.078125 0  L 9.078125 54.6875  L 18.109375 54.6875  L 18.109375 46.1875  Q 21.34375 51.125 25.703125 53.5625  Q 30.078125 56 35.796875 56  Q 45.21875 56 50.046875 50.171875  Q 54.890625 44.34375 54.890625 33.015625  z \" id=\"DejaVuSans-6e\"/>\n",
       "      <path id=\"DejaVuSans-20\"/>\n",
       "      <path d=\"M 37.109375 75.984375  L 37.109375 68.5  L 28.515625 68.5  Q 23.6875 68.5 21.796875 66.546875  Q 19.921875 64.59375 19.921875 59.515625  L 19.921875 54.6875  L 34.71875 54.6875  L 34.71875 47.703125  L 19.921875 47.703125  L 19.921875 0  L 10.890625 0  L 10.890625 47.703125  L 2.296875 47.703125  L 2.296875 54.6875  L 10.890625 54.6875  L 10.890625 58.5  Q 10.890625 67.625 15.140625 71.796875  Q 19.390625 75.984375 28.609375 75.984375  z \" id=\"DejaVuSans-66\"/>\n",
       "      <path d=\"M 41.109375 46.296875  Q 39.59375 47.171875 37.8125 47.578125  Q 36.03125 48 33.890625 48  Q 26.265625 48 22.1875 43.046875  Q 18.109375 38.09375 18.109375 28.8125  L 18.109375 0  L 9.078125 0  L 9.078125 54.6875  L 18.109375 54.6875  L 18.109375 46.1875  Q 20.953125 51.171875 25.484375 53.578125  Q 30.03125 56 36.53125 56  Q 37.453125 56 38.578125 55.875  Q 39.703125 55.765625 41.0625 55.515625  z \" id=\"DejaVuSans-72\"/>\n",
       "      <path d=\"M 56.203125 29.59375  L 56.203125 25.203125  L 14.890625 25.203125  Q 15.484375 15.921875 20.484375 11.0625  Q 25.484375 6.203125 34.421875 6.203125  Q 39.59375 6.203125 44.453125 7.46875  Q 49.3125 8.734375 54.109375 11.28125  L 54.109375 2.78125  Q 49.265625 0.734375 44.1875 -0.34375  Q 39.109375 -1.421875 33.890625 -1.421875  Q 20.796875 -1.421875 13.15625 6.1875  Q 5.515625 13.8125 5.515625 26.8125  Q 5.515625 40.234375 12.765625 48.109375  Q 20.015625 56 32.328125 56  Q 43.359375 56 49.78125 48.890625  Q 56.203125 41.796875 56.203125 29.59375  z M 47.21875 32.234375  Q 47.125 39.59375 43.09375 43.984375  Q 39.0625 48.390625 32.421875 48.390625  Q 24.90625 48.390625 20.390625 44.140625  Q 15.875 39.890625 15.1875 32.171875  z \" id=\"DejaVuSans-65\"/>\n",
       "      <path d=\"M 14.796875 27.296875  Q 14.796875 17.390625 18.875 11.75  Q 22.953125 6.109375 30.078125 6.109375  Q 37.203125 6.109375 41.296875 11.75  Q 45.40625 17.390625 45.40625 27.296875  Q 45.40625 37.203125 41.296875 42.84375  Q 37.203125 48.484375 30.078125 48.484375  Q 22.953125 48.484375 18.875 42.84375  Q 14.796875 37.203125 14.796875 27.296875  z M 45.40625 8.203125  Q 42.578125 3.328125 38.25 0.953125  Q 33.9375 -1.421875 27.875 -1.421875  Q 17.96875 -1.421875 11.734375 6.484375  Q 5.515625 14.40625 5.515625 27.296875  Q 5.515625 40.1875 11.734375 48.09375  Q 17.96875 56 27.875 56  Q 33.9375 56 38.25 53.625  Q 42.578125 51.265625 45.40625 46.390625  L 45.40625 54.6875  L 54.390625 54.6875  L 54.390625 -20.796875  L 45.40625 -20.796875  z \" id=\"DejaVuSans-71\"/>\n",
       "      <path d=\"M 48.78125 52.59375  L 48.78125 44.1875  Q 44.96875 46.296875 41.140625 47.34375  Q 37.3125 48.390625 33.40625 48.390625  Q 24.65625 48.390625 19.8125 42.84375  Q 14.984375 37.3125 14.984375 27.296875  Q 14.984375 17.28125 19.8125 11.734375  Q 24.65625 6.203125 33.40625 6.203125  Q 37.3125 6.203125 41.140625 7.25  Q 44.96875 8.296875 48.78125 10.40625  L 48.78125 2.09375  Q 45.015625 0.34375 40.984375 -0.53125  Q 36.96875 -1.421875 32.421875 -1.421875  Q 20.0625 -1.421875 12.78125 6.34375  Q 5.515625 14.109375 5.515625 27.296875  Q 5.515625 40.671875 12.859375 48.328125  Q 20.21875 56 33.015625 56  Q 37.15625 56 41.109375 55.140625  Q 45.0625 54.296875 48.78125 52.59375  z \" id=\"DejaVuSans-63\"/>\n",
       "      <path d=\"M 32.171875 -5.078125  Q 28.375 -14.84375 24.75 -17.8125  Q 21.140625 -20.796875 15.09375 -20.796875  L 7.90625 -20.796875  L 7.90625 -13.28125  L 13.1875 -13.28125  Q 16.890625 -13.28125 18.9375 -11.515625  Q 21 -9.765625 23.484375 -3.21875  L 25.09375 0.875  L 2.984375 54.6875  L 12.5 54.6875  L 29.59375 11.921875  L 46.6875 54.6875  L 56.203125 54.6875  z \" id=\"DejaVuSans-79\"/>\n",
       "      <path d=\"M 11.71875 12.40625  L 22.015625 12.40625  L 22.015625 4  L 14.015625 -11.625  L 7.71875 -11.625  L 11.71875 4  z \" id=\"DejaVuSans-2c\"/>\n",
       "      <path d=\"M 9.8125 72.90625  L 19.671875 72.90625  L 19.671875 43.015625  L 55.515625 43.015625  L 55.515625 72.90625  L 65.375 72.90625  L 65.375 0  L 55.515625 0  L 55.515625 34.71875  L 19.671875 34.71875  L 19.671875 0  L 9.8125 0  z \" id=\"DejaVuSans-48\"/>\n",
       "      <path d=\"M 5.515625 54.6875  L 48.1875 54.6875  L 48.1875 46.484375  L 14.40625 7.171875  L 48.1875 7.171875  L 48.1875 0  L 4.296875 0  L 4.296875 8.203125  L 38.09375 47.515625  L 5.515625 47.515625  z \" id=\"DejaVuSans-7a\"/>\n",
       "     </defs>\n",
       "     <g transform=\"translate(46.3375 152.776563)scale(0.1 -0.1)\">\n",
       "      <use xlink:href=\"#DejaVuSans-73\"/>\n",
       "      <use x=\"52.099609\" xlink:href=\"#DejaVuSans-74\"/>\n",
       "      <use x=\"91.308594\" xlink:href=\"#DejaVuSans-69\"/>\n",
       "      <use x=\"119.091797\" xlink:href=\"#DejaVuSans-6d\"/>\n",
       "      <use x=\"216.503906\" xlink:href=\"#DejaVuSans-75\"/>\n",
       "      <use x=\"279.882812\" xlink:href=\"#DejaVuSans-6c\"/>\n",
       "      <use x=\"307.666016\" xlink:href=\"#DejaVuSans-61\"/>\n",
       "      <use x=\"368.945312\" xlink:href=\"#DejaVuSans-74\"/>\n",
       "      <use x=\"408.154297\" xlink:href=\"#DejaVuSans-69\"/>\n",
       "      <use x=\"435.9375\" xlink:href=\"#DejaVuSans-6f\"/>\n",
       "      <use x=\"497.119141\" xlink:href=\"#DejaVuSans-6e\"/>\n",
       "      <use x=\"560.498047\" xlink:href=\"#DejaVuSans-20\"/>\n",
       "      <use x=\"592.285156\" xlink:href=\"#DejaVuSans-66\"/>\n",
       "      <use x=\"627.490234\" xlink:href=\"#DejaVuSans-72\"/>\n",
       "      <use x=\"668.572266\" xlink:href=\"#DejaVuSans-65\"/>\n",
       "      <use x=\"730.095703\" xlink:href=\"#DejaVuSans-71\"/>\n",
       "      <use x=\"793.572266\" xlink:href=\"#DejaVuSans-75\"/>\n",
       "      <use x=\"856.951172\" xlink:href=\"#DejaVuSans-65\"/>\n",
       "      <use x=\"918.474609\" xlink:href=\"#DejaVuSans-6e\"/>\n",
       "      <use x=\"981.853516\" xlink:href=\"#DejaVuSans-63\"/>\n",
       "      <use x=\"1036.833984\" xlink:href=\"#DejaVuSans-79\"/>\n",
       "      <use x=\"1096.013672\" xlink:href=\"#DejaVuSans-2c\"/>\n",
       "      <use x=\"1127.800781\" xlink:href=\"#DejaVuSans-20\"/>\n",
       "      <use x=\"1159.587891\" xlink:href=\"#DejaVuSans-48\"/>\n",
       "      <use x=\"1234.783203\" xlink:href=\"#DejaVuSans-7a\"/>\n",
       "     </g>\n",
       "    </g>\n",
       "   </g>\n",
       "   <g id=\"matplotlib.axis_2\">\n",
       "    <g id=\"ytick_1\">\n",
       "     <g id=\"line2d_6\">\n",
       "      <defs>\n",
       "       <path d=\"M 0 0  L -2 0  \" id=\"m258898403f\" style=\"stroke:#000000;stroke-width:0.8;\"/>\n",
       "      </defs>\n",
       "      <g>\n",
       "       <use style=\"stroke:#000000;stroke-width:0.8;\" x=\"27\" xlink:href=\"#m258898403f\" y=\"110.076364\"/>\n",
       "      </g>\n",
       "     </g>\n",
       "     <g id=\"text_7\">\n",
       "      <!-- 0.2 -->\n",
       "      <g transform=\"translate(5.596875 113.875582)scale(0.1 -0.1)\">\n",
       "       <use xlink:href=\"#DejaVuSans-30\"/>\n",
       "       <use x=\"63.623047\" xlink:href=\"#DejaVuSans-2e\"/>\n",
       "       <use x=\"95.410156\" xlink:href=\"#DejaVuSans-32\"/>\n",
       "      </g>\n",
       "     </g>\n",
       "    </g>\n",
       "    <g id=\"ytick_2\">\n",
       "     <g id=\"line2d_7\">\n",
       "      <g>\n",
       "       <use style=\"stroke:#000000;stroke-width:0.8;\" x=\"27\" xlink:href=\"#m258898403f\" y=\"88.112727\"/>\n",
       "      </g>\n",
       "     </g>\n",
       "     <g id=\"text_8\">\n",
       "      <!-- 0.4 -->\n",
       "      <g transform=\"translate(5.596875 91.911946)scale(0.1 -0.1)\">\n",
       "       <use xlink:href=\"#DejaVuSans-30\"/>\n",
       "       <use x=\"63.623047\" xlink:href=\"#DejaVuSans-2e\"/>\n",
       "       <use x=\"95.410156\" xlink:href=\"#DejaVuSans-34\"/>\n",
       "      </g>\n",
       "     </g>\n",
       "    </g>\n",
       "    <g id=\"ytick_3\">\n",
       "     <g id=\"line2d_8\">\n",
       "      <g>\n",
       "       <use style=\"stroke:#000000;stroke-width:0.8;\" x=\"27\" xlink:href=\"#m258898403f\" y=\"66.149091\"/>\n",
       "      </g>\n",
       "     </g>\n",
       "     <g id=\"text_9\">\n",
       "      <!-- 0.6 -->\n",
       "      <g transform=\"translate(5.596875 69.94831)scale(0.1 -0.1)\">\n",
       "       <use xlink:href=\"#DejaVuSans-30\"/>\n",
       "       <use x=\"63.623047\" xlink:href=\"#DejaVuSans-2e\"/>\n",
       "       <use x=\"95.410156\" xlink:href=\"#DejaVuSans-36\"/>\n",
       "      </g>\n",
       "     </g>\n",
       "    </g>\n",
       "    <g id=\"ytick_4\">\n",
       "     <g id=\"line2d_9\">\n",
       "      <g>\n",
       "       <use style=\"stroke:#000000;stroke-width:0.8;\" x=\"27\" xlink:href=\"#m258898403f\" y=\"44.185455\"/>\n",
       "      </g>\n",
       "     </g>\n",
       "     <g id=\"text_10\">\n",
       "      <!-- 0.8 -->\n",
       "      <g transform=\"translate(5.596875 47.984673)scale(0.1 -0.1)\">\n",
       "       <use xlink:href=\"#DejaVuSans-30\"/>\n",
       "       <use x=\"63.623047\" xlink:href=\"#DejaVuSans-2e\"/>\n",
       "       <use x=\"95.410156\" xlink:href=\"#DejaVuSans-38\"/>\n",
       "      </g>\n",
       "     </g>\n",
       "    </g>\n",
       "    <g id=\"ytick_5\">\n",
       "     <g id=\"line2d_10\">\n",
       "      <g>\n",
       "       <use style=\"stroke:#000000;stroke-width:0.8;\" x=\"27\" xlink:href=\"#m258898403f\" y=\"22.221818\"/>\n",
       "      </g>\n",
       "     </g>\n",
       "     <g id=\"text_11\">\n",
       "      <!-- 1.0 -->\n",
       "      <g transform=\"translate(5.596875 26.021037)scale(0.1 -0.1)\">\n",
       "       <use xlink:href=\"#DejaVuSans-31\"/>\n",
       "       <use x=\"63.623047\" xlink:href=\"#DejaVuSans-2e\"/>\n",
       "       <use x=\"95.410156\" xlink:href=\"#DejaVuSans-30\"/>\n",
       "      </g>\n",
       "     </g>\n",
       "    </g>\n",
       "    <g id=\"text_12\">\n",
       "     <!-- UP state frequency, Hz -->\n",
       "     <defs>\n",
       "      <path d=\"M 8.6875 72.90625  L 18.609375 72.90625  L 18.609375 28.609375  Q 18.609375 16.890625 22.84375 11.734375  Q 27.09375 6.59375 36.625 6.59375  Q 46.09375 6.59375 50.34375 11.734375  Q 54.59375 16.890625 54.59375 28.609375  L 54.59375 72.90625  L 64.5 72.90625  L 64.5 27.390625  Q 64.5 13.140625 57.4375 5.859375  Q 50.390625 -1.421875 36.625 -1.421875  Q 22.796875 -1.421875 15.734375 5.859375  Q 8.6875 13.140625 8.6875 27.390625  z \" id=\"DejaVuSans-55\"/>\n",
       "      <path d=\"M 19.671875 64.796875  L 19.671875 37.40625  L 32.078125 37.40625  Q 38.96875 37.40625 42.71875 40.96875  Q 46.484375 44.53125 46.484375 51.125  Q 46.484375 57.671875 42.71875 61.234375  Q 38.96875 64.796875 32.078125 64.796875  z M 9.8125 72.90625  L 32.078125 72.90625  Q 44.34375 72.90625 50.609375 67.359375  Q 56.890625 61.8125 56.890625 51.125  Q 56.890625 40.328125 50.609375 34.8125  Q 44.34375 29.296875 32.078125 29.296875  L 19.671875 29.296875  L 19.671875 0  L 9.8125 0  z \" id=\"DejaVuSans-50\"/>\n",
       "     </defs>\n",
       "     <g transform=\"translate(-0.482813 128.907969)rotate(-90)scale(0.1 -0.1)\">\n",
       "      <use xlink:href=\"#DejaVuSans-55\"/>\n",
       "      <use x=\"73.193359\" xlink:href=\"#DejaVuSans-50\"/>\n",
       "      <use x=\"133.496094\" xlink:href=\"#DejaVuSans-20\"/>\n",
       "      <use x=\"165.283203\" xlink:href=\"#DejaVuSans-73\"/>\n",
       "      <use x=\"217.382812\" xlink:href=\"#DejaVuSans-74\"/>\n",
       "      <use x=\"256.591797\" xlink:href=\"#DejaVuSans-61\"/>\n",
       "      <use x=\"317.871094\" xlink:href=\"#DejaVuSans-74\"/>\n",
       "      <use x=\"357.080078\" xlink:href=\"#DejaVuSans-65\"/>\n",
       "      <use x=\"418.603516\" xlink:href=\"#DejaVuSans-20\"/>\n",
       "      <use x=\"450.390625\" xlink:href=\"#DejaVuSans-66\"/>\n",
       "      <use x=\"485.595703\" xlink:href=\"#DejaVuSans-72\"/>\n",
       "      <use x=\"526.677734\" xlink:href=\"#DejaVuSans-65\"/>\n",
       "      <use x=\"588.201172\" xlink:href=\"#DejaVuSans-71\"/>\n",
       "      <use x=\"651.677734\" xlink:href=\"#DejaVuSans-75\"/>\n",
       "      <use x=\"715.056641\" xlink:href=\"#DejaVuSans-65\"/>\n",
       "      <use x=\"776.580078\" xlink:href=\"#DejaVuSans-6e\"/>\n",
       "      <use x=\"839.958984\" xlink:href=\"#DejaVuSans-63\"/>\n",
       "      <use x=\"894.939453\" xlink:href=\"#DejaVuSans-79\"/>\n",
       "      <use x=\"954.119141\" xlink:href=\"#DejaVuSans-2c\"/>\n",
       "      <use x=\"985.90625\" xlink:href=\"#DejaVuSans-20\"/>\n",
       "      <use x=\"1017.693359\" xlink:href=\"#DejaVuSans-48\"/>\n",
       "      <use x=\"1092.888672\" xlink:href=\"#DejaVuSans-7a\"/>\n",
       "     </g>\n",
       "    </g>\n",
       "   </g>\n",
       "   <g id=\"line2d_11\">\n",
       "    <path clip-path=\"url(#pe0d39b25c3)\" d=\"M 34.609091 106.232727  L 49.827273 95.8  L 65.045455 95.8  L 80.263636 88.112727  L 95.481818 83.72  L 110.7 74.934545  L 125.918182 65.6  L 141.136364 55.716364  L 156.354545 46.930909  L 171.572727 37.596364  L 186.790909 28.261818  \" style=\"fill:none;stroke:#bfbf00;stroke-linecap:square;stroke-width:1.5;\"/>\n",
       "   </g>\n",
       "   <g id=\"line2d_12\">\n",
       "    <path clip-path=\"url(#pe0d39b25c3)\" d=\"M 34.609091 110.076364  L 49.827273 109.527273  L 65.045455 116.665455  L 80.263636 113.92  L 95.481818 109.527273  L 110.7 111.174545  L 125.918182 109.527273  L 141.136364 115.567273  L 156.354545 112.272727  L 171.572727 116.116364  L 186.790909 114.469091  \" style=\"fill:none;stroke:#008000;stroke-linecap:square;stroke-width:1.5;\"/>\n",
       "   </g>\n",
       "   <g id=\"line2d_13\">\n",
       "    <path clip-path=\"url(#pe0d39b25c3)\" d=\"M 34.609091 121.058182  L 49.827273 111.174545  L 65.045455 101.290909  L 80.263636 91.407273  L 95.481818 81.523636  L 110.7 71.64  L 125.918182 61.756364  L 141.136364 51.872727  L 156.354545 41.989091  L 171.572727 32.105455  L 186.790909 22.221818  \" style=\"fill:none;stroke:#000000;stroke-dasharray:5.55,2.4;stroke-dashoffset:0;stroke-width:1.5;\"/>\n",
       "   </g>\n",
       "   <g id=\"patch_3\">\n",
       "    <path d=\"M 27 126  L 27 17.28  \" style=\"fill:none;stroke:#000000;stroke-linecap:square;stroke-linejoin:miter;stroke-width:0.8;\"/>\n",
       "   </g>\n",
       "   <g id=\"patch_4\">\n",
       "    <path d=\"M 27 126  L 194.4 126  \" style=\"fill:none;stroke:#000000;stroke-linecap:square;stroke-linejoin:miter;stroke-width:0.8;\"/>\n",
       "   </g>\n",
       "  </g>\n",
       " </g>\n",
       " <defs>\n",
       "  <clipPath id=\"pe0d39b25c3\">\n",
       "   <rect height=\"108.72\" width=\"167.4\" x=\"27\" y=\"17.28\"/>\n",
       "  </clipPath>\n",
       " </defs>\n",
       "</g>\n",
       "    </g>\n",
       "  </g>\n",
       "</svg>"
      ],
      "text/plain": [
       "<IPython.core.display.SVG object>"
      ]
     },
     "metadata": {},
     "output_type": "display_data"
    }
   ],
   "source": [
    "svg = SVG(filename='figures/inverted_slices_composed.svg')\n",
    "display(svg)"
   ]
  },
  {
   "cell_type": "markdown",
   "metadata": {},
   "source": [
    "**Figure** Entrainment of the UP-DOWN oscillations to the periodic glutamate stimulation on both sides of the sectioned slice.  ( **A** ) Schematics of the stimulation protocol. In the model glutamate injection (Stim) is applied on the right side of the slice (green) triggering periodic UP states on both sides (yellow). ( **B** ) Sample traces of excitatory population rate (color coded, compare with (A)) on both sides of the slice at three stimulation frequencies (red line, see the numbers in (B) and (C) for the values of the frequencies). ( **C** ) The frequency of the UP states in both parts of the slice is shown as the function of stimulation frequency (color code same as in (A)).  Slice to the left of the cut frequency-locks to the stimulation by means of the electric-field (ephaptic) coupling. ( **D** ) The precision of the entrainment depends on the frequency of the glutamate injection (stimulation frequency) as quantified by the phase locking index (PLI). Larger PLI indicates stronger synchronisation. "
   ]
  },
  {
   "cell_type": "code",
   "execution_count": null,
   "metadata": {},
   "outputs": [],
   "source": []
  },
  {
   "cell_type": "code",
   "execution_count": null,
   "metadata": {},
   "outputs": [],
   "source": []
  }
 ],
 "metadata": {
  "kernelspec": {
   "display_name": "Python 3",
   "language": "python",
   "name": "python3"
  },
  "language_info": {
   "codemirror_mode": {
    "name": "ipython",
    "version": 3
   },
   "file_extension": ".py",
   "mimetype": "text/x-python",
   "name": "python",
   "nbconvert_exporter": "python",
   "pygments_lexer": "ipython3",
   "version": "3.6.7"
  },
  "toc": {
   "nav_menu": {},
   "number_sections": true,
   "sideBar": true,
   "skip_h1_title": false,
   "toc_cell": false,
   "toc_position": {},
   "toc_section_display": "block",
   "toc_window_display": false
  }
 },
 "nbformat": 4,
 "nbformat_minor": 2
}
